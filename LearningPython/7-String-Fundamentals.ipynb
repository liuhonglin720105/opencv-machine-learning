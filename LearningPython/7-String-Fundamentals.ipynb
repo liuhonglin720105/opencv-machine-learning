{
 "cells": [
  {
   "cell_type": "markdown",
   "id": "b60970b7-6d49-4170-9190-fd230343a330",
   "metadata": {},
   "source": [
    "# Chapter 7 String Fundamentals\n",
    "*string*: an ordered collection of characters used to store and represent text- and bytes-based information.\n",
    "## This Chapter's Scope\n",
    "### Unicode: The Short Story\n",
    "- In Python 3.X there are three string types: `str` is used Unicode text (including ASCII), `bytes` is used for binary data (including encoded tex), and `bytearray` is a mutable variant of `bytes`.\n",
    "Files work in tow modes: *text*, which represents content as `str` and implements Unicode encodings, and *bianry*, which deals in raw `bytes` and does no data translation."
   ]
  },
  {
   "cell_type": "markdown",
   "id": "4a7c1931-cb5a-4899-932e-b8a9d6d6ec39",
   "metadata": {},
   "source": [
    "## String Basics\n",
    "Python strings are categorized as *immutable sequences*\n",
    "## String Literals\n",
    "- Single quotes: `'spa\"m`\n",
    "- Double quotes:`\"spa'm\"`\n",
    "- Triple quotes: ` ```... spam ...''' `, `\"\"\"... spam ...\"\"\"`\n",
    "- Escape sequences: `\"s\\tp\\na\\0m\"'\n",
    "- Raw strings: `r\"C:\\new\\test.spm\"`\n",
    "- Byte literals: `b'sp\\x01am'`\n",
    "- Unicode literals: u`eggs\\u0020spam'`\n",
    "\n",
    "### Single- and Double-quoted String are the same\n"
   ]
  },
  {
   "cell_type": "code",
   "execution_count": 1,
   "id": "505927f2-ef30-47f4-93c3-22101be2c24f",
   "metadata": {},
   "outputs": [
    {
     "data": {
      "text/plain": [
       "('knight\"s', \"knight's\")"
      ]
     },
     "execution_count": 1,
     "metadata": {},
     "output_type": "execute_result"
    }
   ],
   "source": [
    "'knight\"s', \"knight's\""
   ]
  },
  {
   "cell_type": "markdown",
   "id": "88af4395-cd9e-4d1f-b5b2-be35e898cd6e",
   "metadata": {},
   "source": [
    "Python *automatically concatenates* adjacent string literals in any experssion."
   ]
  },
  {
   "cell_type": "code",
   "execution_count": 3,
   "id": "7a900753-3833-4c0b-b091-12fe8d44e242",
   "metadata": {},
   "outputs": [
    {
     "data": {
      "text/plain": [
       "'Meaning of life'"
      ]
     },
     "execution_count": 3,
     "metadata": {},
     "output_type": "execute_result"
    }
   ],
   "source": [
    "title = \"Meaning \" 'of ' \"life\"\n",
    "title"
   ]
  },
  {
   "cell_type": "markdown",
   "id": "90edfe2e-9261-46ec-849a-529378c9718f",
   "metadata": {},
   "source": [
    "You can also embed quote characters by escaping them with backslashes:"
   ]
  },
  {
   "cell_type": "code",
   "execution_count": 4,
   "id": "b4d479a9-51c9-40a2-b3a7-e5c0d091742f",
   "metadata": {},
   "outputs": [
    {
     "data": {
      "text/plain": [
       "(\"knight's\", 'knight\"s')"
      ]
     },
     "execution_count": 4,
     "metadata": {},
     "output_type": "execute_result"
    }
   ],
   "source": [
    "'knight\\'s', \"knight\\\"s\""
   ]
  },
  {
   "cell_type": "markdown",
   "id": "2bfa6e21-d2da-4d2f-8289-fce9951ab8cf",
   "metadata": {},
   "source": [
    "### Escape Sequences Represengt Special Characters\n",
    "Blackslashes are used to introduce special character codings known as *excape sequences*"
   ]
  },
  {
   "cell_type": "code",
   "execution_count": 7,
   "id": "f5459a00-a522-4ad4-87b2-400c38b6fc74",
   "metadata": {},
   "outputs": [
    {
     "name": "stdout",
     "output_type": "stream",
     "text": [
      "a\n",
      "b\tc\n"
     ]
    }
   ],
   "source": [
    "s = 'a\\nb\\tc'\n",
    "print(s)"
   ]
  },
  {
   "cell_type": "code",
   "execution_count": 8,
   "id": "17f34c71-4fd7-4d40-bd33-e955407bf8e9",
   "metadata": {},
   "outputs": [
    {
     "data": {
      "text/plain": [
       "5"
      ]
     },
     "execution_count": 8,
     "metadata": {},
     "output_type": "execute_result"
    }
   ],
   "source": [
    "len(s)"
   ]
  },
  {
   "cell_type": "markdown",
   "id": "e6340738-00d4-410e-86a8-bfd1fe640726",
   "metadata": {},
   "source": [
    "3.X defines `str` string formally as *sequences of Unicode code points*, not byte."
   ]
  },
  {
   "cell_type": "code",
   "execution_count": 9,
   "id": "e0165563-2683-4ce3-a000-4a352324943b",
   "metadata": {},
   "outputs": [
    {
     "data": {
      "text/plain": [
       "'a\\x00\\x08\\x00c'"
      ]
     },
     "execution_count": 9,
     "metadata": {},
     "output_type": "execute_result"
    }
   ],
   "source": [
    "s = 'a\\0\\b\\0c'\n",
    "s"
   ]
  },
  {
   "cell_type": "code",
   "execution_count": 10,
   "id": "f605ab0c-7894-4415-b622-5c6ca73c1ba5",
   "metadata": {},
   "outputs": [
    {
     "data": {
      "text/plain": [
       "5"
      ]
     },
     "execution_count": 10,
     "metadata": {},
     "output_type": "execute_result"
    }
   ],
   "source": [
    "len(s)"
   ]
  },
  {
   "cell_type": "code",
   "execution_count": 11,
   "id": "9534e56c-6a02-4b3b-8145-3409abbbbd19",
   "metadata": {},
   "outputs": [
    {
     "name": "stdout",
     "output_type": "stream",
     "text": [
      "a\u0000c\n"
     ]
    }
   ],
   "source": [
    "print(s)"
   ]
  },
  {
   "cell_type": "code",
   "execution_count": 12,
   "id": "94ae3984-64c1-4558-9737-aa531e053d19",
   "metadata": {},
   "outputs": [
    {
     "data": {
      "text/plain": [
       "'\\x01\\x02\\x03'"
      ]
     },
     "execution_count": 12,
     "metadata": {},
     "output_type": "execute_result"
    }
   ],
   "source": [
    "s = '\\001\\002\\x03'\n",
    "s"
   ]
  },
  {
   "cell_type": "code",
   "execution_count": 13,
   "id": "e5ede1a1-586d-4001-a1fe-c06cee191c46",
   "metadata": {},
   "outputs": [
    {
     "name": "stdout",
     "output_type": "stream",
     "text": [
      "\u0001\u0002\u0003\n"
     ]
    }
   ],
   "source": [
    "print(s)"
   ]
  },
  {
   "cell_type": "code",
   "execution_count": 14,
   "id": "8859f8ad-38d2-41ef-9172-e9d53a6bd56d",
   "metadata": {},
   "outputs": [],
   "source": [
    "S = \"s\\tp\\na\\x00m\""
   ]
  },
  {
   "cell_type": "code",
   "execution_count": 15,
   "id": "a79bf9c6-c65c-4fb7-abbf-c8cd9b405b8b",
   "metadata": {},
   "outputs": [
    {
     "data": {
      "text/plain": [
       "'s\\tp\\na\\x00m'"
      ]
     },
     "execution_count": 15,
     "metadata": {},
     "output_type": "execute_result"
    }
   ],
   "source": [
    "S"
   ]
  },
  {
   "cell_type": "code",
   "execution_count": 16,
   "id": "5164313f-975d-4dbb-828b-0e1220954735",
   "metadata": {},
   "outputs": [
    {
     "data": {
      "text/plain": [
       "3"
      ]
     },
     "execution_count": 16,
     "metadata": {},
     "output_type": "execute_result"
    }
   ],
   "source": [
    "len(s)"
   ]
  },
  {
   "cell_type": "code",
   "execution_count": 18,
   "id": "6ddfd02b-58c0-4ae0-b936-a8003c8d642d",
   "metadata": {},
   "outputs": [
    {
     "name": "stdout",
     "output_type": "stream",
     "text": [
      "s\tp\n",
      "a\u0000m\n"
     ]
    }
   ],
   "source": [
    "print(S)"
   ]
  },
  {
   "cell_type": "markdown",
   "id": "ccd36639-aeda-4a92-b6ac-c8b92754990a",
   "metadata": {},
   "source": [
    "If Python does not recognize the character after a \\ as being a valid escape code, it simply keeps the backslah in the resulting string:"
   ]
  },
  {
   "cell_type": "code",
   "execution_count": 19,
   "id": "be6876c4-4fe7-44d7-a17e-d08474d059d4",
   "metadata": {},
   "outputs": [
    {
     "data": {
      "text/plain": [
       "'C:\\\\py\\\\code'"
      ]
     },
     "execution_count": 19,
     "metadata": {},
     "output_type": "execute_result"
    }
   ],
   "source": [
    "x = \"C:\\py\\code\"\n",
    "x"
   ]
  },
  {
   "cell_type": "code",
   "execution_count": 21,
   "id": "4e108086-dfc0-4df5-a693-ab076fe50539",
   "metadata": {},
   "outputs": [
    {
     "data": {
      "text/plain": [
       "10"
      ]
     },
     "execution_count": 21,
     "metadata": {},
     "output_type": "execute_result"
    }
   ],
   "source": [
    "len(x)"
   ]
  },
  {
   "cell_type": "markdown",
   "id": "f2410f08-c8ee-4d8d-9330-2dac8d6f15a4",
   "metadata": {},
   "source": [
    "### Raw Strimgs Suppress Escapes\n"
   ]
  },
  {
   "cell_type": "code",
   "execution_count": 22,
   "id": "4a79e894-259e-466f-9e66-9e9fef1f5686",
   "metadata": {},
   "outputs": [
    {
     "data": {
      "text/plain": [
       "'C:\\\\new\\\\text.dat'"
      ]
     },
     "execution_count": 22,
     "metadata": {},
     "output_type": "execute_result"
    }
   ],
   "source": [
    "path = r'C:\\new\\text.dat'\n",
    "path"
   ]
  },
  {
   "cell_type": "code",
   "execution_count": 23,
   "id": "62eef94c-9a56-4949-8d50-49fdb3cf9e03",
   "metadata": {},
   "outputs": [
    {
     "name": "stdout",
     "output_type": "stream",
     "text": [
      "C:\\new\\text.dat\n"
     ]
    }
   ],
   "source": [
    "print(path)"
   ]
  },
  {
   "cell_type": "code",
   "execution_count": 24,
   "id": "376ca2d5-06f2-4ddb-be26-06b875eeba17",
   "metadata": {},
   "outputs": [
    {
     "data": {
      "text/plain": [
       "15"
      ]
     },
     "execution_count": 24,
     "metadata": {},
     "output_type": "execute_result"
    }
   ],
   "source": [
    "len(path)"
   ]
  },
  {
   "cell_type": "markdown",
   "id": "f189b5c4-e8bf-43c7-a965-f8129be592fe",
   "metadata": {},
   "source": [
    "### Triple Quotes Code Multiline Block Strings"
   ]
  },
  {
   "cell_type": "code",
   "execution_count": 28,
   "id": "233e4b9b-3e7d-4d62-ab6a-1bd538aa2a66",
   "metadata": {},
   "outputs": [],
   "source": [
    "mantra = \"\"\"Always look\n",
    " on the bright\n",
    "side of life.\"\"\""
   ]
  },
  {
   "cell_type": "code",
   "execution_count": 29,
   "id": "b4f5a85a-c927-4b1d-983f-598b7af27230",
   "metadata": {},
   "outputs": [
    {
     "data": {
      "text/plain": [
       "'Always look\\n on the bright\\nside of life.'"
      ]
     },
     "execution_count": 29,
     "metadata": {},
     "output_type": "execute_result"
    }
   ],
   "source": [
    "mantra"
   ]
  },
  {
   "cell_type": "code",
   "execution_count": 30,
   "id": "47812954-6f60-47de-b074-df4b0cda4b4f",
   "metadata": {},
   "outputs": [
    {
     "name": "stdout",
     "output_type": "stream",
     "text": [
      "Always look\n",
      " on the bright\n",
      "side of life.\n"
     ]
    }
   ],
   "source": [
    "print(mantra)"
   ]
  },
  {
   "cell_type": "code",
   "execution_count": 32,
   "id": "7820500f-f30a-47b5-97c9-3392ddb2367d",
   "metadata": {},
   "outputs": [
    {
     "data": {
      "text/plain": [
       "'spam #comments here added to string!\\neggs\\n'"
      ]
     },
     "execution_count": 32,
     "metadata": {},
     "output_type": "execute_result"
    }
   ],
   "source": [
    "menu = \"\"\"spam #comments here added to string!\n",
    "eggs\n",
    "\"\"\"\n",
    "menu"
   ]
  },
  {
   "cell_type": "code",
   "execution_count": 35,
   "id": "dd53d28a-8f45-4e8e-86e3-94a147b9991f",
   "metadata": {},
   "outputs": [
    {
     "data": {
      "text/plain": [
       "'spam\\neggs\\n'"
      ]
     },
     "execution_count": 35,
     "metadata": {},
     "output_type": "execute_result"
    }
   ],
   "source": [
    "menu = (\n",
    "    \"spam\\n\" #comments here added to string!\n",
    "    \"eggs\\n\")\n",
    "menu"
   ]
  },
  {
   "cell_type": "code",
   "execution_count": 36,
   "id": "b33ee177-a053-452f-8802-5186832058e1",
   "metadata": {},
   "outputs": [
    {
     "name": "stdout",
     "output_type": "stream",
     "text": [
      "spam\n",
      "eggs\n",
      "\n"
     ]
    }
   ],
   "source": [
    "print(menu)"
   ]
  },
  {
   "cell_type": "markdown",
   "id": "d6b756cd-29b8-4d71-87f9-707c7b3ae6a8",
   "metadata": {},
   "source": [
    "## Strings in Action\n"
   ]
  },
  {
   "cell_type": "code",
   "execution_count": 37,
   "id": "7d8775b8-7a16-47e3-8543-18ad4fb51888",
   "metadata": {},
   "outputs": [
    {
     "data": {
      "text/plain": [
       "3"
      ]
     },
     "execution_count": 37,
     "metadata": {},
     "output_type": "execute_result"
    }
   ],
   "source": [
    "len('abc')"
   ]
  },
  {
   "cell_type": "code",
   "execution_count": 39,
   "id": "49837aa4-d1f1-4ad9-b1c4-d730d93e9c1a",
   "metadata": {},
   "outputs": [
    {
     "data": {
      "text/plain": [
       "'abcdef'"
      ]
     },
     "execution_count": 39,
     "metadata": {},
     "output_type": "execute_result"
    }
   ],
   "source": [
    "'abc' + 'def'"
   ]
  },
  {
   "cell_type": "code",
   "execution_count": 40,
   "id": "2d7198d8-56d9-43de-a8a1-d791c97b2fe8",
   "metadata": {},
   "outputs": [
    {
     "data": {
      "text/plain": [
       "'Ni!Ni!Ni!Ni!'"
      ]
     },
     "execution_count": 40,
     "metadata": {},
     "output_type": "execute_result"
    }
   ],
   "source": [
    "'Ni!' * 4"
   ]
  },
  {
   "cell_type": "code",
   "execution_count": 41,
   "id": "13c300f2-2d80-4bb7-ab9a-11fa4f99cbd6",
   "metadata": {},
   "outputs": [
    {
     "name": "stdout",
     "output_type": "stream",
     "text": [
      "--------------------------------------------------------------------------------\n"
     ]
    }
   ],
   "source": [
    "print('-' * 80)"
   ]
  },
  {
   "cell_type": "code",
   "execution_count": 43,
   "id": "ea488b01-1ffa-4acd-83a1-a4c61a38e407",
   "metadata": {},
   "outputs": [
    {
     "name": "stdout",
     "output_type": "stream",
     "text": [
      "h a c k e r "
     ]
    }
   ],
   "source": [
    "myjob = \"hacker\"\n",
    "for c in myjob: print(c, end = ' ')"
   ]
  },
  {
   "cell_type": "code",
   "execution_count": 44,
   "id": "8c8b3b0b-6ac4-4303-a9c9-3349bea44bce",
   "metadata": {},
   "outputs": [
    {
     "data": {
      "text/plain": [
       "True"
      ]
     },
     "execution_count": 44,
     "metadata": {},
     "output_type": "execute_result"
    }
   ],
   "source": [
    "\"k\" in myjob"
   ]
  },
  {
   "cell_type": "code",
   "execution_count": 45,
   "id": "4759ea03-cf15-4a4c-8302-4e022873d6cc",
   "metadata": {},
   "outputs": [
    {
     "data": {
      "text/plain": [
       "False"
      ]
     },
     "execution_count": 45,
     "metadata": {},
     "output_type": "execute_result"
    }
   ],
   "source": [
    "'z' in myjob"
   ]
  },
  {
   "cell_type": "code",
   "execution_count": 47,
   "id": "be73f2c4-95ee-4f7c-8f31-28b29dcd4458",
   "metadata": {},
   "outputs": [
    {
     "data": {
      "text/plain": [
       "True"
      ]
     },
     "execution_count": 47,
     "metadata": {},
     "output_type": "execute_result"
    }
   ],
   "source": [
    "'spam' in 'abcspamdef'"
   ]
  },
  {
   "cell_type": "markdown",
   "id": "4f2deb1d-ab0a-4e28-88bc-02374f0062e7",
   "metadata": {},
   "source": [
    "### Indexing and Slicing"
   ]
  },
  {
   "cell_type": "code",
   "execution_count": 50,
   "id": "c23f9eab-b245-40fc-aea4-662b850e06f2",
   "metadata": {},
   "outputs": [
    {
     "data": {
      "text/plain": [
       "('s', 'a')"
      ]
     },
     "execution_count": 50,
     "metadata": {},
     "output_type": "execute_result"
    }
   ],
   "source": [
    "S = 'spam'\n",
    "S[0], S[-2]"
   ]
  },
  {
   "cell_type": "code",
   "execution_count": 51,
   "id": "4c87e00d-6ee9-410b-b795-5b4852624b90",
   "metadata": {},
   "outputs": [
    {
     "data": {
      "text/plain": [
       "('pa', 'pam', 'spa')"
      ]
     },
     "execution_count": 51,
     "metadata": {},
     "output_type": "execute_result"
    }
   ],
   "source": [
    "S[1:3], S[1:], S[:-1]"
   ]
  },
  {
   "cell_type": "markdown",
   "id": "66a7ec0b-466b-4930-a257-b03731c07432",
   "metadata": {},
   "source": [
    "#### Extended slicing: The third limt and slice object"
   ]
  },
  {
   "cell_type": "code",
   "execution_count": 52,
   "id": "255cfd30-8591-40d2-9c1e-c8b7e3412aa2",
   "metadata": {},
   "outputs": [],
   "source": [
    "S = 'abcdefgjhijklmnop'"
   ]
  },
  {
   "cell_type": "code",
   "execution_count": 53,
   "id": "b7825606-808c-4350-97ba-8bfc7bc14d72",
   "metadata": {},
   "outputs": [
    {
     "data": {
      "text/plain": [
       "'bdfji'"
      ]
     },
     "execution_count": 53,
     "metadata": {},
     "output_type": "execute_result"
    }
   ],
   "source": [
    "S[1:10:2]"
   ]
  },
  {
   "cell_type": "code",
   "execution_count": 55,
   "id": "adb826dc-a1f5-4ba4-8a2e-5283b4bfc703",
   "metadata": {},
   "outputs": [
    {
     "data": {
      "text/plain": [
       "'aceghjlnp'"
      ]
     },
     "execution_count": 55,
     "metadata": {},
     "output_type": "execute_result"
    }
   ],
   "source": [
    "S[::2]"
   ]
  },
  {
   "cell_type": "code",
   "execution_count": 56,
   "id": "1ac3d296-e2af-4713-ad90-041d90ddc90d",
   "metadata": {},
   "outputs": [
    {
     "data": {
      "text/plain": [
       "'olleH'"
      ]
     },
     "execution_count": 56,
     "metadata": {},
     "output_type": "execute_result"
    }
   ],
   "source": [
    "\"Hello\"[::-1]"
   ]
  },
  {
   "cell_type": "code",
   "execution_count": 57,
   "id": "8d2a8e75-748b-4dcc-9a0e-bdb695a96a78",
   "metadata": {},
   "outputs": [
    {
     "data": {
      "text/plain": [
       "'fdec'"
      ]
     },
     "execution_count": 57,
     "metadata": {},
     "output_type": "execute_result"
    }
   ],
   "source": [
    "S = 'abcedfg'\n",
    "S[5:1:-1]"
   ]
  },
  {
   "cell_type": "code",
   "execution_count": 58,
   "id": "082c0970-1351-42bb-95e9-6ff9ab009ba8",
   "metadata": {},
   "outputs": [
    {
     "data": {
      "text/plain": [
       "''"
      ]
     },
     "execution_count": 58,
     "metadata": {},
     "output_type": "execute_result"
    }
   ],
   "source": [
    "s[1:5:-1]"
   ]
  },
  {
   "cell_type": "markdown",
   "id": "82ba0c48-d9cc-4e1f-b64d-a6ce932c3efb",
   "metadata": {},
   "source": [
    "*slice object*"
   ]
  },
  {
   "cell_type": "code",
   "execution_count": 59,
   "id": "139f21a5-993b-4713-938a-2454e0972cd2",
   "metadata": {},
   "outputs": [
    {
     "data": {
      "text/plain": [
       "'pa'"
      ]
     },
     "execution_count": 59,
     "metadata": {},
     "output_type": "execute_result"
    }
   ],
   "source": [
    "'spam'[1:3]"
   ]
  },
  {
   "cell_type": "code",
   "execution_count": 60,
   "id": "eec9e5d8-3fd8-464e-8a50-ae9d3a82f80b",
   "metadata": {},
   "outputs": [
    {
     "data": {
      "text/plain": [
       "'pa'"
      ]
     },
     "execution_count": 60,
     "metadata": {},
     "output_type": "execute_result"
    }
   ],
   "source": [
    "'spam'[slice(1,3)]"
   ]
  },
  {
   "cell_type": "code",
   "execution_count": 61,
   "id": "11e817e4-8949-4cf8-88f9-43d761c01261",
   "metadata": {},
   "outputs": [
    {
     "data": {
      "text/plain": [
       "'maps'"
      ]
     },
     "execution_count": 61,
     "metadata": {},
     "output_type": "execute_result"
    }
   ],
   "source": [
    "'spam'[::-1]"
   ]
  },
  {
   "cell_type": "code",
   "execution_count": 62,
   "id": "2a9193f3-2ff9-4f68-bd94-0ee1c08b193c",
   "metadata": {},
   "outputs": [
    {
     "data": {
      "text/plain": [
       "'maps'"
      ]
     },
     "execution_count": 62,
     "metadata": {},
     "output_type": "execute_result"
    }
   ],
   "source": [
    "'spam'[slice(None, None, -1)]"
   ]
  },
  {
   "cell_type": "markdown",
   "id": "b46cb729-84d6-43e1-b28c-eb9d3d149bde",
   "metadata": {},
   "source": [
    "## String Conversion Tools\n"
   ]
  },
  {
   "cell_type": "code",
   "execution_count": 63,
   "id": "7533fe79-3888-46e6-bf83-dc86696ab3f5",
   "metadata": {},
   "outputs": [
    {
     "ename": "TypeError",
     "evalue": "can only concatenate str (not \"int\") to str",
     "output_type": "error",
     "traceback": [
      "\u001b[1;31m---------------------------------------------------------------------------\u001b[0m",
      "\u001b[1;31mTypeError\u001b[0m                                 Traceback (most recent call last)",
      "Input \u001b[1;32mIn [63]\u001b[0m, in \u001b[0;36m<cell line: 1>\u001b[1;34m()\u001b[0m\n\u001b[1;32m----> 1\u001b[0m \u001b[38;5;124;43m\"\u001b[39;49m\u001b[38;5;124;43m42\u001b[39;49m\u001b[38;5;124;43m\"\u001b[39;49m\u001b[43m \u001b[49m\u001b[38;5;241;43m+\u001b[39;49m\u001b[43m \u001b[49m\u001b[38;5;241;43m1\u001b[39;49m\n",
      "\u001b[1;31mTypeError\u001b[0m: can only concatenate str (not \"int\") to str"
     ]
    }
   ],
   "source": [
    "\"42\" + 1"
   ]
  },
  {
   "cell_type": "code",
   "execution_count": 64,
   "id": "d7fc940d-066b-4e76-9792-6daa50a67294",
   "metadata": {},
   "outputs": [
    {
     "data": {
      "text/plain": [
       "(42, '42')"
      ]
     },
     "execution_count": 64,
     "metadata": {},
     "output_type": "execute_result"
    }
   ],
   "source": [
    "int(\"42\"), str(42)"
   ]
  },
  {
   "cell_type": "code",
   "execution_count": 65,
   "id": "f6648365-1a8b-4d43-8f6b-5d7b8201fb5d",
   "metadata": {},
   "outputs": [
    {
     "data": {
      "text/plain": [
       "'42'"
      ]
     },
     "execution_count": 65,
     "metadata": {},
     "output_type": "execute_result"
    }
   ],
   "source": [
    "repr(42)"
   ]
  },
  {
   "cell_type": "code",
   "execution_count": 66,
   "id": "b17f7cf4-43d8-436d-aaa4-ac6235dd3d05",
   "metadata": {},
   "outputs": [
    {
     "name": "stdout",
     "output_type": "stream",
     "text": [
      "spam 'spam'\n"
     ]
    }
   ],
   "source": [
    "print(str('spam'), repr('spam'))"
   ]
  },
  {
   "cell_type": "code",
   "execution_count": 67,
   "id": "977e379e-0954-4836-bc83-1679d665e3f1",
   "metadata": {},
   "outputs": [
    {
     "data": {
      "text/plain": [
       "('spam', \"'spam'\")"
      ]
     },
     "execution_count": 67,
     "metadata": {},
     "output_type": "execute_result"
    }
   ],
   "source": [
    "str('spam'), repr('spam')"
   ]
  },
  {
   "cell_type": "code",
   "execution_count": 68,
   "id": "ec056941-0937-49bf-a319-72ba9f8e8187",
   "metadata": {},
   "outputs": [
    {
     "ename": "TypeError",
     "evalue": "can only concatenate str (not \"int\") to str",
     "output_type": "error",
     "traceback": [
      "\u001b[1;31m---------------------------------------------------------------------------\u001b[0m",
      "\u001b[1;31mTypeError\u001b[0m                                 Traceback (most recent call last)",
      "Input \u001b[1;32mIn [68]\u001b[0m, in \u001b[0;36m<cell line: 3>\u001b[1;34m()\u001b[0m\n\u001b[0;32m      1\u001b[0m S \u001b[38;5;241m=\u001b[39m \u001b[38;5;124m\"\u001b[39m\u001b[38;5;124m42\u001b[39m\u001b[38;5;124m\"\u001b[39m\n\u001b[0;32m      2\u001b[0m I \u001b[38;5;241m=\u001b[39m\u001b[38;5;241m1\u001b[39m\n\u001b[1;32m----> 3\u001b[0m \u001b[43mS\u001b[49m\u001b[43m \u001b[49m\u001b[38;5;241;43m+\u001b[39;49m\u001b[43mI\u001b[49m\n",
      "\u001b[1;31mTypeError\u001b[0m: can only concatenate str (not \"int\") to str"
     ]
    }
   ],
   "source": [
    "S = \"42\"\n",
    "I =1\n",
    "S +I"
   ]
  },
  {
   "cell_type": "code",
   "execution_count": 69,
   "id": "a0ed6ea7-4047-46ee-8afd-a4b7fd5039a6",
   "metadata": {},
   "outputs": [
    {
     "data": {
      "text/plain": [
       "43"
      ]
     },
     "execution_count": 69,
     "metadata": {},
     "output_type": "execute_result"
    }
   ],
   "source": [
    "int(S) + I"
   ]
  },
  {
   "cell_type": "code",
   "execution_count": 70,
   "id": "d62d5051-b28e-4ac1-bc48-a05723aa4e93",
   "metadata": {},
   "outputs": [
    {
     "data": {
      "text/plain": [
       "'421'"
      ]
     },
     "execution_count": 70,
     "metadata": {},
     "output_type": "execute_result"
    }
   ],
   "source": [
    "S + str(I)"
   ]
  },
  {
   "cell_type": "code",
   "execution_count": 71,
   "id": "cac34c76-8bf4-485f-9ea0-176497224f9b",
   "metadata": {},
   "outputs": [
    {
     "data": {
      "text/plain": [
       "('3.1415', 1.5)"
      ]
     },
     "execution_count": 71,
     "metadata": {},
     "output_type": "execute_result"
    }
   ],
   "source": [
    "str(3.1415), float(\"1.5\")"
   ]
  },
  {
   "cell_type": "code",
   "execution_count": 73,
   "id": "d7b38317-4d9a-463c-abf4-c9b87831aab6",
   "metadata": {},
   "outputs": [
    {
     "data": {
      "text/plain": [
       "1.234e-10"
      ]
     },
     "execution_count": 73,
     "metadata": {},
     "output_type": "execute_result"
    }
   ],
   "source": [
    "text = \"1.234E-10\"\n",
    "float(text)"
   ]
  },
  {
   "cell_type": "markdown",
   "id": "8f67ec4b-c4c2-4d92-bbb4-17fc329da2e6",
   "metadata": {},
   "source": [
    "### Character code conversion"
   ]
  },
  {
   "cell_type": "code",
   "execution_count": 74,
   "id": "17fd81c4-81f1-4ec1-8ccb-d42ea540f9ee",
   "metadata": {},
   "outputs": [
    {
     "data": {
      "text/plain": [
       "115"
      ]
     },
     "execution_count": 74,
     "metadata": {},
     "output_type": "execute_result"
    }
   ],
   "source": [
    "ord('s')"
   ]
  },
  {
   "cell_type": "code",
   "execution_count": 75,
   "id": "d8f7cbbe-4223-4bb5-b31b-1df77e5847b6",
   "metadata": {},
   "outputs": [
    {
     "data": {
      "text/plain": [
       "'s'"
      ]
     },
     "execution_count": 75,
     "metadata": {},
     "output_type": "execute_result"
    }
   ],
   "source": [
    "chr(115)"
   ]
  },
  {
   "cell_type": "code",
   "execution_count": 76,
   "id": "7a5a1fcd-2832-44bb-9197-3e2a0fadf5db",
   "metadata": {},
   "outputs": [],
   "source": [
    "S = '5'\n",
    "S = chr(ord(S)+1)"
   ]
  },
  {
   "cell_type": "code",
   "execution_count": 77,
   "id": "d2f870e4-e218-4053-a82e-1ae082fe2446",
   "metadata": {},
   "outputs": [
    {
     "data": {
      "text/plain": [
       "'6'"
      ]
     },
     "execution_count": 77,
     "metadata": {},
     "output_type": "execute_result"
    }
   ],
   "source": [
    "S"
   ]
  },
  {
   "cell_type": "code",
   "execution_count": 78,
   "id": "e76e7ff5-c64a-44d9-86bd-7671d4cdbc36",
   "metadata": {},
   "outputs": [
    {
     "data": {
      "text/plain": [
       "'7'"
      ]
     },
     "execution_count": 78,
     "metadata": {},
     "output_type": "execute_result"
    }
   ],
   "source": [
    "S = chr(ord(S) + 1)\n",
    "S"
   ]
  },
  {
   "cell_type": "code",
   "execution_count": 79,
   "id": "2fee8e82-03fe-4a69-a4be-5b65b5d7a626",
   "metadata": {},
   "outputs": [
    {
     "data": {
      "text/plain": [
       "5"
      ]
     },
     "execution_count": 79,
     "metadata": {},
     "output_type": "execute_result"
    }
   ],
   "source": [
    "int('5')"
   ]
  },
  {
   "cell_type": "code",
   "execution_count": 80,
   "id": "1e28bef4-72a4-4cb7-9490-e3fbf5ae7451",
   "metadata": {},
   "outputs": [
    {
     "data": {
      "text/plain": [
       "5"
      ]
     },
     "execution_count": 80,
     "metadata": {},
     "output_type": "execute_result"
    }
   ],
   "source": [
    "ord('5') - ord('0')"
   ]
  },
  {
   "cell_type": "code",
   "execution_count": 81,
   "id": "89cbab42-bd75-4c43-a850-42a208ef2f0b",
   "metadata": {},
   "outputs": [],
   "source": [
    "B = '1101'"
   ]
  },
  {
   "cell_type": "code",
   "execution_count": 82,
   "id": "80cb84bf-0c18-421c-b5c8-b7a10f198591",
   "metadata": {},
   "outputs": [
    {
     "data": {
      "text/plain": [
       "13"
      ]
     },
     "execution_count": 82,
     "metadata": {},
     "output_type": "execute_result"
    }
   ],
   "source": [
    "I = 0\n",
    "while B != '':\n",
    "    I = I*2 +(ord(B[0]) - ord('0'))\n",
    "    B = B[1:]\n",
    "    \n",
    "I"
   ]
  },
  {
   "cell_type": "code",
   "execution_count": 83,
   "id": "c10a6dbe-851c-4097-8817-ac8e4edd3ac2",
   "metadata": {},
   "outputs": [
    {
     "data": {
      "text/plain": [
       "13"
      ]
     },
     "execution_count": 83,
     "metadata": {},
     "output_type": "execute_result"
    }
   ],
   "source": [
    "int('1101', 2)"
   ]
  },
  {
   "cell_type": "code",
   "execution_count": 84,
   "id": "df478849-30af-428d-97b9-075e5d7fb617",
   "metadata": {},
   "outputs": [
    {
     "data": {
      "text/plain": [
       "'0b1101'"
      ]
     },
     "execution_count": 84,
     "metadata": {},
     "output_type": "execute_result"
    }
   ],
   "source": [
    "bin(13)"
   ]
  },
  {
   "cell_type": "markdown",
   "id": "17b5ec38-7d22-4f1b-a940-5234431dbf22",
   "metadata": {},
   "source": [
    "## Changing Strings I\n"
   ]
  },
  {
   "cell_type": "code",
   "execution_count": 85,
   "id": "7976cb2c-202b-4faf-80c2-2798e568db70",
   "metadata": {},
   "outputs": [
    {
     "ename": "TypeError",
     "evalue": "'str' object does not support item assignment",
     "output_type": "error",
     "traceback": [
      "\u001b[1;31m---------------------------------------------------------------------------\u001b[0m",
      "\u001b[1;31mTypeError\u001b[0m                                 Traceback (most recent call last)",
      "Input \u001b[1;32mIn [85]\u001b[0m, in \u001b[0;36m<cell line: 2>\u001b[1;34m()\u001b[0m\n\u001b[0;32m      1\u001b[0m S \u001b[38;5;241m=\u001b[39m \u001b[38;5;124m'\u001b[39m\u001b[38;5;124mspam\u001b[39m\u001b[38;5;124m'\u001b[39m\n\u001b[1;32m----> 2\u001b[0m S[\u001b[38;5;241m0\u001b[39m] \u001b[38;5;241m=\u001b[39m x\n",
      "\u001b[1;31mTypeError\u001b[0m: 'str' object does not support item assignment"
     ]
    }
   ],
   "source": [
    "S = 'spam'\n",
    "S[0] = x"
   ]
  },
  {
   "cell_type": "code",
   "execution_count": 86,
   "id": "9feaf071-c081-48a1-a598-0bc014feb390",
   "metadata": {},
   "outputs": [
    {
     "data": {
      "text/plain": [
       "'spamSPAM!'"
      ]
     },
     "execution_count": 86,
     "metadata": {},
     "output_type": "execute_result"
    }
   ],
   "source": [
    "S = S +'SPAM!'\n",
    "S"
   ]
  },
  {
   "cell_type": "code",
   "execution_count": 87,
   "id": "78e385a6-f8b1-4a3f-9e01-89122c170832",
   "metadata": {},
   "outputs": [],
   "source": [
    "S = S[:4] + 'Burger' + S[-1]"
   ]
  },
  {
   "cell_type": "code",
   "execution_count": 88,
   "id": "f153aadb-12af-4f58-b3de-7ee8e44a337b",
   "metadata": {},
   "outputs": [
    {
     "data": {
      "text/plain": [
       "'spamBurger!'"
      ]
     },
     "execution_count": 88,
     "metadata": {},
     "output_type": "execute_result"
    }
   ],
   "source": [
    "S"
   ]
  },
  {
   "cell_type": "code",
   "execution_count": 89,
   "id": "9c55807a-e80c-4d8d-8d0c-e2dcc3d308a0",
   "metadata": {},
   "outputs": [],
   "source": [
    "S = 'splot'\n",
    "S = S.replace('pl', 'pamal')"
   ]
  },
  {
   "cell_type": "code",
   "execution_count": 90,
   "id": "15375fe0-3f54-4de6-ac37-ba5ff47c928b",
   "metadata": {},
   "outputs": [
    {
     "data": {
      "text/plain": [
       "'spamalot'"
      ]
     },
     "execution_count": 90,
     "metadata": {},
     "output_type": "execute_result"
    }
   ],
   "source": [
    "S"
   ]
  },
  {
   "cell_type": "code",
   "execution_count": 92,
   "id": "5a581a5a-1c41-4cc2-99c2-bfdb291e16ef",
   "metadata": {},
   "outputs": [
    {
     "data": {
      "text/plain": [
       "'That is 1 dead bird!'"
      ]
     },
     "execution_count": 92,
     "metadata": {},
     "output_type": "execute_result"
    }
   ],
   "source": [
    "'That is %d %s bird!' %(1, 'dead')"
   ]
  },
  {
   "cell_type": "code",
   "execution_count": 94,
   "id": "93deba61-b458-4a6d-8695-ad730499e2d0",
   "metadata": {},
   "outputs": [
    {
     "data": {
      "text/plain": [
       "'That is 1 dead bird!'"
      ]
     },
     "execution_count": 94,
     "metadata": {},
     "output_type": "execute_result"
    }
   ],
   "source": [
    "'That is {0} {1} bird!'.format(1, 'dead')"
   ]
  },
  {
   "cell_type": "markdown",
   "id": "f5fa39e4-2d13-4cab-b44d-ccdfbd77ac01",
   "metadata": {},
   "source": [
    "## String Methods\n",
    "### Method Call Syntax"
   ]
  },
  {
   "cell_type": "markdown",
   "id": "e8c474ea-248a-4896-bc79-0597728bde5c",
   "metadata": {},
   "source": [
    "*Attribute fetches\n",
    "    \n",
    "    `object.attribute`\n",
    "    \n",
    "*Call expressions*\n",
    "\n",
    "    `object.method(arguments)`"
   ]
  },
  {
   "cell_type": "code",
   "execution_count": 96,
   "id": "1d5e5e43-d044-47de-b338-3585d08c11c8",
   "metadata": {},
   "outputs": [],
   "source": [
    "S = 'spam'\n",
    "result = S.find('pa')"
   ]
  },
  {
   "cell_type": "code",
   "execution_count": 97,
   "id": "37f42e39-004b-4333-94b2-16a8478e11a8",
   "metadata": {},
   "outputs": [
    {
     "data": {
      "text/plain": [
       "1"
      ]
     },
     "execution_count": 97,
     "metadata": {},
     "output_type": "execute_result"
    }
   ],
   "source": [
    "result"
   ]
  },
  {
   "cell_type": "markdown",
   "id": "29826919-a835-4709-88de-abcb28c1485b",
   "metadata": {},
   "source": [
    "### Methods of Strings\n",
    "### String Method Examples: Changing Strings II"
   ]
  },
  {
   "cell_type": "code",
   "execution_count": 106,
   "id": "bc808592-343b-43cc-a9fd-4e7b2a3f173b",
   "metadata": {},
   "outputs": [],
   "source": [
    "S = 'spammy'"
   ]
  },
  {
   "cell_type": "code",
   "execution_count": 107,
   "id": "23b06d72-0e09-4046-ba30-65af23bfab92",
   "metadata": {},
   "outputs": [],
   "source": [
    "S = S[:3] +'xx' +S[5:]"
   ]
  },
  {
   "cell_type": "code",
   "execution_count": 108,
   "id": "1a126c02-b132-4be0-8d9c-e433e095c536",
   "metadata": {},
   "outputs": [
    {
     "data": {
      "text/plain": [
       "'spaxxy'"
      ]
     },
     "execution_count": 108,
     "metadata": {},
     "output_type": "execute_result"
    }
   ],
   "source": [
    "S"
   ]
  },
  {
   "cell_type": "code",
   "execution_count": 109,
   "id": "e23dc657-35dd-4de7-a3bc-7b79e7e900b4",
   "metadata": {},
   "outputs": [],
   "source": [
    "S = 'spammy'\n",
    "S= S.replace('mm', 'xx')"
   ]
  },
  {
   "cell_type": "code",
   "execution_count": 110,
   "id": "9b1b83e9-fc00-4e4f-b699-cae26cb9301f",
   "metadata": {},
   "outputs": [
    {
     "data": {
      "text/plain": [
       "'spaxxy'"
      ]
     },
     "execution_count": 110,
     "metadata": {},
     "output_type": "execute_result"
    }
   ],
   "source": [
    "S"
   ]
  },
  {
   "cell_type": "code",
   "execution_count": 111,
   "id": "6cc15c4b-5ae9-4b3f-ac76-11dbd7640447",
   "metadata": {},
   "outputs": [
    {
     "data": {
      "text/plain": [
       "'aaSPAMbbSPAMccSPAMdd'"
      ]
     },
     "execution_count": 111,
     "metadata": {},
     "output_type": "execute_result"
    }
   ],
   "source": [
    "'aa$bb$cc$dd'.replace(\"$\", 'SPAM')"
   ]
  },
  {
   "cell_type": "code",
   "execution_count": 112,
   "id": "240b6edc-10c3-4844-a45c-75276551213d",
   "metadata": {},
   "outputs": [
    {
     "data": {
      "text/plain": [
       "4"
      ]
     },
     "execution_count": 112,
     "metadata": {},
     "output_type": "execute_result"
    }
   ],
   "source": [
    "S = 'xxxxSPAMxxxxSPAMxxx'\n",
    "where = S.find('SPAM')\n",
    "where"
   ]
  },
  {
   "cell_type": "code",
   "execution_count": 114,
   "id": "c7dbb467-1982-4ccb-aff3-0cbc85d78bbf",
   "metadata": {},
   "outputs": [],
   "source": [
    "S = S[:where] + 'EGGS' +S[where + 4 :]"
   ]
  },
  {
   "cell_type": "code",
   "execution_count": 115,
   "id": "15699394-6262-48ae-b1d6-ef256a87aed6",
   "metadata": {},
   "outputs": [
    {
     "data": {
      "text/plain": [
       "'xxxxEGGSxxxxSPAMxxx'"
      ]
     },
     "execution_count": 115,
     "metadata": {},
     "output_type": "execute_result"
    }
   ],
   "source": [
    "S"
   ]
  },
  {
   "cell_type": "code",
   "execution_count": 117,
   "id": "dc222c2c-d757-49d9-98e3-2de56820f1bb",
   "metadata": {},
   "outputs": [
    {
     "data": {
      "text/plain": [
       "'xxxxEGGSxxxxEGGSxxxx'"
      ]
     },
     "execution_count": 117,
     "metadata": {},
     "output_type": "execute_result"
    }
   ],
   "source": [
    "S = 'xxxxSPAMxxxxSPAMxxxx'\n",
    "S.replace('SPAM', 'EGGS')"
   ]
  },
  {
   "cell_type": "code",
   "execution_count": 119,
   "id": "79539fc6-4b51-4bef-b35e-a98abc22d337",
   "metadata": {},
   "outputs": [
    {
     "data": {
      "text/plain": [
       "'xxxxEGGSxxxxSPAMxxxx'"
      ]
     },
     "execution_count": 119,
     "metadata": {},
     "output_type": "execute_result"
    }
   ],
   "source": [
    "S.replace('SPAM', 'EGGS',1)"
   ]
  },
  {
   "cell_type": "code",
   "execution_count": 120,
   "id": "c87ab9fe-3dad-4c4a-be85-f088f896e71b",
   "metadata": {},
   "outputs": [
    {
     "data": {
      "text/plain": [
       "['a', 'p', 'a', 'm', 'm', 'y']"
      ]
     },
     "execution_count": 120,
     "metadata": {},
     "output_type": "execute_result"
    }
   ],
   "source": [
    "S = 'apammy'\n",
    "L = list(S)\n",
    "L"
   ]
  },
  {
   "cell_type": "code",
   "execution_count": 124,
   "id": "810452af-0ee2-477b-8d2a-7e2c546f58d1",
   "metadata": {},
   "outputs": [
    {
     "data": {
      "text/plain": [
       "['a', 'p', 'a', 'x', 'x', 'y']"
      ]
     },
     "execution_count": 124,
     "metadata": {},
     "output_type": "execute_result"
    }
   ],
   "source": [
    "L[3] = 'x'\n",
    "L[4]= 'x'\n",
    "L"
   ]
  },
  {
   "cell_type": "code",
   "execution_count": 125,
   "id": "49734192-6ad0-440a-adaa-76580c69ffd5",
   "metadata": {},
   "outputs": [],
   "source": [
    "S = ''.join(L)"
   ]
  },
  {
   "cell_type": "code",
   "execution_count": 126,
   "id": "d5751324-da8f-4172-b3ea-1bd779dd8403",
   "metadata": {},
   "outputs": [
    {
     "data": {
      "text/plain": [
       "'apaxxy'"
      ]
     },
     "execution_count": 126,
     "metadata": {},
     "output_type": "execute_result"
    }
   ],
   "source": [
    "S"
   ]
  },
  {
   "cell_type": "code",
   "execution_count": 128,
   "id": "31ca7d4b-9dd1-4704-919d-3583888235c5",
   "metadata": {},
   "outputs": [
    {
     "data": {
      "text/plain": [
       "'eggsSPAMsausageSPAMhamSPAMtoast'"
      ]
     },
     "execution_count": 128,
     "metadata": {},
     "output_type": "execute_result"
    }
   ],
   "source": [
    "'SPAM'.join(['eggs', 'sausage', 'ham', 'toast'])"
   ]
  },
  {
   "cell_type": "markdown",
   "id": "774fc1bf-fc88-488c-996e-3b03f35f7f8a",
   "metadata": {},
   "source": [
    "## String Method Examples: Parsing Text"
   ]
  },
  {
   "cell_type": "code",
   "execution_count": 129,
   "id": "dd8eb689-1fcf-47f0-a28e-518a77766460",
   "metadata": {},
   "outputs": [
    {
     "data": {
      "text/plain": [
       "['aaa', 'bbb', 'ccc']"
      ]
     },
     "execution_count": 129,
     "metadata": {},
     "output_type": "execute_result"
    }
   ],
   "source": [
    "line = 'aaa bbb ccc'\n",
    "cols = line.split()\n",
    "cols"
   ]
  },
  {
   "cell_type": "code",
   "execution_count": 130,
   "id": "df37fc60-ae7a-4b0b-a29a-cc6ee45e597d",
   "metadata": {},
   "outputs": [
    {
     "data": {
      "text/plain": [
       "['bob', 'hacker', '40']"
      ]
     },
     "execution_count": 130,
     "metadata": {},
     "output_type": "execute_result"
    }
   ],
   "source": [
    "line = 'bob,hacker,40'\n",
    "line.split(',')"
   ]
  },
  {
   "cell_type": "code",
   "execution_count": 132,
   "id": "b80efa32-a103-4b4a-a270-967c052c8b93",
   "metadata": {},
   "outputs": [
    {
     "data": {
      "text/plain": [
       "[\"i'm\", 'a', 'lumberjack']"
      ]
     },
     "execution_count": 132,
     "metadata": {},
     "output_type": "execute_result"
    }
   ],
   "source": [
    "line = \"i'mSPAMaSPAMlumberjack\"\n",
    "line.split('SPAM')"
   ]
  },
  {
   "cell_type": "markdown",
   "id": "ae55a136-6277-42ed-bff1-29bc9816e461",
   "metadata": {},
   "source": [
    "## Other Common String Methods in Action"
   ]
  },
  {
   "cell_type": "code",
   "execution_count": 133,
   "id": "c8f696f3-93c8-4dd4-acc8-46452809e854",
   "metadata": {},
   "outputs": [
    {
     "data": {
      "text/plain": [
       "'The knights who sya Ni!'"
      ]
     },
     "execution_count": 133,
     "metadata": {},
     "output_type": "execute_result"
    }
   ],
   "source": [
    "line = \"The knights who sya Ni!\\n\"\n",
    "line.rstrip()"
   ]
  },
  {
   "cell_type": "code",
   "execution_count": 134,
   "id": "1a7cd4fc-4064-4628-85cb-72a4374968fd",
   "metadata": {},
   "outputs": [
    {
     "data": {
      "text/plain": [
       "'THE KNIGHTS WHO SYA NI!\\n'"
      ]
     },
     "execution_count": 134,
     "metadata": {},
     "output_type": "execute_result"
    }
   ],
   "source": [
    "line.upper()"
   ]
  },
  {
   "cell_type": "code",
   "execution_count": 135,
   "id": "12dac9c2-c2d0-4bce-ae40-cbed5ff207bc",
   "metadata": {},
   "outputs": [
    {
     "data": {
      "text/plain": [
       "False"
      ]
     },
     "execution_count": 135,
     "metadata": {},
     "output_type": "execute_result"
    }
   ],
   "source": [
    "line.isalpha()"
   ]
  },
  {
   "cell_type": "code",
   "execution_count": 138,
   "id": "1e348767-bc4e-49a5-bb53-fe1691d89577",
   "metadata": {},
   "outputs": [
    {
     "data": {
      "text/plain": [
       "True"
      ]
     },
     "execution_count": 138,
     "metadata": {},
     "output_type": "execute_result"
    }
   ],
   "source": [
    "line.endswith('Ni!\\n')"
   ]
  },
  {
   "cell_type": "code",
   "execution_count": 140,
   "id": "5c5c031e-0ce2-4d1f-9d28-fa7fbe5b7fb3",
   "metadata": {},
   "outputs": [
    {
     "data": {
      "text/plain": [
       "True"
      ]
     },
     "execution_count": 140,
     "metadata": {},
     "output_type": "execute_result"
    }
   ],
   "source": [
    "line.startswith('The')"
   ]
  },
  {
   "cell_type": "markdown",
   "id": "03676671-a7f8-4132-9e9b-0444f531d9ab",
   "metadata": {},
   "source": [
    "## String Formatting Expressions\n",
    "暂时跳过"
   ]
  },
  {
   "cell_type": "code",
   "execution_count": null,
   "id": "d05eb5b7-fec8-44de-8dab-c2fdfc2e3495",
   "metadata": {},
   "outputs": [],
   "source": []
  }
 ],
 "metadata": {
  "kernelspec": {
   "display_name": "Python 3 (ipykernel)",
   "language": "python",
   "name": "python3"
  },
  "language_info": {
   "codemirror_mode": {
    "name": "ipython",
    "version": 3
   },
   "file_extension": ".py",
   "mimetype": "text/x-python",
   "name": "python",
   "nbconvert_exporter": "python",
   "pygments_lexer": "ipython3",
   "version": "3.9.12"
  }
 },
 "nbformat": 4,
 "nbformat_minor": 5
}
