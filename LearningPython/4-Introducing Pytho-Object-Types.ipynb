{
 "cells": [
  {
   "cell_type": "markdown",
   "id": "017e7bc3-b62c-4af4-aa77-d67db58f8ad4",
   "metadata": {},
   "source": [
    "# Chapter 4 Introducing Python Object Types\n",
    "## The Python Conceptial Hierarchy\n",
    "    1 Programs are composed of modules\n",
    "    2 Modules contain statements\n",
    "    3 Statements contain expressions\n",
    "    4 Expression create and process objects\n",
    "## Why Use Built-in Types\n",
    "- **Built-in objects make programs easy to write.**\n",
    "- **Buit-in objects are components of extensions.**\n",
    "- **Built-in objects are often more efficient than custom data structures.**\n",
    "- **Built-in objects are a standard part of the language.**"
   ]
  },
  {
   "cell_type": "markdown",
   "id": "528caf8d-fce4-4c14-9e89-3224491fc1ee",
   "metadata": {},
   "source": [
    "## Python's Core Data Types\n",
    "\n",
    "|Object type|Example literals/creation|\n",
    "|-----|---------------|\n",
    "|Numbers| 1234, 3.1415, 3+4j, 0b111,Decimal(), Fraction()|\n",
    "|Strings|'spam',\"Bob's\", b'a\\x01c', u`sp\\xc4m' |\n",
    "|Lists|[1,[2,'three'],4.5], list(range(10)|\n",
    "|Dictionaries|{'food':'spam', 'taste':'yum'}, dict(hours =10)|\n",
    "|Tuples|(1,'spam', 4,'U'). tuples('spam'),namedtuple|\n",
    "|Files|open('eggs.txt), open(r'C:\\ham.bin', 'wb')|\n",
    "|Sets|set('abac'), {'a','b','c'}|\n",
    "|Other core types| Booleans, types, None|\n",
    "|Program unit yptes|Fuctions, modules, classes|\n",
    "|Implementattion-related types|Compiles code, stacktracebacks||\n"
   ]
  },
  {
   "cell_type": "code",
   "execution_count": 1,
   "id": "46db9c80-3b87-43a7-8ea3-460b0e1cb9df",
   "metadata": {},
   "outputs": [
    {
     "data": {
      "text/plain": [
       "'Spam'"
      ]
     },
     "execution_count": 1,
     "metadata": {},
     "output_type": "execute_result"
    }
   ],
   "source": [
    "'Spam'"
   ]
  },
  {
   "cell_type": "markdown",
   "id": "2ebc79ac-aa3c-494f-9c5e-1d9a3efcdcd3",
   "metadata": {},
   "source": [
    "You are rnnning a literal expression that generates and returns a nes `string` object.\n",
    "A expression wrapped in sauare brackets makes a `list`, one in curly braces makes a `dictionary` and so on.\n",
    "Theres are no type declarations in Python, the syntax of the expressions you run determines the types of objects you create and use.\n",
    "\n",
    "*dynamically typed* and *strong typed*"
   ]
  },
  {
   "cell_type": "markdown",
   "id": "9b5641fa-c1c6-4206-8b6e-846f717f254b",
   "metadata": {},
   "source": [
    "## Numbers\n",
    "integers, float-pointing, complex, decimals, rationals, sets."
   ]
  },
  {
   "cell_type": "code",
   "execution_count": 2,
   "id": "5d9a212f-057d-404d-876b-1a03d4c0d2b6",
   "metadata": {},
   "outputs": [
    {
     "data": {
      "text/plain": [
       "345"
      ]
     },
     "execution_count": 2,
     "metadata": {},
     "output_type": "execute_result"
    }
   ],
   "source": [
    "123 + 222 # Integer addition"
   ]
  },
  {
   "cell_type": "code",
   "execution_count": 3,
   "id": "6af5d128-f7cb-4c8a-a51c-690a0f92dca0",
   "metadata": {},
   "outputs": [
    {
     "data": {
      "text/plain": [
       "6.0"
      ]
     },
     "execution_count": 3,
     "metadata": {},
     "output_type": "execute_result"
    }
   ],
   "source": [
    "1.5*4 #Floating-point multiplication"
   ]
  },
  {
   "cell_type": "code",
   "execution_count": 4,
   "id": "3fa2be80-10b9-41ca-832d-2d731db607a5",
   "metadata": {},
   "outputs": [
    {
     "data": {
      "text/plain": [
       "1267650600228229401496703205376"
      ]
     },
     "execution_count": 4,
     "metadata": {},
     "output_type": "execute_result"
    }
   ],
   "source": [
    "2 ** 100 # 2 to power 100, again"
   ]
  },
  {
   "cell_type": "code",
   "execution_count": 5,
   "id": "71904a75-8a4f-45e3-ad0d-35fc0c56cf16",
   "metadata": {},
   "outputs": [
    {
     "data": {
      "text/plain": [
       "301030"
      ]
     },
     "execution_count": 5,
     "metadata": {},
     "output_type": "execute_result"
    }
   ],
   "source": [
    "len(str(2 ** 1000000))"
   ]
  },
  {
   "cell_type": "code",
   "execution_count": 6,
   "id": "76078e0a-6b64-4ae9-93a6-a3aedac2fffd",
   "metadata": {},
   "outputs": [
    {
     "data": {
      "text/plain": [
       "6.283"
      ]
     },
     "execution_count": 6,
     "metadata": {},
     "output_type": "execute_result"
    }
   ],
   "source": [
    "3.1415 *2"
   ]
  },
  {
   "cell_type": "code",
   "execution_count": 7,
   "id": "a68d2246-3daf-4edb-9808-1c31e27cda89",
   "metadata": {},
   "outputs": [
    {
     "name": "stdout",
     "output_type": "stream",
     "text": [
      "6.283\n"
     ]
    }
   ],
   "source": [
    "print(3.1415*2)"
   ]
  },
  {
   "cell_type": "code",
   "execution_count": 8,
   "id": "cb2b9c66-3550-4426-b8a9-4fcd1000dcf4",
   "metadata": {},
   "outputs": [
    {
     "data": {
      "text/plain": [
       "3.141592653589793"
      ]
     },
     "execution_count": 8,
     "metadata": {},
     "output_type": "execute_result"
    }
   ],
   "source": [
    "import math\n",
    "math.pi"
   ]
  },
  {
   "cell_type": "code",
   "execution_count": 9,
   "id": "dbec9180-aaa6-4f07-ad1d-7059923f6458",
   "metadata": {},
   "outputs": [
    {
     "data": {
      "text/plain": [
       "9.219544457292887"
      ]
     },
     "execution_count": 9,
     "metadata": {},
     "output_type": "execute_result"
    }
   ],
   "source": [
    "math.sqrt(85)"
   ]
  },
  {
   "cell_type": "code",
   "execution_count": 10,
   "id": "9dcfb423-7def-4ee9-aa69-e4008b0129cb",
   "metadata": {},
   "outputs": [
    {
     "data": {
      "text/plain": [
       "0.48529063107486037"
      ]
     },
     "execution_count": 10,
     "metadata": {},
     "output_type": "execute_result"
    }
   ],
   "source": [
    "import random\n",
    "random.random()"
   ]
  },
  {
   "cell_type": "code",
   "execution_count": 13,
   "id": "e464fa62-6dd1-4c85-9370-bfae2fef14ca",
   "metadata": {},
   "outputs": [
    {
     "data": {
      "text/plain": [
       "17"
      ]
     },
     "execution_count": 13,
     "metadata": {},
     "output_type": "execute_result"
    }
   ],
   "source": [
    "random.choice([1,2,3,4])\n",
    "random.choice(range(20))"
   ]
  },
  {
   "cell_type": "markdown",
   "id": "58f00d8e-f6ad-4cb0-9acb-c0e4ddd8752b",
   "metadata": {},
   "source": [
    "## Strings\n",
    "### Sequence Operations\n"
   ]
  },
  {
   "cell_type": "code",
   "execution_count": 14,
   "id": "7c598de9-a16c-4093-9863-d60ae166a840",
   "metadata": {},
   "outputs": [
    {
     "data": {
      "text/plain": [
       "4"
      ]
     },
     "execution_count": 14,
     "metadata": {},
     "output_type": "execute_result"
    }
   ],
   "source": [
    "S = 'Spam'\n",
    "len(S)"
   ]
  },
  {
   "cell_type": "code",
   "execution_count": 15,
   "id": "85c5e7b8-555d-4c61-ad20-3c2d0237bfd5",
   "metadata": {},
   "outputs": [
    {
     "data": {
      "text/plain": [
       "'S'"
      ]
     },
     "execution_count": 15,
     "metadata": {},
     "output_type": "execute_result"
    }
   ],
   "source": [
    "S[0]"
   ]
  },
  {
   "cell_type": "code",
   "execution_count": 16,
   "id": "1139428e-3b63-4b73-a392-d6425d3df9c9",
   "metadata": {},
   "outputs": [
    {
     "data": {
      "text/plain": [
       "'p'"
      ]
     },
     "execution_count": 16,
     "metadata": {},
     "output_type": "execute_result"
    }
   ],
   "source": [
    "S[1]"
   ]
  },
  {
   "cell_type": "markdown",
   "id": "c6159469-459d-4ea9-938b-2e380d137b5a",
   "metadata": {},
   "source": [
    "A variable is created when you assign it a value, may be assigned any type of object, and is replaced with its value when it show up in an expression.\n",
    "\n",
    "Index backward:"
   ]
  },
  {
   "cell_type": "code",
   "execution_count": 17,
   "id": "318b96e2-0270-4523-bd89-9306e3538061",
   "metadata": {},
   "outputs": [
    {
     "data": {
      "text/plain": [
       "'m'"
      ]
     },
     "execution_count": 17,
     "metadata": {},
     "output_type": "execute_result"
    }
   ],
   "source": [
    "S[-1]"
   ]
  },
  {
   "cell_type": "code",
   "execution_count": 20,
   "id": "413f3bbe-5d3b-4904-9f27-ca7fbddd9158",
   "metadata": {},
   "outputs": [
    {
     "data": {
      "text/plain": [
       "'a'"
      ]
     },
     "execution_count": 20,
     "metadata": {},
     "output_type": "execute_result"
    }
   ],
   "source": [
    "S[-2]"
   ]
  },
  {
   "cell_type": "code",
   "execution_count": 22,
   "id": "70286eca-7c79-4f60-bc4d-ff16b11c9775",
   "metadata": {},
   "outputs": [
    {
     "data": {
      "text/plain": [
       "'m'"
      ]
     },
     "execution_count": 22,
     "metadata": {},
     "output_type": "execute_result"
    }
   ],
   "source": [
    "S[len(S) -1]"
   ]
  },
  {
   "cell_type": "code",
   "execution_count": 23,
   "id": "81c60a0f-daf6-4fbe-bac6-6a0c9528b04d",
   "metadata": {},
   "outputs": [
    {
     "data": {
      "text/plain": [
       "'pa'"
      ]
     },
     "execution_count": 23,
     "metadata": {},
     "output_type": "execute_result"
    }
   ],
   "source": [
    "S[1:3]"
   ]
  },
  {
   "cell_type": "code",
   "execution_count": 24,
   "id": "5a7dbb8f-c2fa-4c2e-9b5d-bc518d710fc1",
   "metadata": {},
   "outputs": [
    {
     "data": {
      "text/plain": [
       "'pam'"
      ]
     },
     "execution_count": 24,
     "metadata": {},
     "output_type": "execute_result"
    }
   ],
   "source": [
    "S[1:]"
   ]
  },
  {
   "cell_type": "code",
   "execution_count": 25,
   "id": "29a3781d-abe2-4aae-90c4-9cf792433d39",
   "metadata": {},
   "outputs": [
    {
     "data": {
      "text/plain": [
       "'Spa'"
      ]
     },
     "execution_count": 25,
     "metadata": {},
     "output_type": "execute_result"
    }
   ],
   "source": [
    "S[0:3]"
   ]
  },
  {
   "cell_type": "code",
   "execution_count": 26,
   "id": "24516ed2-a878-4f57-9acf-28f4eba26456",
   "metadata": {},
   "outputs": [
    {
     "data": {
      "text/plain": [
       "'Spa'"
      ]
     },
     "execution_count": 26,
     "metadata": {},
     "output_type": "execute_result"
    }
   ],
   "source": [
    "S[:-1]"
   ]
  },
  {
   "cell_type": "code",
   "execution_count": 27,
   "id": "f97f6063-b7c7-4834-a0ea-d35d93ccb333",
   "metadata": {},
   "outputs": [
    {
     "data": {
      "text/plain": [
       "'Spam'"
      ]
     },
     "execution_count": 27,
     "metadata": {},
     "output_type": "execute_result"
    }
   ],
   "source": [
    "S[:]"
   ]
  },
  {
   "cell_type": "code",
   "execution_count": 28,
   "id": "2a3a5cad-eb6e-4a2a-85be-a86720dbf591",
   "metadata": {},
   "outputs": [
    {
     "data": {
      "text/plain": [
       "'Spamxyz'"
      ]
     },
     "execution_count": 28,
     "metadata": {},
     "output_type": "execute_result"
    }
   ],
   "source": [
    "S\n",
    "S + 'xyz'"
   ]
  },
  {
   "cell_type": "code",
   "execution_count": 29,
   "id": "a7f27d14-e254-4db4-a6bd-7ec8ea7dc4a5",
   "metadata": {},
   "outputs": [
    {
     "data": {
      "text/plain": [
       "'Spam'"
      ]
     },
     "execution_count": 29,
     "metadata": {},
     "output_type": "execute_result"
    }
   ],
   "source": [
    "S"
   ]
  },
  {
   "cell_type": "code",
   "execution_count": 30,
   "id": "c3a447be-3cc9-48ac-87cc-d4321bd5b2e6",
   "metadata": {},
   "outputs": [
    {
     "data": {
      "text/plain": [
       "'SpamSpamSpamSpamSpamSpamSpamSpam'"
      ]
     },
     "execution_count": 30,
     "metadata": {},
     "output_type": "execute_result"
    }
   ],
   "source": [
    "S * 8"
   ]
  },
  {
   "cell_type": "markdown",
   "id": "d493e095-b5df-4202-b9bd-ac28d0ff8daf",
   "metadata": {},
   "source": [
    "### Immutability\n",
    "Every string operation is defined to produce a nes string as its result, because string are *immutable* in Python --- they cannot be changed in place after they are created."
   ]
  },
  {
   "cell_type": "code",
   "execution_count": 31,
   "id": "e0327af4-fe47-470f-84dc-394f4fcf4a66",
   "metadata": {},
   "outputs": [
    {
     "data": {
      "text/plain": [
       "'Spam'"
      ]
     },
     "execution_count": 31,
     "metadata": {},
     "output_type": "execute_result"
    }
   ],
   "source": [
    "S"
   ]
  },
  {
   "cell_type": "code",
   "execution_count": 32,
   "id": "4c6440a3-8fe7-4d9c-b6ff-d67e3e2c6c37",
   "metadata": {},
   "outputs": [
    {
     "ename": "TypeError",
     "evalue": "'str' object does not support item assignment",
     "output_type": "error",
     "traceback": [
      "\u001b[1;31m---------------------------------------------------------------------------\u001b[0m",
      "\u001b[1;31mTypeError\u001b[0m                                 Traceback (most recent call last)",
      "Input \u001b[1;32mIn [32]\u001b[0m, in \u001b[0;36m<cell line: 1>\u001b[1;34m()\u001b[0m\n\u001b[1;32m----> 1\u001b[0m S[\u001b[38;5;241m0\u001b[39m] \u001b[38;5;241m=\u001b[39m \u001b[38;5;124m'\u001b[39m\u001b[38;5;124mz\u001b[39m\u001b[38;5;124m'\u001b[39m\n",
      "\u001b[1;31mTypeError\u001b[0m: 'str' object does not support item assignment"
     ]
    }
   ],
   "source": [
    "S[0] = 'z'"
   ]
  },
  {
   "cell_type": "code",
   "execution_count": 33,
   "id": "e9ed309c-4fc7-44e0-90ae-7c5c558640ad",
   "metadata": {},
   "outputs": [],
   "source": [
    "S = 'z' + S[1:]"
   ]
  },
  {
   "cell_type": "code",
   "execution_count": 34,
   "id": "5f3a7d3e-3190-4b0d-b8ae-f9c42482daaf",
   "metadata": {},
   "outputs": [
    {
     "data": {
      "text/plain": [
       "'zpam'"
      ]
     },
     "execution_count": 34,
     "metadata": {},
     "output_type": "execute_result"
    }
   ],
   "source": [
    "S"
   ]
  },
  {
   "cell_type": "markdown",
   "id": "8c02ae9d-2028-4f5b-a307-23b6a8b81848",
   "metadata": {},
   "source": [
    "Interms of the core types, *numbers, string*, and *tuples* are immutable; *list, dictionaries*, and  *sets* are mutable.\n",
    "You can change text-based data *in place* if you either expand it into a *list* of individual characters and join it back together with nothing between, or use the newer `bitearray` type available. "
   ]
  },
  {
   "cell_type": "code",
   "execution_count": 35,
   "id": "db0eff4e-1300-485b-8cf9-e8f78141c985",
   "metadata": {},
   "outputs": [],
   "source": [
    "S = 'shrubbery'"
   ]
  },
  {
   "cell_type": "code",
   "execution_count": 36,
   "id": "72e02a3b-2c8c-4259-a83a-ca6d810d9b98",
   "metadata": {},
   "outputs": [
    {
     "data": {
      "text/plain": [
       "['s', 'h', 'r', 'u', 'b', 'b', 'e', 'r', 'y']"
      ]
     },
     "execution_count": 36,
     "metadata": {},
     "output_type": "execute_result"
    }
   ],
   "source": [
    "L = list(S)\n",
    "L"
   ]
  },
  {
   "cell_type": "code",
   "execution_count": 37,
   "id": "5abc2b3c-475b-4fc3-bcd8-4391d45eef78",
   "metadata": {},
   "outputs": [
    {
     "data": {
      "text/plain": [
       "'scrubbery'"
      ]
     },
     "execution_count": 37,
     "metadata": {},
     "output_type": "execute_result"
    }
   ],
   "source": [
    "L[1] = 'c'\n",
    "''.join(L)"
   ]
  },
  {
   "cell_type": "code",
   "execution_count": 38,
   "id": "fdeb4788-a10d-443e-bf3f-fbfc8f7e73a8",
   "metadata": {},
   "outputs": [],
   "source": [
    "B = bytearray(b'spam')\n",
    "B.extend(b'eggs')"
   ]
  },
  {
   "cell_type": "code",
   "execution_count": 39,
   "id": "0612610d-dd5b-4776-a675-b623d14ae144",
   "metadata": {},
   "outputs": [
    {
     "data": {
      "text/plain": [
       "bytearray(b'spameggs')"
      ]
     },
     "execution_count": 39,
     "metadata": {},
     "output_type": "execute_result"
    }
   ],
   "source": [
    "B"
   ]
  },
  {
   "cell_type": "code",
   "execution_count": 40,
   "id": "41cef4fe-aa6b-453f-93e7-659de77b5c13",
   "metadata": {},
   "outputs": [
    {
     "data": {
      "text/plain": [
       "'spameggs'"
      ]
     },
     "execution_count": 40,
     "metadata": {},
     "output_type": "execute_result"
    }
   ],
   "source": [
    "B.decode()"
   ]
  },
  {
   "cell_type": "markdown",
   "id": "21b72516-334e-4492-a422-b4115d7a2418",
   "metadata": {},
   "source": [
    "The `bytearray` supports in-place changes for text, but only for text whose characters are all at most 8-bits wide.\n",
    "All other sgtring are still immutable."
   ]
  },
  {
   "cell_type": "markdown",
   "id": "15181bf4-4016-40a3-a268-eec7b747ec42",
   "metadata": {},
   "source": [
    "### Type-Specific Methods\n"
   ]
  },
  {
   "cell_type": "code",
   "execution_count": 41,
   "id": "2cc18d8c-eaf9-47e1-bbcb-bcd2e0a174fd",
   "metadata": {},
   "outputs": [
    {
     "data": {
      "text/plain": [
       "1"
      ]
     },
     "execution_count": 41,
     "metadata": {},
     "output_type": "execute_result"
    }
   ],
   "source": [
    "S = 'Spam'\n",
    "S.find('pa')"
   ]
  },
  {
   "cell_type": "code",
   "execution_count": 42,
   "id": "5e6b0788-d303-4190-9b5c-fac43d4a8f08",
   "metadata": {},
   "outputs": [
    {
     "data": {
      "text/plain": [
       "'Spam'"
      ]
     },
     "execution_count": 42,
     "metadata": {},
     "output_type": "execute_result"
    }
   ],
   "source": [
    "S"
   ]
  },
  {
   "cell_type": "code",
   "execution_count": 44,
   "id": "8bd71c28-5931-42d2-a5d1-90851bb5551b",
   "metadata": {},
   "outputs": [
    {
     "data": {
      "text/plain": [
       "'SXYZm'"
      ]
     },
     "execution_count": 44,
     "metadata": {},
     "output_type": "execute_result"
    }
   ],
   "source": [
    "S.replace('pa', 'XYZ')"
   ]
  },
  {
   "cell_type": "code",
   "execution_count": 45,
   "id": "bf1cbd95-147b-4e4f-ba37-60976771c879",
   "metadata": {},
   "outputs": [
    {
     "data": {
      "text/plain": [
       "'Spam'"
      ]
     },
     "execution_count": 45,
     "metadata": {},
     "output_type": "execute_result"
    }
   ],
   "source": [
    "S"
   ]
  },
  {
   "cell_type": "markdown",
   "id": "cf0f9acf-9f33-4954-a0e5-f50b7188be65",
   "metadata": {},
   "source": [
    "We are not changing the original string hers, but creating new string as the results."
   ]
  },
  {
   "cell_type": "code",
   "execution_count": 46,
   "id": "54142604-d77a-4145-b005-84d67d9428f9",
   "metadata": {},
   "outputs": [
    {
     "data": {
      "text/plain": [
       "['aaa', 'bbb', 'ccccc', 'dd']"
      ]
     },
     "execution_count": 46,
     "metadata": {},
     "output_type": "execute_result"
    }
   ],
   "source": [
    "line = 'aaa,bbb,ccccc,dd'\n",
    "line.split(',')"
   ]
  },
  {
   "cell_type": "code",
   "execution_count": 47,
   "id": "52b9994e-6852-4abc-b777-20b19c7f1d04",
   "metadata": {},
   "outputs": [
    {
     "data": {
      "text/plain": [
       "'SPAM'"
      ]
     },
     "execution_count": 47,
     "metadata": {},
     "output_type": "execute_result"
    }
   ],
   "source": [
    "S = 'spam'\n",
    "S.upper()"
   ]
  },
  {
   "cell_type": "code",
   "execution_count": 48,
   "id": "04ef51da-c7dd-4bea-bb25-60945791bdb0",
   "metadata": {},
   "outputs": [
    {
     "data": {
      "text/plain": [
       "True"
      ]
     },
     "execution_count": 48,
     "metadata": {},
     "output_type": "execute_result"
    }
   ],
   "source": [
    "S.isalpha()"
   ]
  },
  {
   "cell_type": "code",
   "execution_count": 49,
   "id": "7c890b57-f4ed-4fe6-9bd8-615458321ca9",
   "metadata": {},
   "outputs": [
    {
     "data": {
      "text/plain": [
       "'aaa,bbb,ccccc,dd'"
      ]
     },
     "execution_count": 49,
     "metadata": {},
     "output_type": "execute_result"
    }
   ],
   "source": [
    "line = 'aaa,bbb,ccccc,dd\\n'\n",
    "line.rstrip()"
   ]
  },
  {
   "cell_type": "code",
   "execution_count": 50,
   "id": "10d1e465-248b-4b93-a659-3a44bc4217a5",
   "metadata": {},
   "outputs": [
    {
     "data": {
      "text/plain": [
       "['aaa', 'bbb', 'ccccc', 'dd']"
      ]
     },
     "execution_count": 50,
     "metadata": {},
     "output_type": "execute_result"
    }
   ],
   "source": [
    "line.rstrip().split(',')"
   ]
  },
  {
   "cell_type": "code",
   "execution_count": 52,
   "id": "6acafc34-6ee8-4dee-86fc-9897d21f46b6",
   "metadata": {},
   "outputs": [
    {
     "data": {
      "text/plain": [
       "'spam, eggs, and SPAM!'"
      ]
     },
     "execution_count": 52,
     "metadata": {},
     "output_type": "execute_result"
    }
   ],
   "source": [
    "'%s, eggs, and %s' %('spam', 'SPAM!')"
   ]
  },
  {
   "cell_type": "code",
   "execution_count": 54,
   "id": "d8c44c85-4bed-4240-a062-870fb3a4b5ab",
   "metadata": {},
   "outputs": [
    {
     "data": {
      "text/plain": [
       "'spam. eggs, and SPAM!'"
      ]
     },
     "execution_count": 54,
     "metadata": {},
     "output_type": "execute_result"
    }
   ],
   "source": [
    "'{}. eggs, and {}'.format('spam', 'SPAM!') "
   ]
  },
  {
   "cell_type": "code",
   "execution_count": 56,
   "id": "a0768260-57ba-466c-aa90-250c03213982",
   "metadata": {},
   "outputs": [
    {
     "data": {
      "text/plain": [
       "'29,699.26'"
      ]
     },
     "execution_count": 56,
     "metadata": {},
     "output_type": "execute_result"
    }
   ],
   "source": [
    "'{:,.2f}'.format(29699.2567)"
   ]
  },
  {
   "cell_type": "code",
   "execution_count": 58,
   "id": "263c7605-3a94-4671-99d0-b1d31cafe826",
   "metadata": {},
   "outputs": [
    {
     "data": {
      "text/plain": [
       "'3.141590 | -0042'"
      ]
     },
     "execution_count": 58,
     "metadata": {},
     "output_type": "execute_result"
    }
   ],
   "source": [
    "'%2f | %+05d' % (3.14159, -42)"
   ]
  },
  {
   "cell_type": "markdown",
   "id": "17ba2a32-c397-4029-90d1-ecc5148357fa",
   "metadata": {},
   "source": [
    "### Getting Help\n"
   ]
  },
  {
   "cell_type": "code",
   "execution_count": 59,
   "id": "0d4caf23-b7b7-45b6-b3a5-fc6a318fbd13",
   "metadata": {},
   "outputs": [
    {
     "data": {
      "text/plain": [
       "['__add__',\n",
       " '__class__',\n",
       " '__contains__',\n",
       " '__delattr__',\n",
       " '__dir__',\n",
       " '__doc__',\n",
       " '__eq__',\n",
       " '__format__',\n",
       " '__ge__',\n",
       " '__getattribute__',\n",
       " '__getitem__',\n",
       " '__getnewargs__',\n",
       " '__gt__',\n",
       " '__hash__',\n",
       " '__init__',\n",
       " '__init_subclass__',\n",
       " '__iter__',\n",
       " '__le__',\n",
       " '__len__',\n",
       " '__lt__',\n",
       " '__mod__',\n",
       " '__mul__',\n",
       " '__ne__',\n",
       " '__new__',\n",
       " '__reduce__',\n",
       " '__reduce_ex__',\n",
       " '__repr__',\n",
       " '__rmod__',\n",
       " '__rmul__',\n",
       " '__setattr__',\n",
       " '__sizeof__',\n",
       " '__str__',\n",
       " '__subclasshook__',\n",
       " 'capitalize',\n",
       " 'casefold',\n",
       " 'center',\n",
       " 'count',\n",
       " 'encode',\n",
       " 'endswith',\n",
       " 'expandtabs',\n",
       " 'find',\n",
       " 'format',\n",
       " 'format_map',\n",
       " 'index',\n",
       " 'isalnum',\n",
       " 'isalpha',\n",
       " 'isascii',\n",
       " 'isdecimal',\n",
       " 'isdigit',\n",
       " 'isidentifier',\n",
       " 'islower',\n",
       " 'isnumeric',\n",
       " 'isprintable',\n",
       " 'isspace',\n",
       " 'istitle',\n",
       " 'isupper',\n",
       " 'join',\n",
       " 'ljust',\n",
       " 'lower',\n",
       " 'lstrip',\n",
       " 'maketrans',\n",
       " 'partition',\n",
       " 'removeprefix',\n",
       " 'removesuffix',\n",
       " 'replace',\n",
       " 'rfind',\n",
       " 'rindex',\n",
       " 'rjust',\n",
       " 'rpartition',\n",
       " 'rsplit',\n",
       " 'rstrip',\n",
       " 'split',\n",
       " 'splitlines',\n",
       " 'startswith',\n",
       " 'strip',\n",
       " 'swapcase',\n",
       " 'title',\n",
       " 'translate',\n",
       " 'upper',\n",
       " 'zfill']"
      ]
     },
     "execution_count": 59,
     "metadata": {},
     "output_type": "execute_result"
    }
   ],
   "source": [
    "dir(S)"
   ]
  },
  {
   "cell_type": "code",
   "execution_count": 60,
   "id": "7c1a2b9c-9d64-40ff-b180-c25a1c44e3b8",
   "metadata": {},
   "outputs": [
    {
     "data": {
      "text/plain": [
       "'spamNI'"
      ]
     },
     "execution_count": 60,
     "metadata": {},
     "output_type": "execute_result"
    }
   ],
   "source": [
    "S + 'NI'"
   ]
  },
  {
   "cell_type": "code",
   "execution_count": 61,
   "id": "cd0e4175-2822-43a6-8c22-18bb7d8d5abc",
   "metadata": {},
   "outputs": [
    {
     "data": {
      "text/plain": [
       "'spamNI'"
      ]
     },
     "execution_count": 61,
     "metadata": {},
     "output_type": "execute_result"
    }
   ],
   "source": [
    "S.__add__('NI')"
   ]
  },
  {
   "cell_type": "code",
   "execution_count": 62,
   "id": "0d54c69a-96fb-478c-9356-4b44bc6df6b2",
   "metadata": {},
   "outputs": [
    {
     "name": "stdout",
     "output_type": "stream",
     "text": [
      "Help on built-in function replace:\n",
      "\n",
      "replace(old, new, count=-1, /) method of builtins.str instance\n",
      "    Return a copy with all occurrences of substring old replaced by new.\n",
      "    \n",
      "      count\n",
      "        Maximum number of occurrences to replace.\n",
      "        -1 (the default value) means replace all occurrences.\n",
      "    \n",
      "    If the optional argument count is given, only the first count occurrences are\n",
      "    replaced.\n",
      "\n"
     ]
    }
   ],
   "source": [
    "help(S.replace)"
   ]
  },
  {
   "cell_type": "markdown",
   "id": "61d13994-573a-4bf3-bec1-e03753e7dc70",
   "metadata": {},
   "source": [
    "### Other Ways to Code Strings\n",
    "Special characters can be representd as backslash escape sequences, shich Pythonsdisplays in `\\xNN` hexadecimal escape notaion, unless they represent printable character:"
   ]
  },
  {
   "cell_type": "code",
   "execution_count": 64,
   "id": "2b94f46d-0956-4eea-b78b-9d723039ad58",
   "metadata": {},
   "outputs": [],
   "source": [
    "S = 'A\\nB\\tC'"
   ]
  },
  {
   "cell_type": "code",
   "execution_count": 65,
   "id": "fa86fcc9-920d-4db9-91b3-57a812d1fcf0",
   "metadata": {},
   "outputs": [
    {
     "data": {
      "text/plain": [
       "'A\\nB\\tC'"
      ]
     },
     "execution_count": 65,
     "metadata": {},
     "output_type": "execute_result"
    }
   ],
   "source": [
    "S"
   ]
  },
  {
   "cell_type": "code",
   "execution_count": 66,
   "id": "6b68bfe5-dbc5-4534-a50d-92f1ac0b2f20",
   "metadata": {},
   "outputs": [
    {
     "data": {
      "text/plain": [
       "10"
      ]
     },
     "execution_count": 66,
     "metadata": {},
     "output_type": "execute_result"
    }
   ],
   "source": [
    "ord('\\n')"
   ]
  },
  {
   "cell_type": "code",
   "execution_count": 67,
   "id": "705ad6ba-b7f4-4e77-bb7e-a11952312a91",
   "metadata": {},
   "outputs": [
    {
     "name": "stdout",
     "output_type": "stream",
     "text": [
      "A\n",
      "B\tC\n"
     ]
    }
   ],
   "source": [
    "print(S)"
   ]
  },
  {
   "cell_type": "code",
   "execution_count": 68,
   "id": "47469698-4ce5-4af3-b73d-acdf823220cc",
   "metadata": {},
   "outputs": [],
   "source": [
    "S = 'A\\0B\\0C'"
   ]
  },
  {
   "cell_type": "code",
   "execution_count": 69,
   "id": "085b63fa-3e4e-4da6-96f8-8dd3f29bd9ff",
   "metadata": {},
   "outputs": [
    {
     "data": {
      "text/plain": [
       "'A\\x00B\\x00C'"
      ]
     },
     "execution_count": 69,
     "metadata": {},
     "output_type": "execute_result"
    }
   ],
   "source": [
    "S"
   ]
  },
  {
   "cell_type": "code",
   "execution_count": 70,
   "id": "f0dc5d8b-3742-45ea-91bb-8c4d2e8d500c",
   "metadata": {},
   "outputs": [
    {
     "name": "stdout",
     "output_type": "stream",
     "text": [
      "A\u0000B\u0000C\n"
     ]
    }
   ],
   "source": [
    "print(S)"
   ]
  },
  {
   "cell_type": "markdown",
   "id": "fd543b31-4e74-4336-9a44-bc0d04822dd7",
   "metadata": {},
   "source": [
    "Python allows strings to be enclosed in *single* or *double* quote characters --- the mean the same thing but allow the other type of quote to be embedded with an escape.\n",
    "It also allows multiline string literals enclosed in *triple* quotes (single or double)"
   ]
  },
  {
   "cell_type": "code",
   "execution_count": 72,
   "id": "79a5f316-1f50-4ade-9773-050aff2ebd90",
   "metadata": {},
   "outputs": [],
   "source": [
    "msg = \"\"\"aaaaaaaa\n",
    "bbb'''bbbbbbbbb\"\"bbbbbbbb'bbbbb\n",
    "cccccccccc\n",
    "\"\"\""
   ]
  },
  {
   "cell_type": "code",
   "execution_count": 73,
   "id": "d6183e82-ea75-4366-9c1e-a2bdf8037068",
   "metadata": {},
   "outputs": [
    {
     "data": {
      "text/plain": [
       "'aaaaaaaa\\nbbb\\'\\'\\'bbbbbbbbb\"\"bbbbbbbb\\'bbbbb\\ncccccccccc\\n'"
      ]
     },
     "execution_count": 73,
     "metadata": {},
     "output_type": "execute_result"
    }
   ],
   "source": [
    "msg"
   ]
  },
  {
   "cell_type": "code",
   "execution_count": 74,
   "id": "80ba1eda-311b-4a64-9c5a-0d4b13be3352",
   "metadata": {},
   "outputs": [
    {
     "name": "stdout",
     "output_type": "stream",
     "text": [
      "aaaaaaaa\n",
      "bbb'''bbbbbbbbb\"\"bbbbbbbb'bbbbb\n",
      "cccccccccc\n",
      "\n"
     ]
    }
   ],
   "source": [
    "print(msg)"
   ]
  },
  {
   "cell_type": "markdown",
   "id": "f29fee00-b8ff-44a9-8747-126e8c3be106",
   "metadata": {},
   "source": [
    "### Unicode Strings\n",
    "In Python 3.x the normal `string` handles Unicode text; a distinct bytes string type represents raw byte value"
   ]
  },
  {
   "cell_type": "code",
   "execution_count": 75,
   "id": "0f1f9ea5-9d6f-4914-93df-14de0a635c62",
   "metadata": {},
   "outputs": [
    {
     "data": {
      "text/plain": [
       "'spÄm'"
      ]
     },
     "execution_count": 75,
     "metadata": {},
     "output_type": "execute_result"
    }
   ],
   "source": [
    "'sp\\xc4m'"
   ]
  },
  {
   "cell_type": "code",
   "execution_count": 76,
   "id": "bf748172-c630-447b-8a7d-99b7053fdf48",
   "metadata": {},
   "outputs": [
    {
     "data": {
      "text/plain": [
       "b'a\\x01c'"
      ]
     },
     "execution_count": 76,
     "metadata": {},
     "output_type": "execute_result"
    }
   ],
   "source": [
    "b'a\\x01c'"
   ]
  },
  {
   "cell_type": "code",
   "execution_count": 77,
   "id": "75c4ec13-8cfe-4d5f-b178-dc8a634ced62",
   "metadata": {},
   "outputs": [
    {
     "name": "stdout",
     "output_type": "stream",
     "text": [
      "b'a\\x01c'\n"
     ]
    }
   ],
   "source": [
    "print(b'a\\x01c')"
   ]
  },
  {
   "cell_type": "code",
   "execution_count": 78,
   "id": "519d9758-d2f3-468b-9ac8-815fc1dd7f00",
   "metadata": {},
   "outputs": [
    {
     "data": {
      "text/plain": [
       "'spam'"
      ]
     },
     "execution_count": 78,
     "metadata": {},
     "output_type": "execute_result"
    }
   ],
   "source": [
    "'spam'"
   ]
  },
  {
   "cell_type": "code",
   "execution_count": 79,
   "id": "40c501b5-a7bb-484a-a3a0-84a33662ed19",
   "metadata": {},
   "outputs": [
    {
     "data": {
      "text/plain": [
       "b'spam'"
      ]
     },
     "execution_count": 79,
     "metadata": {},
     "output_type": "execute_result"
    }
   ],
   "source": [
    "'spam'.encode('utf8')"
   ]
  },
  {
   "cell_type": "code",
   "execution_count": 80,
   "id": "21dd2893-10f2-4786-8efb-87bf9063e747",
   "metadata": {},
   "outputs": [
    {
     "data": {
      "text/plain": [
       "b'\\xff\\xfes\\x00p\\x00a\\x00m\\x00'"
      ]
     },
     "execution_count": 80,
     "metadata": {},
     "output_type": "execute_result"
    }
   ],
   "source": [
    "'spam'.encode('utf16')"
   ]
  },
  {
   "cell_type": "code",
   "execution_count": 81,
   "id": "76f8aea3-d121-42aa-9de6-a57849b5a509",
   "metadata": {},
   "outputs": [
    {
     "data": {
      "text/plain": [
       "b'\\xff\\xfe\\x00\\x00s\\x00\\x00\\x00p\\x00\\x00\\x00a\\x00\\x00\\x00m\\x00\\x00\\x00'"
      ]
     },
     "execution_count": 81,
     "metadata": {},
     "output_type": "execute_result"
    }
   ],
   "source": [
    "'spam'.encode('utf32')"
   ]
  },
  {
   "cell_type": "markdown",
   "id": "17f86dd9-2341-4b39-b811-11be9f8b78b2",
   "metadata": {},
   "source": [
    "### Pattern Matching\n",
    "We import a module called `re`."
   ]
  },
  {
   "cell_type": "code",
   "execution_count": 85,
   "id": "6d767f4c-f26d-411c-92b9-a8e96ff740b0",
   "metadata": {},
   "outputs": [
    {
     "ename": "error",
     "evalue": "unbalanced parenthesis at position 12",
     "output_type": "error",
     "traceback": [
      "\u001b[1;31m---------------------------------------------------------------------------\u001b[0m",
      "\u001b[1;31merror\u001b[0m                                     Traceback (most recent call last)",
      "Input \u001b[1;32mIn [85]\u001b[0m, in \u001b[0;36m<cell line: 2>\u001b[1;34m()\u001b[0m\n\u001b[0;32m      1\u001b[0m \u001b[38;5;28;01mimport\u001b[39;00m \u001b[38;5;21;01mre\u001b[39;00m\n\u001b[1;32m----> 2\u001b[0m match \u001b[38;5;241m=\u001b[39m \u001b[43mre\u001b[49m\u001b[38;5;241;43m.\u001b[39;49m\u001b[43mmatch\u001b[49m\u001b[43m(\u001b[49m\u001b[38;5;124;43m'\u001b[39;49m\u001b[38;5;124;43mHello[ \u001b[39;49m\u001b[38;5;130;43;01m\\t\u001b[39;49;00m\u001b[38;5;124;43m]*.*)world\u001b[39;49m\u001b[38;5;124;43m'\u001b[39;49m\u001b[43m,\u001b[49m\u001b[43m \u001b[49m\u001b[38;5;124;43m'\u001b[39;49m\u001b[38;5;124;43mHello    Python world\u001b[39;49m\u001b[38;5;124;43m'\u001b[39;49m\u001b[43m)\u001b[49m\n\u001b[0;32m      3\u001b[0m \u001b[38;5;28;01mmatch\u001b[39;00m\u001b[38;5;241m.\u001b[39mgroup(\u001b[38;5;241m1\u001b[39m)\n",
      "File \u001b[1;32mC:\\ProgramData\\Anaconda3\\lib\\re.py:191\u001b[0m, in \u001b[0;36mmatch\u001b[1;34m(pattern, string, flags)\u001b[0m\n\u001b[0;32m    188\u001b[0m \u001b[38;5;28;01mdef\u001b[39;00m \u001b[38;5;21mmatch\u001b[39m(pattern, string, flags\u001b[38;5;241m=\u001b[39m\u001b[38;5;241m0\u001b[39m):\n\u001b[0;32m    189\u001b[0m     \u001b[38;5;124;03m\"\"\"Try to apply the pattern at the start of the string, returning\u001b[39;00m\n\u001b[0;32m    190\u001b[0m \u001b[38;5;124;03m    a Match object, or None if no match was found.\"\"\"\u001b[39;00m\n\u001b[1;32m--> 191\u001b[0m     \u001b[38;5;28;01mreturn\u001b[39;00m \u001b[43m_compile\u001b[49m\u001b[43m(\u001b[49m\u001b[43mpattern\u001b[49m\u001b[43m,\u001b[49m\u001b[43m \u001b[49m\u001b[43mflags\u001b[49m\u001b[43m)\u001b[49m\u001b[38;5;241m.\u001b[39mmatch(string)\n",
      "File \u001b[1;32mC:\\ProgramData\\Anaconda3\\lib\\re.py:304\u001b[0m, in \u001b[0;36m_compile\u001b[1;34m(pattern, flags)\u001b[0m\n\u001b[0;32m    302\u001b[0m \u001b[38;5;28;01mif\u001b[39;00m \u001b[38;5;129;01mnot\u001b[39;00m sre_compile\u001b[38;5;241m.\u001b[39misstring(pattern):\n\u001b[0;32m    303\u001b[0m     \u001b[38;5;28;01mraise\u001b[39;00m \u001b[38;5;167;01mTypeError\u001b[39;00m(\u001b[38;5;124m\"\u001b[39m\u001b[38;5;124mfirst argument must be string or compiled pattern\u001b[39m\u001b[38;5;124m\"\u001b[39m)\n\u001b[1;32m--> 304\u001b[0m p \u001b[38;5;241m=\u001b[39m \u001b[43msre_compile\u001b[49m\u001b[38;5;241;43m.\u001b[39;49m\u001b[43mcompile\u001b[49m\u001b[43m(\u001b[49m\u001b[43mpattern\u001b[49m\u001b[43m,\u001b[49m\u001b[43m \u001b[49m\u001b[43mflags\u001b[49m\u001b[43m)\u001b[49m\n\u001b[0;32m    305\u001b[0m \u001b[38;5;28;01mif\u001b[39;00m \u001b[38;5;129;01mnot\u001b[39;00m (flags \u001b[38;5;241m&\u001b[39m DEBUG):\n\u001b[0;32m    306\u001b[0m     \u001b[38;5;28;01mif\u001b[39;00m \u001b[38;5;28mlen\u001b[39m(_cache) \u001b[38;5;241m>\u001b[39m\u001b[38;5;241m=\u001b[39m _MAXCACHE:\n\u001b[0;32m    307\u001b[0m         \u001b[38;5;66;03m# Drop the oldest item\u001b[39;00m\n",
      "File \u001b[1;32mC:\\ProgramData\\Anaconda3\\lib\\sre_compile.py:764\u001b[0m, in \u001b[0;36mcompile\u001b[1;34m(p, flags)\u001b[0m\n\u001b[0;32m    762\u001b[0m \u001b[38;5;28;01mif\u001b[39;00m isstring(p):\n\u001b[0;32m    763\u001b[0m     pattern \u001b[38;5;241m=\u001b[39m p\n\u001b[1;32m--> 764\u001b[0m     p \u001b[38;5;241m=\u001b[39m \u001b[43msre_parse\u001b[49m\u001b[38;5;241;43m.\u001b[39;49m\u001b[43mparse\u001b[49m\u001b[43m(\u001b[49m\u001b[43mp\u001b[49m\u001b[43m,\u001b[49m\u001b[43m \u001b[49m\u001b[43mflags\u001b[49m\u001b[43m)\u001b[49m\n\u001b[0;32m    765\u001b[0m \u001b[38;5;28;01melse\u001b[39;00m:\n\u001b[0;32m    766\u001b[0m     pattern \u001b[38;5;241m=\u001b[39m \u001b[38;5;28;01mNone\u001b[39;00m\n",
      "File \u001b[1;32mC:\\ProgramData\\Anaconda3\\lib\\sre_parse.py:964\u001b[0m, in \u001b[0;36mparse\u001b[1;34m(str, flags, state)\u001b[0m\n\u001b[0;32m    962\u001b[0m \u001b[38;5;28;01mif\u001b[39;00m source\u001b[38;5;241m.\u001b[39mnext \u001b[38;5;129;01mis\u001b[39;00m \u001b[38;5;129;01mnot\u001b[39;00m \u001b[38;5;28;01mNone\u001b[39;00m:\n\u001b[0;32m    963\u001b[0m     \u001b[38;5;28;01massert\u001b[39;00m source\u001b[38;5;241m.\u001b[39mnext \u001b[38;5;241m==\u001b[39m \u001b[38;5;124m\"\u001b[39m\u001b[38;5;124m)\u001b[39m\u001b[38;5;124m\"\u001b[39m\n\u001b[1;32m--> 964\u001b[0m     \u001b[38;5;28;01mraise\u001b[39;00m source\u001b[38;5;241m.\u001b[39merror(\u001b[38;5;124m\"\u001b[39m\u001b[38;5;124munbalanced parenthesis\u001b[39m\u001b[38;5;124m\"\u001b[39m)\n\u001b[0;32m    966\u001b[0m \u001b[38;5;28;01mif\u001b[39;00m flags \u001b[38;5;241m&\u001b[39m SRE_FLAG_DEBUG:\n\u001b[0;32m    967\u001b[0m     p\u001b[38;5;241m.\u001b[39mdump()\n",
      "\u001b[1;31merror\u001b[0m: unbalanced parenthesis at position 12"
     ]
    }
   ],
   "source": [
    "import re\n",
    "match = re.match('Hello[ \\t]*.*)world', 'Hello    Python world')\n",
    "match.group(1)"
   ]
  },
  {
   "cell_type": "markdown",
   "id": "f7c2241c-9c58-49d3-9c41-fc825218c4bd",
   "metadata": {},
   "source": [
    "## List\n",
    "List are positionally ordered collections of arbitrarily typed objects, and they have no fixed size.\n",
    "They are also mutable, lists can be modified in place by assignment to offsets as well as avariety of list mehtod calls.\n",
    "### Sequence Operations"
   ]
  },
  {
   "cell_type": "code",
   "execution_count": 86,
   "id": "8da2a878-8330-44a5-b3dc-4f06e24c148b",
   "metadata": {},
   "outputs": [
    {
     "data": {
      "text/plain": [
       "3"
      ]
     },
     "execution_count": 86,
     "metadata": {},
     "output_type": "execute_result"
    }
   ],
   "source": [
    "L = [123, 'spam', 1.23]\n",
    "len(L)"
   ]
  },
  {
   "cell_type": "code",
   "execution_count": 87,
   "id": "1731befd-5fa1-4f1d-b8ee-6f11e86a4cbc",
   "metadata": {},
   "outputs": [
    {
     "data": {
      "text/plain": [
       "123"
      ]
     },
     "execution_count": 87,
     "metadata": {},
     "output_type": "execute_result"
    }
   ],
   "source": [
    "L[0]"
   ]
  },
  {
   "cell_type": "code",
   "execution_count": 88,
   "id": "44a89071-6d06-4b81-a726-5d36bc43acc9",
   "metadata": {},
   "outputs": [
    {
     "data": {
      "text/plain": [
       "[123, 'spam']"
      ]
     },
     "execution_count": 88,
     "metadata": {},
     "output_type": "execute_result"
    }
   ],
   "source": [
    "L[:-1]"
   ]
  },
  {
   "cell_type": "code",
   "execution_count": 89,
   "id": "7f2e9e58-98e5-45fb-8d62-da0419173570",
   "metadata": {},
   "outputs": [
    {
     "data": {
      "text/plain": [
       "1.23"
      ]
     },
     "execution_count": 89,
     "metadata": {},
     "output_type": "execute_result"
    }
   ],
   "source": [
    "L[-1]"
   ]
  },
  {
   "cell_type": "code",
   "execution_count": 90,
   "id": "3aa72525-1f97-484b-8966-eccac3bc800e",
   "metadata": {},
   "outputs": [
    {
     "data": {
      "text/plain": [
       "[123, 'spam', 1.23, 4, 5, 6]"
      ]
     },
     "execution_count": 90,
     "metadata": {},
     "output_type": "execute_result"
    }
   ],
   "source": [
    "L + [4,5,6]"
   ]
  },
  {
   "cell_type": "code",
   "execution_count": 91,
   "id": "2f2d8706-02d0-41b0-b6a8-dacfb654665b",
   "metadata": {},
   "outputs": [
    {
     "data": {
      "text/plain": [
       "[123, 'spam', 1.23, 123, 'spam', 1.23]"
      ]
     },
     "execution_count": 91,
     "metadata": {},
     "output_type": "execute_result"
    }
   ],
   "source": [
    "L * 2"
   ]
  },
  {
   "cell_type": "code",
   "execution_count": 92,
   "id": "9f55be41-3e44-4364-8bce-04d3047e1cdc",
   "metadata": {},
   "outputs": [
    {
     "data": {
      "text/plain": [
       "[123, 'spam', 1.23]"
      ]
     },
     "execution_count": 92,
     "metadata": {},
     "output_type": "execute_result"
    }
   ],
   "source": [
    "L"
   ]
  },
  {
   "cell_type": "markdown",
   "id": "0f27b721-d982-41a2-94f8-b089147b0832",
   "metadata": {},
   "source": [
    "### Type Specific Operations"
   ]
  },
  {
   "cell_type": "code",
   "execution_count": 93,
   "id": "5f538682-aa2b-41f7-93bb-735c436daf0c",
   "metadata": {},
   "outputs": [],
   "source": [
    "L.append('NI')"
   ]
  },
  {
   "cell_type": "code",
   "execution_count": 94,
   "id": "b5126026-db9b-4030-897a-86313d108b05",
   "metadata": {},
   "outputs": [
    {
     "data": {
      "text/plain": [
       "[123, 'spam', 1.23, 'NI']"
      ]
     },
     "execution_count": 94,
     "metadata": {},
     "output_type": "execute_result"
    }
   ],
   "source": [
    "L"
   ]
  },
  {
   "cell_type": "code",
   "execution_count": 95,
   "id": "d6867d37-6eda-409e-8c2c-57620250c06e",
   "metadata": {},
   "outputs": [
    {
     "data": {
      "text/plain": [
       "1.23"
      ]
     },
     "execution_count": 95,
     "metadata": {},
     "output_type": "execute_result"
    }
   ],
   "source": [
    "L.pop(2)"
   ]
  },
  {
   "cell_type": "code",
   "execution_count": 96,
   "id": "f0e1fab6-df8d-4a97-a48e-8233bd6941dd",
   "metadata": {},
   "outputs": [
    {
     "data": {
      "text/plain": [
       "[123, 'spam', 'NI']"
      ]
     },
     "execution_count": 96,
     "metadata": {},
     "output_type": "execute_result"
    }
   ],
   "source": [
    "L"
   ]
  },
  {
   "cell_type": "code",
   "execution_count": 97,
   "id": "3c86ecc8-db4a-4a14-aaf1-cbc78b097ce5",
   "metadata": {},
   "outputs": [
    {
     "data": {
      "text/plain": [
       "['aa', 'bb', 'cc']"
      ]
     },
     "execution_count": 97,
     "metadata": {},
     "output_type": "execute_result"
    }
   ],
   "source": [
    "M = ['bb', 'aa', 'cc']\n",
    "M.sort()\n",
    "M"
   ]
  },
  {
   "cell_type": "code",
   "execution_count": 98,
   "id": "280df291-cf5b-4ef7-a9ac-1bd9384a42a9",
   "metadata": {},
   "outputs": [
    {
     "data": {
      "text/plain": [
       "['cc', 'bb', 'aa']"
      ]
     },
     "execution_count": 98,
     "metadata": {},
     "output_type": "execute_result"
    }
   ],
   "source": [
    "M.reverse()\n",
    "M"
   ]
  },
  {
   "cell_type": "markdown",
   "id": "67df5c0b-4f72-498c-b395-0f22262abd2b",
   "metadata": {},
   "source": [
    "### Bounds Checking\n",
    "Python doesn't allow us to refernce items that are not present."
   ]
  },
  {
   "cell_type": "code",
   "execution_count": 99,
   "id": "19df9ce8-5afb-403b-a669-575e2458acd7",
   "metadata": {},
   "outputs": [
    {
     "data": {
      "text/plain": [
       "[123, 'spam', 'NI']"
      ]
     },
     "execution_count": 99,
     "metadata": {},
     "output_type": "execute_result"
    }
   ],
   "source": [
    "L"
   ]
  },
  {
   "cell_type": "code",
   "execution_count": 100,
   "id": "c87f6833-615a-47f0-964e-e3b5eb9ea479",
   "metadata": {},
   "outputs": [
    {
     "ename": "IndexError",
     "evalue": "list index out of range",
     "output_type": "error",
     "traceback": [
      "\u001b[1;31m---------------------------------------------------------------------------\u001b[0m",
      "\u001b[1;31mIndexError\u001b[0m                                Traceback (most recent call last)",
      "Input \u001b[1;32mIn [100]\u001b[0m, in \u001b[0;36m<cell line: 1>\u001b[1;34m()\u001b[0m\n\u001b[1;32m----> 1\u001b[0m \u001b[43mL\u001b[49m\u001b[43m[\u001b[49m\u001b[38;5;241;43m3\u001b[39;49m\u001b[43m]\u001b[49m\n",
      "\u001b[1;31mIndexError\u001b[0m: list index out of range"
     ]
    }
   ],
   "source": [
    "L[3]"
   ]
  },
  {
   "cell_type": "code",
   "execution_count": 101,
   "id": "e9c52c37-f9d2-4b49-8a7e-f1954256a30a",
   "metadata": {},
   "outputs": [
    {
     "ename": "IndexError",
     "evalue": "list assignment index out of range",
     "output_type": "error",
     "traceback": [
      "\u001b[1;31m---------------------------------------------------------------------------\u001b[0m",
      "\u001b[1;31mIndexError\u001b[0m                                Traceback (most recent call last)",
      "Input \u001b[1;32mIn [101]\u001b[0m, in \u001b[0;36m<cell line: 1>\u001b[1;34m()\u001b[0m\n\u001b[1;32m----> 1\u001b[0m L[\u001b[38;5;241m99\u001b[39m] \u001b[38;5;241m=\u001b[39m \u001b[38;5;241m1\u001b[39m\n",
      "\u001b[1;31mIndexError\u001b[0m: list assignment index out of range"
     ]
    }
   ],
   "source": [
    "L[99] = 1"
   ]
  },
  {
   "cell_type": "markdown",
   "id": "66c882b8-9be9-4dab-8925-faadeed4b57b",
   "metadata": {},
   "source": [
    "### Nesting"
   ]
  },
  {
   "cell_type": "code",
   "execution_count": 102,
   "id": "3052c4aa-3ecb-47fb-a67b-410ae19a8e9e",
   "metadata": {},
   "outputs": [],
   "source": [
    "M = [[1,2,3],\n",
    "    [4,5,6],\n",
    "    [7,8,9]]"
   ]
  },
  {
   "cell_type": "code",
   "execution_count": 103,
   "id": "bdb50688-b868-4077-be1c-e09a4a93e1e7",
   "metadata": {},
   "outputs": [
    {
     "data": {
      "text/plain": [
       "[[1, 2, 3], [4, 5, 6], [7, 8, 9]]"
      ]
     },
     "execution_count": 103,
     "metadata": {},
     "output_type": "execute_result"
    }
   ],
   "source": [
    "M"
   ]
  },
  {
   "cell_type": "code",
   "execution_count": 104,
   "id": "b4495f1d-7183-403c-8598-3b662453ba12",
   "metadata": {},
   "outputs": [
    {
     "data": {
      "text/plain": [
       "[4, 5, 6]"
      ]
     },
     "execution_count": 104,
     "metadata": {},
     "output_type": "execute_result"
    }
   ],
   "source": [
    "M[1]"
   ]
  },
  {
   "cell_type": "code",
   "execution_count": 105,
   "id": "7418f53a-17f3-4cab-8679-f9ca0b8e6701",
   "metadata": {},
   "outputs": [
    {
     "data": {
      "text/plain": [
       "6"
      ]
     },
     "execution_count": 105,
     "metadata": {},
     "output_type": "execute_result"
    }
   ],
   "source": [
    "M[1][2]"
   ]
  },
  {
   "cell_type": "markdown",
   "id": "08db214d-de23-4693-8cf9-8fe41dd07b0d",
   "metadata": {},
   "source": [
    "### Comprehensions\n",
    "*list comprehension expression*"
   ]
  },
  {
   "cell_type": "code",
   "execution_count": 106,
   "id": "27050a50-5fdf-461b-a599-55e131148a6a",
   "metadata": {},
   "outputs": [],
   "source": [
    "col2 = [row[1] for row in M]"
   ]
  },
  {
   "cell_type": "code",
   "execution_count": 107,
   "id": "461c542a-fa61-41cd-b612-1dab6a221e36",
   "metadata": {},
   "outputs": [
    {
     "data": {
      "text/plain": [
       "[2, 5, 8]"
      ]
     },
     "execution_count": 107,
     "metadata": {},
     "output_type": "execute_result"
    }
   ],
   "source": [
    "col2"
   ]
  },
  {
   "cell_type": "code",
   "execution_count": 109,
   "id": "bd7bb838-5457-43e6-be43-0b569afe10c1",
   "metadata": {},
   "outputs": [
    {
     "data": {
      "text/plain": [
       "[3, 6, 9]"
      ]
     },
     "execution_count": 109,
     "metadata": {},
     "output_type": "execute_result"
    }
   ],
   "source": [
    "[row[1] +1 for row in M]"
   ]
  },
  {
   "cell_type": "code",
   "execution_count": 110,
   "id": "3439a40d-51b3-4b2a-93cd-405d548b8349",
   "metadata": {},
   "outputs": [
    {
     "data": {
      "text/plain": [
       "[2, 8]"
      ]
     },
     "execution_count": 110,
     "metadata": {},
     "output_type": "execute_result"
    }
   ],
   "source": [
    "[row[1] for row in M if row[1]%2 == 0]"
   ]
  },
  {
   "cell_type": "code",
   "execution_count": 112,
   "id": "38a62dd4-80b4-4846-9bc6-69d0a0cccd20",
   "metadata": {},
   "outputs": [],
   "source": [
    "diag = [M[i][i] for i in [0,1,2]]"
   ]
  },
  {
   "cell_type": "code",
   "execution_count": 113,
   "id": "3490be59-d0dc-4239-938c-a8bca519b837",
   "metadata": {},
   "outputs": [
    {
     "data": {
      "text/plain": [
       "[1, 5, 9]"
      ]
     },
     "execution_count": 113,
     "metadata": {},
     "output_type": "execute_result"
    }
   ],
   "source": [
    "diag"
   ]
  },
  {
   "cell_type": "code",
   "execution_count": 114,
   "id": "130a6824-ddf2-4ce7-a9e2-0c7a8c4974b8",
   "metadata": {},
   "outputs": [],
   "source": [
    "doubles = [c*2 for c in 'spam']"
   ]
  },
  {
   "cell_type": "code",
   "execution_count": 115,
   "id": "1d40baa1-ef49-413e-9670-9a7217442775",
   "metadata": {},
   "outputs": [
    {
     "data": {
      "text/plain": [
       "['ss', 'pp', 'aa', 'mm']"
      ]
     },
     "execution_count": 115,
     "metadata": {},
     "output_type": "execute_result"
    }
   ],
   "source": [
    "doubles"
   ]
  },
  {
   "cell_type": "code",
   "execution_count": 116,
   "id": "0825baeb-ec2b-4a95-a9ad-922b88275d10",
   "metadata": {},
   "outputs": [
    {
     "data": {
      "text/plain": [
       "[0, 1, 2, 3]"
      ]
     },
     "execution_count": 116,
     "metadata": {},
     "output_type": "execute_result"
    }
   ],
   "source": [
    "list(range(4))"
   ]
  },
  {
   "cell_type": "code",
   "execution_count": 117,
   "id": "6aa8799d-97d9-470b-8385-5aabddf0b72f",
   "metadata": {},
   "outputs": [
    {
     "data": {
      "text/plain": [
       "[-6, -4, -2, 0, 2, 4, 6]"
      ]
     },
     "execution_count": 117,
     "metadata": {},
     "output_type": "execute_result"
    }
   ],
   "source": [
    "list(range(-6,7,2))"
   ]
  },
  {
   "cell_type": "code",
   "execution_count": 118,
   "id": "213be0f4-1c79-403f-9c32-f22821625dd7",
   "metadata": {},
   "outputs": [
    {
     "data": {
      "text/plain": [
       "[[0, 0], [1, 1], [4, 8], [9, 27]]"
      ]
     },
     "execution_count": 118,
     "metadata": {},
     "output_type": "execute_result"
    }
   ],
   "source": [
    "[[x ** 2, x**3] for x in range(4)]"
   ]
  },
  {
   "cell_type": "code",
   "execution_count": 119,
   "id": "9dbd897e-ae50-4d36-aad7-949cc3dc46f8",
   "metadata": {},
   "outputs": [
    {
     "data": {
      "text/plain": [
       "[[2, 1.0, 4], [4, 2.0, 8], [6, 3.0, 12]]"
      ]
     },
     "execution_count": 119,
     "metadata": {},
     "output_type": "execute_result"
    }
   ],
   "source": [
    "[[x, x/2, x*2] for x in range(-6,7,2) if x>0]"
   ]
  },
  {
   "cell_type": "markdown",
   "id": "6c725e58-2235-48a3-9dea-9e7d00f9547b",
   "metadata": {},
   "source": [
    "Enclosing a comprehension in *parentheses* can be used to create *generators* that produce results on demand."
   ]
  },
  {
   "cell_type": "code",
   "execution_count": 127,
   "id": "b9d97275-3332-4b46-a535-2e5dffe3de2b",
   "metadata": {},
   "outputs": [
    {
     "data": {
      "text/plain": [
       "[6, 15, 24]"
      ]
     },
     "execution_count": 127,
     "metadata": {},
     "output_type": "execute_result"
    }
   ],
   "source": [
    "G = (sum(row) for row in M)\n",
    "G"
   ]
  },
  {
   "cell_type": "code",
   "execution_count": 122,
   "id": "67e980e0-3d96-4eae-88db-5675e10e400c",
   "metadata": {},
   "outputs": [
    {
     "data": {
      "text/plain": [
       "6"
      ]
     },
     "execution_count": 122,
     "metadata": {},
     "output_type": "execute_result"
    }
   ],
   "source": [
    "next(G)"
   ]
  },
  {
   "cell_type": "code",
   "execution_count": 123,
   "id": "e6a01042-c87c-4ef7-bfef-7d8f12b943b5",
   "metadata": {},
   "outputs": [
    {
     "data": {
      "text/plain": [
       "15"
      ]
     },
     "execution_count": 123,
     "metadata": {},
     "output_type": "execute_result"
    }
   ],
   "source": [
    "next(G)"
   ]
  },
  {
   "cell_type": "code",
   "execution_count": 125,
   "id": "a796a09c-1689-4caa-9227-f9b029212cdd",
   "metadata": {},
   "outputs": [
    {
     "data": {
      "text/plain": [
       "24"
      ]
     },
     "execution_count": 125,
     "metadata": {},
     "output_type": "execute_result"
    }
   ],
   "source": [
    "next(G)"
   ]
  },
  {
   "cell_type": "code",
   "execution_count": 128,
   "id": "70c3854e-1feb-4439-aa6d-a296c8b6957b",
   "metadata": {},
   "outputs": [
    {
     "data": {
      "text/plain": [
       "[6, 15, 24]"
      ]
     },
     "execution_count": 128,
     "metadata": {},
     "output_type": "execute_result"
    }
   ],
   "source": [
    "list(map(sum,M))"
   ]
  },
  {
   "cell_type": "markdown",
   "id": "c8874d76-6208-4d82-a6ca-6a26bb82f309",
   "metadata": {},
   "source": [
    "Comprehension syntax can also be used to create sets and dictionaries:"
   ]
  },
  {
   "cell_type": "code",
   "execution_count": 129,
   "id": "340d78b3-d9d3-4c6a-93c8-d765ddfba30d",
   "metadata": {},
   "outputs": [
    {
     "data": {
      "text/plain": [
       "{6, 15, 24}"
      ]
     },
     "execution_count": 129,
     "metadata": {},
     "output_type": "execute_result"
    }
   ],
   "source": [
    "{sum(row) for row in M}"
   ]
  },
  {
   "cell_type": "code",
   "execution_count": 131,
   "id": "6766dce4-2206-4c3d-be27-802bf43264f2",
   "metadata": {},
   "outputs": [
    {
     "data": {
      "text/plain": [
       "{0: 6, 1: 15, 2: 24}"
      ]
     },
     "execution_count": 131,
     "metadata": {},
     "output_type": "execute_result"
    }
   ],
   "source": [
    "{i: sum(M[i]) for i in range(3)}"
   ]
  },
  {
   "cell_type": "markdown",
   "id": "95826a5d-4ac9-4f67-937b-146bd2afb2bf",
   "metadata": {},
   "source": [
    "In fact, lists, sets, dictionaries, and generators can all be built with comprehensions."
   ]
  },
  {
   "cell_type": "code",
   "execution_count": 132,
   "id": "cdfe5751-13aa-4d92-a5af-863ec8782023",
   "metadata": {},
   "outputs": [
    {
     "data": {
      "text/plain": [
       "[115, 112, 97, 97, 109]"
      ]
     },
     "execution_count": 132,
     "metadata": {},
     "output_type": "execute_result"
    }
   ],
   "source": [
    "[ord(x) for x in 'spaam']"
   ]
  },
  {
   "cell_type": "code",
   "execution_count": 133,
   "id": "0eba2356-343c-4114-815c-8c5b45dbea49",
   "metadata": {},
   "outputs": [
    {
     "data": {
      "text/plain": [
       "{97, 109, 112, 115}"
      ]
     },
     "execution_count": 133,
     "metadata": {},
     "output_type": "execute_result"
    }
   ],
   "source": [
    "{ord(x) for x in 'spaam'}"
   ]
  },
  {
   "cell_type": "code",
   "execution_count": 134,
   "id": "e96bd73c-f2f3-4a78-94bc-f0e22de5d7ab",
   "metadata": {},
   "outputs": [
    {
     "data": {
      "text/plain": [
       "{'s': 115, 'p': 112, 'a': 97, 'm': 109}"
      ]
     },
     "execution_count": 134,
     "metadata": {},
     "output_type": "execute_result"
    }
   ],
   "source": [
    "{x: ord(x) for x in 'spaam'}"
   ]
  },
  {
   "cell_type": "code",
   "execution_count": 135,
   "id": "c90e6fbb-a948-430e-a54f-a598d20b5896",
   "metadata": {},
   "outputs": [
    {
     "data": {
      "text/plain": [
       "<generator object <genexpr> at 0x0000015B3EE11AC0>"
      ]
     },
     "execution_count": 135,
     "metadata": {},
     "output_type": "execute_result"
    }
   ],
   "source": [
    "(ord(x) for x in 'spaam')"
   ]
  },
  {
   "cell_type": "markdown",
   "id": "5cb2d7d8-c5e6-47f2-a044-d16200f476bb",
   "metadata": {},
   "source": [
    "## Dictionaries\n",
    "Dictionaries are instead known as *mappings*.\n",
    "Mappings are also collections of other objects, but they store objects by *key* instead of by relative position.\n",
    "Dictionaries are also *mutable*."
   ]
  },
  {
   "cell_type": "markdown",
   "id": "7c0874e8-92a7-4722-b6c7-db0a3882c126",
   "metadata": {},
   "source": [
    "### Mapping Operations"
   ]
  },
  {
   "cell_type": "code",
   "execution_count": 136,
   "id": "67aaa655-7925-4d05-b6cb-e987792dab1c",
   "metadata": {},
   "outputs": [],
   "source": [
    "D = {'food': 'Spam', 'quantity':4, 'color':'pink'}"
   ]
  },
  {
   "cell_type": "code",
   "execution_count": 137,
   "id": "8ddb0996-340e-45f5-bd16-32f59e5b5189",
   "metadata": {},
   "outputs": [
    {
     "data": {
      "text/plain": [
       "'Spam'"
      ]
     },
     "execution_count": 137,
     "metadata": {},
     "output_type": "execute_result"
    }
   ],
   "source": [
    "D['food']"
   ]
  },
  {
   "cell_type": "code",
   "execution_count": 138,
   "id": "4505f940-d82d-4e47-bef1-a52a621317b1",
   "metadata": {},
   "outputs": [],
   "source": [
    "D['quantity'] += 1"
   ]
  },
  {
   "cell_type": "code",
   "execution_count": 139,
   "id": "c8c2eb61-ba56-4b3f-ba9a-dbdf6c8cb1b3",
   "metadata": {},
   "outputs": [
    {
     "data": {
      "text/plain": [
       "{'food': 'Spam', 'quantity': 5, 'color': 'pink'}"
      ]
     },
     "execution_count": 139,
     "metadata": {},
     "output_type": "execute_result"
    }
   ],
   "source": [
    "D"
   ]
  },
  {
   "cell_type": "markdown",
   "id": "5efaffd9-9ac7-4ce4-a8c3-172a68718f56",
   "metadata": {},
   "source": [
    "Unlike out-of-bounds assignments in lists, which are forbidden, assignments to new dictionary keys create those keys:"
   ]
  },
  {
   "cell_type": "code",
   "execution_count": 140,
   "id": "cb597585-3576-4c00-934b-f01d4b95f28e",
   "metadata": {},
   "outputs": [
    {
     "data": {
      "text/plain": [
       "{'name': 'Bob', 'job': 'dev', 'age': 40}"
      ]
     },
     "execution_count": 140,
     "metadata": {},
     "output_type": "execute_result"
    }
   ],
   "source": [
    "D ={}\n",
    "D['name'] = 'Bob'\n",
    "D['job'] = 'dev'\n",
    "D['age'] = 40\n",
    "D"
   ]
  },
  {
   "cell_type": "code",
   "execution_count": 143,
   "id": "8a4cc6a5-8eff-4a91-be4a-7d78c1a4140d",
   "metadata": {},
   "outputs": [
    {
     "name": "stdout",
     "output_type": "stream",
     "text": [
      "Bob\n"
     ]
    }
   ],
   "source": [
    "print(D['name'])"
   ]
  },
  {
   "cell_type": "markdown",
   "id": "0c5bbb71-8db4-41cc-9dc5-e5604d3f2b63",
   "metadata": {},
   "source": [
    "We can also make dictionay by passing to the `dict` type name either *keyword arguments*, or the result of *zipping* together sequences of keys and values obtained at runtime."
   ]
  },
  {
   "cell_type": "code",
   "execution_count": 144,
   "id": "883dff3d-eaf4-43af-9f51-235045c7977e",
   "metadata": {},
   "outputs": [],
   "source": [
    "bob1 = dict(name = 'Bob', job = 'dev', age =40)"
   ]
  },
  {
   "cell_type": "code",
   "execution_count": 145,
   "id": "2e128c68-b9c8-4ba4-aa19-583758e13a2d",
   "metadata": {},
   "outputs": [
    {
     "data": {
      "text/plain": [
       "{'name': 'Bob', 'job': 'dev', 'age': 40}"
      ]
     },
     "execution_count": 145,
     "metadata": {},
     "output_type": "execute_result"
    }
   ],
   "source": [
    "bob1"
   ]
  },
  {
   "cell_type": "code",
   "execution_count": 147,
   "id": "0e456aad-7d55-4e49-9ecf-b24ceda49ae5",
   "metadata": {},
   "outputs": [],
   "source": [
    "bob2 = dict(zip(['name', 'job', 'age'],['Bob', 'dev', 40]))"
   ]
  },
  {
   "cell_type": "code",
   "execution_count": 148,
   "id": "95a0c5f8-42b8-4208-96fe-89e7aecfed8d",
   "metadata": {},
   "outputs": [
    {
     "data": {
      "text/plain": [
       "{'name': 'Bob', 'job': 'dev', 'age': 40}"
      ]
     },
     "execution_count": 148,
     "metadata": {},
     "output_type": "execute_result"
    }
   ],
   "source": [
    "bob2"
   ]
  },
  {
   "cell_type": "markdown",
   "id": "49ab59e5-d328-4419-8589-3c8af1a5ca8d",
   "metadata": {},
   "source": [
    "### Nesting Revisited"
   ]
  },
  {
   "cell_type": "code",
   "execution_count": 149,
   "id": "c05aea12-cd8c-4854-9430-9863d0c8d1e4",
   "metadata": {},
   "outputs": [],
   "source": [
    "rec = {'name': {'first': 'Bob', 'last':'Smith'},\n",
    "       'jobs':['dev', 'mgr'],\n",
    "       'age': 40.5}"
   ]
  },
  {
   "cell_type": "code",
   "execution_count": 150,
   "id": "e5a677c3-dd31-49f4-b08d-dc9268f8c87e",
   "metadata": {},
   "outputs": [
    {
     "data": {
      "text/plain": [
       "{'name': {'first': 'Bob', 'last': 'Smith'},\n",
       " 'jobs': ['dev', 'mgr'],\n",
       " 'age': 40.5}"
      ]
     },
     "execution_count": 150,
     "metadata": {},
     "output_type": "execute_result"
    }
   ],
   "source": [
    "rec"
   ]
  },
  {
   "cell_type": "code",
   "execution_count": 151,
   "id": "88bf93aa-e94e-4598-ba78-979acab4c7be",
   "metadata": {},
   "outputs": [
    {
     "data": {
      "text/plain": [
       "{'first': 'Bob', 'last': 'Smith'}"
      ]
     },
     "execution_count": 151,
     "metadata": {},
     "output_type": "execute_result"
    }
   ],
   "source": [
    "rec['name']"
   ]
  },
  {
   "cell_type": "code",
   "execution_count": 154,
   "id": "058a4f24-acef-4a9d-9808-4d5131503273",
   "metadata": {},
   "outputs": [
    {
     "data": {
      "text/plain": [
       "'Smith'"
      ]
     },
     "execution_count": 154,
     "metadata": {},
     "output_type": "execute_result"
    }
   ],
   "source": [
    "rec['name']['last']"
   ]
  },
  {
   "cell_type": "code",
   "execution_count": 155,
   "id": "08c84ff4-9ccc-461b-9ed5-21c613632c1c",
   "metadata": {},
   "outputs": [
    {
     "data": {
      "text/plain": [
       "['dev', 'mgr']"
      ]
     },
     "execution_count": 155,
     "metadata": {},
     "output_type": "execute_result"
    }
   ],
   "source": [
    "rec['jobs']"
   ]
  },
  {
   "cell_type": "code",
   "execution_count": 156,
   "id": "44cf09ff-cdd4-4a04-9afe-526b95392a3e",
   "metadata": {},
   "outputs": [
    {
     "data": {
      "text/plain": [
       "'mgr'"
      ]
     },
     "execution_count": 156,
     "metadata": {},
     "output_type": "execute_result"
    }
   ],
   "source": [
    "rec['jobs'][-1]"
   ]
  },
  {
   "cell_type": "code",
   "execution_count": 157,
   "id": "89dac753-5e53-4a88-a21c-12b6e6a54a1c",
   "metadata": {},
   "outputs": [],
   "source": [
    "rec['jobs'].append('janitor')"
   ]
  },
  {
   "cell_type": "code",
   "execution_count": 158,
   "id": "b19b87ae-92b2-4899-a0bd-f629578c3ef3",
   "metadata": {},
   "outputs": [
    {
     "data": {
      "text/plain": [
       "{'name': {'first': 'Bob', 'last': 'Smith'},\n",
       " 'jobs': ['dev', 'mgr', 'janitor'],\n",
       " 'age': 40.5}"
      ]
     },
     "execution_count": 158,
     "metadata": {},
     "output_type": "execute_result"
    }
   ],
   "source": [
    "rec"
   ]
  },
  {
   "cell_type": "code",
   "execution_count": 159,
   "id": "83d04a97-a9b2-4387-96e7-f7958d5e3711",
   "metadata": {},
   "outputs": [],
   "source": [
    "rec = 0"
   ]
  },
  {
   "cell_type": "code",
   "execution_count": 160,
   "id": "d7b6eb45-0f42-4889-a340-234cd249e124",
   "metadata": {},
   "outputs": [
    {
     "data": {
      "text/plain": [
       "0"
      ]
     },
     "execution_count": 160,
     "metadata": {},
     "output_type": "execute_result"
    }
   ],
   "source": [
    "rec"
   ]
  },
  {
   "cell_type": "markdown",
   "id": "9aa75d4e-6d9c-4863-a14d-80d89aeb8997",
   "metadata": {},
   "source": [
    "### Missing Keys: if Tests\n",
    "Although we can assign to a new key to expand a dictionary, fetching a nonexistend key is still a mistake:"
   ]
  },
  {
   "cell_type": "code",
   "execution_count": 161,
   "id": "43b859a3-c21a-4307-b647-017165cea54e",
   "metadata": {},
   "outputs": [],
   "source": [
    "D = {'a':1, 'b':2, 'c':3}"
   ]
  },
  {
   "cell_type": "code",
   "execution_count": 162,
   "id": "0900a57f-173d-4418-8a57-f992a519e80b",
   "metadata": {},
   "outputs": [
    {
     "data": {
      "text/plain": [
       "{'a': 1, 'b': 2, 'c': 3}"
      ]
     },
     "execution_count": 162,
     "metadata": {},
     "output_type": "execute_result"
    }
   ],
   "source": [
    "D"
   ]
  },
  {
   "cell_type": "code",
   "execution_count": 163,
   "id": "daaac6d6-8446-4fa9-b4ba-0398910a31e8",
   "metadata": {},
   "outputs": [
    {
     "data": {
      "text/plain": [
       "{'a': 1, 'b': 2, 'c': 3, 'e': 99}"
      ]
     },
     "execution_count": 163,
     "metadata": {},
     "output_type": "execute_result"
    }
   ],
   "source": [
    "D['e'] = 99\n",
    "D"
   ]
  },
  {
   "cell_type": "code",
   "execution_count": 164,
   "id": "717d331c-5131-47d6-af9c-fba8f1ddc792",
   "metadata": {},
   "outputs": [
    {
     "ename": "KeyError",
     "evalue": "'f'",
     "output_type": "error",
     "traceback": [
      "\u001b[1;31m---------------------------------------------------------------------------\u001b[0m",
      "\u001b[1;31mKeyError\u001b[0m                                  Traceback (most recent call last)",
      "Input \u001b[1;32mIn [164]\u001b[0m, in \u001b[0;36m<cell line: 1>\u001b[1;34m()\u001b[0m\n\u001b[1;32m----> 1\u001b[0m \u001b[43mD\u001b[49m\u001b[43m[\u001b[49m\u001b[38;5;124;43m'\u001b[39;49m\u001b[38;5;124;43mf\u001b[39;49m\u001b[38;5;124;43m'\u001b[39;49m\u001b[43m]\u001b[49m\n",
      "\u001b[1;31mKeyError\u001b[0m: 'f'"
     ]
    }
   ],
   "source": [
    "D['f']"
   ]
  },
  {
   "cell_type": "code",
   "execution_count": 165,
   "id": "c478532c-03fd-402b-94f2-12663c64f95b",
   "metadata": {},
   "outputs": [
    {
     "data": {
      "text/plain": [
       "False"
      ]
     },
     "execution_count": 165,
     "metadata": {},
     "output_type": "execute_result"
    }
   ],
   "source": [
    "'f' in D"
   ]
  },
  {
   "cell_type": "code",
   "execution_count": 166,
   "id": "6780f1ab-ae8f-4596-9264-3e69438012d3",
   "metadata": {},
   "outputs": [
    {
     "name": "stdout",
     "output_type": "stream",
     "text": [
      "missing\n"
     ]
    }
   ],
   "source": [
    "if not 'f' in D:\n",
    "    print('missing')"
   ]
  },
  {
   "cell_type": "code",
   "execution_count": 168,
   "id": "e4095d03-8e2f-411e-96ae-f499b6985083",
   "metadata": {},
   "outputs": [
    {
     "name": "stdout",
     "output_type": "stream",
     "text": [
      "missiong\n",
      "no, really...\n"
     ]
    }
   ],
   "source": [
    "if not 'f' in D:\n",
    "    print('missiong')\n",
    "    print('no, really...')"
   ]
  },
  {
   "cell_type": "code",
   "execution_count": 169,
   "id": "a37f76c9-3de9-4dd8-8de5-484bf8abc953",
   "metadata": {},
   "outputs": [
    {
     "data": {
      "text/plain": [
       "0"
      ]
     },
     "execution_count": 169,
     "metadata": {},
     "output_type": "execute_result"
    }
   ],
   "source": [
    "value = D.get('x',0)\n",
    "value"
   ]
  },
  {
   "cell_type": "code",
   "execution_count": 170,
   "id": "393b1ead-238a-40b0-995e-2a280a4e4693",
   "metadata": {},
   "outputs": [
    {
     "data": {
      "text/plain": [
       "0"
      ]
     },
     "execution_count": 170,
     "metadata": {},
     "output_type": "execute_result"
    }
   ],
   "source": [
    "value = D['x'] if 'x' in D else 0\n",
    "value"
   ]
  },
  {
   "cell_type": "markdown",
   "id": "93dabf99-7f43-45e8-90dc-83875fc03804",
   "metadata": {},
   "source": [
    "### Sortin Keys: for Loops\n",
    "Dictionaries are not sequences, they don't maintain any dependable left-to-rrigh roder."
   ]
  },
  {
   "cell_type": "code",
   "execution_count": 171,
   "id": "c89d8d26-3313-4500-ab67-88624f337e94",
   "metadata": {},
   "outputs": [],
   "source": [
    "D = {'a':1, 'b':2, 'c':3}"
   ]
  },
  {
   "cell_type": "code",
   "execution_count": 172,
   "id": "44cd41d7-6da6-4418-b1a7-b350bbf3c553",
   "metadata": {},
   "outputs": [
    {
     "data": {
      "text/plain": [
       "{'a': 1, 'b': 2, 'c': 3}"
      ]
     },
     "execution_count": 172,
     "metadata": {},
     "output_type": "execute_result"
    }
   ],
   "source": [
    "D"
   ]
  },
  {
   "cell_type": "code",
   "execution_count": 173,
   "id": "2385699b-528b-4523-8563-a98b882c0f19",
   "metadata": {},
   "outputs": [],
   "source": [
    "Ks = list(D.keys())"
   ]
  },
  {
   "cell_type": "code",
   "execution_count": 174,
   "id": "3db09b42-d04d-417d-809a-347262e788ff",
   "metadata": {},
   "outputs": [
    {
     "data": {
      "text/plain": [
       "['a', 'b', 'c']"
      ]
     },
     "execution_count": 174,
     "metadata": {},
     "output_type": "execute_result"
    }
   ],
   "source": [
    "Ks"
   ]
  },
  {
   "cell_type": "code",
   "execution_count": 175,
   "id": "96b4acb4-fed3-46ce-9e67-4dbfa4ddfeda",
   "metadata": {},
   "outputs": [],
   "source": [
    "Ks.sort()"
   ]
  },
  {
   "cell_type": "code",
   "execution_count": 176,
   "id": "fa235ed2-da03-4041-bfcf-453634c643e8",
   "metadata": {},
   "outputs": [
    {
     "data": {
      "text/plain": [
       "['a', 'b', 'c']"
      ]
     },
     "execution_count": 176,
     "metadata": {},
     "output_type": "execute_result"
    }
   ],
   "source": [
    "Ks"
   ]
  },
  {
   "cell_type": "code",
   "execution_count": 177,
   "id": "edc16fb1-689b-45ff-b6eb-e1090d2e12e7",
   "metadata": {},
   "outputs": [
    {
     "name": "stdout",
     "output_type": "stream",
     "text": [
      "a => 1\n",
      "b => 2\n",
      "c => 3\n"
     ]
    }
   ],
   "source": [
    "for key in Ks:\n",
    "    print(key, '=>', D[key])"
   ]
  },
  {
   "cell_type": "code",
   "execution_count": 178,
   "id": "d40df09d-fd2c-4328-a49a-4d22ee05ddfb",
   "metadata": {},
   "outputs": [
    {
     "name": "stdout",
     "output_type": "stream",
     "text": [
      "a => 1\n",
      "b => 2\n",
      "c => 3\n"
     ]
    }
   ],
   "source": [
    "for key in sorted(D):\n",
    "    print(key, '=>', D[key])"
   ]
  },
  {
   "cell_type": "code",
   "execution_count": 179,
   "id": "34661889-e7e0-4672-af2c-950ca155dfab",
   "metadata": {},
   "outputs": [
    {
     "name": "stdout",
     "output_type": "stream",
     "text": [
      "S\n",
      "P\n",
      "A\n",
      "M\n"
     ]
    }
   ],
   "source": [
    "for c in 'spam':\n",
    "    print(c.upper())"
   ]
  },
  {
   "cell_type": "code",
   "execution_count": 180,
   "id": "68be868a-1ea6-48d0-8efb-1c018b5e911a",
   "metadata": {},
   "outputs": [
    {
     "name": "stdout",
     "output_type": "stream",
     "text": [
      "spamspamspamspam\n",
      "spamspamspam\n",
      "spamspam\n",
      "spam\n"
     ]
    }
   ],
   "source": [
    "x = 4\n",
    "while x>0:\n",
    "    print('spam'*x)\n",
    "    x -=1"
   ]
  },
  {
   "cell_type": "markdown",
   "id": "7deed6ae-998d-4948-bdc8-3d4daa5edd32",
   "metadata": {},
   "source": [
    "Really, the `for` loop, and all itscohorts that step through objects from left to righ, are not just *sequence* operations, they are *iterable* operations."
   ]
  },
  {
   "cell_type": "markdown",
   "id": "f5db9e3d-9df3-4423-8945-4e5f54a3afa0",
   "metadata": {},
   "source": [
    "## Iteration and Optimization\n",
    "An object is *iterable* if it is either a physically stored sequence in memory, or an object that generates one item at a time in the contex of an iteration operation ---a sprt of \"virtual\" sequence. \n",
    "More formally, both types of objects are considered iterable because they support the *iteration protocl* -- they respond to the `iter` call with an object that advance that advances in respond to next calls and raises an exception when finished producing values.\n",
    "- generator\n",
    "- file objects iterate line by line\n",
    "- range and map"
   ]
  },
  {
   "cell_type": "code",
   "execution_count": 181,
   "id": "80d4ef61-2458-479a-8127-9a8c36ad2a76",
   "metadata": {},
   "outputs": [
    {
     "data": {
      "text/plain": [
       "[1, 4, 9, 16, 25]"
      ]
     },
     "execution_count": 181,
     "metadata": {},
     "output_type": "execute_result"
    }
   ],
   "source": [
    "squares = [x ** 2 for x in [1,2,3,4,5]]\n",
    "squares"
   ]
  },
  {
   "cell_type": "code",
   "execution_count": 184,
   "id": "d3da3b90-9d65-470f-b1d0-5ae376f1cf37",
   "metadata": {},
   "outputs": [
    {
     "data": {
      "text/plain": [
       "[1, 4, 9, 16, 25]"
      ]
     },
     "execution_count": 184,
     "metadata": {},
     "output_type": "execute_result"
    }
   ],
   "source": [
    "squares = []\n",
    "for x in [1,2,3,4,5]:\n",
    "    squares.append(x ** 2)\n",
    "\n",
    "squares"
   ]
  },
  {
   "cell_type": "markdown",
   "id": "2033ee73-af68-4e26-8bca-807f387d08eb",
   "metadata": {},
   "source": [
    "## Tuples\n",
    "The tuple object is roughtly like a list that cannot be changed---tuples are *sequeces*, like lists, but thery are *immutable*, likes string.\n",
    "Functionally, they'are used to represent fixed collections of item: the componets of a specific calendar date, for instance.\n",
    "Synatically, they are normally coded in parentheses instead of square brackets, and they support arbitrary types, arbitrary nesting, and the usual sequence operatiuons:"
   ]
  },
  {
   "cell_type": "code",
   "execution_count": 194,
   "id": "059b62e3-feca-4ffb-bca3-7565c0debf37",
   "metadata": {},
   "outputs": [
    {
     "data": {
      "text/plain": [
       "4"
      ]
     },
     "execution_count": 194,
     "metadata": {},
     "output_type": "execute_result"
    }
   ],
   "source": [
    "T = (1, 2, 3, 4)\n",
    "len(T)"
   ]
  },
  {
   "cell_type": "code",
   "execution_count": 195,
   "id": "f98a3b21-3475-4110-b993-9eba2eeb9e2a",
   "metadata": {},
   "outputs": [
    {
     "data": {
      "text/plain": [
       "(1, 2, 3, 4, 5, 6)"
      ]
     },
     "execution_count": 195,
     "metadata": {},
     "output_type": "execute_result"
    }
   ],
   "source": [
    "T + (5,6)"
   ]
  },
  {
   "cell_type": "code",
   "execution_count": 188,
   "id": "92c984f0-9b9b-4692-a81a-52eac3dfe5ed",
   "metadata": {},
   "outputs": [
    {
     "data": {
      "text/plain": [
       "1"
      ]
     },
     "execution_count": 188,
     "metadata": {},
     "output_type": "execute_result"
    }
   ],
   "source": [
    "T[0]"
   ]
  },
  {
   "cell_type": "code",
   "execution_count": 189,
   "id": "532c61d2-9a4a-4345-82aa-0e123937c8a2",
   "metadata": {},
   "outputs": [
    {
     "data": {
      "text/plain": [
       "3"
      ]
     },
     "execution_count": 189,
     "metadata": {},
     "output_type": "execute_result"
    }
   ],
   "source": [
    "T.index(4)"
   ]
  },
  {
   "cell_type": "code",
   "execution_count": 190,
   "id": "1471e934-6c87-4a60-8056-acbbf991dbe8",
   "metadata": {},
   "outputs": [
    {
     "data": {
      "text/plain": [
       "1"
      ]
     },
     "execution_count": 190,
     "metadata": {},
     "output_type": "execute_result"
    }
   ],
   "source": [
    "T.count(4)"
   ]
  },
  {
   "cell_type": "code",
   "execution_count": 191,
   "id": "6fbb030b-22b8-4b52-bc56-22353e9bb030",
   "metadata": {},
   "outputs": [
    {
     "ename": "TypeError",
     "evalue": "'tuple' object does not support item assignment",
     "output_type": "error",
     "traceback": [
      "\u001b[1;31m---------------------------------------------------------------------------\u001b[0m",
      "\u001b[1;31mTypeError\u001b[0m                                 Traceback (most recent call last)",
      "Input \u001b[1;32mIn [191]\u001b[0m, in \u001b[0;36m<cell line: 1>\u001b[1;34m()\u001b[0m\n\u001b[1;32m----> 1\u001b[0m T[\u001b[38;5;241m0\u001b[39m] \u001b[38;5;241m=\u001b[39m \u001b[38;5;241m2\u001b[39m\n",
      "\u001b[1;31mTypeError\u001b[0m: 'tuple' object does not support item assignment"
     ]
    }
   ],
   "source": [
    "T[0] = 2"
   ]
  },
  {
   "cell_type": "code",
   "execution_count": 196,
   "id": "b96b306a-a1a1-4208-a0f3-0b31771395e9",
   "metadata": {},
   "outputs": [
    {
     "data": {
      "text/plain": [
       "(2, 2, 3, 4)"
      ]
     },
     "execution_count": 196,
     "metadata": {},
     "output_type": "execute_result"
    }
   ],
   "source": [
    "T =(2,) +T[1:] # Make a new tuple for a new value\n",
    "T"
   ]
  },
  {
   "cell_type": "markdown",
   "id": "630da2b7-9833-4f8f-be38-5cb9cac2c0de",
   "metadata": {},
   "source": [
    "Like lists and dictionaries, tuples support miexed types and nesting, but tyey don't grow and shrink because they are immutable.\n",
    "The parentheses enclosing a tuple's items can usually be omitted"
   ]
  },
  {
   "cell_type": "code",
   "execution_count": 197,
   "id": "65e192ae-3da3-4c67-87d0-a060608a503d",
   "metadata": {},
   "outputs": [],
   "source": [
    "T = 'spam', 3.0, [11,22,33]"
   ]
  },
  {
   "cell_type": "code",
   "execution_count": 198,
   "id": "e5103ce2-a795-4c0a-a71d-73ee8dc72630",
   "metadata": {},
   "outputs": [
    {
     "data": {
      "text/plain": [
       "3.0"
      ]
     },
     "execution_count": 198,
     "metadata": {},
     "output_type": "execute_result"
    }
   ],
   "source": [
    "T[1]"
   ]
  },
  {
   "cell_type": "code",
   "execution_count": 199,
   "id": "a113ae9d-2ff8-42ff-88aa-f93944406a19",
   "metadata": {},
   "outputs": [
    {
     "data": {
      "text/plain": [
       "22"
      ]
     },
     "execution_count": 199,
     "metadata": {},
     "output_type": "execute_result"
    }
   ],
   "source": [
    "T[2][1]"
   ]
  },
  {
   "cell_type": "code",
   "execution_count": 200,
   "id": "0ce306ea-fda6-4e29-96a8-b5a10f8b12fe",
   "metadata": {},
   "outputs": [
    {
     "data": {
      "text/plain": [
       "tuple"
      ]
     },
     "execution_count": 200,
     "metadata": {},
     "output_type": "execute_result"
    }
   ],
   "source": [
    "type(T)"
   ]
  },
  {
   "cell_type": "markdown",
   "id": "387c0437-48a9-448b-8384-c07ddef07c58",
   "metadata": {},
   "source": [
    "### Why Tuples?\n"
   ]
  },
  {
   "cell_type": "markdown",
   "id": "f57f3745-93fd-4608-94d9-4c8032dba45a",
   "metadata": {},
   "source": [
    "## Files\n"
   ]
  },
  {
   "cell_type": "code",
   "execution_count": 201,
   "id": "f4569922-b020-4e9e-bd03-653889bd6e00",
   "metadata": {},
   "outputs": [],
   "source": [
    "f = open('data.txt','w')\n",
    "f.write('Hello\\n')\n",
    "f.write('world\\n')\n",
    "f.close()"
   ]
  },
  {
   "cell_type": "code",
   "execution_count": 204,
   "id": "cf1dc477-1086-4bac-8267-0620b31d2df0",
   "metadata": {},
   "outputs": [
    {
     "data": {
      "text/plain": [
       "'Hello\\nworld\\n'"
      ]
     },
     "execution_count": 204,
     "metadata": {},
     "output_type": "execute_result"
    }
   ],
   "source": [
    "f = open('data.txt')\n",
    "text = f.read()\n",
    "text"
   ]
  },
  {
   "cell_type": "code",
   "execution_count": 205,
   "id": "09df85e2-6f5a-4a5c-a3dd-a75cfe54019e",
   "metadata": {},
   "outputs": [
    {
     "name": "stdout",
     "output_type": "stream",
     "text": [
      "Hello\n",
      "world\n",
      "\n"
     ]
    }
   ],
   "source": [
    "print(text)"
   ]
  },
  {
   "cell_type": "code",
   "execution_count": 206,
   "id": "ee44effe-9231-4b34-83e3-b50cb3746e11",
   "metadata": {},
   "outputs": [
    {
     "data": {
      "text/plain": [
       "['Hello', 'world']"
      ]
     },
     "execution_count": 206,
     "metadata": {},
     "output_type": "execute_result"
    }
   ],
   "source": [
    "text.split()"
   ]
  },
  {
   "cell_type": "markdown",
   "id": "e88907fe-0a19-485b-b2d1-affa2dc1a5fd",
   "metadata": {},
   "source": [
    "The best way to read a file today is *not read it at all* --- files provide an *iterator* that automatically reads line by line inf `for` loops and other contexts:"
   ]
  },
  {
   "cell_type": "code",
   "execution_count": 207,
   "id": "f1b16258-bde7-4e11-a6f6-054d0a7517e5",
   "metadata": {},
   "outputs": [
    {
     "name": "stdout",
     "output_type": "stream",
     "text": [
      "Hello\n",
      "\n",
      "world\n",
      "\n"
     ]
    }
   ],
   "source": [
    "for line in open('data.txt'): print(line)"
   ]
  },
  {
   "cell_type": "code",
   "execution_count": 208,
   "id": "b424d4fe-c662-4413-b37d-ddce4bfe16a2",
   "metadata": {},
   "outputs": [
    {
     "data": {
      "text/plain": [
       "['_CHUNK_SIZE',\n",
       " '__class__',\n",
       " '__del__',\n",
       " '__delattr__',\n",
       " '__dict__',\n",
       " '__dir__',\n",
       " '__doc__',\n",
       " '__enter__',\n",
       " '__eq__',\n",
       " '__exit__',\n",
       " '__format__',\n",
       " '__ge__',\n",
       " '__getattribute__',\n",
       " '__gt__',\n",
       " '__hash__',\n",
       " '__init__',\n",
       " '__init_subclass__',\n",
       " '__iter__',\n",
       " '__le__',\n",
       " '__lt__',\n",
       " '__ne__',\n",
       " '__new__',\n",
       " '__next__',\n",
       " '__reduce__',\n",
       " '__reduce_ex__',\n",
       " '__repr__',\n",
       " '__setattr__',\n",
       " '__sizeof__',\n",
       " '__str__',\n",
       " '__subclasshook__',\n",
       " '_checkClosed',\n",
       " '_checkReadable',\n",
       " '_checkSeekable',\n",
       " '_checkWritable',\n",
       " '_finalizing',\n",
       " 'buffer',\n",
       " 'close',\n",
       " 'closed',\n",
       " 'detach',\n",
       " 'encoding',\n",
       " 'errors',\n",
       " 'fileno',\n",
       " 'flush',\n",
       " 'isatty',\n",
       " 'line_buffering',\n",
       " 'mode',\n",
       " 'name',\n",
       " 'newlines',\n",
       " 'read',\n",
       " 'readable',\n",
       " 'readline',\n",
       " 'readlines',\n",
       " 'reconfigure',\n",
       " 'seek',\n",
       " 'seekable',\n",
       " 'tell',\n",
       " 'truncate',\n",
       " 'writable',\n",
       " 'write',\n",
       " 'write_through',\n",
       " 'writelines']"
      ]
     },
     "execution_count": 208,
     "metadata": {},
     "output_type": "execute_result"
    }
   ],
   "source": [
    "dir(f)"
   ]
  },
  {
   "cell_type": "code",
   "execution_count": 209,
   "id": "8ff46cba-e9ae-4983-a0a3-5e1904beaadc",
   "metadata": {},
   "outputs": [
    {
     "name": "stdout",
     "output_type": "stream",
     "text": [
      "Help on built-in function seek:\n",
      "\n",
      "seek(cookie, whence=0, /) method of _io.TextIOWrapper instance\n",
      "    Change stream position.\n",
      "    \n",
      "    Change the stream position to the given byte offset. The offset is\n",
      "    interpreted relative to the position indicated by whence.  Values\n",
      "    for whence are:\n",
      "    \n",
      "    * 0 -- start of stream (the default); offset should be zero or positive\n",
      "    * 1 -- current stream position; offset may be negative\n",
      "    * 2 -- end of stream; offset is usually negative\n",
      "    \n",
      "    Return the new absolute position.\n",
      "\n"
     ]
    }
   ],
   "source": [
    "help(f.seek)"
   ]
  },
  {
   "cell_type": "markdown",
   "id": "ccb23adb-163d-4550-b760-51b40536a9f6",
   "metadata": {},
   "source": [
    "### Binary Bytes Files\n"
   ]
  },
  {
   "cell_type": "code",
   "execution_count": 218,
   "id": "f9810252-0242-469b-bd3a-cce219df7857",
   "metadata": {},
   "outputs": [
    {
     "data": {
      "text/plain": [
       "b'\\x00\\x00\\x00\\x07spam\\x00\\x08'"
      ]
     },
     "execution_count": 218,
     "metadata": {},
     "output_type": "execute_result"
    }
   ],
   "source": [
    "import struct\n",
    "packed = struct.pack('>i4sh', 7, b'spam', 8)\n",
    "packed"
   ]
  },
  {
   "cell_type": "code",
   "execution_count": 219,
   "id": "ff6633ca-4325-4d30-b291-f1b5b362c1ce",
   "metadata": {},
   "outputs": [
    {
     "data": {
      "text/plain": [
       "10"
      ]
     },
     "execution_count": 219,
     "metadata": {},
     "output_type": "execute_result"
    }
   ],
   "source": [
    "file = open('data.bin', 'wb')\n",
    "file.write(packed)"
   ]
  },
  {
   "cell_type": "code",
   "execution_count": 220,
   "id": "6fe53378-4a6d-43ec-8af4-ae4f62b61bd4",
   "metadata": {},
   "outputs": [],
   "source": [
    "data = open('data.bin', 'rb').read()"
   ]
  },
  {
   "cell_type": "code",
   "execution_count": 221,
   "id": "35462cae-afa6-469e-966a-5f8c37d5c1d9",
   "metadata": {},
   "outputs": [
    {
     "data": {
      "text/plain": [
       "b'\\x00\\x00\\x00\\x07spam\\x00\\x08'"
      ]
     },
     "execution_count": 221,
     "metadata": {},
     "output_type": "execute_result"
    }
   ],
   "source": [
    "data"
   ]
  },
  {
   "cell_type": "code",
   "execution_count": 222,
   "id": "dc842062-91e6-4434-9367-758752545767",
   "metadata": {},
   "outputs": [
    {
     "data": {
      "text/plain": [
       "b'spam'"
      ]
     },
     "execution_count": 222,
     "metadata": {},
     "output_type": "execute_result"
    }
   ],
   "source": [
    "data[4:8]"
   ]
  },
  {
   "cell_type": "code",
   "execution_count": 223,
   "id": "740fc31d-d4d7-46a5-9578-55d19ecad8ce",
   "metadata": {},
   "outputs": [
    {
     "data": {
      "text/plain": [
       "10"
      ]
     },
     "execution_count": 223,
     "metadata": {},
     "output_type": "execute_result"
    }
   ],
   "source": [
    "len(data)"
   ]
  },
  {
   "cell_type": "code",
   "execution_count": 224,
   "id": "059f0dd3-af95-46d8-a4a3-815784ddbf93",
   "metadata": {},
   "outputs": [
    {
     "data": {
      "text/plain": [
       "[0, 0, 0, 7, 115, 112, 97, 109, 0, 8]"
      ]
     },
     "execution_count": 224,
     "metadata": {},
     "output_type": "execute_result"
    }
   ],
   "source": [
    "list(data)"
   ]
  },
  {
   "cell_type": "code",
   "execution_count": 225,
   "id": "792f4abd-cda3-4a05-a25f-31f4e25953a5",
   "metadata": {},
   "outputs": [
    {
     "data": {
      "text/plain": [
       "(7, b'spam', 8)"
      ]
     },
     "execution_count": 225,
     "metadata": {},
     "output_type": "execute_result"
    }
   ],
   "source": [
    "struct.unpack('>i4sh', data)"
   ]
  },
  {
   "cell_type": "markdown",
   "id": "ee759973-4582-4533-9add-96e109394883",
   "metadata": {},
   "source": [
    "### Unicode Text Files\n",
    "### Other File-like Tools"
   ]
  },
  {
   "cell_type": "markdown",
   "id": "e0972015-1a41-455c-bc9f-dd1c1f4bab32",
   "metadata": {},
   "source": [
    "## Other Core Types"
   ]
  }
 ],
 "metadata": {
  "kernelspec": {
   "display_name": "Python 3 (ipykernel)",
   "language": "python",
   "name": "python3"
  },
  "language_info": {
   "codemirror_mode": {
    "name": "ipython",
    "version": 3
   },
   "file_extension": ".py",
   "mimetype": "text/x-python",
   "name": "python",
   "nbconvert_exporter": "python",
   "pygments_lexer": "ipython3",
   "version": "3.9.12"
  }
 },
 "nbformat": 4,
 "nbformat_minor": 5
}
