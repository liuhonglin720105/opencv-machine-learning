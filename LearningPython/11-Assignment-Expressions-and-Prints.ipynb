{
 "cells": [
  {
   "cell_type": "markdown",
   "id": "114461fa-3352-49ab-96cf-b0530de19e8f",
   "metadata": {},
   "source": [
    "# Chaptrer 11 Assignments, Expressions, and Prints\n",
    "## Assignment Statement\n",
    "For the most part, assignments are straightford, but here are a few properties to keep in mind:\n",
    "- **Assignments create object references.**  They always create references to objects instead of copying the objects. Python variables are more like pointers than data storage areas.\n",
    "- **Names are created when first assigned** Once assigned, a name is replaced with the value it references whenever it appears in an expression\n",
    "- **Names must be assigned before being refreenced.**\n",
    "- **Some operations perform assignments implicitly.** module imports, functions and class definitions, for loop variables, and function arguments are all implicit assignments.\n",
    "### Assignment statement Forms\n",
    "Table 11-1 Assignment statement forms\n",
    "|Operation| Interpretation|\n",
    "|----|-----|\n",
    "|spam = 'spam'| Basic form|\n",
    "|spam, ham = 'yum', 'YUM'|Typle Assignmeng(positional)|\n",
    "|[spam, ham] =['yum','YUM']|List assignment|\n",
    "|a, b, c, d = 'spam'|Sequence assignment, generalized|\n",
    "|a, \\*b = 'spam'|Extended sequence unpacking|\n",
    "|spam = ham = 'lunch'|mutiple-target assignment|\n",
    "|spams += 42|Augmented assignment (equivalent to spams = spams + 42|"
   ]
  },
  {
   "cell_type": "markdown",
   "id": "d5219069-e67d-4d96-86e3-3f4633710c81",
   "metadata": {},
   "source": [
    "Tuple- and list-unpacking assignments\n",
    "    \n",
    "    The second and thrid forms\n",
    "\n",
    "Sequence assignments\n",
    "\n",
    "    Any sequences of names can be assigned to any sequence of value, and Pythin assigns the items one at a time by position.\n",
    "    \n",
    "Extended sequence unpacking\n",
    "\n",
    "Muitiple-target assignment\n",
    "\n",
    "Augmented assignments\n",
    "\n",
    "    There is one augmented assignment statement for every binary expression operator in Python."
   ]
  },
  {
   "cell_type": "markdown",
   "id": "54b9995f-e3db-413b-82b7-68d71af833b1",
   "metadata": {},
   "source": [
    "### Sequence Assignments"
   ]
  },
  {
   "cell_type": "code",
   "execution_count": 1,
   "id": "5d1a5a7d-f58e-4cde-91e3-3929c0d21eb3",
   "metadata": {},
   "outputs": [
    {
     "data": {
      "text/plain": [
       "(1, 2)"
      ]
     },
     "execution_count": 1,
     "metadata": {},
     "output_type": "execute_result"
    }
   ],
   "source": [
    "nudge = 1\n",
    "wink = 2\n",
    "A, B = nudge, wink\n",
    "A, B"
   ]
  },
  {
   "cell_type": "code",
   "execution_count": 2,
   "id": "85675aee-9099-4ecb-9e70-0ad06a6b3a14",
   "metadata": {},
   "outputs": [
    {
     "data": {
      "text/plain": [
       "(1, 2)"
      ]
     },
     "execution_count": 2,
     "metadata": {},
     "output_type": "execute_result"
    }
   ],
   "source": [
    "[C, D] = [nudge, wink]\n",
    "C,D"
   ]
  },
  {
   "cell_type": "code",
   "execution_count": 3,
   "id": "f9f0e2d8-c99c-47bc-b29f-909a5b63266a",
   "metadata": {},
   "outputs": [
    {
     "data": {
      "text/plain": [
       "(2, 1)"
      ]
     },
     "execution_count": 3,
     "metadata": {},
     "output_type": "execute_result"
    }
   ],
   "source": [
    "nudge = 1\n",
    "wink = 2\n",
    "nudge, wink = wink, nudge\n",
    "nudge, wink"
   ]
  },
  {
   "cell_type": "markdown",
   "id": "22e94531-151d-4c36-9cf6-8e8d710b18b6",
   "metadata": {},
   "source": [
    "In fact, the original tuple and list  assignment forms in Python have been generalized to accet *any* type of sequence (really, iterable) on the right as long as it is of the same length as the sequence on the left."
   ]
  },
  {
   "cell_type": "code",
   "execution_count": 4,
   "id": "0e829257-064a-4634-b280-78c5c24498c1",
   "metadata": {},
   "outputs": [
    {
     "data": {
      "text/plain": [
       "(1, 3)"
      ]
     },
     "execution_count": 4,
     "metadata": {},
     "output_type": "execute_result"
    }
   ],
   "source": [
    "[a, b, c,] = [1, 2, 3]\n",
    "a, c"
   ]
  },
  {
   "cell_type": "code",
   "execution_count": 5,
   "id": "d4fb67ba-fa1d-4ba3-ad10-d42c66c2e281",
   "metadata": {},
   "outputs": [
    {
     "data": {
      "text/plain": [
       "('A', 'C')"
      ]
     },
     "execution_count": 5,
     "metadata": {},
     "output_type": "execute_result"
    }
   ],
   "source": [
    "(a, b, c) = \"ABC\"\n",
    "a, c"
   ]
  },
  {
   "cell_type": "markdown",
   "id": "71c0f57c-ae4b-475b-8fa0-73034b9b94ee",
   "metadata": {},
   "source": [
    "Technically speaking ,sequence assignmentg actually supports andy *iterable* object on the right, not just any sequence.\n",
    "\n",
    "#### Advanced sequence assignment patterns\n",
    "Normally, the number of items in the assignment target and subject must match:"
   ]
  },
  {
   "cell_type": "code",
   "execution_count": 7,
   "id": "27dbbdbb-6131-48cd-b325-e6f3cb46a89d",
   "metadata": {},
   "outputs": [
    {
     "data": {
      "text/plain": [
       "('S', 'M')"
      ]
     },
     "execution_count": 7,
     "metadata": {},
     "output_type": "execute_result"
    }
   ],
   "source": [
    "string = 'SPAM'\n",
    "a, b, c, d = string\n",
    "a, d"
   ]
  },
  {
   "cell_type": "code",
   "execution_count": 8,
   "id": "b5c3bcd5-b31a-45be-9580-c0164eaeff7c",
   "metadata": {},
   "outputs": [
    {
     "ename": "ValueError",
     "evalue": "too many values to unpack (expected 3)",
     "output_type": "error",
     "traceback": [
      "\u001b[1;31m---------------------------------------------------------------------------\u001b[0m",
      "\u001b[1;31mValueError\u001b[0m                                Traceback (most recent call last)",
      "Input \u001b[1;32mIn [8]\u001b[0m, in \u001b[0;36m<cell line: 1>\u001b[1;34m()\u001b[0m\n\u001b[1;32m----> 1\u001b[0m a, b, c \u001b[38;5;241m=\u001b[39m string\n",
      "\u001b[1;31mValueError\u001b[0m: too many values to unpack (expected 3)"
     ]
    }
   ],
   "source": [
    "a, b, c = string"
   ]
  },
  {
   "cell_type": "code",
   "execution_count": 10,
   "id": "8c29810a-c86d-44e8-a677-5f66fbb10498",
   "metadata": {},
   "outputs": [
    {
     "data": {
      "text/plain": [
       "('S', 'P', 'AM')"
      ]
     },
     "execution_count": 10,
     "metadata": {},
     "output_type": "execute_result"
    }
   ],
   "source": [
    "a, b, c = string[0], string[1], string[2:]\n",
    "a, b, c"
   ]
  },
  {
   "cell_type": "code",
   "execution_count": 11,
   "id": "af04b566-9545-4f8e-a4b7-5baa60159474",
   "metadata": {},
   "outputs": [
    {
     "data": {
      "text/plain": [
       "('S', 'P', 'AM')"
      ]
     },
     "execution_count": 11,
     "metadata": {},
     "output_type": "execute_result"
    }
   ],
   "source": [
    "a, b,c = list(string[:2]) + [string[2:]]\n",
    "a, b, c"
   ]
  },
  {
   "cell_type": "code",
   "execution_count": 13,
   "id": "8320876b-4bc1-4fb9-9827-29589b186c00",
   "metadata": {},
   "outputs": [
    {
     "data": {
      "text/plain": [
       "('S', 'P', 'AM')"
      ]
     },
     "execution_count": 13,
     "metadata": {},
     "output_type": "execute_result"
    }
   ],
   "source": [
    "a, b = string[:2]\n",
    "c = string[2:]\n",
    "a, b, c"
   ]
  },
  {
   "cell_type": "code",
   "execution_count": 14,
   "id": "96f3dc51-93c1-452b-9b88-2973608d1ad6",
   "metadata": {},
   "outputs": [],
   "source": [
    "(a,b),c = string[:2], string[2:]"
   ]
  },
  {
   "cell_type": "code",
   "execution_count": 15,
   "id": "ac1b20bf-637d-4fc5-85fd-391be1db4118",
   "metadata": {},
   "outputs": [
    {
     "data": {
      "text/plain": [
       "('S', 'P', 'AM')"
      ]
     },
     "execution_count": 15,
     "metadata": {},
     "output_type": "execute_result"
    }
   ],
   "source": [
    "a, b, c"
   ]
  },
  {
   "cell_type": "code",
   "execution_count": 16,
   "id": "419f16de-f387-48ee-b4b9-bf962c0a16fb",
   "metadata": {},
   "outputs": [
    {
     "data": {
      "text/plain": [
       "(0, 2)"
      ]
     },
     "execution_count": 16,
     "metadata": {},
     "output_type": "execute_result"
    }
   ],
   "source": [
    "red, green, blue = range(3)\n",
    "red, blue"
   ]
  },
  {
   "cell_type": "code",
   "execution_count": 17,
   "id": "13a2dcd4-ea64-42bc-913c-71854749ef4b",
   "metadata": {},
   "outputs": [
    {
     "name": "stdout",
     "output_type": "stream",
     "text": [
      "1 [2, 3, 4]\n",
      "2 [3, 4]\n",
      "3 [4]\n",
      "4 []\n"
     ]
    }
   ],
   "source": [
    "L = [1, 2, 3, 4]\n",
    "while L:\n",
    "    front, L = L[0], L[1:]\n",
    "    print(front, L)"
   ]
  },
  {
   "cell_type": "markdown",
   "id": "981b80cf-e817-4639-bc68-2637f4807f60",
   "metadata": {},
   "source": [
    "### Extended Sequence Unpacking in Python 3.X\n",
    "#### Extended unpacking in action\n"
   ]
  },
  {
   "cell_type": "code",
   "execution_count": 18,
   "id": "05369ccc-ae8f-432f-9568-3bf156e036ab",
   "metadata": {},
   "outputs": [
    {
     "name": "stdout",
     "output_type": "stream",
     "text": [
      "1 2 3 4\n"
     ]
    }
   ],
   "source": [
    "seq = [1, 2, 3, 4]\n",
    "a, b, c, d = seq\n",
    "print(a, b, c, d)"
   ]
  },
  {
   "cell_type": "code",
   "execution_count": 19,
   "id": "fd388453-70de-4030-a5b3-fdc51e2a9f7f",
   "metadata": {},
   "outputs": [
    {
     "ename": "ValueError",
     "evalue": "too many values to unpack (expected 2)",
     "output_type": "error",
     "traceback": [
      "\u001b[1;31m---------------------------------------------------------------------------\u001b[0m",
      "\u001b[1;31mValueError\u001b[0m                                Traceback (most recent call last)",
      "Input \u001b[1;32mIn [19]\u001b[0m, in \u001b[0;36m<cell line: 1>\u001b[1;34m()\u001b[0m\n\u001b[1;32m----> 1\u001b[0m a, b \u001b[38;5;241m=\u001b[39m seq\n",
      "\u001b[1;31mValueError\u001b[0m: too many values to unpack (expected 2)"
     ]
    }
   ],
   "source": [
    "a, b = seq"
   ]
  },
  {
   "cell_type": "code",
   "execution_count": 20,
   "id": "5c93a756-5cfe-487f-bded-3b6e04ef9931",
   "metadata": {},
   "outputs": [],
   "source": [
    "a, *b = seq"
   ]
  },
  {
   "cell_type": "code",
   "execution_count": 21,
   "id": "58d16002-8d99-4a2b-a8ee-a4f38aeec2d5",
   "metadata": {},
   "outputs": [
    {
     "data": {
      "text/plain": [
       "1"
      ]
     },
     "execution_count": 21,
     "metadata": {},
     "output_type": "execute_result"
    }
   ],
   "source": [
    "a"
   ]
  },
  {
   "cell_type": "code",
   "execution_count": 22,
   "id": "01ac7d06-7533-41e8-84c9-753532c5bda2",
   "metadata": {},
   "outputs": [
    {
     "data": {
      "text/plain": [
       "[2, 3, 4]"
      ]
     },
     "execution_count": 22,
     "metadata": {},
     "output_type": "execute_result"
    }
   ],
   "source": [
    "b"
   ]
  },
  {
   "cell_type": "code",
   "execution_count": 23,
   "id": "3c2db2df-d59c-4457-94db-56a947d4b764",
   "metadata": {},
   "outputs": [],
   "source": [
    "a, *b, c = seq"
   ]
  },
  {
   "cell_type": "code",
   "execution_count": 24,
   "id": "4b742542-72ff-43a7-8479-9bd422025aa0",
   "metadata": {},
   "outputs": [
    {
     "data": {
      "text/plain": [
       "1"
      ]
     },
     "execution_count": 24,
     "metadata": {},
     "output_type": "execute_result"
    }
   ],
   "source": [
    "a"
   ]
  },
  {
   "cell_type": "code",
   "execution_count": 25,
   "id": "80ccb1d1-a401-4afe-b681-e37dc2610788",
   "metadata": {},
   "outputs": [
    {
     "data": {
      "text/plain": [
       "[2, 3]"
      ]
     },
     "execution_count": 25,
     "metadata": {},
     "output_type": "execute_result"
    }
   ],
   "source": [
    "b"
   ]
  },
  {
   "cell_type": "code",
   "execution_count": 26,
   "id": "efa7763f-ef01-486e-9009-4820c356e805",
   "metadata": {},
   "outputs": [
    {
     "data": {
      "text/plain": [
       "4"
      ]
     },
     "execution_count": 26,
     "metadata": {},
     "output_type": "execute_result"
    }
   ],
   "source": [
    "c"
   ]
  },
  {
   "cell_type": "code",
   "execution_count": 27,
   "id": "72fba7fb-8d7c-41b3-8ee8-d35d844260f4",
   "metadata": {},
   "outputs": [],
   "source": [
    "a, b, *c = seq"
   ]
  },
  {
   "cell_type": "code",
   "execution_count": 28,
   "id": "f25694e5-f81a-48e2-9d5a-aa0eea4eabe1",
   "metadata": {},
   "outputs": [
    {
     "data": {
      "text/plain": [
       "1"
      ]
     },
     "execution_count": 28,
     "metadata": {},
     "output_type": "execute_result"
    }
   ],
   "source": [
    "a"
   ]
  },
  {
   "cell_type": "code",
   "execution_count": 29,
   "id": "83f08799-2d2c-49d6-a313-e80d1e872879",
   "metadata": {},
   "outputs": [
    {
     "data": {
      "text/plain": [
       "2"
      ]
     },
     "execution_count": 29,
     "metadata": {},
     "output_type": "execute_result"
    }
   ],
   "source": [
    "b"
   ]
  },
  {
   "cell_type": "code",
   "execution_count": 30,
   "id": "82623ae6-6e45-42d2-80eb-be809090cdf7",
   "metadata": {},
   "outputs": [
    {
     "data": {
      "text/plain": [
       "[3, 4]"
      ]
     },
     "execution_count": 30,
     "metadata": {},
     "output_type": "execute_result"
    }
   ],
   "source": [
    "c"
   ]
  },
  {
   "cell_type": "code",
   "execution_count": 31,
   "id": "8a65e492-784d-43b1-af71-8216db807eab",
   "metadata": {},
   "outputs": [
    {
     "data": {
      "text/plain": [
       "('s', ['p', 'a', 'm'])"
      ]
     },
     "execution_count": 31,
     "metadata": {},
     "output_type": "execute_result"
    }
   ],
   "source": [
    "a, *b = 'spam'\n",
    "a, b"
   ]
  },
  {
   "cell_type": "code",
   "execution_count": 32,
   "id": "65632b10-85f9-49a7-8c21-43b07d24660b",
   "metadata": {},
   "outputs": [],
   "source": [
    "a, *b, c = 'spam'"
   ]
  },
  {
   "cell_type": "code",
   "execution_count": 33,
   "id": "570dc1e9-350b-47ec-a2e5-c86f399c0174",
   "metadata": {},
   "outputs": [
    {
     "data": {
      "text/plain": [
       "('s', ['p', 'a'], 'm')"
      ]
     },
     "execution_count": 33,
     "metadata": {},
     "output_type": "execute_result"
    }
   ],
   "source": [
    "a, b, c"
   ]
  },
  {
   "cell_type": "code",
   "execution_count": 34,
   "id": "eefd40b0-158c-4860-b67d-b39f2a178460",
   "metadata": {},
   "outputs": [],
   "source": [
    "a, *b, c = range(4)"
   ]
  },
  {
   "cell_type": "code",
   "execution_count": 35,
   "id": "4b1b6e06-6281-4835-8d3f-785d430deda5",
   "metadata": {},
   "outputs": [
    {
     "data": {
      "text/plain": [
       "(0, [1, 2], 3)"
      ]
     },
     "execution_count": 35,
     "metadata": {},
     "output_type": "execute_result"
    }
   ],
   "source": [
    "a, b, c"
   ]
  },
  {
   "cell_type": "code",
   "execution_count": 36,
   "id": "9a4e8cba-b12e-40fc-99fc-98db0db04384",
   "metadata": {},
   "outputs": [
    {
     "name": "stdout",
     "output_type": "stream",
     "text": [
      "1 [2, 3, 4]\n",
      "2 [3, 4]\n",
      "3 [4]\n",
      "4 []\n"
     ]
    }
   ],
   "source": [
    "L = [1, 2, 3, 4]\n",
    "while L:\n",
    "    front, *L = L\n",
    "    print(front, L)"
   ]
  },
  {
   "cell_type": "markdown",
   "id": "be4f4e9d-87fa-4c2c-8cf7-d938a2eb95b9",
   "metadata": {},
   "source": [
    "#### Boundary cases\n",
    "First, the starred name may match just a signle item, but is always assigned a list:"
   ]
  },
  {
   "cell_type": "code",
   "execution_count": 37,
   "id": "6219c3bf-bb40-4aaa-822c-06c9bc990e6d",
   "metadata": {},
   "outputs": [],
   "source": [
    "seq = [1, 2, 3, 4]"
   ]
  },
  {
   "cell_type": "code",
   "execution_count": 38,
   "id": "7d095e5e-3aa9-409f-85f8-d1d75b042481",
   "metadata": {},
   "outputs": [],
   "source": [
    "a, b, c, *d = seq"
   ]
  },
  {
   "cell_type": "code",
   "execution_count": 39,
   "id": "d0c48180-6823-4670-9fe3-05d6298443a9",
   "metadata": {},
   "outputs": [
    {
     "data": {
      "text/plain": [
       "(1, 2, 3, [4])"
      ]
     },
     "execution_count": 39,
     "metadata": {},
     "output_type": "execute_result"
    }
   ],
   "source": [
    "a, b, c, d"
   ]
  },
  {
   "cell_type": "markdown",
   "id": "88c2ea5a-a42c-4338-8d15-57e72c639916",
   "metadata": {},
   "source": [
    "Second, if there is nothing left to match the starred name, it is assigned an empty list, ragardless of where it appears"
   ]
  },
  {
   "cell_type": "code",
   "execution_count": 40,
   "id": "df88b465-ac65-4c70-bb02-3f99d05eae57",
   "metadata": {},
   "outputs": [
    {
     "name": "stdout",
     "output_type": "stream",
     "text": [
      "1 2 3 4 []\n"
     ]
    }
   ],
   "source": [
    "a, b, c, d, *e = seq\n",
    "print(a, b, c, d, e)"
   ]
  },
  {
   "cell_type": "code",
   "execution_count": 41,
   "id": "cbe5f223-41aa-4a9c-ab59-8a43e8380b2b",
   "metadata": {},
   "outputs": [],
   "source": [
    "a, b, *e, c, d = seq"
   ]
  },
  {
   "cell_type": "code",
   "execution_count": 43,
   "id": "384e5e46-d492-4a1f-928e-24912b9079a8",
   "metadata": {},
   "outputs": [
    {
     "name": "stdout",
     "output_type": "stream",
     "text": [
      "1 2 3 4 []\n"
     ]
    }
   ],
   "source": [
    "print(a, b, c, d, e)"
   ]
  },
  {
   "cell_type": "markdown",
   "id": "217f961b-8ca9-4ca7-a531-4d8b24cdd1d9",
   "metadata": {},
   "source": [
    "Finally, errors still be triggered if there is more than one starred name, if there are two few values and no star, and if the starred name is not itself coded inside a sequence"
   ]
  },
  {
   "cell_type": "code",
   "execution_count": 44,
   "id": "9266b622-0ba7-4696-82ff-08f3d02a56f8",
   "metadata": {},
   "outputs": [
    {
     "ename": "SyntaxError",
     "evalue": "multiple starred expressions in assignment (2919389293.py, line 1)",
     "output_type": "error",
     "traceback": [
      "\u001b[1;36m  Input \u001b[1;32mIn [44]\u001b[1;36m\u001b[0m\n\u001b[1;33m    a, *b, c, *d = seq\u001b[0m\n\u001b[1;37m    ^\u001b[0m\n\u001b[1;31mSyntaxError\u001b[0m\u001b[1;31m:\u001b[0m multiple starred expressions in assignment\n"
     ]
    }
   ],
   "source": [
    "a, *b, c, *d = seq"
   ]
  },
  {
   "cell_type": "code",
   "execution_count": 45,
   "id": "941e1ef4-7502-4679-8651-6a065713581b",
   "metadata": {},
   "outputs": [
    {
     "ename": "ValueError",
     "evalue": "too many values to unpack (expected 2)",
     "output_type": "error",
     "traceback": [
      "\u001b[1;31m---------------------------------------------------------------------------\u001b[0m",
      "\u001b[1;31mValueError\u001b[0m                                Traceback (most recent call last)",
      "Input \u001b[1;32mIn [45]\u001b[0m, in \u001b[0;36m<cell line: 1>\u001b[1;34m()\u001b[0m\n\u001b[1;32m----> 1\u001b[0m a, b \u001b[38;5;241m=\u001b[39m seq\n",
      "\u001b[1;31mValueError\u001b[0m: too many values to unpack (expected 2)"
     ]
    }
   ],
   "source": [
    "a, b = seq"
   ]
  },
  {
   "cell_type": "code",
   "execution_count": 46,
   "id": "ed9cb284-2c33-4956-bb2d-4ce96bc020c0",
   "metadata": {},
   "outputs": [
    {
     "ename": "SyntaxError",
     "evalue": "starred assignment target must be in a list or tuple (2217937629.py, line 1)",
     "output_type": "error",
     "traceback": [
      "\u001b[1;36m  Input \u001b[1;32mIn [46]\u001b[1;36m\u001b[0m\n\u001b[1;33m    *a = seq\u001b[0m\n\u001b[1;37m    ^\u001b[0m\n\u001b[1;31mSyntaxError\u001b[0m\u001b[1;31m:\u001b[0m starred assignment target must be in a list or tuple\n"
     ]
    }
   ],
   "source": [
    "*a = seq"
   ]
  },
  {
   "cell_type": "code",
   "execution_count": 47,
   "id": "1cef1f7d-0d30-41f4-b142-9f637e49341e",
   "metadata": {},
   "outputs": [],
   "source": [
    "*a, = seq"
   ]
  },
  {
   "cell_type": "code",
   "execution_count": 48,
   "id": "8ed11290-2f19-48e8-b540-1565abcd55e7",
   "metadata": {},
   "outputs": [
    {
     "data": {
      "text/plain": [
       "[1, 2, 3, 4]"
      ]
     },
     "execution_count": 48,
     "metadata": {},
     "output_type": "execute_result"
    }
   ],
   "source": [
    "a"
   ]
  },
  {
   "cell_type": "markdown",
   "id": "e1c98047-2569-49de-879c-20133cfa42a2",
   "metadata": {},
   "source": [
    "#### A useful convenice\n",
    "#### Application to for loops"
   ]
  },
  {
   "cell_type": "markdown",
   "id": "c0e9af97-2096-413a-8489-dffc5a32ad48",
   "metadata": {},
   "source": [
    "### Nultiple-Target Assignments\n",
    "#### Mutople-target assignment and shared reference"
   ]
  },
  {
   "cell_type": "code",
   "execution_count": 49,
   "id": "cf4d2a8b-df9d-4c08-bddb-0e21b8119d35",
   "metadata": {},
   "outputs": [
    {
     "data": {
      "text/plain": [
       "(0, 1)"
      ]
     },
     "execution_count": 49,
     "metadata": {},
     "output_type": "execute_result"
    }
   ],
   "source": [
    "a = b = 0\n",
    "b = b + 1\n",
    "a, b"
   ]
  },
  {
   "cell_type": "code",
   "execution_count": 50,
   "id": "9239bfa6-cc98-47cf-8751-179af265b69b",
   "metadata": {},
   "outputs": [
    {
     "data": {
      "text/plain": [
       "([42], [42])"
      ]
     },
     "execution_count": 50,
     "metadata": {},
     "output_type": "execute_result"
    }
   ],
   "source": [
    "a = b =[]\n",
    "b.append(42)\n",
    "a,b"
   ]
  },
  {
   "cell_type": "code",
   "execution_count": 51,
   "id": "77197295-ca7e-4ac4-80bd-5f17a9fcda0a",
   "metadata": {},
   "outputs": [
    {
     "data": {
      "text/plain": [
       "([], [42])"
      ]
     },
     "execution_count": 51,
     "metadata": {},
     "output_type": "execute_result"
    }
   ],
   "source": [
    "a = []\n",
    "b = []\n",
    "b.append(42)\n",
    "a, b"
   ]
  },
  {
   "cell_type": "code",
   "execution_count": 52,
   "id": "f793b3e5-2fda-424b-b62a-55ab4a2fe398",
   "metadata": {},
   "outputs": [],
   "source": [
    "a, b = [], []\n"
   ]
  },
  {
   "cell_type": "markdown",
   "id": "478d766f-6264-43b3-8920-924db9cdb671",
   "metadata": {},
   "source": [
    "### Augmented Assignment"
   ]
  },
  {
   "cell_type": "code",
   "execution_count": 54,
   "id": "e8b72c14-66e5-425f-9cc5-0f0f6ec3804c",
   "metadata": {},
   "outputs": [
    {
     "data": {
      "text/plain": [
       "['s', 'p', 'a', 'm']"
      ]
     },
     "execution_count": 54,
     "metadata": {},
     "output_type": "execute_result"
    }
   ],
   "source": [
    "L = []\n",
    "L += 'spam'\n",
    "L\n",
    "    "
   ]
  },
  {
   "cell_type": "code",
   "execution_count": 55,
   "id": "b7717d04-038d-407c-9d9e-75be81c9de69",
   "metadata": {},
   "outputs": [
    {
     "ename": "TypeError",
     "evalue": "can only concatenate list (not \"str\") to list",
     "output_type": "error",
     "traceback": [
      "\u001b[1;31m---------------------------------------------------------------------------\u001b[0m",
      "\u001b[1;31mTypeError\u001b[0m                                 Traceback (most recent call last)",
      "Input \u001b[1;32mIn [55]\u001b[0m, in \u001b[0;36m<cell line: 1>\u001b[1;34m()\u001b[0m\n\u001b[1;32m----> 1\u001b[0m L \u001b[38;5;241m=\u001b[39m \u001b[43mL\u001b[49m\u001b[43m \u001b[49m\u001b[38;5;241;43m+\u001b[39;49m\u001b[43m \u001b[49m\u001b[38;5;124;43m'\u001b[39;49m\u001b[38;5;124;43mspam\u001b[39;49m\u001b[38;5;124;43m'\u001b[39;49m\n",
      "\u001b[1;31mTypeError\u001b[0m: can only concatenate list (not \"str\") to list"
     ]
    }
   ],
   "source": [
    "L = L + 'spam'"
   ]
  },
  {
   "cell_type": "markdown",
   "id": "d10da1d3-eea4-4472-a25f-ab77f883a660",
   "metadata": {},
   "source": [
    "### Variable Name Rules\n",
    "\n",
    "Syntax: (underscore or letter) + (any numbers of letters, digits, or underscores)\n",
    "\n",
    "Case matters: SPAM is not the same as spam\n",
    "\n",
    "Reserved words are off-limits"
   ]
  },
  {
   "cell_type": "markdown",
   "id": "46c16aa2-abca-4bf3-b2b2-d55fa8878779",
   "metadata": {},
   "source": [
    "#### Naming conventions\n",
    "- Names that begin wit ha signle underscore(_X) are not imported a from moudule import * statement\n",
    "- Names that have two leadign and trailing underscores (__X__) are system-defined names that have special meaning to the interpreter\n",
    "- Name that begi nwith two underscores and do not end with two more (__X) are localized to enclosing classes.\n",
    "- The name that is just a single underscore (-) retains the result the last expressio nwhen you are workign itneractively.\n",
    "\n",
    "### Names have no type, but objects do\n"
   ]
  },
  {
   "cell_type": "markdown",
   "id": "398d2c71-90b6-42ef-82bb-a5186dc2ffc2",
   "metadata": {},
   "source": [
    "## Expresion Statements\n",
    "In Python, you can use an expression as a statement, too---that is, on a line by itself.\n",
    "But bacause the result of the expression won't be saved, it susally makes sense to do so only if the expresiion does somthign useful as a side effect.\n",
    "Expression are commly used as statements i ntwo situations:\n",
    "\n",
    "For calls t ofunctions and methods\n",
    "\n",
    "For printing values and the interactive prompt\n",
    "\n",
    "Table 11-4. Common Python expression statements\n",
    "\n",
    "|Operation| Interpretation|\n",
    "|---|---|\n",
    "|spam(eggs. ham) |Function calls|\n",
    "|spam.ham(eggs)| Method calls|\n",
    "|spam| Printing variable in the interactivce interpreter|\n",
    "|print(a, b, c, sep= ''|Printing operations in Python 3.X|\n",
    "|yield x \\*\\*2 | Yieldign experssion statements|"
   ]
  },
  {
   "cell_type": "markdown",
   "id": "803788fa-46ba-45b4-8cfd-dacae8821c63",
   "metadata": {},
   "source": [
    "### Expression Statements and In-Place Changes"
   ]
  },
  {
   "cell_type": "code",
   "execution_count": 56,
   "id": "39bdc303-a64a-42a9-b2ef-0eaf9ddd9c72",
   "metadata": {},
   "outputs": [
    {
     "data": {
      "text/plain": [
       "[1, 2, 3]"
      ]
     },
     "execution_count": 56,
     "metadata": {},
     "output_type": "execute_result"
    }
   ],
   "source": [
    "L = [1,2]\n",
    "L.append(3)\n",
    "L"
   ]
  },
  {
   "cell_type": "code",
   "execution_count": 57,
   "id": "b06cfe19-f3b9-4bc2-9a34-10de69702801",
   "metadata": {},
   "outputs": [
    {
     "name": "stdout",
     "output_type": "stream",
     "text": [
      "None\n"
     ]
    }
   ],
   "source": [
    "L = L.append(4)\n",
    "print(L)"
   ]
  },
  {
   "cell_type": "markdown",
   "id": "ce0d7804-a56d-4ef6-ba35-af7b4e7b955d",
   "metadata": {},
   "source": [
    "Callin a in-place change operation such as append, sort, or reverse on a list always changed the list in place, but these methods do not return the list they have changed; instead, they return the None object."
   ]
  },
  {
   "cell_type": "markdown",
   "id": "7cf12431-610c-4ccf-bbe4-974ff06a1f79",
   "metadata": {},
   "source": [
    "## Print Operation\n"
   ]
  }
 ],
 "metadata": {
  "kernelspec": {
   "display_name": "Python 3 (ipykernel)",
   "language": "python",
   "name": "python3"
  },
  "language_info": {
   "codemirror_mode": {
    "name": "ipython",
    "version": 3
   },
   "file_extension": ".py",
   "mimetype": "text/x-python",
   "name": "python",
   "nbconvert_exporter": "python",
   "pygments_lexer": "ipython3",
   "version": "3.9.12"
  }
 },
 "nbformat": 4,
 "nbformat_minor": 5
}
