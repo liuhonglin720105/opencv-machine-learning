{
 "cells": [
  {
   "cell_type": "markdown",
   "id": "2b9cb9ee-51a1-47d0-97d6-3ca62fec5ad4",
   "metadata": {},
   "source": [
    "# Chapter 18 Arguments\n",
    "Arguments are assigned to names in a rucntion, but they have more to do with object references than with variable scopes.\n",
    "We also find that Python provides extra tools, such as keywords, defaults, and arbitrary argument coll3ctors and extractors that allow for wide flexibility in the way arguments are sent to a function.\n",
    "\n",
    "## Argument-Passing Basics\n",
    "- Arguments are passed by qutomatically assigning objects to local variable names.\n",
    "- Assigning to argument names inside a fdunction does not affectt the caller\n",
    "- Changing a mutable objects argument in a function may impact the caller\n",
    "\n",
    "- Immutable argument are effectively passed \"by value\"\n",
    "- Mutable arguments are effectively passed \"by pointer.\"\n",
    "\n",
    "## Arguments and Shared Reference\n"
   ]
  },
  {
   "cell_type": "code",
   "execution_count": 1,
   "id": "6bb56680-5347-46be-8717-f978788909b2",
   "metadata": {},
   "outputs": [
    {
     "name": "stdout",
     "output_type": "stream",
     "text": [
      "88\n"
     ]
    }
   ],
   "source": [
    "\n",
    "def f(a):\n",
    "    a = 99\n",
    "\n",
    "b = 88\n",
    "f(b)\n",
    "print(b)"
   ]
  },
  {
   "cell_type": "code",
   "execution_count": 4,
   "id": "8fd2627e-09dc-42b3-b08d-036167c57669",
   "metadata": {},
   "outputs": [
    {
     "data": {
      "text/plain": [
       "(1, ['spam', 2])"
      ]
     },
     "execution_count": 4,
     "metadata": {},
     "output_type": "execute_result"
    }
   ],
   "source": [
    "def changer(a, b):\n",
    "    a =2\n",
    "    b[0] = 'spam'\n",
    "    \n",
    "X = 1\n",
    "L= [1, 2]\n",
    "changer(X, L)\n",
    "X, L"
   ]
  },
  {
   "cell_type": "markdown",
   "id": "cf84dea3-5d3c-4b41-8b21-03dbe979c2f4",
   "metadata": {},
   "source": [
    "### Avoiding Mutable Argument Changes\n",
    "### Simulating Output Parameters and Multple Results\n"
   ]
  },
  {
   "cell_type": "code",
   "execution_count": 6,
   "id": "4acb8dc0-1b30-4d52-be69-f5fe6e16eac7",
   "metadata": {},
   "outputs": [],
   "source": [
    "def multiple(x,y):\n",
    "    x =2\n",
    "    y = [3, 4]\n",
    "    return x, y\n",
    "\n",
    "X =1\n",
    "L =[1, 2]\n",
    "X, L = multiple(X, L)"
   ]
  },
  {
   "cell_type": "code",
   "execution_count": 7,
   "id": "a7438e2c-9b0f-4193-89a8-ab3195bcad7d",
   "metadata": {},
   "outputs": [
    {
     "data": {
      "text/plain": [
       "(2, [3, 4])"
      ]
     },
     "execution_count": 7,
     "metadata": {},
     "output_type": "execute_result"
    }
   ],
   "source": [
    "X, L"
   ]
  },
  {
   "cell_type": "markdown",
   "id": "a94c5e8a-dfc6-4448-b5ab-459dc9d47f08",
   "metadata": {},
   "source": [
    "## Special Artument-Matching Modes\n",
    "By default, artuments are matched by *position*, from left to right, and you must pass exactly as many arguments as there are argument names i nthe function header.\n",
    "However, you can also specify matching by name, provide default values, and use sollectors for extra arguments"
   ]
  },
  {
   "cell_type": "markdown",
   "id": "9ae47ac9-39a0-4b60-9269-1a2794b7a074",
   "metadata": {},
   "source": [
    "### Argument Matching Basics\n",
    "- Positionals: matched fro mleft to fight\n",
    "- Keywords: matched by argument name\n",
    "- Defaults: specify values for optional argumentgs taht aren't passed\n",
    "- Vararges collecting: collect arbitrarily many positional or keyword arguments\n",
    "- Varargs unpacking: pass arbitrarily many positional or keyword arguments\n",
    "- Keyword-only arguments: arguments that must be passed by name\n",
    "\n",
    "### Argument Matching Syntax\n",
    "\n",
    "|Syntax|Location|Interpretation|\n",
    "|---|----|---|\n",
    "|func(value)|Caller|正常参数：位置匹配|\n",
    "|func(name = value|Caller|关键字参数：名字匹配|\n",
    "|func(\\*iterabler)|Caller|Pass all objects in iterable as individual positiobnal arguments|\n",
    "|func(\\*\\*dict)|Caller|Pass all key/values pairs in dict as individual keyword arguments|\n",
    "|def func(name|Function)| Normal argument\" matches any passed value by position or name|\n",
    "|def fun(name = value)|function|Default argument value, if not passed i nthe call|\n",
    "|def func(\\*name)| Function| Machjes and collects remaining positional argumentws in a tuple|\n",
    "|def func(\\*\\*name)|function|Matches and collects remaining keyword arguments in a dictionary|\n",
    "|def fun (\\*other, name)|function|Arguments that must be passed by keyword only in calls|\n",
    "|def fun(\\*, name = value|Function| Arguments that must be passed by keyword only in calls|"
   ]
  },
  {
   "cell_type": "code",
   "execution_count": null,
   "id": "81bc596c-b298-498a-bde7-e7fc18a0b9d6",
   "metadata": {},
   "outputs": [],
   "source": []
  }
 ],
 "metadata": {
  "kernelspec": {
   "display_name": "Python 3 (ipykernel)",
   "language": "python",
   "name": "python3"
  },
  "language_info": {
   "codemirror_mode": {
    "name": "ipython",
    "version": 3
   },
   "file_extension": ".py",
   "mimetype": "text/x-python",
   "name": "python",
   "nbconvert_exporter": "python",
   "pygments_lexer": "ipython3",
   "version": "3.9.12"
  }
 },
 "nbformat": 4,
 "nbformat_minor": 5
}
