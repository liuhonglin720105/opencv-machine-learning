{
 "cells": [
  {
   "cell_type": "markdown",
   "id": "2b9cb9ee-51a1-47d0-97d6-3ca62fec5ad4",
   "metadata": {},
   "source": [
    "# Chapter 18 Arguments\n",
    "Arguments are assigned to names in a rucntion, but they have more to do with object references than with variable scopes.\n",
    "We also find that Python provides extra tools, such as keywords, defaults, and arbitrary argument coll3ctors and extractors that allow for wide flexibility in the way arguments are sent to a function.\n",
    "\n",
    "## Argument-Passing Basics\n",
    "- Arguments are passed by qutomatically assigning objects to local variable names.\n",
    "- Assigning to argument names inside a fdunction does not affectt the caller\n",
    "- Changing a mutable objects argument in a function may impact the caller\n",
    "\n",
    "- Immutable argument are effectively passed \"by value\"\n",
    "- Mutable arguments are effectively passed \"by pointer.\"\n",
    "\n",
    "## Arguments and Shared Reference\n"
   ]
  },
  {
   "cell_type": "code",
   "execution_count": 1,
   "id": "6bb56680-5347-46be-8717-f978788909b2",
   "metadata": {},
   "outputs": [
    {
     "name": "stdout",
     "output_type": "stream",
     "text": [
      "88\n"
     ]
    }
   ],
   "source": [
    "\n",
    "def f(a):\n",
    "    a = 99\n",
    "\n",
    "b = 88\n",
    "f(b)\n",
    "print(b)"
   ]
  },
  {
   "cell_type": "code",
   "execution_count": 4,
   "id": "8fd2627e-09dc-42b3-b08d-036167c57669",
   "metadata": {},
   "outputs": [
    {
     "data": {
      "text/plain": [
       "(1, ['spam', 2])"
      ]
     },
     "execution_count": 4,
     "metadata": {},
     "output_type": "execute_result"
    }
   ],
   "source": [
    "def changer(a, b):\n",
    "    a =2\n",
    "    b[0] = 'spam'\n",
    "    \n",
    "X = 1\n",
    "L= [1, 2]\n",
    "changer(X, L)\n",
    "X, L"
   ]
  },
  {
   "cell_type": "markdown",
   "id": "cf84dea3-5d3c-4b41-8b21-03dbe979c2f4",
   "metadata": {},
   "source": [
    "### Avoiding Mutable Argument Changes\n",
    "### Simulating Output Parameters and Multple Results\n"
   ]
  },
  {
   "cell_type": "code",
   "execution_count": 6,
   "id": "4acb8dc0-1b30-4d52-be69-f5fe6e16eac7",
   "metadata": {},
   "outputs": [],
   "source": [
    "def multiple(x,y):\n",
    "    x =2\n",
    "    y = [3, 4]\n",
    "    return x, y\n",
    "\n",
    "X =1\n",
    "L =[1, 2]\n",
    "X, L = multiple(X, L)"
   ]
  },
  {
   "cell_type": "code",
   "execution_count": 7,
   "id": "a7438e2c-9b0f-4193-89a8-ab3195bcad7d",
   "metadata": {},
   "outputs": [
    {
     "data": {
      "text/plain": [
       "(2, [3, 4])"
      ]
     },
     "execution_count": 7,
     "metadata": {},
     "output_type": "execute_result"
    }
   ],
   "source": [
    "X, L"
   ]
  },
  {
   "cell_type": "markdown",
   "id": "a94c5e8a-dfc6-4448-b5ab-459dc9d47f08",
   "metadata": {},
   "source": [
    "## Special Artument-Matching Modes\n",
    "By default, artuments are matched by *position*, from left to right, and you must pass exactly as many arguments as there are argument names i nthe function header.\n",
    "However, you can also specify matching by name, provide default values, and use sollectors for extra arguments"
   ]
  },
  {
   "cell_type": "markdown",
   "id": "9ae47ac9-39a0-4b60-9269-1a2794b7a074",
   "metadata": {},
   "source": [
    "### Argument Matching Basics\n",
    "- Positionals: matched fro mleft to fight\n",
    "- Keywords: matched by argument name\n",
    "- Defaults: specify values for optional argumentgs taht aren't passed\n",
    "- Vararges collecting: collect arbitrarily many positional or keyword arguments\n",
    "- Varargs unpacking: pass arbitrarily many positional or keyword arguments\n",
    "- Keyword-only arguments: arguments that must be passed by name\n",
    "\n",
    "### Argument Matching Syntax\n",
    "\n",
    "|Syntax|Location|Interpretation|\n",
    "|---|----|---|\n",
    "|func(value)|Caller|正常参数：位置匹配|\n",
    "|func(name = value|Caller|关键字参数：名字匹配|\n",
    "|func(\\*iterabler)|Caller|Pass all objects in iterable as individual positiobnal arguments|\n",
    "|func(\\*\\*dict)|Caller|Pass all key/values pairs in dict as individual keyword arguments|\n",
    "|def func(name|Function)| Normal argument\" matches any passed value by position or name|\n",
    "|def fun(name = value)|function|Default argument value, if not passed i nthe call|\n",
    "|def func(\\*name)| Function| Machjes and collects remaining positional argumentws in a tuple|\n",
    "|def func(\\*\\*name)|function|Matches and collects remaining keyword arguments in a dictionary|\n",
    "|def fun (\\*other, name)|function|Arguments that must be passed by keyword only in calls|\n",
    "|def fun(\\*, name = value|Function| Arguments that must be passed by keyword only in calls|"
   ]
  },
  {
   "cell_type": "markdown",
   "id": "c699bc2b-66a3-4663-a215-d2429f8287b7",
   "metadata": {},
   "source": [
    "### The Gritty Details\n",
    "- In a function call, argument arguments must appear in this order: any potitional arguments (value); followed by a combination of any keyword argument (name = value) and the *iterable form; followed by the **dict form\n",
    "- In a function header, arguments must appear i ntthis order: any normal arguments (name); followed by any default arguments (name = value); followed by the * name form; followed by any name or name = value keyword-only arguments; followed by the ** name form.\n",
    "\n",
    "In both the call and header, the ** arges form must appear last if present.\n",
    "\n",
    "1. Assign nonkeyword arguments by position\n",
    "2. Assign keyword arguments by matchign names.\n",
    "3. Assign extra nonkeyword arguments to *name tuple.\n",
    "4. Assign extra keyword auguments to **name dictionary.\n",
    "5. Assign default values to unassigned arguments in header\n",
    "\n",
    "### Keyword and Default Examples"
   ]
  },
  {
   "cell_type": "code",
   "execution_count": 8,
   "id": "3ba21e64-267b-482a-b488-be13b86a2eac",
   "metadata": {},
   "outputs": [
    {
     "name": "stdout",
     "output_type": "stream",
     "text": [
      "1 2 3\n"
     ]
    }
   ],
   "source": [
    "def f(a, b, c): print(a, b, c)\n",
    "f(1, 2, 3)"
   ]
  },
  {
   "cell_type": "markdown",
   "id": "2a9fb25e-bdac-40a1-b756-05ce998d8e61",
   "metadata": {},
   "source": [
    "#### Keywords"
   ]
  },
  {
   "cell_type": "code",
   "execution_count": 9,
   "id": "06617f84-079b-4ede-ab56-205146c24c04",
   "metadata": {},
   "outputs": [
    {
     "name": "stdout",
     "output_type": "stream",
     "text": [
      "1 2 3\n"
     ]
    }
   ],
   "source": [
    "f(c = 3, b=2, a =1)"
   ]
  },
  {
   "cell_type": "code",
   "execution_count": 11,
   "id": "6f4e25d5-737b-43f4-844f-a73757958715",
   "metadata": {},
   "outputs": [
    {
     "name": "stdout",
     "output_type": "stream",
     "text": [
      "1 2 3\n"
     ]
    }
   ],
   "source": [
    "f(1, c =3, b =2) "
   ]
  },
  {
   "cell_type": "markdown",
   "id": "a977a5fc-3d7f-4bc3-a709-71c4988f43e8",
   "metadata": {},
   "source": [
    "#### Default"
   ]
  },
  {
   "cell_type": "code",
   "execution_count": 12,
   "id": "be8ff92b-cc90-42ad-8f7e-fcb22ea581b1",
   "metadata": {},
   "outputs": [
    {
     "name": "stdout",
     "output_type": "stream",
     "text": [
      "1 2 3\n"
     ]
    }
   ],
   "source": [
    "def f(a, b =2, c =3): print(a, b, c)\n",
    "f(1)"
   ]
  },
  {
   "cell_type": "code",
   "execution_count": 13,
   "id": "f53c744c-a64f-4d73-a5bf-a78bb1ad71ac",
   "metadata": {},
   "outputs": [
    {
     "name": "stdout",
     "output_type": "stream",
     "text": [
      "1 2 3\n"
     ]
    }
   ],
   "source": [
    "f(a =1)"
   ]
  },
  {
   "cell_type": "code",
   "execution_count": 14,
   "id": "ed41521a-0c59-4089-9883-779606b8129d",
   "metadata": {},
   "outputs": [
    {
     "name": "stdout",
     "output_type": "stream",
     "text": [
      "1 4 3\n"
     ]
    }
   ],
   "source": [
    "f(1,4)"
   ]
  },
  {
   "cell_type": "code",
   "execution_count": 15,
   "id": "04fb5e69-3c4f-4264-80ca-28adaa638a63",
   "metadata": {},
   "outputs": [
    {
     "name": "stdout",
     "output_type": "stream",
     "text": [
      "1 4 5\n"
     ]
    }
   ],
   "source": [
    "f(1, 4, 5)"
   ]
  },
  {
   "cell_type": "code",
   "execution_count": 16,
   "id": "acdc8475-8f7b-42fb-a500-1f254b5fca16",
   "metadata": {},
   "outputs": [
    {
     "name": "stdout",
     "output_type": "stream",
     "text": [
      "1 2 6\n"
     ]
    }
   ],
   "source": [
    "f(1, c = 6)"
   ]
  },
  {
   "cell_type": "markdown",
   "id": "02ca1a26-4c59-4934-8d16-3a98f393f0a9",
   "metadata": {},
   "source": [
    "#### Combining keywords and defaults\n"
   ]
  },
  {
   "cell_type": "code",
   "execution_count": 17,
   "id": "4340599e-7db8-4814-bf30-e3f9f1c18e2e",
   "metadata": {},
   "outputs": [],
   "source": [
    "def func(spam, eggs, toast =0, ham = 0):\n",
    "    print((spam, eggs, toast, ham))"
   ]
  },
  {
   "cell_type": "code",
   "execution_count": 18,
   "id": "0f583ff1-6c21-4559-a19e-db08a687d012",
   "metadata": {},
   "outputs": [
    {
     "name": "stdout",
     "output_type": "stream",
     "text": [
      "(1, 2, 0, 0)\n"
     ]
    }
   ],
   "source": [
    "func(1, 2)"
   ]
  },
  {
   "cell_type": "code",
   "execution_count": 19,
   "id": "2f559e2f-aca3-4c69-ab3f-d2a8e7ca5f13",
   "metadata": {},
   "outputs": [
    {
     "name": "stdout",
     "output_type": "stream",
     "text": [
      "(1, 0, 0, 1)\n"
     ]
    }
   ],
   "source": [
    "func(1, ham =1, eggs =0)"
   ]
  },
  {
   "cell_type": "code",
   "execution_count": 22,
   "id": "7fe30ac3-46b5-4cc2-88d0-20aac8a12bf5",
   "metadata": {},
   "outputs": [
    {
     "name": "stdout",
     "output_type": "stream",
     "text": [
      "(1, 0, 0, 0)\n"
     ]
    }
   ],
   "source": [
    "func(spam = 1, eggs =0)"
   ]
  },
  {
   "cell_type": "code",
   "execution_count": 24,
   "id": "bb6e268d-d7d2-4b8c-98db-77097f4898f2",
   "metadata": {},
   "outputs": [
    {
     "name": "stdout",
     "output_type": "stream",
     "text": [
      "(3, 2, 1, 0)\n"
     ]
    }
   ],
   "source": [
    "func(toast =1, eggs =2, spam =3)"
   ]
  },
  {
   "cell_type": "code",
   "execution_count": 25,
   "id": "03d57e7e-6436-4eff-8b5f-37368ee48dbc",
   "metadata": {},
   "outputs": [
    {
     "name": "stdout",
     "output_type": "stream",
     "text": [
      "(1, 2, 3, 4)\n"
     ]
    }
   ],
   "source": [
    "func(1, 2, 3, 4)"
   ]
  },
  {
   "cell_type": "markdown",
   "id": "d25297c3-cdb8-44f1-9bba-32ef917cd2b3",
   "metadata": {},
   "source": [
    "### Arbitrary Arguments Examples\n",
    "#### Headers: Collecting arguments"
   ]
  },
  {
   "cell_type": "code",
   "execution_count": 27,
   "id": "461ecb50-2796-4300-82b6-41d9995291af",
   "metadata": {},
   "outputs": [
    {
     "name": "stdout",
     "output_type": "stream",
     "text": [
      "()\n"
     ]
    }
   ],
   "source": [
    "def f(*args): print(args)\n",
    "f()"
   ]
  },
  {
   "cell_type": "code",
   "execution_count": 28,
   "id": "e00a8852-5d50-45bf-ba87-4e5c796db752",
   "metadata": {},
   "outputs": [
    {
     "name": "stdout",
     "output_type": "stream",
     "text": [
      "(1,)\n"
     ]
    }
   ],
   "source": [
    "f(1)"
   ]
  },
  {
   "cell_type": "code",
   "execution_count": 29,
   "id": "d070f6c2-2654-4dec-a92f-a7b18ec03822",
   "metadata": {},
   "outputs": [
    {
     "name": "stdout",
     "output_type": "stream",
     "text": [
      "(1, 2, 3, 4)\n"
     ]
    }
   ],
   "source": [
    "f(1, 2, 3, 4)"
   ]
  },
  {
   "cell_type": "code",
   "execution_count": 30,
   "id": "6cab1605-a0c5-4a5d-9d05-75aa522d47d3",
   "metadata": {},
   "outputs": [
    {
     "name": "stdout",
     "output_type": "stream",
     "text": [
      "{}\n"
     ]
    }
   ],
   "source": [
    "def f(**args): print(args)\n",
    "f()"
   ]
  },
  {
   "cell_type": "code",
   "execution_count": 31,
   "id": "3f7c2200-f459-469d-8d84-d6311f1602f3",
   "metadata": {},
   "outputs": [
    {
     "name": "stdout",
     "output_type": "stream",
     "text": [
      "{'a': 1, 'b': 2}\n"
     ]
    }
   ],
   "source": [
    "f(a =1, b =2)"
   ]
  },
  {
   "cell_type": "code",
   "execution_count": 33,
   "id": "173bb1b8-f780-4fb1-a061-e0feadfd9b6e",
   "metadata": {},
   "outputs": [
    {
     "name": "stdout",
     "output_type": "stream",
     "text": [
      "1 (2, 3) {'x': 1, 'y': 2}\n"
     ]
    }
   ],
   "source": [
    "def f(a, *pargs, **kargs): print(a,  pargs, kargs)\n",
    "f(1, 2, 3, x=1, y=2)"
   ]
  },
  {
   "cell_type": "markdown",
   "id": "f15da3c4-bef6-4e0b-a87b-4fa478deff04",
   "metadata": {},
   "source": [
    "#### Calls: Unpacking arguments"
   ]
  },
  {
   "cell_type": "code",
   "execution_count": 34,
   "id": "ce8a7786-c053-4b04-85b5-839c307c0933",
   "metadata": {},
   "outputs": [
    {
     "name": "stdout",
     "output_type": "stream",
     "text": [
      "1 2 3 4\n"
     ]
    }
   ],
   "source": [
    "def func(a, b, c, d): print(a, b, c, d)\n",
    "args = (1,2)\n",
    "args += (3,4)\n",
    "func(*args)"
   ]
  },
  {
   "cell_type": "code",
   "execution_count": 36,
   "id": "5aa7ce45-2789-4c60-bd4f-c9f480b2fb80",
   "metadata": {},
   "outputs": [
    {
     "name": "stdout",
     "output_type": "stream",
     "text": [
      "1 2 3 4\n"
     ]
    }
   ],
   "source": [
    "args = {'a': 1, 'b': 2, 'c': 3}\n",
    "args['d'] = 4\n",
    "func(**args)"
   ]
  },
  {
   "cell_type": "markdown",
   "id": "4365d77c-f733-433a-b273-fb7eb8f8f1eb",
   "metadata": {},
   "source": [
    "#### Applying functions generically\n",
    "### Python 3.X Keyword-only Arguments"
   ]
  },
  {
   "cell_type": "code",
   "execution_count": 37,
   "id": "8385cfa8-1ce0-46e8-8a19-a737db0efb2e",
   "metadata": {},
   "outputs": [],
   "source": [
    "def kwonly(a, *b, c):\n",
    "    print(a, b, c)"
   ]
  },
  {
   "cell_type": "code",
   "execution_count": 38,
   "id": "5b5d10a0-1063-4687-ac8a-b801e68eca9c",
   "metadata": {},
   "outputs": [
    {
     "name": "stdout",
     "output_type": "stream",
     "text": [
      "1 (2,) 3\n"
     ]
    }
   ],
   "source": [
    "kwonly(1, 2, c =3)"
   ]
  },
  {
   "cell_type": "code",
   "execution_count": 39,
   "id": "406d5003-03a6-4f7a-be1b-5191b10ed1e0",
   "metadata": {},
   "outputs": [
    {
     "name": "stdout",
     "output_type": "stream",
     "text": [
      "1 () 3\n"
     ]
    }
   ],
   "source": [
    "kwonly(a = 1, c =3)"
   ]
  },
  {
   "cell_type": "code",
   "execution_count": 40,
   "id": "f8928b17-5b2b-4cc5-a3a8-288b02830fd8",
   "metadata": {},
   "outputs": [
    {
     "ename": "TypeError",
     "evalue": "kwonly() missing 1 required keyword-only argument: 'c'",
     "output_type": "error",
     "traceback": [
      "\u001b[1;31m---------------------------------------------------------------------------\u001b[0m",
      "\u001b[1;31mTypeError\u001b[0m                                 Traceback (most recent call last)",
      "Input \u001b[1;32mIn [40]\u001b[0m, in \u001b[0;36m<cell line: 1>\u001b[1;34m()\u001b[0m\n\u001b[1;32m----> 1\u001b[0m \u001b[43mkwonly\u001b[49m\u001b[43m(\u001b[49m\u001b[38;5;241;43m1\u001b[39;49m\u001b[43m,\u001b[49m\u001b[43m \u001b[49m\u001b[38;5;241;43m2\u001b[39;49m\u001b[43m,\u001b[49m\u001b[43m \u001b[49m\u001b[38;5;241;43m3\u001b[39;49m\u001b[43m)\u001b[49m\n",
      "\u001b[1;31mTypeError\u001b[0m: kwonly() missing 1 required keyword-only argument: 'c'"
     ]
    }
   ],
   "source": [
    "kwonly(1, 2, 3)"
   ]
  },
  {
   "cell_type": "code",
   "execution_count": 41,
   "id": "479b54e6-36f7-4789-b9ef-4b6a1e20ef80",
   "metadata": {},
   "outputs": [
    {
     "name": "stdout",
     "output_type": "stream",
     "text": [
      "1 2 3\n"
     ]
    }
   ],
   "source": [
    "def kwonly(a, *, b, c):\n",
    "    print(a, b, c)\n",
    "    \n",
    "kwonly(1, c =3, b =2)"
   ]
  },
  {
   "cell_type": "code",
   "execution_count": 42,
   "id": "e7e46203-4041-4eab-9971-aaff5321b66a",
   "metadata": {},
   "outputs": [
    {
     "name": "stdout",
     "output_type": "stream",
     "text": [
      "1 2 3\n"
     ]
    }
   ],
   "source": [
    "kwonly(c = 3, b =2, a =1)"
   ]
  },
  {
   "cell_type": "code",
   "execution_count": 43,
   "id": "14076a59-adc1-43fb-84da-f5a54650f478",
   "metadata": {},
   "outputs": [
    {
     "ename": "TypeError",
     "evalue": "kwonly() takes 1 positional argument but 3 were given",
     "output_type": "error",
     "traceback": [
      "\u001b[1;31m---------------------------------------------------------------------------\u001b[0m",
      "\u001b[1;31mTypeError\u001b[0m                                 Traceback (most recent call last)",
      "Input \u001b[1;32mIn [43]\u001b[0m, in \u001b[0;36m<cell line: 1>\u001b[1;34m()\u001b[0m\n\u001b[1;32m----> 1\u001b[0m \u001b[43mkwonly\u001b[49m\u001b[43m(\u001b[49m\u001b[38;5;241;43m1\u001b[39;49m\u001b[43m,\u001b[49m\u001b[43m \u001b[49m\u001b[38;5;241;43m2\u001b[39;49m\u001b[43m,\u001b[49m\u001b[43m \u001b[49m\u001b[38;5;241;43m3\u001b[39;49m\u001b[43m)\u001b[49m\n",
      "\u001b[1;31mTypeError\u001b[0m: kwonly() takes 1 positional argument but 3 were given"
     ]
    }
   ],
   "source": [
    "kwonly(1, 2, 3)"
   ]
  },
  {
   "cell_type": "code",
   "execution_count": 44,
   "id": "228f172c-fc78-4140-8b74-1f28067eaf4d",
   "metadata": {},
   "outputs": [
    {
     "ename": "TypeError",
     "evalue": "kwonly() missing 2 required keyword-only arguments: 'b' and 'c'",
     "output_type": "error",
     "traceback": [
      "\u001b[1;31m---------------------------------------------------------------------------\u001b[0m",
      "\u001b[1;31mTypeError\u001b[0m                                 Traceback (most recent call last)",
      "Input \u001b[1;32mIn [44]\u001b[0m, in \u001b[0;36m<cell line: 1>\u001b[1;34m()\u001b[0m\n\u001b[1;32m----> 1\u001b[0m \u001b[43mkwonly\u001b[49m\u001b[43m(\u001b[49m\u001b[38;5;241;43m1\u001b[39;49m\u001b[43m)\u001b[49m\n",
      "\u001b[1;31mTypeError\u001b[0m: kwonly() missing 2 required keyword-only arguments: 'b' and 'c'"
     ]
    }
   ],
   "source": [
    "kwonly(1)"
   ]
  },
  {
   "cell_type": "markdown",
   "id": "ff7221ee-9830-4240-a60c-c85eb58db9df",
   "metadata": {},
   "source": [
    "## The min Wakeup Call!\n",
    "Suppose you wantg to code a function that is able to compute the minimum value fro man arbitrary set of arguments and an arbitrary set of objectv data types.\n",
    "### Full Credit"
   ]
  },
  {
   "cell_type": "code",
   "execution_count": null,
   "id": "acfba06f-775d-4eeb-a0c6-0bc264f70faa",
   "metadata": {},
   "outputs": [],
   "source": []
  }
 ],
 "metadata": {
  "kernelspec": {
   "display_name": "Python 3 (ipykernel)",
   "language": "python",
   "name": "python3"
  },
  "language_info": {
   "codemirror_mode": {
    "name": "ipython",
    "version": 3
   },
   "file_extension": ".py",
   "mimetype": "text/x-python",
   "name": "python",
   "nbconvert_exporter": "python",
   "pygments_lexer": "ipython3",
   "version": "3.9.12"
  }
 },
 "nbformat": 4,
 "nbformat_minor": 5
}
