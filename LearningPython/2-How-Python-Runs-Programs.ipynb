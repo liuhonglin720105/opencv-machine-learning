{
 "cells": [
  {
   "cell_type": "markdown",
   "id": "628b44d4-9a27-4a1b-b82f-4ce50755c286",
   "metadata": {},
   "source": [
    "# Chapter 2 How Python Runs Programs\n",
    "## Introducing the Python Interpreter\n",
    "An interpreter is a kind of program that executes other programs.\n"
   ]
  },
  {
   "cell_type": "markdown",
   "id": "64729868-7f01-4d4a-868d-e30e02792dda",
   "metadata": {},
   "source": [
    "## Program Execution\n",
    "### The Programmer's Views\n",
    "You type code into text files, and you run those files through the interpreter."
   ]
  },
  {
   "cell_type": "code",
   "execution_count": 4,
   "id": "eb343a11-e332-40c5-9315-4dc0e0911b8e",
   "metadata": {},
   "outputs": [
    {
     "name": "stdout",
     "output_type": "stream",
     "text": [
      "Hello world\n",
      "1267650600228229401496703205376\n"
     ]
    }
   ],
   "source": [
    "print('Hello world')\n",
    "print(2 ** 100)"
   ]
  },
  {
   "cell_type": "markdown",
   "id": "500aaae7-de2c-4de7-873b-0bb4021d5015",
   "metadata": {},
   "source": [
    "### Python's Views\n",
    "It's first compiled to something called \"byte code\" and then routed to something called a \"virtual machine\"\n",
    "#### Byte code compilation\n",
    "Python is happy to run a program if all it can find are *.pyc* files, even if the original *.py* source files are absent.\n",
    "\n",
    "Byete code is saved in files only for files that are *imported*, not for the top-level files of a progra that are only run as scripts.\n",
    "#### The Python Virtual Machine (PVM)\n",
    "#### Performance implications\n",
    "#### Development implications\n",
    "There is really no distinciton between the development and execution environment."
   ]
  },
  {
   "cell_type": "markdown",
   "id": "1b27c686-2054-4f9a-9551-94ef96df1e41",
   "metadata": {},
   "source": [
    "## Execution Model Variations\n",
    "### Python Implementation Alternatives\n",
    "`CPython` is  the standard implementation\n",
    "#### CPython: The standard\n",
    "#### JPython: Python for Java\n",
    "#### IronPython: Python for .NET\n",
    "#### Stackless: Python for concurrency\n",
    "#### PyPy: Python for speed\n",
    "### Execution Optimization Tools\n",
    "#### Cypthon: A Python/C hybrid\n",
    "#### Shed Skin: A Python-to_C++ translator\n",
    "#### Psyco: The original just-in-time complier\n",
    "No longer maintained\n",
    "### Frozen Binaries\n",
    "Frozen binaries bundle together the byte code of your program files, along with the PVM and any Python support files your program needs, into a single package.\n",
    "- py2exe, for Windows only\n",
    "- PyInstaller, similar to py2exe but also works on Linux and Mac OS X and is capable of gnertating self-installing binaries.\n",
    "- py2app, creatign Mac OS X applications;\n",
    "- freeze and cx_freeze, which offers both Python 3.X and cross-platform support.\n",
    "### Future Possibilities\n"
   ]
  },
  {
   "cell_type": "code",
   "execution_count": null,
   "id": "ff619da6-c4a7-4ba7-854f-2222c1ea44e3",
   "metadata": {},
   "outputs": [],
   "source": []
  }
 ],
 "metadata": {
  "kernelspec": {
   "display_name": "Python 3 (ipykernel)",
   "language": "python",
   "name": "python3"
  },
  "language_info": {
   "codemirror_mode": {
    "name": "ipython",
    "version": 3
   },
   "file_extension": ".py",
   "mimetype": "text/x-python",
   "name": "python",
   "nbconvert_exporter": "python",
   "pygments_lexer": "ipython3",
   "version": "3.9.12"
  }
 },
 "nbformat": 4,
 "nbformat_minor": 5
}
