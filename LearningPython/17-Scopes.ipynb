{
 "cells": [
  {
   "cell_type": "markdown",
   "id": "f3aef7cf-c4a6-4b50-a8c0-3355c6c601f9",
   "metadata": {},
   "source": [
    "# Chapter 17 Scopes\n",
    "`scopes`: the places where variables are defined and looked up."
   ]
  },
  {
   "cell_type": "markdown",
   "id": "5402e8d1-40cf-4c86-876b-d59f563fad3d",
   "metadata": {},
   "source": [
    "## Python Scope Basics\n",
    "\n",
    "By default, all names assigned inside a functio nare associated with that function's namespace, and no other.\n",
    "- Names assigned inside a `def` can only be seen by the code within that `def`. You cannot even refer to such name outside the function.\n",
    "- Names assigned inside a `def` do not clash with variables outside the `def`, even if the same names are used elsewheres.\n",
    "\n",
    "Varaiables may be assigend in three different places, corresponding to three different scopes:\n",
    "- if variable is assigned inside a `def`, it is local to that function\n",
    "- if a variable is assigned in an enclosing `def`, it is `nonlocal` to nested functions.\n",
    "- if a variable is assigend outside all `def`s, it is `global` to the entire file."
   ]
  },
  {
   "cell_type": "markdown",
   "id": "a11a74c3-7e3b-4145-94e2-8ac7b1cf3ba8",
   "metadata": {},
   "source": [
    "### Scope Details\n",
    "Functions define a *loacl scope* and modules defien a *global scope* with the following properties:\n",
    "- Theenclosign module is a global scope. \n",
    "- The global scope spans a single files only.\n",
    "- Assigned names are local unless declared globa lor nonlocal.\n",
    "- All other names are enclosing function locals, globals, or built-ins.\n",
    "- Each call to a function creates a new local scope.\n",
    "\n",
    "### Name Resoltion: The LEGB Rule\n",
    "Wit a `def` statement:\n",
    "- Name *assignments* create or change local names by default.\n",
    "- Name reference search at most four scopes: local, then enclosing funtions (if any), then global, then built-in\n",
    "- Name declared in `global` and `nonlocal` statements map assigned names to enclosing modules and function  scopes, respectively.\n"
   ]
  },
  {
   "cell_type": "markdown",
   "id": "76cb670d-ce95-42c7-a7c1-29b4ec0f8b2f",
   "metadata": {},
   "source": [
    "Fucntions can freely use names assigned in syntacticaly enclosing functions and the global scope, but they msut declare such nonlocals and globals in order to change them.\n",
    "\n",
    "*LEGV rule*\n",
    "- When you use an unqualified name inside fa fucntion, Python searches up to four scopes --- the local (L) scope, then the local scopes of any enclosing (E) `def`s and `lambdas`, then the global (G) scope, and the nthe built-in (B) scope -- -and stops at the first place the name is found.\n",
    "If the name is not found during thies search, Pytho nreports an error.\n",
    "- Whe nyou assign a name in a fucntuon (instead of just referring to it in an expression), Python always creates or changed the name in the local scope, unless it's declared to be global or nonlocal in that function.\n",
    "- When you assign a name outside any function (i.e., at the top level of a module file, or at the interactive prompt), the local scope is the same as the global scope --- the module's namespace.)"
   ]
  },
  {
   "cell_type": "markdown",
   "id": "19600fdc-fd94-437b-8e3e-a11265e8f438",
   "metadata": {},
   "source": [
    "#### Other Python scopes: Preview\n",
    "- temporary loop variables i nsome comprehensions\n",
    "- exception reference varible ins some `try` handlers\n",
    "- local scopes in class statements."
   ]
  },
  {
   "cell_type": "markdown",
   "id": "56cb7483-8b73-4215-a019-3128b92bff8a",
   "metadata": {},
   "source": [
    "## Scope Example"
   ]
  },
  {
   "cell_type": "code",
   "execution_count": 3,
   "id": "6d11ec86-48a9-4017-b018-047362e608e6",
   "metadata": {},
   "outputs": [
    {
     "data": {
      "text/plain": [
       "100"
      ]
     },
     "execution_count": 3,
     "metadata": {},
     "output_type": "execute_result"
    }
   ],
   "source": [
    "X = 99\n",
    "def func(Y):\n",
    "    Z = X + Y\n",
    "    return Z\n",
    "\n",
    "func(1)"
   ]
  },
  {
   "cell_type": "markdown",
   "id": "aa3342e6-4932-4f52-a818-7d56120abfcd",
   "metadata": {},
   "source": [
    "### The built-in scope"
   ]
  },
  {
   "cell_type": "code",
   "execution_count": 4,
   "id": "ba299be7-3a60-4151-9b8f-95895c30b8dd",
   "metadata": {},
   "outputs": [
    {
     "data": {
      "text/plain": [
       "['ArithmeticError',\n",
       " 'AssertionError',\n",
       " 'AttributeError',\n",
       " 'BaseException',\n",
       " 'BlockingIOError',\n",
       " 'BrokenPipeError',\n",
       " 'BufferError',\n",
       " 'BytesWarning',\n",
       " 'ChildProcessError',\n",
       " 'ConnectionAbortedError',\n",
       " 'ConnectionError',\n",
       " 'ConnectionRefusedError',\n",
       " 'ConnectionResetError',\n",
       " 'DeprecationWarning',\n",
       " 'EOFError',\n",
       " 'Ellipsis',\n",
       " 'EnvironmentError',\n",
       " 'Exception',\n",
       " 'False',\n",
       " 'FileExistsError',\n",
       " 'FileNotFoundError',\n",
       " 'FloatingPointError',\n",
       " 'FutureWarning',\n",
       " 'GeneratorExit',\n",
       " 'IOError',\n",
       " 'ImportError',\n",
       " 'ImportWarning',\n",
       " 'IndentationError',\n",
       " 'IndexError',\n",
       " 'InterruptedError',\n",
       " 'IsADirectoryError',\n",
       " 'KeyError',\n",
       " 'KeyboardInterrupt',\n",
       " 'LookupError',\n",
       " 'MemoryError',\n",
       " 'ModuleNotFoundError',\n",
       " 'NameError',\n",
       " 'None',\n",
       " 'NotADirectoryError',\n",
       " 'NotImplemented',\n",
       " 'NotImplementedError',\n",
       " 'OSError',\n",
       " 'OverflowError',\n",
       " 'PendingDeprecationWarning',\n",
       " 'PermissionError',\n",
       " 'ProcessLookupError',\n",
       " 'RecursionError',\n",
       " 'ReferenceError',\n",
       " 'ResourceWarning',\n",
       " 'RuntimeError',\n",
       " 'RuntimeWarning',\n",
       " 'StopAsyncIteration',\n",
       " 'StopIteration',\n",
       " 'SyntaxError',\n",
       " 'SyntaxWarning',\n",
       " 'SystemError',\n",
       " 'SystemExit',\n",
       " 'TabError',\n",
       " 'TimeoutError',\n",
       " 'True',\n",
       " 'TypeError',\n",
       " 'UnboundLocalError',\n",
       " 'UnicodeDecodeError',\n",
       " 'UnicodeEncodeError',\n",
       " 'UnicodeError',\n",
       " 'UnicodeTranslateError',\n",
       " 'UnicodeWarning',\n",
       " 'UserWarning',\n",
       " 'ValueError',\n",
       " 'Warning',\n",
       " 'WindowsError',\n",
       " 'ZeroDivisionError',\n",
       " '__IPYTHON__',\n",
       " '__build_class__',\n",
       " '__debug__',\n",
       " '__doc__',\n",
       " '__import__',\n",
       " '__loader__',\n",
       " '__name__',\n",
       " '__package__',\n",
       " '__spec__',\n",
       " 'abs',\n",
       " 'all',\n",
       " 'any',\n",
       " 'ascii',\n",
       " 'bin',\n",
       " 'bool',\n",
       " 'breakpoint',\n",
       " 'bytearray',\n",
       " 'bytes',\n",
       " 'callable',\n",
       " 'chr',\n",
       " 'classmethod',\n",
       " 'compile',\n",
       " 'complex',\n",
       " 'copyright',\n",
       " 'credits',\n",
       " 'delattr',\n",
       " 'dict',\n",
       " 'dir',\n",
       " 'display',\n",
       " 'divmod',\n",
       " 'enumerate',\n",
       " 'eval',\n",
       " 'exec',\n",
       " 'execfile',\n",
       " 'filter',\n",
       " 'float',\n",
       " 'format',\n",
       " 'frozenset',\n",
       " 'get_ipython',\n",
       " 'getattr',\n",
       " 'globals',\n",
       " 'hasattr',\n",
       " 'hash',\n",
       " 'help',\n",
       " 'hex',\n",
       " 'id',\n",
       " 'input',\n",
       " 'int',\n",
       " 'isinstance',\n",
       " 'issubclass',\n",
       " 'iter',\n",
       " 'len',\n",
       " 'license',\n",
       " 'list',\n",
       " 'locals',\n",
       " 'map',\n",
       " 'max',\n",
       " 'memoryview',\n",
       " 'min',\n",
       " 'next',\n",
       " 'object',\n",
       " 'oct',\n",
       " 'open',\n",
       " 'ord',\n",
       " 'pow',\n",
       " 'print',\n",
       " 'property',\n",
       " 'range',\n",
       " 'repr',\n",
       " 'reversed',\n",
       " 'round',\n",
       " 'runfile',\n",
       " 'set',\n",
       " 'setattr',\n",
       " 'slice',\n",
       " 'sorted',\n",
       " 'staticmethod',\n",
       " 'str',\n",
       " 'sum',\n",
       " 'super',\n",
       " 'tuple',\n",
       " 'type',\n",
       " 'vars',\n",
       " 'zip']"
      ]
     },
     "execution_count": 4,
     "metadata": {},
     "output_type": "execute_result"
    }
   ],
   "source": [
    "import builtins\n",
    "dir(builtins)"
   ]
  },
  {
   "cell_type": "code",
   "execution_count": 5,
   "id": "6e13d030-0e1a-46f8-a976-ad0c677a1e0e",
   "metadata": {},
   "outputs": [
    {
     "data": {
      "text/plain": [
       "zip"
      ]
     },
     "execution_count": 5,
     "metadata": {},
     "output_type": "execute_result"
    }
   ],
   "source": [
    "zip"
   ]
  },
  {
   "cell_type": "code",
   "execution_count": 6,
   "id": "f3c29b07-155d-4395-9340-d7e6780ca8fa",
   "metadata": {},
   "outputs": [
    {
     "data": {
      "text/plain": [
       "zip"
      ]
     },
     "execution_count": 6,
     "metadata": {},
     "output_type": "execute_result"
    }
   ],
   "source": [
    "builtins.zip"
   ]
  },
  {
   "cell_type": "code",
   "execution_count": 7,
   "id": "d888284b-69eb-41da-b752-a5d6090e3b05",
   "metadata": {},
   "outputs": [
    {
     "data": {
      "text/plain": [
       "True"
      ]
     },
     "execution_count": 7,
     "metadata": {},
     "output_type": "execute_result"
    }
   ],
   "source": [
    "zip is builtins.zip"
   ]
  },
  {
   "cell_type": "markdown",
   "id": "e20cd672-b053-4d66-9b82-dce04ebd3e34",
   "metadata": {},
   "source": [
    "#### Redefining built-in namews: For better or worse"
   ]
  },
  {
   "cell_type": "code",
   "execution_count": 8,
   "id": "32b1bc3e-67cf-4dd9-965e-327ea6a6088b",
   "metadata": {},
   "outputs": [
    {
     "data": {
      "text/plain": [
       "(156, 147)"
      ]
     },
     "execution_count": 8,
     "metadata": {},
     "output_type": "execute_result"
    }
   ],
   "source": [
    "len(dir(builtins)), len([x for x in dir(builtins) if not x.startswith('__')])"
   ]
  },
  {
   "cell_type": "markdown",
   "id": "02ea1d2a-d190-4210-837e-e141be6ee498",
   "metadata": {},
   "source": [
    "## The Global Statement\n",
    "- Global names are variables assigned at the top level of the enclosing module file.\n",
    "- Global names must be declared only if they are assigned with a function.\n",
    "- Global names may be referenced within a function without being declared\n",
    "\n",
    "In other words, `global` allows us the *change* names that live outside a `def` at the top level of a module file.\n",
    "`nonlocal` statement is almost identical but applies to names i nthe encloding `def`s local scope, rather than named i nthe enclosing module."
   ]
  },
  {
   "cell_type": "code",
   "execution_count": 12,
   "id": "98e1ea36-ee16-4ff3-b449-b561bda59083",
   "metadata": {},
   "outputs": [
    {
     "data": {
      "text/plain": [
       "99"
      ]
     },
     "execution_count": 12,
     "metadata": {},
     "output_type": "execute_result"
    }
   ],
   "source": [
    "X = 88\n",
    "def func():\n",
    "    global X\n",
    "    X = 99\n",
    "    \n",
    "func()\n",
    "X"
   ]
  },
  {
   "cell_type": "code",
   "execution_count": 13,
   "id": "b8bd62c9-3a44-484e-aec0-0d6c43218cef",
   "metadata": {},
   "outputs": [],
   "source": [
    "y, z = 1, 2\n",
    "def all_global():\n",
    "    global x\n",
    "    x = y + z"
   ]
  },
  {
   "cell_type": "code",
   "execution_count": 15,
   "id": "a587b038-3561-43ea-9bab-6431ec2338cc",
   "metadata": {},
   "outputs": [],
   "source": [
    "all_global()"
   ]
  },
  {
   "cell_type": "code",
   "execution_count": 16,
   "id": "37f9b667-4f14-40f9-9119-a754d7906481",
   "metadata": {},
   "outputs": [
    {
     "data": {
      "text/plain": [
       "(3, 1, 2)"
      ]
     },
     "execution_count": 16,
     "metadata": {},
     "output_type": "execute_result"
    }
   ],
   "source": [
    "x, y, z"
   ]
  },
  {
   "cell_type": "markdown",
   "id": "81dfe558-8685-481b-9e87-031ad9962247",
   "metadata": {},
   "source": [
    "### Program Design: Minimize Global Variables\n",
    "In general, functions should rely on arguments and return values instead of globals,."
   ]
  },
  {
   "cell_type": "markdown",
   "id": "435410d5-1b33-4540-96e6-46cfc452b025",
   "metadata": {},
   "source": [
    "### Program Desiogn: Minimize Cross-File Cjamges\n",
    "Although we `can` change variables in another file directly, we usually shouldn't."
   ]
  },
  {
   "cell_type": "markdown",
   "id": "8b3f7534-94f1-440a-87a6-90452a3ebf68",
   "metadata": {},
   "source": [
    "## Scopes and Nested Functions \n",
    "### Nested Scope Details\n",
    "Withini a function\n",
    "- A reference (X) \n",
    "looks for the name X first i n the current local scope (function; then in the local scopes of any lixically enclosing functions in your source code, from inner t oouter, then in the current global scope (the module file); and finally in the built-in scope (the module builtins).\n",
    "Global declarartion s make the search begin in the global (module file) scope instead.\n",
    "- An assignmeng (X = value) creates or changed the name X in the current local scope, by default.\n",
    "If X is declared global within the function, the assignment created of changed the name X i nthe enclosing moudule's scope instead.\n",
    "If, on the other hand, X is declared nonlocal within the function in 3.X, the assignment changes the name X in the closet enclosign function's local scope.\n",
    "\n",
    "### Nested Scope Examples"
   ]
  },
  {
   "cell_type": "code",
   "execution_count": 17,
   "id": "a3df6540-5cbc-4c65-9563-a5d5f7ba6273",
   "metadata": {},
   "outputs": [
    {
     "name": "stdout",
     "output_type": "stream",
     "text": [
      "88\n"
     ]
    }
   ],
   "source": [
    "x = 99\n",
    "def f1():\n",
    "    X = 88\n",
    "    def f2():\n",
    "        print(X)\n",
    "    f2()\n",
    "f1()\n"
   ]
  },
  {
   "cell_type": "code",
   "execution_count": 18,
   "id": "976a9c58-cb26-4e0a-9360-2633eb24fbf1",
   "metadata": {},
   "outputs": [
    {
     "name": "stdout",
     "output_type": "stream",
     "text": [
      "88\n"
     ]
    }
   ],
   "source": [
    "def f1():\n",
    "    X = 88\n",
    "    def f2():\n",
    "        print(X)\n",
    "    return f2\n",
    "action = f1()\n",
    "action()"
   ]
  },
  {
   "cell_type": "markdown",
   "id": "00930365-321b-4338-a1b5-36c4fd06b510",
   "metadata": {},
   "source": [
    "### Factory Functions: Closure\n",
    "#### A simple function factory\n",
    "Factory functions (a. k. a. closures) are sometimes used by programs  that need to generate event handlers on the fly in response to condition at runtime.\n"
   ]
  },
  {
   "cell_type": "code",
   "execution_count": 19,
   "id": "a94adcbc-ec38-4b8c-b1f4-3d29646dcf9b",
   "metadata": {},
   "outputs": [
    {
     "data": {
      "text/plain": [
       "9"
      ]
     },
     "execution_count": 19,
     "metadata": {},
     "output_type": "execute_result"
    }
   ],
   "source": [
    "def maker(N):\n",
    "    def action(X):\n",
    "        return X **N\n",
    "    return action\n",
    "\n",
    "f = maker(2)\n",
    "f(3)"
   ]
  },
  {
   "cell_type": "code",
   "execution_count": 20,
   "id": "a9b1b7d0-3b24-4daf-a7c9-67b37b0f5e6c",
   "metadata": {},
   "outputs": [
    {
     "data": {
      "text/plain": [
       "16"
      ]
     },
     "execution_count": 20,
     "metadata": {},
     "output_type": "execute_result"
    }
   ],
   "source": [
    "f(4)"
   ]
  },
  {
   "cell_type": "code",
   "execution_count": 21,
   "id": "f508f8d5-2093-447a-9402-267335e1da9c",
   "metadata": {},
   "outputs": [
    {
     "data": {
      "text/plain": [
       "27"
      ]
     },
     "execution_count": 21,
     "metadata": {},
     "output_type": "execute_result"
    }
   ],
   "source": [
    "f = maker(3)\n",
    "f(3)"
   ]
  },
  {
   "cell_type": "markdown",
   "id": "9c703d86-5ca0-4bb6-a501-4c57d729768b",
   "metadata": {},
   "source": [
    "Perhaps the most unusualk part of this, though, is that hte nested function remembers interger 2, the value of the variable N in maker, even though maker has returned and exited by tye time we call action.\n",
    "In effect, N from the enclosing local scope is retained as state informatio nattached to the generated action ,which is why we get back its argument squared when it is later called."
   ]
  },
  {
   "cell_type": "markdown",
   "id": "e66ecf4d-fc20-4f4a-b0be-23500f50282d",
   "metadata": {},
   "source": [
    "For example, a `lambda` would serve in place of a `def` in our example"
   ]
  },
  {
   "cell_type": "code",
   "execution_count": 23,
   "id": "a86dcf9c-e58b-449d-94dc-0dbfdd8787b9",
   "metadata": {},
   "outputs": [
    {
     "data": {
      "text/plain": [
       "64"
      ]
     },
     "execution_count": 23,
     "metadata": {},
     "output_type": "execute_result"
    }
   ],
   "source": [
    "def maker(N):\n",
    "    return lambda X: X **N\n",
    "h = maker(3)\n",
    "h(4)"
   ]
  },
  {
   "cell_type": "markdown",
   "id": "09d673bb-f326-400b-84ec-ef179cbe9352",
   "metadata": {},
   "source": [
    "#### Closures versus classes, round 1\n",
    "Retain state betweeen calls.\n",
    "### Retaining Enclosing Scope State wit hDefaults"
   ]
  },
  {
   "cell_type": "code",
   "execution_count": 24,
   "id": "77612bb6-da27-41c6-89a8-1dd756d837e3",
   "metadata": {},
   "outputs": [
    {
     "name": "stdout",
     "output_type": "stream",
     "text": [
      "88\n"
     ]
    }
   ],
   "source": [
    "def f1():\n",
    "    x = 88\n",
    "    def f2(x=x):\n",
    "        print(x)\n",
    "    f2()\n",
    "\n",
    "f1()"
   ]
  },
  {
   "cell_type": "markdown",
   "id": "bcba621a-2f36-4de1-ac04-0e1a59670d09",
   "metadata": {},
   "source": [
    "The best prescription for much code is simply to avoid nesting `def`s within `def`s, as it will make your programs much simpler---in the Pythonic view, flat is generally better than nested.\n",
    "\n",
    "It's Ok to call a function defined after the functio nthat calls it, as long as the second `def` runs before the first function is actually called.\n",
    "Code inside a `def` is never evaluated until the function is actually called."
   ]
  },
  {
   "cell_type": "code",
   "execution_count": 25,
   "id": "98fcfdf8-3e51-4be9-a29a-9dd9508081fb",
   "metadata": {},
   "outputs": [
    {
     "name": "stdout",
     "output_type": "stream",
     "text": [
      "88\n"
     ]
    }
   ],
   "source": [
    "def f1():\n",
    "    x =88\n",
    "    f2(x)\n",
    "\n",
    "def f2(x):\n",
    "    print(x)\n",
    "f1()"
   ]
  },
  {
   "cell_type": "markdown",
   "id": "ec9036ec-9c5e-4ed0-ba63-f33be657ecb1",
   "metadata": {},
   "source": [
    "If you avoid nesting theis way, you can almost forget about the nested scopes concept in Python.\n",
    "On the oter hand, the nested function of closure (factory) functiosn are fairly common in modern Python code, as are `lambda` functins --- which almost naturally appear nested in `def`s and often rely on rthe nested scope layer, as the next section explains.\n",
    "#### Nested scopes, default, and lambdas\n"
   ]
  },
  {
   "cell_type": "code",
   "execution_count": 26,
   "id": "7ed2cbca-43d6-4294-bd6c-9d4347d7aecd",
   "metadata": {},
   "outputs": [
    {
     "data": {
      "text/plain": [
       "16"
      ]
     },
     "execution_count": 26,
     "metadata": {},
     "output_type": "execute_result"
    }
   ],
   "source": [
    "def func():\n",
    "    x = 4\n",
    "    action =(lambda n: x **n)\n",
    "    return action\n",
    "x =func()\n",
    "x(2)"
   ]
  },
  {
   "cell_type": "code",
   "execution_count": 27,
   "id": "1acea2b6-f9ff-47cd-9561-b99b84d7fe79",
   "metadata": {},
   "outputs": [
    {
     "data": {
      "text/plain": [
       "16"
      ]
     },
     "execution_count": 27,
     "metadata": {},
     "output_type": "execute_result"
    }
   ],
   "source": [
    "def func():\n",
    "    x = 4\n",
    "    action = (lambda n, x = x: x**n)\n",
    "    return action\n",
    "\n",
    "x = func()\n",
    "x(2)"
   ]
  },
  {
   "cell_type": "markdown",
   "id": "97365dda-f18b-4ff1-9877-c4be8ffef201",
   "metadata": {},
   "source": [
    "They were perhaps the biggest initial beneficiaries of the addition of enclosing function scopes in the lookup rules; in most cases, it is no longer necessary to pass values into `lambda`s wit hdefaults."
   ]
  },
  {
   "cell_type": "markdown",
   "id": "8f0e7d9b-18e7-42fd-8f83-c5ceebe0dfac",
   "metadata": {},
   "source": [
    "### Loop variable may require defaults, not scopes\n"
   ]
  },
  {
   "cell_type": "code",
   "execution_count": 28,
   "id": "b493e8cd-6ba0-433a-9b55-250c69c75f05",
   "metadata": {},
   "outputs": [
    {
     "data": {
      "text/plain": [
       "<function __main__.makeActions.<locals>.<lambda>(x)>"
      ]
     },
     "execution_count": 28,
     "metadata": {},
     "output_type": "execute_result"
    }
   ],
   "source": [
    "def makeActions():\n",
    "    acts = []\n",
    "    for i in range(5):\n",
    "        acts.append(lambda x: i**x)\n",
    "    return acts\n",
    "\n",
    "acts = makeActions()\n",
    "acts[0]"
   ]
  },
  {
   "cell_type": "code",
   "execution_count": 29,
   "id": "3bdbc979-2036-482a-b09c-77863801b405",
   "metadata": {},
   "outputs": [
    {
     "data": {
      "text/plain": [
       "16"
      ]
     },
     "execution_count": 29,
     "metadata": {},
     "output_type": "execute_result"
    }
   ],
   "source": [
    "acts[0](2)"
   ]
  },
  {
   "cell_type": "code",
   "execution_count": 30,
   "id": "99f07614-f27b-4cd7-9bc2-38690ee0d8a8",
   "metadata": {},
   "outputs": [
    {
     "data": {
      "text/plain": [
       "16"
      ]
     },
     "execution_count": 30,
     "metadata": {},
     "output_type": "execute_result"
    }
   ],
   "source": [
    "acts[1](2)"
   ]
  },
  {
   "cell_type": "markdown",
   "id": "ff829795-413f-4d33-9fb9-f410da51c66f",
   "metadata": {},
   "source": [
    "This doesn't quite work, because the enclosing scope variable is looked up when the nested functions are later called, they all effectively remember the same value: the value the loop variable had on the last loop iteration."
   ]
  },
  {
   "cell_type": "code",
   "execution_count": 31,
   "id": "5ad92dfc-081d-4f95-bd62-8e412a36db59",
   "metadata": {},
   "outputs": [
    {
     "data": {
      "text/plain": [
       "<function __main__.makeActions.<locals>.<lambda>(x, i=0)>"
      ]
     },
     "execution_count": 31,
     "metadata": {},
     "output_type": "execute_result"
    }
   ],
   "source": [
    "def makeActions():\n",
    "    acts = []\n",
    "    for i in range(5):\n",
    "        acts.append(lambda x, i = i: i**x)\n",
    "    return acts\n",
    "\n",
    "acts = makeActions()\n",
    "acts[0]"
   ]
  },
  {
   "cell_type": "code",
   "execution_count": 32,
   "id": "23346e29-9223-41ff-97d1-d4a05e044700",
   "metadata": {},
   "outputs": [
    {
     "data": {
      "text/plain": [
       "0"
      ]
     },
     "execution_count": 32,
     "metadata": {},
     "output_type": "execute_result"
    }
   ],
   "source": [
    "acts[0](2)"
   ]
  },
  {
   "cell_type": "code",
   "execution_count": 33,
   "id": "fdbc5b81-9b8d-4f49-8df2-22b0cae55ab3",
   "metadata": {},
   "outputs": [
    {
     "data": {
      "text/plain": [
       "1"
      ]
     },
     "execution_count": 33,
     "metadata": {},
     "output_type": "execute_result"
    }
   ],
   "source": [
    "acts[1](2)"
   ]
  },
  {
   "cell_type": "code",
   "execution_count": 34,
   "id": "47c087eb-e745-48e1-a74a-ae94950e330f",
   "metadata": {},
   "outputs": [
    {
     "data": {
      "text/plain": [
       "4"
      ]
     },
     "execution_count": 34,
     "metadata": {},
     "output_type": "execute_result"
    }
   ],
   "source": [
    "acts[2](2)"
   ]
  },
  {
   "cell_type": "markdown",
   "id": "1fa5146b-cee1-4a66-9b29-3860b4fde412",
   "metadata": {},
   "source": [
    "#### Arbitrary scope nesting\n",
    "## The nonlocal Statenebt ub 3.x\n",
    "似乎是在内部函数中对外部的变量赋值用，似乎意义不大，而且最好避免。这一节暂时跳过。"
   ]
  },
  {
   "cell_type": "code",
   "execution_count": null,
   "id": "71ef2ad1-da88-470b-9d62-5c0c5657e8ba",
   "metadata": {},
   "outputs": [],
   "source": []
  }
 ],
 "metadata": {
  "kernelspec": {
   "display_name": "Python 3 (ipykernel)",
   "language": "python",
   "name": "python3"
  },
  "language_info": {
   "codemirror_mode": {
    "name": "ipython",
    "version": 3
   },
   "file_extension": ".py",
   "mimetype": "text/x-python",
   "name": "python",
   "nbconvert_exporter": "python",
   "pygments_lexer": "ipython3",
   "version": "3.9.12"
  }
 },
 "nbformat": 4,
 "nbformat_minor": 5
}
