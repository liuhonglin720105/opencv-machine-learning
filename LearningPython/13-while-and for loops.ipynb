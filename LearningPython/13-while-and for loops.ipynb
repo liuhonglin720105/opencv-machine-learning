{
 "cells": [
  {
   "cell_type": "markdown",
   "id": "d6f58d42-db77-49fb-b490-ed6aabaddc05",
   "metadata": {},
   "source": [
    "# Chapter 13 while and for loop\n",
    "## while loops\n",
    "### General Format\n",
    "while test:\n",
    "    \n",
    "    statements\n",
    "    \n",
    "else:\n",
    "\n",
    "    statements\n",
    "\n",
    "### Examples\n"
   ]
  },
  {
   "cell_type": "code",
   "execution_count": 5,
   "id": "7f067214-83dc-409a-bd77-880bb693c099",
   "metadata": {},
   "outputs": [],
   "source": [
    "# while True:\n",
    "#    print('type Ctrl_c to stop me!')"
   ]
  },
  {
   "cell_type": "code",
   "execution_count": 6,
   "id": "7e90333e-aabd-4ee6-babd-990ec7d0c252",
   "metadata": {},
   "outputs": [
    {
     "name": "stdout",
     "output_type": "stream",
     "text": [
      "spam pam am m "
     ]
    }
   ],
   "source": [
    "x = 'spam'\n",
    "while x:\n",
    "    print(x, end=' ')\n",
    "    x= x[1:]"
   ]
  },
  {
   "cell_type": "code",
   "execution_count": 7,
   "id": "b7273ccf-531c-46d5-9ff8-4574332dd775",
   "metadata": {},
   "outputs": [
    {
     "name": "stdout",
     "output_type": "stream",
     "text": [
      "0 1 2 3 4 5 6 7 8 9 "
     ]
    }
   ],
   "source": [
    "a = 0; b =10\n",
    "while a < b:\n",
    "    print(a, end= ' ')\n",
    "    a += 1"
   ]
  },
  {
   "cell_type": "markdown",
   "id": "6a821f1f-a449-4072-ace0-605a6e5a172d",
   "metadata": {},
   "source": [
    "## break, continue, and the Loop else\n",
    "### General Loop Format\n",
    "### pass\n",
    "### continue"
   ]
  },
  {
   "cell_type": "code",
   "execution_count": 12,
   "id": "a6aa1ebb-c8e0-445e-9ddf-278244cfca21",
   "metadata": {},
   "outputs": [
    {
     "name": "stdout",
     "output_type": "stream",
     "text": [
      "8 6 4 2 0 "
     ]
    }
   ],
   "source": [
    "x = 10\n",
    "while x:\n",
    "    x =x -1\n",
    "    if x%2: continue\n",
    "    print(x, end =' ')"
   ]
  },
  {
   "cell_type": "markdown",
   "id": "67ffa113-87c6-4f98-91b6-b845079badd9",
   "metadata": {},
   "source": [
    "### break\n"
   ]
  },
  {
   "cell_type": "code",
   "execution_count": 14,
   "id": "ddd7a3c2-fd1a-4dc2-b609-9e92d1441b85",
   "metadata": {},
   "outputs": [
    {
     "name": "stdin",
     "output_type": "stream",
     "text": [
      "enter name: liu\n",
      "Enter age:  23\n"
     ]
    },
    {
     "name": "stdout",
     "output_type": "stream",
     "text": [
      "Hello  liu => 529\n"
     ]
    },
    {
     "name": "stdin",
     "output_type": "stream",
     "text": [
      "enter name: stop\n"
     ]
    }
   ],
   "source": [
    "while True:\n",
    "    name = input('enter name:')\n",
    "    if name == 'stop': break\n",
    "    age = input('Enter age: ')\n",
    "    print ('Hello ', name, '=>', int(age) ** 2)\n",
    "                "
   ]
  },
  {
   "cell_type": "markdown",
   "id": "e6028eaa-d207-4269-942b-3fac2f498bd1",
   "metadata": {},
   "source": [
    "###  Loop else"
   ]
  },
  {
   "cell_type": "code",
   "execution_count": 20,
   "id": "22e05873-5857-45c2-92e4-970eef1c8ebd",
   "metadata": {},
   "outputs": [
    {
     "name": "stdin",
     "output_type": "stream",
     "text": [
      "Pls, input a number: 10\n"
     ]
    },
    {
     "name": "stdout",
     "output_type": "stream",
     "text": [
      "10 has factor 5\n"
     ]
    }
   ],
   "source": [
    "y = int(input('Pls, input a number:'))\n",
    "x = y // 2\n",
    "while x > 1:\n",
    "    if y % x ==0:\n",
    "        print(y, 'has factor', x)\n",
    "        break\n",
    "    x -= 1\n",
    "else:\n",
    "    print(y, 'is prime')"
   ]
  },
  {
   "cell_type": "markdown",
   "id": "062254ff-be26-4fa2-a51f-94f9341bf64a",
   "metadata": {},
   "source": [
    "#### More on the loop else"
   ]
  },
  {
   "cell_type": "markdown",
   "id": "9bd37ff0-e910-4415-b792-ed2e59621cb2",
   "metadata": {},
   "source": [
    "## for loops\n",
    "The for loops is a generic iterator in Python: it can step through the items in any ordered sequence or other iterable ojects.\n",
    "The for statementg works on stings,  lists, tuples, and other built-in iterables, as well as new user-defiend objects that we'll learn how to create later with classes.|\n",
    "\n",
    "### Gereral Format\n",
    "\n",
    "for target in object:\n",
    "\n",
    "    statements\n",
    "\n",
    "else:\n",
    "    \n",
    "    statements\n",
    "\n",
    "### Examples\n",
    "#### Basic usage"
   ]
  },
  {
   "cell_type": "code",
   "execution_count": 21,
   "id": "b277f737-2cde-4f0e-80ec-c5b6b6eb3ec5",
   "metadata": {},
   "outputs": [
    {
     "name": "stdout",
     "output_type": "stream",
     "text": [
      "spam eggs ham "
     ]
    }
   ],
   "source": [
    "for x in [\"spam\", \"eggs\", \"ham\"]:\n",
    "    print (x, end =' ')"
   ]
  },
  {
   "cell_type": "code",
   "execution_count": 22,
   "id": "0f1ca635-be61-4aae-8bd4-c7e5d2263175",
   "metadata": {},
   "outputs": [
    {
     "data": {
      "text/plain": [
       "10"
      ]
     },
     "execution_count": 22,
     "metadata": {},
     "output_type": "execute_result"
    }
   ],
   "source": [
    "sum = 0\n",
    "for x in [1, 2, 3, 4]:\n",
    "    sum = sum +x\n",
    "sum"
   ]
  },
  {
   "cell_type": "code",
   "execution_count": 26,
   "id": "f7744774-4348-4220-bf41-d5316aef46a5",
   "metadata": {},
   "outputs": [
    {
     "data": {
      "text/plain": [
       "24"
      ]
     },
     "execution_count": 26,
     "metadata": {},
     "output_type": "execute_result"
    }
   ],
   "source": [
    "prod = 1\n",
    "for item in [1, 2, 3, 4]: prod *= item\n",
    "prod"
   ]
  },
  {
   "cell_type": "markdown",
   "id": "24ebdd03-a230-4dd2-8df3-e685ff3a84aa",
   "metadata": {},
   "source": [
    "#### Other data types"
   ]
  },
  {
   "cell_type": "code",
   "execution_count": 33,
   "id": "ca8b840f-634d-4f51-87bf-65b6fdd22b17",
   "metadata": {},
   "outputs": [
    {
     "name": "stdout",
     "output_type": "stream",
     "text": [
      "l u m b e r j a c k and I'm okay "
     ]
    }
   ],
   "source": [
    "S = \"lumberjack\"\n",
    "T = (\"and\", \"I'm\", \"okay\")\n",
    "\n",
    "for x in S: print(x, end = \" \")\n",
    "\n",
    "for x in T: print(x, end = ' ')"
   ]
  },
  {
   "cell_type": "markdown",
   "id": "f4a14977-cc51-4184-9bbc-e240b1f9e3bc",
   "metadata": {},
   "source": [
    "#### Tuple assignment in for loops"
   ]
  },
  {
   "cell_type": "code",
   "execution_count": 37,
   "id": "ca837918-d775-4cd2-bdc6-8be6bc2982fc",
   "metadata": {},
   "outputs": [
    {
     "name": "stdout",
     "output_type": "stream",
     "text": [
      "1 2\n",
      "3 4\n",
      "5 6\n"
     ]
    }
   ],
   "source": [
    "T = [(1, 2), (3, 4), (5,6)]\n",
    "for (a, b) in T:\n",
    "    print(a, b)"
   ]
  },
  {
   "cell_type": "code",
   "execution_count": 39,
   "id": "347b870f-2d44-4a1d-9822-19089fe7f210",
   "metadata": {},
   "outputs": [
    {
     "name": "stdout",
     "output_type": "stream",
     "text": [
      "a => 1\n",
      "b => 2\n",
      "c => 3\n"
     ]
    }
   ],
   "source": [
    "D = {'a': 1, 'b': 2, 'c': 3}\n",
    "for key in D:\n",
    "    print(key, '=>',  D[key])"
   ]
  },
  {
   "cell_type": "code",
   "execution_count": 40,
   "id": "2b02ef9e-fc87-4dc8-aa06-306ade290f5b",
   "metadata": {},
   "outputs": [
    {
     "data": {
      "text/plain": [
       "[('a', 1), ('b', 2), ('c', 3)]"
      ]
     },
     "execution_count": 40,
     "metadata": {},
     "output_type": "execute_result"
    }
   ],
   "source": [
    "list(D.items())"
   ]
  },
  {
   "cell_type": "code",
   "execution_count": 41,
   "id": "029e5a41-365a-4f43-9b56-06fffa692d06",
   "metadata": {},
   "outputs": [
    {
     "name": "stdout",
     "output_type": "stream",
     "text": [
      "a => 1\n",
      "b => 2\n",
      "c => 3\n"
     ]
    }
   ],
   "source": [
    "for (key, value) in D.items():\n",
    "    print(key, '=>', value)"
   ]
  },
  {
   "cell_type": "code",
   "execution_count": 42,
   "id": "3613192b-e224-4792-9bb4-c9ad6f0d9cc1",
   "metadata": {},
   "outputs": [
    {
     "data": {
      "text/plain": [
       "[(1, 2), (3, 4), (5, 6)]"
      ]
     },
     "execution_count": 42,
     "metadata": {},
     "output_type": "execute_result"
    }
   ],
   "source": [
    "T"
   ]
  },
  {
   "cell_type": "code",
   "execution_count": 43,
   "id": "1a188ddf-d891-4356-b765-850cd73721ad",
   "metadata": {},
   "outputs": [
    {
     "name": "stdout",
     "output_type": "stream",
     "text": [
      "1 2\n",
      "3 4\n",
      "5 6\n"
     ]
    }
   ],
   "source": [
    "for both in T:\n",
    "    a, b = both\n",
    "    print(a,b)"
   ]
  },
  {
   "cell_type": "code",
   "execution_count": 44,
   "id": "3762f2b8-afaf-4091-a136-7d83ecf078d5",
   "metadata": {},
   "outputs": [
    {
     "data": {
      "text/plain": [
       "(1, 2, 3)"
      ]
     },
     "execution_count": 44,
     "metadata": {},
     "output_type": "execute_result"
    }
   ],
   "source": [
    "((a, b), c) = ((1, 2), 3)\n",
    "a, b, c"
   ]
  },
  {
   "cell_type": "code",
   "execution_count": 46,
   "id": "3326cb4c-c7e8-478b-8721-df9a82b3f7de",
   "metadata": {},
   "outputs": [
    {
     "name": "stdout",
     "output_type": "stream",
     "text": [
      "1 2 3\n",
      "4 5 6\n"
     ]
    }
   ],
   "source": [
    "for ((a, b), c) in [((1, 2), 3), ((4, 5), 6)]: print (a, b, c)"
   ]
  },
  {
   "cell_type": "code",
   "execution_count": 47,
   "id": "c51c441e-4481-4770-af98-28e950eddf49",
   "metadata": {},
   "outputs": [
    {
     "name": "stdout",
     "output_type": "stream",
     "text": [
      "1 2 3\n",
      "X Y 6\n"
     ]
    }
   ],
   "source": [
    "for ((a, b), c) in [([1,2], 3), ['XY', 6]]: print(a, b, c)"
   ]
  },
  {
   "cell_type": "markdown",
   "id": "4e600218-91a4-40ab-980e-439a6b377ef7",
   "metadata": {},
   "source": [
    "#### Python 3.X extended sequence assignment i nfor loops\n"
   ]
  },
  {
   "cell_type": "code",
   "execution_count": 48,
   "id": "73012fff-87df-4d7e-abe8-62d51f3f3f04",
   "metadata": {},
   "outputs": [
    {
     "data": {
      "text/plain": [
       "(1, 2, 3)"
      ]
     },
     "execution_count": 48,
     "metadata": {},
     "output_type": "execute_result"
    }
   ],
   "source": [
    "a, b, c = (1, 2, 3)\n",
    "a, b, c"
   ]
  },
  {
   "cell_type": "code",
   "execution_count": 49,
   "id": "06285983-9b93-4bb3-a776-86286f111745",
   "metadata": {},
   "outputs": [
    {
     "name": "stdout",
     "output_type": "stream",
     "text": [
      "1 2 3\n",
      "4 5 6\n"
     ]
    }
   ],
   "source": [
    "for (a, b, c) in [(1, 2, 3),  (4, 5, 6)]:\n",
    "    print(a, b, c)"
   ]
  },
  {
   "cell_type": "code",
   "execution_count": 50,
   "id": "1e722774-9f89-4997-86aa-2cdfa6da3995",
   "metadata": {},
   "outputs": [
    {
     "data": {
      "text/plain": [
       "(1, [2, 3], 4)"
      ]
     },
     "execution_count": 50,
     "metadata": {},
     "output_type": "execute_result"
    }
   ],
   "source": [
    "a, *b, c = (1, 2, 3, 4)\n",
    "a, b, c"
   ]
  },
  {
   "cell_type": "code",
   "execution_count": 51,
   "id": "6e0f06e9-1cbe-4f10-befe-252d110c1799",
   "metadata": {},
   "outputs": [
    {
     "name": "stdout",
     "output_type": "stream",
     "text": [
      "1 [2, 3] 4\n",
      "5 [6, 7] 8\n"
     ]
    }
   ],
   "source": [
    "for (a, *b, c) in [(1, 2, 3,4),  (5, 6, 7 ,8)]:\n",
    "    print(a, b, c)"
   ]
  },
  {
   "cell_type": "markdown",
   "id": "76eab738-acfa-4478-8392-dd06e26d980a",
   "metadata": {},
   "source": [
    "#### Nested for loops\n"
   ]
  },
  {
   "cell_type": "code",
   "execution_count": 53,
   "id": "07e483fa-584d-49e7-a7a7-7d007550544c",
   "metadata": {},
   "outputs": [
    {
     "name": "stdout",
     "output_type": "stream",
     "text": [
      "(4, 5) was found\n",
      "3.14 not found\n"
     ]
    }
   ],
   "source": [
    "items = [\"aaa\", 111, (4,5), 2.01]\n",
    "tests = [(4,5), 3.14]\n",
    "\n",
    "for key in tests:\n",
    "    for item in items:\n",
    "        if item == key:\n",
    "            print(key, \"was found\")\n",
    "            break\n",
    "    else:\n",
    "        print(key, \"not found\")"
   ]
  },
  {
   "cell_type": "code",
   "execution_count": 54,
   "id": "f2ebafe8-26d0-4055-a7b1-d53318ace3a9",
   "metadata": {},
   "outputs": [
    {
     "name": "stdout",
     "output_type": "stream",
     "text": [
      "(4, 5) was found\n",
      "3.14 not dound!\n"
     ]
    }
   ],
   "source": [
    "for key in tests:\n",
    "    if key in items:\n",
    "        print(key, \"was found\")\n",
    "    else:\n",
    "        print(key, \"not dound!\")"
   ]
  },
  {
   "cell_type": "code",
   "execution_count": 55,
   "id": "41d6e6cb-c6ac-45fe-908f-f3ad45ff4048",
   "metadata": {},
   "outputs": [],
   "source": [
    "seq1 = \"spam\"\n",
    "seq2 = \"scam\"\n",
    "\n",
    "res = []\n",
    "for x in seq1:\n",
    "    if x in seq2:\n",
    "        res.append(x)"
   ]
  },
  {
   "cell_type": "code",
   "execution_count": 56,
   "id": "dc329d5b-8923-446e-8a86-c1ba87165189",
   "metadata": {},
   "outputs": [
    {
     "data": {
      "text/plain": [
       "['s', 'a', 'm']"
      ]
     },
     "execution_count": 56,
     "metadata": {},
     "output_type": "execute_result"
    }
   ],
   "source": [
    "res"
   ]
  },
  {
   "cell_type": "code",
   "execution_count": 57,
   "id": "bd991193-20a4-4e2b-932b-3de30d544aee",
   "metadata": {},
   "outputs": [
    {
     "data": {
      "text/plain": [
       "['s', 'a', 'm']"
      ]
     },
     "execution_count": 57,
     "metadata": {},
     "output_type": "execute_result"
    }
   ],
   "source": [
    "[x for x in seq1 if x in seq2]"
   ]
  },
  {
   "cell_type": "markdown",
   "id": "e7552b6f-a638-4e8b-975d-6dea8a23dc68",
   "metadata": {},
   "source": [
    "## Loop Coding Techniques\n",
    "You should resist the temptation to count things in Python.\n",
    "- The built-in `range` function produce a series of successively higher integers, which can bus used as indexes in a 1for`.\n",
    "- The built-in `zip` function returnsd a series of parallel-item tuples, which can bu used to traverse multiple sequences in a `for`.\n",
    "- The built-in `map` function can have have a similar effect to `zip` in Python 2.X, though this role is removed in 3.X.\n",
    "### Counter Loops: range\n"
   ]
  },
  {
   "cell_type": "code",
   "execution_count": 59,
   "id": "cb0ddf7b-54dc-4d21-ba04-8d8f676fa694",
   "metadata": {},
   "outputs": [
    {
     "data": {
      "text/plain": [
       "([0, 1, 2, 3, 4], [2, 3, 4], [0, 2, 4, 6, 8])"
      ]
     },
     "execution_count": 59,
     "metadata": {},
     "output_type": "execute_result"
    }
   ],
   "source": [
    "list(range(5)), list(range(2,5)), list(range(0,10,2))"
   ]
  },
  {
   "cell_type": "markdown",
   "id": "70ee02a9-4c19-4ead-8af4-3f95b210b3df",
   "metadata": {},
   "source": [
    "Range can also be nonpositive and nonascending, if you went them to be:"
   ]
  },
  {
   "cell_type": "code",
   "execution_count": 61,
   "id": "772e4a30-f069-4d7e-a16f-84362536f034",
   "metadata": {},
   "outputs": [
    {
     "data": {
      "text/plain": [
       "[-5, -4, -3, -2, -1, 0, 1, 2, 3, 4]"
      ]
     },
     "execution_count": 61,
     "metadata": {},
     "output_type": "execute_result"
    }
   ],
   "source": [
    "list(range(-5, 5))"
   ]
  },
  {
   "cell_type": "code",
   "execution_count": 62,
   "id": "8d066e8d-8bc8-44b7-95b4-f16e389a11d9",
   "metadata": {},
   "outputs": [
    {
     "data": {
      "text/plain": [
       "[5, 4, 3, 2, 1, 0, -1, -2, -3, -4]"
      ]
     },
     "execution_count": 62,
     "metadata": {},
     "output_type": "execute_result"
    }
   ],
   "source": [
    "list(range(5, -5,-1))"
   ]
  },
  {
   "cell_type": "code",
   "execution_count": 63,
   "id": "f056590f-6fa3-4b54-8cc9-12f010d081ca",
   "metadata": {},
   "outputs": [
    {
     "name": "stdout",
     "output_type": "stream",
     "text": [
      "0 Pythons\n",
      "1 Pythons\n",
      "2 Pythons\n"
     ]
    }
   ],
   "source": [
    "for i in range (3):\n",
    "    print(i, 'Pythons')"
   ]
  },
  {
   "cell_type": "markdown",
   "id": "6bda6147-8a8a-4986-ae99-aa562a5811bf",
   "metadata": {},
   "source": [
    "### Sequenc Scans: while and rage Versus for"
   ]
  },
  {
   "cell_type": "code",
   "execution_count": 65,
   "id": "5c601d13-31b4-44b6-89bc-ee7179e20533",
   "metadata": {},
   "outputs": [
    {
     "name": "stdout",
     "output_type": "stream",
     "text": [
      "s p a m "
     ]
    }
   ],
   "source": [
    "X = 'spam'\n",
    "for item in X: print(item, end =' ')"
   ]
  },
  {
   "cell_type": "code",
   "execution_count": 67,
   "id": "8d88f68a-c976-494a-90d7-9be05c4fe147",
   "metadata": {},
   "outputs": [
    {
     "name": "stdout",
     "output_type": "stream",
     "text": [
      "s p a m "
     ]
    }
   ],
   "source": [
    "i = 0\n",
    "while i <len(X):\n",
    "    print(X[i], end = ' ')\n",
    "    i += 1"
   ]
  },
  {
   "cell_type": "code",
   "execution_count": 69,
   "id": "77acb736-6331-40a1-9a6c-fd76bef9d026",
   "metadata": {},
   "outputs": [
    {
     "name": "stdout",
     "output_type": "stream",
     "text": [
      "s p a m "
     ]
    }
   ],
   "source": [
    "for i in range(len(X)): print(X[i], end = ' ' )"
   ]
  },
  {
   "cell_type": "code",
   "execution_count": 71,
   "id": "b6e52016-aad9-417c-9674-8cc587b6428f",
   "metadata": {},
   "outputs": [
    {
     "name": "stdout",
     "output_type": "stream",
     "text": [
      "s p a m "
     ]
    }
   ],
   "source": [
    "for item in X: print(item, end = ' ')"
   ]
  },
  {
   "cell_type": "markdown",
   "id": "f55e4858-bd85-45c9-b8fb-2108499f22db",
   "metadata": {},
   "source": [
    "### Sequence Shufflers: range amd len\n"
   ]
  },
  {
   "cell_type": "code",
   "execution_count": 76,
   "id": "11073d21-1fb6-468f-8c39-04068b6eaea5",
   "metadata": {},
   "outputs": [
    {
     "name": "stdout",
     "output_type": "stream",
     "text": [
      "pams amsp mspa spam "
     ]
    }
   ],
   "source": [
    "S = 'spam'\n",
    "for i in range(len(S)):\n",
    "    S= S[1:] + S[:1]\n",
    "    print(S, end = ' ')"
   ]
  },
  {
   "cell_type": "code",
   "execution_count": 78,
   "id": "befd6d86-0a4b-4928-a1e8-c92844e18883",
   "metadata": {},
   "outputs": [
    {
     "name": "stdout",
     "output_type": "stream",
     "text": [
      "spam pams amsp mspa "
     ]
    }
   ],
   "source": [
    "for i in range(len(S)):\n",
    "    X = S[i:] + S[:i]\n",
    "    print(X, end = ' ')"
   ]
  },
  {
   "cell_type": "code",
   "execution_count": 82,
   "id": "53ca551e-098d-4bae-9119-7b12b15eaf24",
   "metadata": {},
   "outputs": [
    {
     "name": "stdout",
     "output_type": "stream",
     "text": [
      "[1, 2, 3] [2, 3, 1] [3, 1, 2] "
     ]
    }
   ],
   "source": [
    "L= [1, 2,3]\n",
    "for i in range(len(L)):\n",
    "    X = L[i:] + L[:i]\n",
    "    print(X, end = ' ')"
   ]
  },
  {
   "cell_type": "markdown",
   "id": "d205f539-aacc-40d7-9361-bd9361b76a29",
   "metadata": {},
   "source": [
    "### Nonexhaustive Traversals: range Versus Slices\n"
   ]
  },
  {
   "cell_type": "code",
   "execution_count": 85,
   "id": "919d6603-5250-4830-9332-a024aeb8a81d",
   "metadata": {},
   "outputs": [
    {
     "data": {
      "text/plain": [
       "[0, 2, 4, 6, 8, 10]"
      ]
     },
     "execution_count": 85,
     "metadata": {},
     "output_type": "execute_result"
    }
   ],
   "source": [
    "S = 'abcdefghijk'\n",
    "list(range(0,len(S),2))"
   ]
  },
  {
   "cell_type": "code",
   "execution_count": 87,
   "id": "e3a3de37-453e-40c8-b1a3-5b284c3da879",
   "metadata": {},
   "outputs": [
    {
     "name": "stdout",
     "output_type": "stream",
     "text": [
      "a c e g i k "
     ]
    }
   ],
   "source": [
    "for i in range(0, len(S), 2): print(S[i], end = ' ')"
   ]
  },
  {
   "cell_type": "code",
   "execution_count": 89,
   "id": "f01dc687-0abf-41c7-afb8-9cf7f2de0f51",
   "metadata": {},
   "outputs": [
    {
     "name": "stdout",
     "output_type": "stream",
     "text": [
      "acegik"
     ]
    }
   ],
   "source": [
    "for c in S[::2]: print(c, end = '')"
   ]
  },
  {
   "cell_type": "markdown",
   "id": "185baca4-e87a-456e-8110-f6cf1ad7a0a0",
   "metadata": {},
   "source": [
    "### Changing Lists: range Versus Comprehensions"
   ]
  },
  {
   "cell_type": "code",
   "execution_count": 91,
   "id": "53b762a9-4340-4a8f-82bf-fe41f9ab624a",
   "metadata": {},
   "outputs": [
    {
     "data": {
      "text/plain": [
       "[2, 3, 4, 5, 6]"
      ]
     },
     "execution_count": 91,
     "metadata": {},
     "output_type": "execute_result"
    }
   ],
   "source": [
    "L = [1, 2, 3, 4,5]\n",
    "[ x + 1 for x in L]"
   ]
  },
  {
   "cell_type": "markdown",
   "id": "c4671c4f-753d-4a09-909b-da7587738f02",
   "metadata": {},
   "source": [
    "### Parallel Traversal: zip and map"
   ]
  },
  {
   "cell_type": "code",
   "execution_count": 92,
   "id": "3ad63712-aac2-4010-8260-84aaac7fb232",
   "metadata": {},
   "outputs": [
    {
     "data": {
      "text/plain": [
       "[(1, 5), (2, 6), (3, 7), (4, 8)]"
      ]
     },
     "execution_count": 92,
     "metadata": {},
     "output_type": "execute_result"
    }
   ],
   "source": [
    "L1 = [1, 2, 3, 4]\n",
    "L2 = [5, 6, 7, 8]\n",
    "list(zip(L1, L2))"
   ]
  },
  {
   "cell_type": "code",
   "execution_count": 94,
   "id": "e0414fb8-c413-45cb-b600-c056c776a196",
   "metadata": {},
   "outputs": [
    {
     "name": "stdout",
     "output_type": "stream",
     "text": [
      "1 5 -- 6\n",
      "2 6 -- 8\n",
      "3 7 -- 10\n",
      "4 8 -- 12\n"
     ]
    }
   ],
   "source": [
    "for x, y in zip(L1, L2):\n",
    "    print(x, y, '--', x+y)"
   ]
  },
  {
   "cell_type": "markdown",
   "id": "7f4d9dc2-18e6-41a1-9310-fa58ae082336",
   "metadata": {},
   "source": [
    "Strictly speaking, the `zip` function is more general than this example suggests.\n",
    "For instance, it accepts any type of sequence (really, any iterable object, including files), and it accepts more than two argments.\n"
   ]
  },
  {
   "cell_type": "code",
   "execution_count": 97,
   "id": "bec1c679-ec4b-42bf-bcf5-4cf3c03e2f49",
   "metadata": {},
   "outputs": [],
   "source": [
    "T1, T2, T3 = (1, 2, 3), (4, 5, 6), (7, 8, 9)"
   ]
  },
  {
   "cell_type": "code",
   "execution_count": 98,
   "id": "a3a185d9-db57-4f65-86eb-6b08f1a6e894",
   "metadata": {},
   "outputs": [
    {
     "data": {
      "text/plain": [
       "[(1, 4, 7), (2, 5, 8), (3, 6, 9)]"
      ]
     },
     "execution_count": 98,
     "metadata": {},
     "output_type": "execute_result"
    }
   ],
   "source": [
    "list(zip(T1, T2, T3))"
   ]
  },
  {
   "cell_type": "markdown",
   "id": "c1838ab9-dc2b-4405-9cc7-b52009214293",
   "metadata": {},
   "source": [
    "More over, `zip` truncates result tuples at the length of the shortest sequence when the argumeng lengths differ."
   ]
  },
  {
   "cell_type": "code",
   "execution_count": 100,
   "id": "8a02b0ea-3a3e-43c4-9a00-ca0ef4a52944",
   "metadata": {},
   "outputs": [
    {
     "data": {
      "text/plain": [
       "[('a', 'x'), ('b', 'y'), ('c', 'z')]"
      ]
     },
     "execution_count": 100,
     "metadata": {},
     "output_type": "execute_result"
    }
   ],
   "source": [
    "S1= 'abc'\n",
    "S2 = 'xyz123'\n",
    "list(zip(S1, S2))"
   ]
  },
  {
   "cell_type": "markdown",
   "id": "d9120d05-8d7b-4987-b0df-14b668cb26e4",
   "metadata": {},
   "source": [
    "#### Dictionary construction with zip"
   ]
  },
  {
   "cell_type": "code",
   "execution_count": 102,
   "id": "f67cc449-fc96-4e1f-8fd6-c62bda06390e",
   "metadata": {},
   "outputs": [
    {
     "data": {
      "text/plain": [
       "[('spam', 1), ('eggs', 3), ('toast', 5)]"
      ]
     },
     "execution_count": 102,
     "metadata": {},
     "output_type": "execute_result"
    }
   ],
   "source": [
    "keys = ['spam', 'eggs', 'toast']\n",
    "vals = [1 , 3, 5]\n",
    "list(zip(keys, vals))"
   ]
  },
  {
   "cell_type": "code",
   "execution_count": 103,
   "id": "85e0a9ca-6e04-42e8-ad84-91ccd4aecb01",
   "metadata": {},
   "outputs": [],
   "source": [
    "D3= dict(zip(keys, vals))"
   ]
  },
  {
   "cell_type": "code",
   "execution_count": 104,
   "id": "a02de8f6-5229-4ec9-bf99-9a66ad6b9eb1",
   "metadata": {},
   "outputs": [
    {
     "data": {
      "text/plain": [
       "{'spam': 1, 'eggs': 3, 'toast': 5}"
      ]
     },
     "execution_count": 104,
     "metadata": {},
     "output_type": "execute_result"
    }
   ],
   "source": [
    "D3"
   ]
  },
  {
   "cell_type": "markdown",
   "id": "afbf1c9c-03c4-48e8-8158-c09f4738b2df",
   "metadata": {},
   "source": [
    "### Generating Both Offsets and Items: enumerate\n"
   ]
  },
  {
   "cell_type": "code",
   "execution_count": 109,
   "id": "133b47bf-3ed8-4418-b8b3-06ea1098b64f",
   "metadata": {},
   "outputs": [
    {
     "name": "stdout",
     "output_type": "stream",
     "text": [
      "s appears at offset 0\n",
      "p appears at offset 1\n",
      "a appears at offset 2\n",
      "m appears at offset 3\n"
     ]
    }
   ],
   "source": [
    "S = 'spam'\n",
    "offset = 0;\n",
    "for item in S:\n",
    "    print(item,  'appears at offset', offset)\n",
    "    offset += 1\n",
    "          "
   ]
  },
  {
   "cell_type": "code",
   "execution_count": 111,
   "id": "262faa85-b9fd-4352-bafe-01ce86226e9e",
   "metadata": {},
   "outputs": [
    {
     "name": "stdout",
     "output_type": "stream",
     "text": [
      "s appears at offset 0\n",
      "p appears at offset 1\n",
      "a appears at offset 2\n",
      "m appears at offset 3\n"
     ]
    }
   ],
   "source": [
    "S = 'spam'\n",
    "for (offset, item) in enumerate(S):\n",
    "        print(item, 'appears at offset', offset)"
   ]
  },
  {
   "cell_type": "markdown",
   "id": "5e2fa85a-e558-48db-8c07-f949523490ae",
   "metadata": {},
   "source": [
    "The `enumerater` fucntion returns a generator object."
   ]
  },
  {
   "cell_type": "code",
   "execution_count": 112,
   "id": "5d3074ab-b6e0-4c95-af78-71e0c9774a7d",
   "metadata": {},
   "outputs": [
    {
     "data": {
      "text/plain": [
       "<enumerate at 0x2136737d440>"
      ]
     },
     "execution_count": 112,
     "metadata": {},
     "output_type": "execute_result"
    }
   ],
   "source": [
    "E = enumerate(S)\n",
    "E"
   ]
  },
  {
   "cell_type": "code",
   "execution_count": 113,
   "id": "c6d36ca8-b84c-46be-be4d-236b9cdefa4e",
   "metadata": {},
   "outputs": [
    {
     "data": {
      "text/plain": [
       "(0, 's')"
      ]
     },
     "execution_count": 113,
     "metadata": {},
     "output_type": "execute_result"
    }
   ],
   "source": [
    "next(E)"
   ]
  },
  {
   "cell_type": "code",
   "execution_count": 114,
   "id": "5329a325-aad1-4022-8b4e-2f1cc75fdf1d",
   "metadata": {},
   "outputs": [
    {
     "data": {
      "text/plain": [
       "(1, 'p')"
      ]
     },
     "execution_count": 114,
     "metadata": {},
     "output_type": "execute_result"
    }
   ],
   "source": [
    "next(E)"
   ]
  },
  {
   "cell_type": "code",
   "execution_count": 115,
   "id": "e4cf915c-13a5-47c9-baac-433ce4fc4551",
   "metadata": {},
   "outputs": [
    {
     "data": {
      "text/plain": [
       "['', 'p', 'aa', 'mmm']"
      ]
     },
     "execution_count": 115,
     "metadata": {},
     "output_type": "execute_result"
    }
   ],
   "source": [
    "[c * i for (i,c) in enumerate(S)]"
   ]
  },
  {
   "cell_type": "code",
   "execution_count": 116,
   "id": "ae4c14ce-87e8-4a62-87d0-3fcab0eeaf2f",
   "metadata": {},
   "outputs": [
    {
     "ename": "FileNotFoundError",
     "evalue": "[Errno 2] No such file or directory: 'test.txt'",
     "output_type": "error",
     "traceback": [
      "\u001b[1;31m---------------------------------------------------------------------------\u001b[0m",
      "\u001b[1;31mFileNotFoundError\u001b[0m                         Traceback (most recent call last)",
      "Input \u001b[1;32mIn [116]\u001b[0m, in \u001b[0;36m<cell line: 1>\u001b[1;34m()\u001b[0m\n\u001b[1;32m----> 1\u001b[0m \u001b[38;5;28;01mfor\u001b[39;00m (i,l) \u001b[38;5;129;01min\u001b[39;00m \u001b[38;5;28menumerate\u001b[39m(\u001b[38;5;28;43mopen\u001b[39;49m\u001b[43m(\u001b[49m\u001b[38;5;124;43m'\u001b[39;49m\u001b[38;5;124;43mtest.txt\u001b[39;49m\u001b[38;5;124;43m'\u001b[39;49m\u001b[43m)\u001b[49m):\n\u001b[0;32m      2\u001b[0m     \u001b[38;5;28mprint\u001b[39m(\u001b[38;5;124m'\u001b[39m\u001b[38;5;132;01m%s\u001b[39;00m\u001b[38;5;124m) \u001b[39m\u001b[38;5;132;01m%s\u001b[39;00m\u001b[38;5;124m'\u001b[39m \u001b[38;5;241m%\u001b[39m(i, l\u001b[38;5;241m.\u001b[39mrstrip()))\n",
      "\u001b[1;31mFileNotFoundError\u001b[0m: [Errno 2] No such file or directory: 'test.txt'"
     ]
    }
   ],
   "source": [
    "for (i,l) in enumerate(open('test.txt')):\n",
    "    print('%s) %s' %(i, l.rstrip()))"
   ]
  },
  {
   "cell_type": "markdown",
   "id": "d72cd0b5-d04b-4bc8-ac21-2a9095726c56",
   "metadata": {},
   "source": [
    "### Shell commans and More"
   ]
  },
  {
   "cell_type": "code",
   "execution_count": 117,
   "id": "1e8d6662-a7ea-4488-811f-45b5189e8049",
   "metadata": {},
   "outputs": [
    {
     "data": {
      "text/plain": [
       "' 驱动器 C 中的卷是 OS\\n'"
      ]
     },
     "execution_count": 117,
     "metadata": {},
     "output_type": "execute_result"
    }
   ],
   "source": [
    "import os\n",
    "F= os.popen('dir')\n",
    "F.readline()"
   ]
  },
  {
   "cell_type": "code",
   "execution_count": 119,
   "id": "0e1ae449-4e69-4d3f-904b-f66ecd02e364",
   "metadata": {},
   "outputs": [
    {
     "data": {
      "text/plain": [
       "' 驱动器 C 中的卷是 OS\\n'"
      ]
     },
     "execution_count": 119,
     "metadata": {},
     "output_type": "execute_result"
    }
   ],
   "source": [
    "os.popen('dir').readlines()[0]"
   ]
  },
  {
   "cell_type": "code",
   "execution_count": 120,
   "id": "4717ffc3-c7b6-4fea-a0e6-c14879ea678d",
   "metadata": {},
   "outputs": [
    {
     "name": "stdout",
     "output_type": "stream",
     "text": [
      " 驱动器 C 中的卷是 OS\n",
      " 卷的序列号是 08DA-A723\n",
      "\n",
      " C:\\Users\\liu honglin\\Documents\\GitHub\\opencv-machine-learning\\LearningPython 的目录\n",
      "\n",
      "2022/10/01  21:23    <DIR>          .\n",
      "2022/09/26  07:41    <DIR>          ..\n",
      "2022/09/30  10:58    <DIR>          .ipynb_checkpoints\n",
      "2022/09/26  08:24             2,615 0Preface.ipynb\n",
      "2022/09/26  09:46             6,068 1-A-Python-QA-Session.ipynb\n",
      "2022/09/29  19:23            12,026 10-Introducing-Python-Statement.ipynb\n",
      "2022/09/30  09:39            27,636 11-Assignment-Expressions-and-Prints.ipynb\n",
      "2022/09/30  10:58             9,806 12-if-Tests-and-Syntax-Rules.ipynb\n",
      "2022/10/01  21:23            30,125 13-while-and for loops.ipynb\n",
      "2022/09/26  10:20             3,594 2-How-Python-Runs-Programs.ipynb\n",
      "2022/09/26  11:08             4,366 3-How-You-Run-Programs.ipynb\n",
      "2022/09/26  21:33            87,254 4-Introducing Pytho-Object-Types.ipynb\n",
      "2022/09/28  09:07            35,958 5-Numeric-Types.ipynb\n",
      "2022/09/28  13:00            42,572 7-String-Fundamentals.ipynb\n",
      "2022/09/29  09:22            53,631 8-Lists-And-Dictionaries.ipynb\n",
      "2022/09/29  14:55            40,241 9-Tuples-Files-and-Everythin-Else.ipynb\n",
      "2022/09/29  14:15                10 data.bin\n",
      "2022/09/26  21:18                14 data.txt\n",
      "2022/09/29  13:59                28 datafile.pkl\n",
      "2022/09/29  11:44                44 datafile.txt\n",
      "2022/09/29  11:28                37 myfile.txt\n",
      "2022/09/29  14:10               147 testjson.txt\n",
      "              19 个文件        356,172 字节\n",
      "               3 个目录 257,833,029,632 可用字节\n"
     ]
    }
   ],
   "source": [
    "for line in os.popen('dir'):\n",
    "    print(line.rstrip())"
   ]
  },
  {
   "cell_type": "code",
   "execution_count": 122,
   "id": "72ec4a2b-5751-4d53-9eab-367c3db33995",
   "metadata": {},
   "outputs": [
    {
     "name": "stdout",
     "output_type": "stream",
     "text": [
      "\n",
      "主机名:           刘红林的手提电\n",
      "OS 名称:          Microsoft Windows 11 专业版\n",
      "OS 版本:          10.0.22621 暂缺 Build 22621\n",
      "OS 制造商:        Microsoft Corporation\n",
      "OS 配置:          独立工作站\n",
      "OS 构建类型:      Multiprocessor Free\n",
      "注册的所有人:     暂缺\n",
      "注册的组织:       暂缺\n",
      "产品 ID:          00330-52113-81576-AAOEM\n",
      "初始安装日期:     2022/9/22, 11:24:26\n",
      "系统启动时间:     2022/9/29, 11:01:47\n",
      "系统制造商:       Dell Inc.\n",
      "系统型号:         Latitude 5300\n",
      "系统类型:         x64-based PC\n",
      "处理器:           安装了 1 个处理器。\n",
      "                  [01]: Intel64 Family 6 Model 142 Stepping 12 GenuineIntel ~1910 Mhz\n",
      "BIOS 版本:        Dell Inc. 1.19.0, 2021/12/14\n",
      "Windows 目录:     C:\\WINDOWS\n",
      "系统目录:         C:\\WINDOWS\\system32\n",
      "启动设备:         \\Device\\HarddiskVolume1\n",
      "系统区域设置:     zh-cn;中文(中国)\n",
      "输入法区域设置:   zh-cn;中文(中国)\n",
      "时区:             (UTC+08:00) 北京，重庆，香港特别行政区，乌鲁木齐\n",
      "物理内存总量:     16,163 MB\n",
      "可用的物理内存:   7,638 MB\n",
      "虚拟内存: 最大值: 18,595 MB\n",
      "虚拟内存: 可用:   6,517 MB\n",
      "虚拟内存: 使用中: 12,078 MB\n",
      "页面文件位置:     C:\\pagefile.sys\n",
      "域:               WORKGROUP\n",
      "登录服务器:       \\\\刘红林的手提电\n",
      "修补程序:         安装了 4 个修补程序。\n",
      "                  [01]: KB5017026\n",
      "                  [02]: KB5017271\n",
      "                  [03]: KB5017321\n",
      "                  [04]: KB5017233\n",
      "网卡:             安装了 5 个 NIC。\n",
      "                  [01]: VMware Virtual Ethernet Adapter for VMnet8\n",
      "                      连接名:      VMware Network Adapter VMnet8\n",
      "                      启用 DHCP:   是\n",
      "                      DHCP 服务器: 192.168.157.254\n",
      "                      IP 地址\n",
      "                        [01]: 192.168.157.1\n",
      "                        [02]: fe80::24e6:8f95:a88b:6183\n",
      "                  [02]: VMware Virtual Ethernet Adapter for VMnet1\n",
      "                      连接名:      VMware Network Adapter VMnet1\n",
      "                      启用 DHCP:   是\n",
      "                      DHCP 服务器: 192.168.168.254\n",
      "                      IP 地址\n",
      "                        [01]: 192.168.168.1\n",
      "                        [02]: fe80::c433:dac8:9d6:6c3\n",
      "                  [03]: Intel(R) Ethernet Connection (6) I219-LM\n",
      "                      连接名:      Ethernet\n",
      "                      状态:        媒体连接已中断\n",
      "                  [04]: Intel(R) Wireless-AC 9560 160MHz\n",
      "                      连接名:      Wi-Fi\n",
      "                      启用 DHCP:   是\n",
      "                      DHCP 服务器: 192.168.3.1\n",
      "                      IP 地址\n",
      "                        [01]: 192.168.3.2\n",
      "                        [02]: fe80::6882:b577:afe1:35fa\n",
      "                        [03]: 2409:8a28:448:35e1:e49d:e1d:712c:7415\n",
      "                        [04]: 2409:8a28:448:35e1:f8c3:9e20:625c:4\n",
      "                        [05]: 2409:8a28:448:35e1:6882:b577:afe1:35fa\n",
      "                  [05]: Bluetooth Device (Personal Area Network)\n",
      "                      连接名:      Bluetooth Network Connection\n",
      "                      状态:        媒体连接已中断\n",
      "Hyper-V 要求:     虚拟机监视器模式扩展: 是\n",
      "                  固件中已启用虚拟化: 是\n",
      "                  二级地址转换: 是\n",
      "                  数据执行保护可用: 是\n"
     ]
    }
   ],
   "source": [
    "for line in os.popen('systeminfo'): print(line.rstrip())"
   ]
  },
  {
   "cell_type": "code",
   "execution_count": null,
   "id": "491139d1-a093-4b5f-8d00-b98be485a3af",
   "metadata": {},
   "outputs": [],
   "source": []
  }
 ],
 "metadata": {
  "kernelspec": {
   "display_name": "Python 3 (ipykernel)",
   "language": "python",
   "name": "python3"
  },
  "language_info": {
   "codemirror_mode": {
    "name": "ipython",
    "version": 3
   },
   "file_extension": ".py",
   "mimetype": "text/x-python",
   "name": "python",
   "nbconvert_exporter": "python",
   "pygments_lexer": "ipython3",
   "version": "3.9.12"
  }
 },
 "nbformat": 4,
 "nbformat_minor": 5
}
