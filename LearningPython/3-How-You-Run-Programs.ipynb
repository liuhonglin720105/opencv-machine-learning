{
 "cells": [
  {
   "cell_type": "markdown",
   "id": "32e6e9da-d4eb-4310-8334-28bd3a551cfb",
   "metadata": {},
   "source": [
    "# Chapter 3 How You Run Programs\n",
    "*Interactively* and save it in *files* to be run.\n",
    "## The Interactive Prompt\n",
    "## The System Path\n",
    "## Where to Run: Code Directories\n",
    "## Run Code Interactively"
   ]
  },
  {
   "cell_type": "code",
   "execution_count": 2,
   "id": "ceb33114-c720-4a50-afbc-ba2911d949cb",
   "metadata": {},
   "outputs": [
    {
     "data": {
      "text/plain": [
       "'okay'"
      ]
     },
     "execution_count": 2,
     "metadata": {},
     "output_type": "execute_result"
    }
   ],
   "source": [
    "lumberjack = 'okay'\n",
    "lumberjack"
   ]
  },
  {
   "cell_type": "code",
   "execution_count": 3,
   "id": "048e6d13-7d7d-48c7-aabe-7d957da7eebf",
   "metadata": {},
   "outputs": [
    {
     "data": {
      "text/plain": [
       "256"
      ]
     },
     "execution_count": 3,
     "metadata": {},
     "output_type": "execute_result"
    }
   ],
   "source": [
    "2 ** 8"
   ]
  },
  {
   "cell_type": "code",
   "execution_count": 4,
   "id": "8b648767-7d4f-4c40-a6db-8b7f46449c1d",
   "metadata": {},
   "outputs": [
    {
     "data": {
      "text/plain": [
       "'Spam!Spam!Spam!Spam!Spam!Spam!Spam!Spam!'"
      ]
     },
     "execution_count": 4,
     "metadata": {},
     "output_type": "execute_result"
    }
   ],
   "source": [
    "'Spam!' * 8"
   ]
  },
  {
   "cell_type": "code",
   "execution_count": 5,
   "id": "416c1e5d-070d-43e3-a584-38eaab99c82f",
   "metadata": {},
   "outputs": [
    {
     "ename": "NameError",
     "evalue": "name 'X' is not defined",
     "output_type": "error",
     "traceback": [
      "\u001b[1;31m---------------------------------------------------------------------------\u001b[0m",
      "\u001b[1;31mNameError\u001b[0m                                 Traceback (most recent call last)",
      "Input \u001b[1;32mIn [5]\u001b[0m, in \u001b[0;36m<cell line: 1>\u001b[1;34m()\u001b[0m\n\u001b[1;32m----> 1\u001b[0m \u001b[43mX\u001b[49m\n",
      "\u001b[1;31mNameError\u001b[0m: name 'X' is not defined"
     ]
    }
   ],
   "source": [
    "X"
   ]
  },
  {
   "cell_type": "markdown",
   "id": "090b0882-da4c-4f7a-88dd-323ea2b52c67",
   "metadata": {},
   "source": [
    "In Python, using a variable before it had been assigned a value is always an erros."
   ]
  },
  {
   "cell_type": "code",
   "execution_count": 6,
   "id": "345806e2-1e80-4896-baa4-cdd629969585",
   "metadata": {},
   "outputs": [
    {
     "data": {
      "text/plain": [
       "'C:\\\\Users\\\\liu honglin\\\\Documents\\\\GitHub\\\\opencv-machine-learning\\\\LearningPython'"
      ]
     },
     "execution_count": 6,
     "metadata": {},
     "output_type": "execute_result"
    }
   ],
   "source": [
    "import os\n",
    "os.getcwd()"
   ]
  },
  {
   "cell_type": "code",
   "execution_count": 9,
   "id": "4fca9108-120b-4b49-a530-f9ef6b8b3654",
   "metadata": {},
   "outputs": [
    {
     "name": "stdout",
     "output_type": "stream",
     "text": [
      "s\n",
      "p\n",
      "a\n",
      "m\n",
      "done\n"
     ]
    }
   ],
   "source": [
    "for x in 'spam':\n",
    "    print(x)\n",
    "print('done')"
   ]
  },
  {
   "cell_type": "markdown",
   "id": "b6b3209c-e314-4b7b-a30c-bcdcb1e155cf",
   "metadata": {},
   "source": [
    "## Unix-Style EWxecutable Scripts: #!\n",
    "### Unix Script Basic\n",
    "- **There first line is pecial.**\n",
    "Script usually start with a line that begins iwht the character #!, followed by the path to the Python interpreter on your machine\n",
    "- **They usually have executable privileges.**\n",
    "`chmod +x file.py`"
   ]
  },
  {
   "cell_type": "markdown",
   "id": "f4f181d1-f988-40a6-b79a-a84b6b933fd1",
   "metadata": {},
   "source": [
    "## Module Imports and Reloads\n"
   ]
  }
 ],
 "metadata": {
  "kernelspec": {
   "display_name": "Python 3 (ipykernel)",
   "language": "python",
   "name": "python3"
  },
  "language_info": {
   "codemirror_mode": {
    "name": "ipython",
    "version": 3
   },
   "file_extension": ".py",
   "mimetype": "text/x-python",
   "name": "python",
   "nbconvert_exporter": "python",
   "pygments_lexer": "ipython3",
   "version": "3.9.12"
  }
 },
 "nbformat": 4,
 "nbformat_minor": 5
}
