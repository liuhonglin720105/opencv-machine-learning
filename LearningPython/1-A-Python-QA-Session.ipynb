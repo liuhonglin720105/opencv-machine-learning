{
 "cells": [
  {
   "cell_type": "markdown",
   "id": "38a2e190-9306-42c7-a33f-708cd3ea3583",
   "metadata": {},
   "source": [
    "# Chapter 1 A Python Q&A Session\n",
    "## Why Do People Use Python\n",
    "- Software quality\n",
    "    - Python code is designed to be *readable*, and hece reusable and maintainable --- much more so than traditional scripting languages.  In addition, Python has deep support for more advanced *saftware reuses* mechanisma, such as OO and function programing\n",
    "- Developer productivity\n",
    "    - Python  boosts developer productivity many times beyond compiled or statically typed languages such as C, C++, and Jave. \n",
    "    - Python code is typically *one-third to one fifthe* the size of equivalent C++ or Jave code.\n",
    "    - Python programs also sun immediately, without the lengthy compile and link stpes required by some other tools, further boostign programmer speed\n",
    "- Program protability\n",
    "    - Most Python programs run unchaned on *all major computer platforms*.\n",
    "- Support libraries\n",
    "    - Python comes iwth a large collection of prebuilt and portable functionality, known as the *standard library*.\n",
    "    - Python can be extended with both homegrown librtaries and a vast collection of third-party application support software.\n",
    "- Component integration\n",
    "    - Python scripts can easily communicate with other parts of an application, using a variety of integration mechanisms. *customization and extension* tool.\n",
    "- Enjoyment\n",
    "    - Because of Python's ease of use and built-in toolset, it can make the act of programming *more pleasure than chore*.\n",
    "    \n",
    "Of these two factors, the first two (quality and productivity) are probably the most compelling benifits."
   ]
  },
  {
   "cell_type": "markdown",
   "id": "ec300870-d076-4b1c-bd73-cb406d89c819",
   "metadata": {},
   "source": [
    "### Software Quality\n",
    "### DEveloper Productivity"
   ]
  },
  {
   "cell_type": "markdown",
   "id": "4a4e7ece-baf0-45fb-8dae-137f69ac8f85",
   "metadata": {},
   "source": [
    "## Is Python a \"Scripting Language\"\n",
    "Python si a general-purpose programming language that is often applied in scripting role.\n",
    "- *object-oriented scripting language* \n",
    "- *general-purpose programming language that blends procedural, functional, and object-oriented pradigms*\n",
    "\n",
    "People tend to make three very differnt association, some of which are more useful than others.\n",
    "\n",
    "- Shell tools\n",
    "    - Python programs can and do serve such roles, but this is just one of dozens of common Python application domains.\n",
    "- Control language\n",
    "- Ease of use "
   ]
  },
  {
   "cell_type": "markdown",
   "id": "be71f1cf-888b-4f61-99e6-47952bcac3c7",
   "metadata": {
    "jupyter": {
     "source_hidden": true
    },
    "tags": []
   },
   "source": [
    "## OK, but What's the Downsize\n",
    "Its *execution speed* may not always  be as fast as thet of fully compiled and lower-lever languages such as C and C++.\n"
   ]
  },
  {
   "cell_type": "markdown",
   "id": "3b7d89ad-718a-417a-b21a-4e833f06d56f",
   "metadata": {},
   "source": [
    "## Whose Use Python today\n",
    "## What Can I Do with Python\n",
    "### Systems Programming\n",
    "### GUIs\n",
    "### Internet Scripting\n",
    "### Component Integration\n",
    "### Database Programming\n",
    "### Rapid Prototyping\n",
    "### Numeric and Scientific Programming\n",
    "### And More: Gaming, image, Date Mining, Robots, Excel"
   ]
  },
  {
   "cell_type": "markdown",
   "id": "f78c5b5d-ac94-4626-a424-2fea09648ac1",
   "metadata": {},
   "source": [
    "## How Is Python Developed and Supported?\n",
    "### Open Source Tradeoffs"
   ]
  },
  {
   "cell_type": "markdown",
   "id": "e104d82e-eb04-4ac3-a9d7-d0a25a36c951",
   "metadata": {},
   "source": [
    "## What are Pythons's Technical Strengths\n",
    "### It's OO and Functinonal\n",
    "### It's Free\n",
    "### It's Portable\n",
    "### It's Powerful\n",
    "- Dynamic typing\n",
    "- Automatic memory management\n",
    "- Programming-in-the-large support\n",
    "- Built-in object types\n",
    "- Built-in tools\n",
    "- Library utilities\n",
    "- Third-party utilities\n",
    "### It's Mixable\n",
    "### It's Relative Easy to Use\n",
    "### It's relative Easy to Learn\n",
    "### It's Mamed After Monty Python\n"
   ]
  },
  {
   "cell_type": "markdown",
   "id": "6688c68f-2ae3-4ced-8bfc-803ec67721f9",
   "metadata": {},
   "source": [
    "## How Does Python Stack Up to Language X?\n",
    "- Is more powerful than `tcl`\n",
    "- Is more readable than `perl`\n",
    "- Is simpler and easier to use than `Java` and `c#`\n",
    "- Is simpler and easier to use than `C++`\n",
    "- Is simpler and higher-level than X`\n",
    "- Is more powerful, general-purpose, and cross-platform than `Visual Basic`\n",
    "- Is more readable and general-purpose than `PHP`\n",
    "- Is more powerful and general-purpose than `JavaScript`\n",
    "- Is more readable and established than `Ruby`\n",
    "- Is more mature and broadly focused than `Lua`\n",
    "- Is less esoteric than `Smalltalk, Lisp` and `Prolog`"
   ]
  },
  {
   "cell_type": "markdown",
   "id": "b11e09d4-62e0-45a7-8f27-2a1134e26b68",
   "metadata": {},
   "source": [
    "## Chapter Summary"
   ]
  },
  {
   "cell_type": "code",
   "execution_count": null,
   "id": "9a01af9a-a15c-4a30-90cc-3bb228330dfd",
   "metadata": {},
   "outputs": [],
   "source": []
  }
 ],
 "metadata": {
  "kernelspec": {
   "display_name": "Python 3 (ipykernel)",
   "language": "python",
   "name": "python3"
  },
  "language_info": {
   "codemirror_mode": {
    "name": "ipython",
    "version": 3
   },
   "file_extension": ".py",
   "mimetype": "text/x-python",
   "name": "python",
   "nbconvert_exporter": "python",
   "pygments_lexer": "ipython3",
   "version": "3.9.12"
  }
 },
 "nbformat": 4,
 "nbformat_minor": 5
}
