{
 "cells": [
  {
   "cell_type": "markdown",
   "id": "92e27201-7213-4117-a1f0-406d55cbaaf9",
   "metadata": {},
   "source": [
    "# Chapter 19 Advanced Function Topics\n",
    "- recursive functions\n",
    "- function attributes and annotations,\n",
    "- the `lambda` expression\n",
    "- functional programming tools such as `map` and `filter`\n",
    "\n",
    "## Function Design Concept\n",
    "- Coupling: use argument for inputs and `return` for outputs.\n",
    "- Coupling: use global variables only when truly necessary\n",
    "- Coupling: don't change mutable arguments unless the caller expects it.\n",
    "- Cohesion: each function shoud have a single, unified purpose\n",
    "- Size: each function should be relatively small.\n",
    "- Coupling: avoid changing variables in another module file directly.\n",
    "\n",
    "## Recursive Functions\n",
    "### Summation with Recursion\n"
   ]
  },
  {
   "cell_type": "code",
   "execution_count": 9,
   "id": "04dd9b42-80dc-4d20-a124-c51c41ebf065",
   "metadata": {},
   "outputs": [
    {
     "name": "stdout",
     "output_type": "stream",
     "text": [
      "[1, 2, 3, 4, 5]\n",
      "[2, 3, 4, 5]\n",
      "[3, 4, 5]\n",
      "[4, 5]\n",
      "[5]\n",
      "[]\n"
     ]
    },
    {
     "data": {
      "text/plain": [
       "15"
      ]
     },
     "execution_count": 9,
     "metadata": {},
     "output_type": "execute_result"
    }
   ],
   "source": [
    "def mysum(L):\n",
    "    print(L)\n",
    "    if not L:\n",
    "        return 0\n",
    "    else:\n",
    "        return L[0] + mysum(L[1:])\n",
    "    \n",
    "mysum(list(range(1,6)))"
   ]
  },
  {
   "cell_type": "markdown",
   "id": "fc27663c-cbe4-4fda-ad3f-0995a9e7f737",
   "metadata": {},
   "source": [
    "### Coding Alternatives"
   ]
  },
  {
   "cell_type": "code",
   "execution_count": 11,
   "id": "c07367e4-2c0d-4472-91f0-3d762643571d",
   "metadata": {},
   "outputs": [
    {
     "data": {
      "text/plain": [
       "15"
      ]
     },
     "execution_count": 11,
     "metadata": {},
     "output_type": "execute_result"
    }
   ],
   "source": [
    "def mysum(L):\n",
    "    return 0 if not L else L[0] + mysum(L[1:])\n",
    "mysum(list(range(1,6)))"
   ]
  },
  {
   "cell_type": "code",
   "execution_count": 12,
   "id": "1a2ad2a9-f661-49bc-8df3-71f6a42d856f",
   "metadata": {},
   "outputs": [
    {
     "data": {
      "text/plain": [
       "15"
      ]
     },
     "execution_count": 12,
     "metadata": {},
     "output_type": "execute_result"
    }
   ],
   "source": [
    "def mymysum(L):\n",
    "    return L[0] if len(L) == 1 else L[0] + mysum(L[1:])\n",
    "\n",
    "mysum(list(range(1,6)))"
   ]
  },
  {
   "cell_type": "code",
   "execution_count": 13,
   "id": "6858486d-000c-4852-9229-3e277c7f07a9",
   "metadata": {},
   "outputs": [
    {
     "data": {
      "text/plain": [
       "15"
      ]
     },
     "execution_count": 13,
     "metadata": {},
     "output_type": "execute_result"
    }
   ],
   "source": [
    "def mysum(L):\n",
    "    first, *rest = L\n",
    "    return first if not rest else first + mysum(rest)\n",
    "\n",
    "mysum(list(range(1,6)))"
   ]
  },
  {
   "cell_type": "markdown",
   "id": "88ff2f73-83e1-4465-84e3-694008473c64",
   "metadata": {},
   "source": [
    "### Loop Statement Versus Recursion"
   ]
  },
  {
   "cell_type": "code",
   "execution_count": 15,
   "id": "84d95a47-83ab-4723-85cc-aced02bf5134",
   "metadata": {},
   "outputs": [
    {
     "data": {
      "text/plain": [
       "15"
      ]
     },
     "execution_count": 15,
     "metadata": {},
     "output_type": "execute_result"
    }
   ],
   "source": [
    "L = [1, 2, 3, 4, 5]\n",
    "sum = 0\n",
    "while L:\n",
    "    sum += L[0]\n",
    "    L = L[1:]\n",
    "\n",
    "sum"
   ]
  },
  {
   "cell_type": "code",
   "execution_count": 16,
   "id": "0bb283b7-b13f-4462-a82a-fd68f8982781",
   "metadata": {},
   "outputs": [
    {
     "data": {
      "text/plain": [
       "15"
      ]
     },
     "execution_count": 16,
     "metadata": {},
     "output_type": "execute_result"
    }
   ],
   "source": [
    "L = [1, 2, 3, 4 ,5]\n",
    "sum = 0\n",
    "for x in L: sum += x\n",
    "\n",
    "sum"
   ]
  },
  {
   "cell_type": "markdown",
   "id": "ddfccc89-e3ba-45c4-ac0a-1137be933f28",
   "metadata": {},
   "source": [
    "### Handling Arbitrary Structures\n",
    "[1, [2, [3, 4], 5], 6, [7,8]]"
   ]
  },
  {
   "cell_type": "code",
   "execution_count": 17,
   "id": "a2cac2b3-7e73-4425-a318-50e35c979ebb",
   "metadata": {},
   "outputs": [
    {
     "data": {
      "text/plain": [
       "36"
      ]
     },
     "execution_count": 17,
     "metadata": {},
     "output_type": "execute_result"
    }
   ],
   "source": [
    "def sumtree(L):\n",
    "    tot = 0\n",
    "    for x in L:\n",
    "        if not isinstance(x, list):\n",
    "            tot += x\n",
    "        else:\n",
    "            tot += sumtree(x)\n",
    "    return tot\n",
    "\n",
    "L = [1, [2, [3, 4], 5], 6, [7,8]]\n",
    "sumtree(L)"
   ]
  },
  {
   "cell_type": "markdown",
   "id": "9c45cafd-94ee-47af-849b-4b7c26b71a33",
   "metadata": {},
   "source": [
    "#### Recursion versus queues and stacks\n",
    "It sometimes helps to understand that internally, Python implements recursion by pushing informatin on a call stack at each recursive call, so ite remembers where it must return and continue later.\n",
    "In fact, it's generally possible to implement recursive-style procedures without recrusive calls, by using an explicit stack or queue of your own to keep track of remaining steps.\n",
    "\n",
    "For instance, the following computes the sam sums as the prior example, but uses an explicit list to schedule wen it will visit items oin the subject."
   ]
  },
  {
   "cell_type": "code",
   "execution_count": null,
   "id": "2072ff3a-8823-4872-a269-4a0399171eda",
   "metadata": {},
   "outputs": [],
   "source": [
    "def sumtree(L):\n",
    "    tot = 0\n",
    "    items = list(L)\n",
    "    while items:\n",
    "        front = items.pop(0)\n",
    "        if not isinstanceance(front, list):\n",
    "            tot += front\n",
    "        else:\n",
    "            items.extend(front)\n",
    "    return tot"
   ]
  },
  {
   "cell_type": "markdown",
   "id": "357de029-d5fd-4f1e-a466-ed7a103e1a6b",
   "metadata": {},
   "source": [
    "Technically, this code traverse the list in breadth-first fashin by levers, becuse it adds nested lists' contents to the end of the list ,forming a first-infirst-out queue.\n",
    "To emulate the traversal of the recursive call version more closely, we can change it to perform depth-first traversal imply by adding the content of nested lists to the front of the list, forming a last-in-first-out stack."
   ]
  },
  {
   "cell_type": "code",
   "execution_count": null,
   "id": "295d8754-5776-4841-b6f4-c06896bfbf61",
   "metadata": {},
   "outputs": [],
   "source": [
    "def sumtree(L):\n",
    "    tot = 0\n",
    "    items = list(L)\n",
    "    while items:\n",
    "        front = item.pop(0)\n",
    "        if not isinstance(front, list):\n",
    "            tot += front\n",
    "        else:\n",
    "            items[:0] = front\n",
    "    return tot"
   ]
  },
  {
   "cell_type": "markdown",
   "id": "2b94fddb-62ef-4daa-b872-2f3f79703082",
   "metadata": {},
   "source": [
    "#### Cycle, paths, and stack limits\n",
    "But arger recursive applications can sometimes require a bit more infrastructure than shown here: they may need to avoid cycles of repeats, record paths taken for later use, and expand stack space when using recursive calls instead of explicitic queues or stacks.\n",
    "#### More recursion examples\n"
   ]
  },
  {
   "cell_type": "markdown",
   "id": "38db1969-06f9-42f3-9be6-4ae755e645b9",
   "metadata": {},
   "source": [
    "## Function Object: Attributes and Annotations\n",
    "### Indirect Function Calls: \"First Class\" objects\n",
    "Function objects  can be called by listing arguments in parentheses after a function expression."
   ]
  },
  {
   "cell_type": "code",
   "execution_count": 18,
   "id": "df021365-6c2e-4f0d-a6f4-8dc3b7a79fb9",
   "metadata": {},
   "outputs": [
    {
     "name": "stdout",
     "output_type": "stream",
     "text": [
      "Direct call\n",
      "Indirect call!\n"
     ]
    }
   ],
   "source": [
    "def echo(message):\n",
    "    print(message)\n",
    "\n",
    "echo('Direct call')\n",
    "\n",
    "x = echo\n",
    "x('Indirect call!')"
   ]
  },
  {
   "cell_type": "markdown",
   "id": "18535b33-1d39-427b-9066-50e9aef219c6",
   "metadata": {},
   "source": [
    "Pass functions to other functions as arguments."
   ]
  },
  {
   "cell_type": "code",
   "execution_count": 19,
   "id": "4820c4e5-741a-4f14-826c-d12442b1e418",
   "metadata": {},
   "outputs": [
    {
     "name": "stdout",
     "output_type": "stream",
     "text": [
      "Argument call\n"
     ]
    }
   ],
   "source": [
    "def indirect(func, arg):\n",
    "    func(arg)\n",
    "    \n",
    "indirect(echo, 'Argument call')"
   ]
  },
  {
   "cell_type": "code",
   "execution_count": 20,
   "id": "4726577a-83ad-4714-9d49-c23b846e4166",
   "metadata": {},
   "outputs": [
    {
     "name": "stdout",
     "output_type": "stream",
     "text": [
      "Spam!\n",
      "Ham!\n"
     ]
    }
   ],
   "source": [
    "schedule = [(echo, 'Spam!'), (echo, 'Ham!')]\n",
    "for (func, arg) in schedule:\n",
    "    func(arg)"
   ]
  },
  {
   "cell_type": "markdown",
   "id": "f12764a8-efc8-45da-a003-bdc0fa58d338",
   "metadata": {},
   "source": [
    "Function can also be created and returned for use elsewhere"
   ]
  },
  {
   "cell_type": "code",
   "execution_count": 21,
   "id": "9fd50a31-4722-40bb-8c88-32025cb44e11",
   "metadata": {},
   "outputs": [
    {
     "name": "stdout",
     "output_type": "stream",
     "text": [
      "Spam:Ham!\n"
     ]
    }
   ],
   "source": [
    "def make(label):\n",
    "    def echo(message):\n",
    "        print(label + ':' + message)\n",
    "    return echo\n",
    "\n",
    "F = make('Spam')\n",
    "F('Ham!')"
   ]
  },
  {
   "cell_type": "code",
   "execution_count": 23,
   "id": "32f4914c-d950-48c3-8400-5e1c81e68ba1",
   "metadata": {},
   "outputs": [
    {
     "name": "stdout",
     "output_type": "stream",
     "text": [
      "Spam:eggs\n"
     ]
    }
   ],
   "source": [
    "F('eggs')"
   ]
  },
  {
   "cell_type": "markdown",
   "id": "16e7dc35-ef3d-4bc5-a15a-54147b1cdaa9",
   "metadata": {},
   "source": [
    "### Function Introspection\n"
   ]
  },
  {
   "cell_type": "code",
   "execution_count": 1,
   "id": "2188e138-d15b-45cf-8609-59e7203201d8",
   "metadata": {},
   "outputs": [
    {
     "data": {
      "text/plain": [
       "'spamspamspamspamspamspamspamspam'"
      ]
     },
     "execution_count": 1,
     "metadata": {},
     "output_type": "execute_result"
    }
   ],
   "source": [
    "def func(a):\n",
    "    b = 'spam'\n",
    "    return b * a\n",
    "func(8)"
   ]
  },
  {
   "cell_type": "markdown",
   "id": "2b6ba146-a868-4448-ac97-a5b6ceeb59fc",
   "metadata": {},
   "source": [
    "The call expression is just one operation defined to work on function objects. We can also inspect their attributes generically"
   ]
  },
  {
   "cell_type": "code",
   "execution_count": 2,
   "id": "9d9e7c22-e3fb-428f-8a55-8d9cf60dd9d1",
   "metadata": {},
   "outputs": [
    {
     "data": {
      "text/plain": [
       "'func'"
      ]
     },
     "execution_count": 2,
     "metadata": {},
     "output_type": "execute_result"
    }
   ],
   "source": [
    "func.__name__"
   ]
  },
  {
   "cell_type": "code",
   "execution_count": 3,
   "id": "8e921ec4-a826-47ae-894e-70c415e4f5be",
   "metadata": {},
   "outputs": [
    {
     "data": {
      "text/plain": [
       "['__annotations__',\n",
       " '__call__',\n",
       " '__class__',\n",
       " '__closure__',\n",
       " '__code__',\n",
       " '__defaults__',\n",
       " '__delattr__',\n",
       " '__dict__',\n",
       " '__dir__',\n",
       " '__doc__',\n",
       " '__eq__',\n",
       " '__format__',\n",
       " '__ge__',\n",
       " '__get__',\n",
       " '__getattribute__',\n",
       " '__globals__',\n",
       " '__gt__',\n",
       " '__hash__',\n",
       " '__init__',\n",
       " '__init_subclass__',\n",
       " '__kwdefaults__',\n",
       " '__le__',\n",
       " '__lt__',\n",
       " '__module__',\n",
       " '__name__',\n",
       " '__ne__',\n",
       " '__new__',\n",
       " '__qualname__',\n",
       " '__reduce__',\n",
       " '__reduce_ex__',\n",
       " '__repr__',\n",
       " '__setattr__',\n",
       " '__sizeof__',\n",
       " '__str__',\n",
       " '__subclasshook__']"
      ]
     },
     "execution_count": 3,
     "metadata": {},
     "output_type": "execute_result"
    }
   ],
   "source": [
    "dir(func)"
   ]
  },
  {
   "cell_type": "markdown",
   "id": "7d340cf4-6de3-4108-88d9-607da9b3a9cf",
   "metadata": {},
   "source": [
    "### Function Attriute\n"
   ]
  },
  {
   "cell_type": "code",
   "execution_count": 4,
   "id": "952ec9fe-38d6-4b83-8ed1-323e6a17a67b",
   "metadata": {},
   "outputs": [
    {
     "data": {
      "text/plain": [
       "<function __main__.func(a)>"
      ]
     },
     "execution_count": 4,
     "metadata": {},
     "output_type": "execute_result"
    }
   ],
   "source": [
    "func"
   ]
  },
  {
   "cell_type": "code",
   "execution_count": 6,
   "id": "aff121eb-72e7-47b2-aa53-9397035cbe99",
   "metadata": {},
   "outputs": [
    {
     "data": {
      "text/plain": [
       "1"
      ]
     },
     "execution_count": 6,
     "metadata": {},
     "output_type": "execute_result"
    }
   ],
   "source": [
    "func.count = 0\n",
    "func.count += 1\n",
    "func.count"
   ]
  },
  {
   "cell_type": "markdown",
   "id": "3d6847ec-98f3-47ba-b73e-f2fd9440b73f",
   "metadata": {},
   "source": [
    "### Function Annotations in 3.X\n"
   ]
  },
  {
   "cell_type": "code",
   "execution_count": 7,
   "id": "73ab41b3-2819-41df-8b23-b6e1dc5118d5",
   "metadata": {},
   "outputs": [
    {
     "data": {
      "text/plain": [
       "6"
      ]
     },
     "execution_count": 7,
     "metadata": {},
     "output_type": "execute_result"
    }
   ],
   "source": [
    "def func(a, b, c):\n",
    "    return a + b + c\n",
    "func(1, 2, 3)"
   ]
  },
  {
   "cell_type": "code",
   "execution_count": 8,
   "id": "f6d4d2e5-c529-43eb-a06a-2d27e3dc688c",
   "metadata": {},
   "outputs": [],
   "source": [
    "def func(a: 'spam', b:(1,10), c:float) -> int:\n",
    "    return a + b +c"
   ]
  },
  {
   "cell_type": "code",
   "execution_count": 9,
   "id": "a072ffb5-4eb9-479b-a2fa-eec1b61f2016",
   "metadata": {},
   "outputs": [
    {
     "data": {
      "text/plain": [
       "6"
      ]
     },
     "execution_count": 9,
     "metadata": {},
     "output_type": "execute_result"
    }
   ],
   "source": [
    "func(1, 2, 3)"
   ]
  },
  {
   "cell_type": "code",
   "execution_count": 10,
   "id": "1476b5c0-2c94-4bad-9538-b1918af8655c",
   "metadata": {},
   "outputs": [
    {
     "data": {
      "text/plain": [
       "{'a': 'spam', 'b': (1, 10), 'c': float, 'return': int}"
      ]
     },
     "execution_count": 10,
     "metadata": {},
     "output_type": "execute_result"
    }
   ],
   "source": [
    "func.__annotations__"
   ]
  },
  {
   "cell_type": "markdown",
   "id": "ac7ada4a-29f6-4d18-93a3-8bef0a1fba9c",
   "metadata": {},
   "source": [
    "## Anonymous Functions: lambda\n",
    "### lambda basics\n",
    "\n",
    "`lambda argument1, argument2, ... argumentN: expression using arguments`\n",
    "\n",
    "Function objects returned by running `lambda` expression work exactly the same as those created and assigned by `def`s, but there are a few differences that make `lambda`s useful in specialized roles:\n",
    "- `lambda` is an expression, not a statement\n",
    "- `lambda` body is a single expression, not a block of statements."
   ]
  },
  {
   "cell_type": "code",
   "execution_count": 11,
   "id": "88e334ee-3ad4-4610-8d17-879945a43bf1",
   "metadata": {},
   "outputs": [
    {
     "data": {
      "text/plain": [
       "9"
      ]
     },
     "execution_count": 11,
     "metadata": {},
     "output_type": "execute_result"
    }
   ],
   "source": [
    "def func(x,y,z): return x + y + z\n",
    "func(2, 3, 4)"
   ]
  },
  {
   "cell_type": "code",
   "execution_count": 12,
   "id": "34c5edd5-c90f-420b-b74b-055ec834a9be",
   "metadata": {},
   "outputs": [
    {
     "data": {
      "text/plain": [
       "9"
      ]
     },
     "execution_count": 12,
     "metadata": {},
     "output_type": "execute_result"
    }
   ],
   "source": [
    "f = lambda x, y, z: x + y + z\n",
    "f(2, 3, 4)"
   ]
  },
  {
   "cell_type": "markdown",
   "id": "c2ef8378-13cf-432a-9ac0-c75e095f2042",
   "metadata": {},
   "source": [
    "Defaults work on `lambda` arguments, just like in a `def`"
   ]
  },
  {
   "cell_type": "code",
   "execution_count": 14,
   "id": "de955b39-5f7e-49bb-9b2c-e8e83ef10319",
   "metadata": {},
   "outputs": [
    {
     "data": {
      "text/plain": [
       "'weefiefoe'"
      ]
     },
     "execution_count": 14,
     "metadata": {},
     "output_type": "execute_result"
    }
   ],
   "source": [
    "x = (lambda a = \"fee\", b = \"fie\", c = \"foe\": a + b + c)\n",
    "x (\"wee\")"
   ]
  },
  {
   "cell_type": "markdown",
   "id": "2a555198-8baf-4e32-9f5a-e2d189b859dd",
   "metadata": {},
   "source": [
    "### Why Use lambda?"
   ]
  }
 ],
 "metadata": {
  "kernelspec": {
   "display_name": "Python 3 (ipykernel)",
   "language": "python",
   "name": "python3"
  },
  "language_info": {
   "codemirror_mode": {
    "name": "ipython",
    "version": 3
   },
   "file_extension": ".py",
   "mimetype": "text/x-python",
   "name": "python",
   "nbconvert_exporter": "python",
   "pygments_lexer": "ipython3",
   "version": "3.9.12"
  }
 },
 "nbformat": 4,
 "nbformat_minor": 5
}
