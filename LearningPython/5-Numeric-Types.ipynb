{
 "cells": [
  {
   "cell_type": "markdown",
   "id": "c7aeb6d0",
   "metadata": {},
   "source": [
    "# Chapter 5 Numeric Types\n",
    "## Numeric Types Basics\n",
    "A complete iventory of Python's numeric toolbox includes:\n",
    "- Interger and floating-pointing objects\n",
    "- Complex number objects\n",
    "- Decimal: fixed-precision objects\n",
    "- Fraction: rational number objects\n",
    "- Sets: collections with numeric operations\n",
    "- Booleans: true and false\n",
    "- Built-in functions and modules: `round`, `math`, `random`, etc\n",
    "- Expressions: unlimited integer precision; bitwise operations; hex, octal, and binary formats\n",
    "- Third-party extensions: vectors, libraries, visualization, plotting ,ets"
   ]
  },
  {
   "cell_type": "markdown",
   "id": "ca63e8de",
   "metadata": {},
   "source": [
    "## Numeric Literals\n",
    "\n",
    "\n",
    "|Literal | Interpretation |\n",
    "|----------|-------|\n",
    "|1234, -24, 0, 9999999999|整数（位数没有限制）|\n",
    "|1.23, 1., 3.14e-10,4E210, 4.0e+210|浮点数|\n",
    "|0o177, 0x9ff, 0b101010|八进制、十六进制和二进制|\n",
    "|3+4j, 3.0+4.0j,3J|复数|\n",
    "|Decimal('1.0), Fraction(1,3)|Decimal and fraction extension types|\n",
    "|bool(X),True, False|布尔类型|\n",
    "\n",
    "In Python 3.X, the normal and long integer types have been merged --- there is only integer, which automatically supports the unlimted precision\n",
    "\n",
    "## Built-in Numeric Tools\n",
    "Python provides a set of tools for processing number objects:\n",
    "\n",
    "Expression operators\n",
    "\n",
    "   +,-,*,/,>>,**,&,etc.\n",
    "    \n",
    "Built-in mathematical functions\n",
    "\n",
    "    `pow, abs, round, int, hex, bin,` etc\n",
    "    \n",
    "Utility modules\n",
    "\n",
    "    `random, math`, etc.\n",
    "\n",
    "### Python Expression Operators\n",
    "|Operators|Description|\n",
    "|-----|-----|\n",
    "|yield x|Generator funcion send protocol|\n",
    "|lambda args: expression|Anonymous function generation|\n",
    "|x if y else z|Ternary selection(x is evaluated only if y is true)|\n",
    "|x or y|logical (y is evaluated only if x is false)|\n",
    "|x and y|Logical And (y is evaluated only if x is true)|\n",
    "|not x|Logical negation|\n",
    "|x in y, x not in y|Membership (iterables, sets)|\n",
    "|x is y, x is not y|Object identity tests|\n",
    "|x < y, x <= y, x > y, x > = y|Magniture comparision, set subset and superset;|\n",
    "|x == y, x != y|Value equality operators|\n",
    "|x \\| y|Bitwise OR, set Union|\n",
    "|x ^ y|Biwise XOR, set symmetric difference|\n",
    "|x & y|Bitwise AND, set intersection|\n",
    "|x << y, x >> y|Shift x left or right by y bits|\n",
    "|x + y|Addition, concatenation;|\n",
    "|x - y|Subtration, set difference|\n",
    "|x * y|Multiplication,repetition;|\n",
    "|x % y|Remainder, format;|\n",
    "|x / y, x // y|Division: true and floor|\n",
    "|-x, +x|Negation, identity|\n",
    "|~x|Bitwise NOT (inverse)|\n",
    "|x ** y|Power (exponentiation|\n",
    "|x[i]|Indexing(sequence, mapping, others)|\n",
    "|x[i:j:k] Slicing|\n",
    "|x(...)|Call(function, method, class, other callable)|\n",
    "|x.attr|Attribute refence|\n",
    "|(...)|Tuple, expression, generator expression|\n",
    "|[...]|List, list comprehension|\n",
    "|{...}|Dictionary, set, set and dictionary comprehensions|\n",
    "\n",
    "- `X // Y` truncates fractional remainders. `X/Y` expression performs true division.\n",
    "_ Comparison operator may be chained: `X < Y < Z` produces the same result as `X < Y and Y Z`.\n",
    "\n",
    "#### Mixed operator follow operator precedence"
   ]
  },
  {
   "cell_type": "markdown",
   "id": "35db1720",
   "metadata": {},
   "source": [
    "## Numbers in Action\n",
    "### Variables and Basic Expression\n",
    "In Python:\n",
    "- Variables are created when tyey are first assigned values.\n",
    "- Variables are replaced with their valiues hwne used in expressions.\n",
    "- Varibles must be assigned before they can bue used in expressions.\n",
    "- Varibles refer to objects and are never declared ahead of time."
   ]
  },
  {
   "cell_type": "code",
   "execution_count": 1,
   "id": "8764dfab",
   "metadata": {},
   "outputs": [],
   "source": [
    "a = 3\n",
    "b = 4"
   ]
  },
  {
   "cell_type": "code",
   "execution_count": 3,
   "id": "f83c4947",
   "metadata": {},
   "outputs": [
    {
     "data": {
      "text/plain": [
       "(4, 2)"
      ]
     },
     "execution_count": 3,
     "metadata": {},
     "output_type": "execute_result"
    }
   ],
   "source": [
    "a + 1, a -1"
   ]
  },
  {
   "cell_type": "code",
   "execution_count": 4,
   "id": "e837a9a1",
   "metadata": {},
   "outputs": [
    {
     "data": {
      "text/plain": [
       "(12, 2.0)"
      ]
     },
     "execution_count": 4,
     "metadata": {},
     "output_type": "execute_result"
    }
   ],
   "source": [
    "b * 3, b/2"
   ]
  },
  {
   "cell_type": "code",
   "execution_count": 5,
   "id": "ba824866",
   "metadata": {},
   "outputs": [
    {
     "data": {
      "text/plain": [
       "(1, 16)"
      ]
     },
     "execution_count": 5,
     "metadata": {},
     "output_type": "execute_result"
    }
   ],
   "source": [
    "a % 2, b ** 2"
   ]
  },
  {
   "cell_type": "code",
   "execution_count": 7,
   "id": "6349fbdf",
   "metadata": {},
   "outputs": [
    {
     "data": {
      "text/plain": [
       "(6.0, 16.0)"
      ]
     },
     "execution_count": 7,
     "metadata": {},
     "output_type": "execute_result"
    }
   ],
   "source": [
    "2 + 4.0, 2.0 ** b"
   ]
  },
  {
   "cell_type": "code",
   "execution_count": 8,
   "id": "0fa7f71c",
   "metadata": {},
   "outputs": [
    {
     "data": {
      "text/plain": [
       "5.0"
      ]
     },
     "execution_count": 8,
     "metadata": {},
     "output_type": "execute_result"
    }
   ],
   "source": [
    "b /2 + a"
   ]
  },
  {
   "cell_type": "code",
   "execution_count": 9,
   "id": "743ac30b",
   "metadata": {},
   "outputs": [
    {
     "data": {
      "text/plain": [
       "0.8"
      ]
     },
     "execution_count": 9,
     "metadata": {},
     "output_type": "execute_result"
    }
   ],
   "source": [
    "b / (2.0 + a)"
   ]
  },
  {
   "cell_type": "code",
   "execution_count": 10,
   "id": "bb9f843a",
   "metadata": {},
   "outputs": [
    {
     "data": {
      "text/plain": [
       "5"
      ]
     },
     "execution_count": 10,
     "metadata": {},
     "output_type": "execute_result"
    }
   ],
   "source": [
    "b // 2 + a"
   ]
  },
  {
   "cell_type": "markdown",
   "id": "0edea0fe",
   "metadata": {},
   "source": [
    "### Numeric Display Formats\n"
   ]
  },
  {
   "cell_type": "code",
   "execution_count": 12,
   "id": "9d79df84",
   "metadata": {},
   "outputs": [
    {
     "data": {
      "text/plain": [
       "0.3333333333333333"
      ]
     },
     "execution_count": 12,
     "metadata": {},
     "output_type": "execute_result"
    }
   ],
   "source": [
    "num = 1/3.0\n",
    "num"
   ]
  },
  {
   "cell_type": "code",
   "execution_count": 13,
   "id": "2e2339c5",
   "metadata": {},
   "outputs": [
    {
     "name": "stdout",
     "output_type": "stream",
     "text": [
      "0.3333333333333333\n"
     ]
    }
   ],
   "source": [
    "print(num)"
   ]
  },
  {
   "cell_type": "code",
   "execution_count": 15,
   "id": "25fb441d",
   "metadata": {},
   "outputs": [
    {
     "data": {
      "text/plain": [
       "'3.333333e-01'"
      ]
     },
     "execution_count": 15,
     "metadata": {},
     "output_type": "execute_result"
    }
   ],
   "source": [
    "'%e' %num"
   ]
  },
  {
   "cell_type": "code",
   "execution_count": 17,
   "id": "422a870b",
   "metadata": {},
   "outputs": [
    {
     "data": {
      "text/plain": [
       "'0.33'"
      ]
     },
     "execution_count": 17,
     "metadata": {},
     "output_type": "execute_result"
    }
   ],
   "source": [
    "'%4.2f' % num"
   ]
  },
  {
   "cell_type": "code",
   "execution_count": 18,
   "id": "d704f967",
   "metadata": {},
   "outputs": [
    {
     "data": {
      "text/plain": [
       "'0.33'"
      ]
     },
     "execution_count": 18,
     "metadata": {},
     "output_type": "execute_result"
    }
   ],
   "source": [
    "'{0:4.2f}'.format(num)"
   ]
  },
  {
   "cell_type": "code",
   "execution_count": 1,
   "id": "163e9f65",
   "metadata": {},
   "outputs": [
    {
     "data": {
      "text/plain": [
       "True"
      ]
     },
     "execution_count": 1,
     "metadata": {},
     "output_type": "execute_result"
    }
   ],
   "source": [
    "X=2\n",
    "Y = 4\n",
    "Z= 6\n",
    "X < Y < Z"
   ]
  },
  {
   "cell_type": "code",
   "execution_count": 2,
   "id": "e31a48f4-543c-4316-a148-e8b060bcfca1",
   "metadata": {},
   "outputs": [
    {
     "data": {
      "text/plain": [
       "True"
      ]
     },
     "execution_count": 2,
     "metadata": {},
     "output_type": "execute_result"
    }
   ],
   "source": [
    "X < Y and Y < Z"
   ]
  },
  {
   "cell_type": "code",
   "execution_count": 3,
   "id": "2f881dd1-a3ce-45bb-ad00-2318932a2db4",
   "metadata": {},
   "outputs": [
    {
     "data": {
      "text/plain": [
       "False"
      ]
     },
     "execution_count": 3,
     "metadata": {},
     "output_type": "execute_result"
    }
   ],
   "source": [
    "X < Y > Z"
   ]
  },
  {
   "cell_type": "code",
   "execution_count": 4,
   "id": "3162d22c-a1b7-4734-84e9-d4b44ac471fb",
   "metadata": {},
   "outputs": [
    {
     "data": {
      "text/plain": [
       "True"
      ]
     },
     "execution_count": 4,
     "metadata": {},
     "output_type": "execute_result"
    }
   ],
   "source": [
    "1 < 2 < 3.0 < 4"
   ]
  },
  {
   "cell_type": "code",
   "execution_count": 5,
   "id": "e5ffd1d3-a3b5-4f02-a931-af5a3eeadc6f",
   "metadata": {},
   "outputs": [
    {
     "data": {
      "text/plain": [
       "False"
      ]
     },
     "execution_count": 5,
     "metadata": {},
     "output_type": "execute_result"
    }
   ],
   "source": [
    "1 == 2 < 3"
   ]
  },
  {
   "cell_type": "code",
   "execution_count": 6,
   "id": "e8d665c3-584e-4dd7-887d-dd8a488bbcaf",
   "metadata": {},
   "outputs": [
    {
     "data": {
      "text/plain": [
       "False"
      ]
     },
     "execution_count": 6,
     "metadata": {},
     "output_type": "execute_result"
    }
   ],
   "source": [
    "1.1 + 2.2  == 3.3"
   ]
  },
  {
   "cell_type": "markdown",
   "id": "1d5e5854-277e-4660-8c04-67caa7f446ed",
   "metadata": {},
   "source": []
  },
  {
   "cell_type": "markdown",
   "id": "bf748a10-cffd-4017-aef2-b3b6fc58cf03",
   "metadata": {},
   "source": [
    "### Division: Classic, Floor, and True\n",
    "`X / Y`\n",
    "\n",
    "    In Python 3.X, it performs *true* division, always keeping remainders in floating-point results, regardless of types.\n",
    "    \n",
    "`X // Y`\n",
    "\n",
    "    Always truncates fractional remainders down to theri floor, regardless of types. Its result type depends on the types of its operands."
   ]
  },
  {
   "cell_type": "code",
   "execution_count": 7,
   "id": "0a82b2bf-a4d2-46bc-a74a-cf5c7b1caa02",
   "metadata": {},
   "outputs": [
    {
     "data": {
      "text/plain": [
       "2.5"
      ]
     },
     "execution_count": 7,
     "metadata": {},
     "output_type": "execute_result"
    }
   ],
   "source": [
    "10 / 4"
   ]
  },
  {
   "cell_type": "code",
   "execution_count": 8,
   "id": "c1f974e8-5faa-4268-982e-593e2af37c16",
   "metadata": {},
   "outputs": [
    {
     "data": {
      "text/plain": [
       "2.5"
      ]
     },
     "execution_count": 8,
     "metadata": {},
     "output_type": "execute_result"
    }
   ],
   "source": [
    "10 / 4.0"
   ]
  },
  {
   "cell_type": "code",
   "execution_count": 9,
   "id": "9a3bb04a-a791-4fed-9d73-b335e994a9ee",
   "metadata": {},
   "outputs": [
    {
     "data": {
      "text/plain": [
       "2"
      ]
     },
     "execution_count": 9,
     "metadata": {},
     "output_type": "execute_result"
    }
   ],
   "source": [
    "10 // 4"
   ]
  },
  {
   "cell_type": "code",
   "execution_count": 10,
   "id": "3dc38f59-d626-4b1f-b047-0f8153e514d0",
   "metadata": {},
   "outputs": [
    {
     "data": {
      "text/plain": [
       "2.0"
      ]
     },
     "execution_count": 10,
     "metadata": {},
     "output_type": "execute_result"
    }
   ],
   "source": [
    "10 // 4.0"
   ]
  },
  {
   "cell_type": "markdown",
   "id": "d9353009-458f-4b77-b511-82a1c58f2c53",
   "metadata": {},
   "source": [
    "#### Floor versuus truncation\n",
    "it truncates the result down to its floor, which means the closet whole number belwo the true result"
   ]
  },
  {
   "cell_type": "code",
   "execution_count": 11,
   "id": "92b19da1-3185-49e8-b4b9-3f3c738ef69a",
   "metadata": {},
   "outputs": [
    {
     "data": {
      "text/plain": [
       "-3"
      ]
     },
     "execution_count": 11,
     "metadata": {},
     "output_type": "execute_result"
    }
   ],
   "source": [
    "10//-4"
   ]
  },
  {
   "cell_type": "code",
   "execution_count": 12,
   "id": "f1f4fc66-4902-4085-ae42-a85d745f417b",
   "metadata": {},
   "outputs": [],
   "source": [
    "import math"
   ]
  },
  {
   "cell_type": "code",
   "execution_count": 13,
   "id": "40ea5fab-80c7-423a-bfec-e8ecf942589c",
   "metadata": {},
   "outputs": [
    {
     "data": {
      "text/plain": [
       "2"
      ]
     },
     "execution_count": 13,
     "metadata": {},
     "output_type": "execute_result"
    }
   ],
   "source": [
    "math.floor(2.5)"
   ]
  },
  {
   "cell_type": "code",
   "execution_count": 14,
   "id": "ac7ef082-2f0b-4dab-8059-e58ac56aa08a",
   "metadata": {},
   "outputs": [
    {
     "data": {
      "text/plain": [
       "-3"
      ]
     },
     "execution_count": 14,
     "metadata": {},
     "output_type": "execute_result"
    }
   ],
   "source": [
    "math.floor(-2.5)"
   ]
  },
  {
   "cell_type": "code",
   "execution_count": 17,
   "id": "142bccc8-292b-4c96-8a0c-f3033b1400da",
   "metadata": {},
   "outputs": [
    {
     "data": {
      "text/plain": [
       "2"
      ]
     },
     "execution_count": 17,
     "metadata": {},
     "output_type": "execute_result"
    }
   ],
   "source": [
    "math.trunc(2.5)"
   ]
  },
  {
   "cell_type": "code",
   "execution_count": 18,
   "id": "406e181a-6d18-4654-9438-888a42eb9d97",
   "metadata": {},
   "outputs": [
    {
     "data": {
      "text/plain": [
       "-2"
      ]
     },
     "execution_count": 18,
     "metadata": {},
     "output_type": "execute_result"
    }
   ],
   "source": [
    "math.trunc(-2.5)"
   ]
  },
  {
   "cell_type": "markdown",
   "id": "6f359ceb-0eee-46c0-89cf-bd0ac55b190b",
   "metadata": {},
   "source": [
    "#### Why does truncation matter"
   ]
  },
  {
   "cell_type": "code",
   "execution_count": 19,
   "id": "8e1444a4-34a6-48f1-a5ff-25accf70959d",
   "metadata": {},
   "outputs": [
    {
     "data": {
      "text/plain": [
       "(2.5, 2.5, -2.5, -2.5)"
      ]
     },
     "execution_count": 19,
     "metadata": {},
     "output_type": "execute_result"
    }
   ],
   "source": [
    "(5/2), (5/2.0), (5/-2.0), (5/-2)"
   ]
  },
  {
   "cell_type": "code",
   "execution_count": 20,
   "id": "a5f33dec-67a9-4837-9472-3cb377dd13e6",
   "metadata": {},
   "outputs": [
    {
     "data": {
      "text/plain": [
       "(2, 2.0, -3.0, -3)"
      ]
     },
     "execution_count": 20,
     "metadata": {},
     "output_type": "execute_result"
    }
   ],
   "source": [
    "(5//2), (5//2.0), (5//-2.0), (5//-2)"
   ]
  },
  {
   "cell_type": "code",
   "execution_count": 21,
   "id": "41191a18-083b-4005-8a8a-a0992ee71716",
   "metadata": {},
   "outputs": [
    {
     "data": {
      "text/plain": [
       "(3.0, 3.0, 3, 3.0)"
      ]
     },
     "execution_count": 21,
     "metadata": {},
     "output_type": "execute_result"
    }
   ],
   "source": [
    "(9/3), (9.0/3), (9 //3), (9//3.0)"
   ]
  },
  {
   "cell_type": "markdown",
   "id": "75d99f31-6f9a-4566-9b6d-0dc9393b6d49",
   "metadata": {},
   "source": [
    "### Integer Precision\n"
   ]
  },
  {
   "cell_type": "markdown",
   "id": "0abfbfa3-abdf-4ef2-875f-07dd154d6102",
   "metadata": {},
   "source": [
    "## Complex Numbers"
   ]
  },
  {
   "cell_type": "code",
   "execution_count": 22,
   "id": "3dee499f-7730-4f22-8d88-710cfd84b4de",
   "metadata": {},
   "outputs": [
    {
     "data": {
      "text/plain": [
       "True"
      ]
     },
     "execution_count": 22,
     "metadata": {},
     "output_type": "execute_result"
    }
   ],
   "source": [
    "2 - 3j == 2 + -3j"
   ]
  },
  {
   "cell_type": "code",
   "execution_count": 23,
   "id": "bc72f67c-fd37-4a9f-b8eb-214fb263971d",
   "metadata": {},
   "outputs": [
    {
     "data": {
      "text/plain": [
       "(-1+0j)"
      ]
     },
     "execution_count": 23,
     "metadata": {},
     "output_type": "execute_result"
    }
   ],
   "source": [
    "1j * 1J"
   ]
  },
  {
   "cell_type": "markdown",
   "id": "eb55ba5e-29e3-455c-80b2-c60db527942d",
   "metadata": {},
   "source": [
    "## Hex, Octal, Binary: Literals and Conversions"
   ]
  },
  {
   "cell_type": "code",
   "execution_count": 24,
   "id": "67c63e5f-f78c-464d-9788-a488b6d26f0c",
   "metadata": {},
   "outputs": [
    {
     "data": {
      "text/plain": [
       "(1, 16, 255)"
      ]
     },
     "execution_count": 24,
     "metadata": {},
     "output_type": "execute_result"
    }
   ],
   "source": [
    "0o1, 0o20, 0o377"
   ]
  },
  {
   "cell_type": "code",
   "execution_count": 25,
   "id": "ab8d3d36-1701-4358-801a-e1fe247bd172",
   "metadata": {},
   "outputs": [
    {
     "data": {
      "text/plain": [
       "(1, 16, 255)"
      ]
     },
     "execution_count": 25,
     "metadata": {},
     "output_type": "execute_result"
    }
   ],
   "source": [
    "0x01, 0x10, 0xFF"
   ]
  },
  {
   "cell_type": "code",
   "execution_count": 26,
   "id": "bc67d46d-d409-4d17-863c-a646ce755484",
   "metadata": {},
   "outputs": [
    {
     "data": {
      "text/plain": [
       "(1, 16, 255)"
      ]
     },
     "execution_count": 26,
     "metadata": {},
     "output_type": "execute_result"
    }
   ],
   "source": [
    "0b1, 0b10000, 0b11111111"
   ]
  },
  {
   "cell_type": "code",
   "execution_count": 27,
   "id": "b8a30649-5c0a-4b28-9a44-bda6aeab1c79",
   "metadata": {},
   "outputs": [
    {
     "data": {
      "text/plain": [
       "('0o100', '0x40', '0b1000000')"
      ]
     },
     "execution_count": 27,
     "metadata": {},
     "output_type": "execute_result"
    }
   ],
   "source": [
    "oct(64), hex(64), bin(64)"
   ]
  },
  {
   "cell_type": "code",
   "execution_count": 28,
   "id": "cb39758f-0e08-4c41-bcf9-60d485bae6b2",
   "metadata": {},
   "outputs": [
    {
     "data": {
      "text/plain": [
       "(64, 64, 64, 64)"
      ]
     },
     "execution_count": 28,
     "metadata": {},
     "output_type": "execute_result"
    }
   ],
   "source": [
    "64, 0o100, 0x40, 0b1000000"
   ]
  },
  {
   "cell_type": "code",
   "execution_count": 31,
   "id": "c44fb004-2d84-4cef-b21e-abd743c95f28",
   "metadata": {},
   "outputs": [
    {
     "data": {
      "text/plain": [
       "(64, 64, 64, 64)"
      ]
     },
     "execution_count": 31,
     "metadata": {},
     "output_type": "execute_result"
    }
   ],
   "source": [
    "int('64'), int('100',8), int('40', 16), int('1000000',2)"
   ]
  },
  {
   "cell_type": "code",
   "execution_count": 32,
   "id": "aa077cbe-8ca0-4a91-94ee-6baca01d2edc",
   "metadata": {},
   "outputs": [
    {
     "data": {
      "text/plain": [
       "(64, 64)"
      ]
     },
     "execution_count": 32,
     "metadata": {},
     "output_type": "execute_result"
    }
   ],
   "source": [
    "int('0x40', 16), int('0b1000000',2)"
   ]
  },
  {
   "cell_type": "code",
   "execution_count": 33,
   "id": "f3d922cc-4b29-4942-bb7d-d8806263975c",
   "metadata": {},
   "outputs": [
    {
     "data": {
      "text/plain": [
       "(64, 64, 64, 64)"
      ]
     },
     "execution_count": 33,
     "metadata": {},
     "output_type": "execute_result"
    }
   ],
   "source": [
    "eval('64'), eval('0o100'), eval('0x40'), eval('0b1000000')"
   ]
  },
  {
   "cell_type": "code",
   "execution_count": 34,
   "id": "64f53dc4-d8d0-459f-8df8-8eca5430fa78",
   "metadata": {},
   "outputs": [
    {
     "data": {
      "text/plain": [
       "'100,40,1000000'"
      ]
     },
     "execution_count": 34,
     "metadata": {},
     "output_type": "execute_result"
    }
   ],
   "source": [
    "'{0:o},{1:x},{2:b}'.format(64,64,64)"
   ]
  },
  {
   "cell_type": "code",
   "execution_count": 35,
   "id": "98a5384c-2593-4c49-8e4f-a82cde374619",
   "metadata": {},
   "outputs": [
    {
     "data": {
      "text/plain": [
       "'100, 40, ff, FF'"
      ]
     },
     "execution_count": 35,
     "metadata": {},
     "output_type": "execute_result"
    }
   ],
   "source": [
    "'%o, %x, %x, %X' % (64, 64, 255, 255)"
   ]
  },
  {
   "cell_type": "markdown",
   "id": "c37bd6ab-504c-465e-bced-8ccb2cd04ad0",
   "metadata": {},
   "source": [
    "## Bitwise Operations\n"
   ]
  },
  {
   "cell_type": "code",
   "execution_count": 36,
   "id": "61f79dae-3b06-4e21-bcfc-d0a0b4a82b5a",
   "metadata": {},
   "outputs": [
    {
     "data": {
      "text/plain": [
       "4"
      ]
     },
     "execution_count": 36,
     "metadata": {},
     "output_type": "execute_result"
    }
   ],
   "source": [
    "x = 1\n",
    "x << 2"
   ]
  },
  {
   "cell_type": "code",
   "execution_count": 37,
   "id": "21145e7f-db28-4cf3-950e-2d892a952ac4",
   "metadata": {},
   "outputs": [
    {
     "data": {
      "text/plain": [
       "3"
      ]
     },
     "execution_count": 37,
     "metadata": {},
     "output_type": "execute_result"
    }
   ],
   "source": [
    "x | 2"
   ]
  },
  {
   "cell_type": "code",
   "execution_count": 38,
   "id": "cc200f78-e2f1-4d75-a6d7-16527c350e27",
   "metadata": {},
   "outputs": [
    {
     "data": {
      "text/plain": [
       "1"
      ]
     },
     "execution_count": 38,
     "metadata": {},
     "output_type": "execute_result"
    }
   ],
   "source": [
    "x & 1"
   ]
  },
  {
   "cell_type": "markdown",
   "id": "c6b281f7-ff85-427a-8411-d8744e5e6217",
   "metadata": {},
   "source": [
    "## Other Built-in Numeric Tools"
   ]
  },
  {
   "cell_type": "code",
   "execution_count": 39,
   "id": "537cd814-40f3-4d2a-8ea8-a26942133b02",
   "metadata": {},
   "outputs": [
    {
     "data": {
      "text/plain": [
       "(3.141592653589793, 2.718281828459045)"
      ]
     },
     "execution_count": 39,
     "metadata": {},
     "output_type": "execute_result"
    }
   ],
   "source": [
    "import math\n",
    "math.pi, math.e"
   ]
  },
  {
   "cell_type": "code",
   "execution_count": 40,
   "id": "2946c54d-f6cc-4672-9773-9647d67378df",
   "metadata": {},
   "outputs": [
    {
     "data": {
      "text/plain": [
       "0.03489949670250097"
      ]
     },
     "execution_count": 40,
     "metadata": {},
     "output_type": "execute_result"
    }
   ],
   "source": [
    "math.sin(2*math.pi /180)"
   ]
  },
  {
   "cell_type": "code",
   "execution_count": 41,
   "id": "385f4e08-c527-4e3e-bd2e-6b5a60999130",
   "metadata": {},
   "outputs": [
    {
     "data": {
      "text/plain": [
       "(12.0, 1.4142135623730951)"
      ]
     },
     "execution_count": 41,
     "metadata": {},
     "output_type": "execute_result"
    }
   ],
   "source": [
    "math.sqrt(144), math.sqrt(2)"
   ]
  },
  {
   "cell_type": "code",
   "execution_count": 43,
   "id": "ca948dac-010a-4591-b301-1c9acd1c89be",
   "metadata": {},
   "outputs": [
    {
     "data": {
      "text/plain": [
       "(16, 16, 16.0)"
      ]
     },
     "execution_count": 43,
     "metadata": {},
     "output_type": "execute_result"
    }
   ],
   "source": [
    "pow(2,4), 2**4, 2.0**4.0"
   ]
  },
  {
   "cell_type": "code",
   "execution_count": 44,
   "id": "749946e0-c704-463a-b3fd-aae0bd537430",
   "metadata": {},
   "outputs": [
    {
     "data": {
      "text/plain": [
       "(42.0, 10)"
      ]
     },
     "execution_count": 44,
     "metadata": {},
     "output_type": "execute_result"
    }
   ],
   "source": [
    "abs(-42.0), sum((1,2,3,4))"
   ]
  },
  {
   "cell_type": "code",
   "execution_count": 45,
   "id": "bca417e1-1204-437d-908b-be49d05a7322",
   "metadata": {},
   "outputs": [
    {
     "data": {
      "text/plain": [
       "1"
      ]
     },
     "execution_count": 45,
     "metadata": {},
     "output_type": "execute_result"
    }
   ],
   "source": [
    "min(3,1,2,4)"
   ]
  },
  {
   "cell_type": "code",
   "execution_count": 46,
   "id": "bbb9e9d8-a297-4c93-959d-0fc9618bba68",
   "metadata": {},
   "outputs": [
    {
     "data": {
      "text/plain": [
       "4"
      ]
     },
     "execution_count": 46,
     "metadata": {},
     "output_type": "execute_result"
    }
   ],
   "source": [
    "max(3,1,2,4)"
   ]
  },
  {
   "cell_type": "code",
   "execution_count": 47,
   "id": "df54361f-a5e6-4ea2-9fd6-8f87ba4ca8a0",
   "metadata": {},
   "outputs": [
    {
     "data": {
      "text/plain": [
       "4"
      ]
     },
     "execution_count": 47,
     "metadata": {},
     "output_type": "execute_result"
    }
   ],
   "source": [
    "max([3,1,2,4])"
   ]
  },
  {
   "cell_type": "code",
   "execution_count": 48,
   "id": "70716890-a99c-4588-8588-d2ba9039a587",
   "metadata": {},
   "outputs": [
    {
     "data": {
      "text/plain": [
       "(12.0, 12.0, 12.0)"
      ]
     },
     "execution_count": 48,
     "metadata": {},
     "output_type": "execute_result"
    }
   ],
   "source": [
    "math.sqrt(144), 144 ** .5, pow(144,.5)"
   ]
  },
  {
   "cell_type": "code",
   "execution_count": 49,
   "id": "ea38fdfe-3840-4c0c-8447-478f3b5c2eb0",
   "metadata": {},
   "outputs": [],
   "source": [
    "import random"
   ]
  },
  {
   "cell_type": "code",
   "execution_count": 51,
   "id": "56505fb5-b720-455d-891c-97e92b1bbbac",
   "metadata": {},
   "outputs": [
    {
     "data": {
      "text/plain": [
       "14"
      ]
     },
     "execution_count": 51,
     "metadata": {},
     "output_type": "execute_result"
    }
   ],
   "source": [
    "random.randint(10,15)"
   ]
  },
  {
   "cell_type": "markdown",
   "id": "4c09e29d-4cf9-439c-811e-1b3264feae5f",
   "metadata": {},
   "source": [
    "## Other Numeric Types\n"
   ]
  },
  {
   "cell_type": "markdown",
   "id": "9a91ebf6-bd4c-46e6-9db3-9d0dd3fb5eea",
   "metadata": {},
   "source": [
    "# Chapter 6 The Dynamic Typing Interlude\n",
    "## The Case of the Missing Declaration Statements\n",
    "*dynamic typing* model: types are determined automatically at runtine, not in response to declarations in your codes.\n",
    "### Variables, Objects, and References\n",
    "\n",
    "*Variable creation*\n",
    "\n",
    "    A variable (i.e. name), like `a`, is created when your code first assigns it a value. Future assignments change the value of the already created name. Technically, Python detects some names before your code runs, but you can think of it as though initial assignments make variable.\n",
    "    \n",
    "*Variable type*\n",
    " \n",
    "    A variable never has any type information or constraints associated with it.\n",
    "    The notion of type lives with objects, not names.\n",
    "    Variables are generic in nature; they always simply refer to a particular object at a particualr point in time.\n",
    "    \n",
    "*Variable use*\n",
    "\n",
    "    When a variable appears in an expression, it is immediately replaced with the object that it currently refers to, whatever that may be.\n",
    "    Further, all variables must be explicitly assigned before they can be uses; referencing unassigned variable results in errors.\n",
    "\n",
    "\n",
    "In sum, variables are created when assigned, can reference any type of object, and must be assigned before they are references."
   ]
  },
  {
   "cell_type": "code",
   "execution_count": 1,
   "id": "99a59ce1-7600-4f26-96f9-b198b25532d6",
   "metadata": {},
   "outputs": [],
   "source": [
    "a = 3"
   ]
  },
  {
   "cell_type": "markdown",
   "id": "e422fef3-6069-4220-856d-77a920e8438b",
   "metadata": {},
   "source": [
    "1. Create an object to represent the value 3\n",
    "2. Create the variable `a`, if it does not yet exist.\n",
    "3. Link the variable `a` to the new object 3\n",
    "\n",
    "Variables always link to objects and never to other variables, but larger objects may link to other ogjects.\n",
    "\n",
    "The links from variables to objects are called `refernces` in Python.\n",
    "\n",
    "- *Variables* are entries in a system table, with spaces for links to objects.\n",
    "- *Objects* are pieces of allocated memory, with enough space to represent the values for which they stand.\n",
    "- *References* are qutomatically followed pointers from variables to objects.\n",
    "\n",
    "Each object also has two standard header fields: a *type designator* used to mark the type of the object, adn a *reference counter* used to determine when it's OK to reclaim object."
   ]
  },
  {
   "cell_type": "markdown",
   "id": "f040bf2a-2cba-45bd-ae41-5707651875a4",
   "metadata": {},
   "source": [
    "## Types live with objects, Not Variables\n"
   ]
  },
  {
   "cell_type": "code",
   "execution_count": 2,
   "id": "416e593c-070b-4916-b2a1-aefd7732ba9c",
   "metadata": {},
   "outputs": [],
   "source": [
    "a = 3\n",
    "a = 'spam'\n",
    "a = 1.23"
   ]
  },
  {
   "cell_type": "markdown",
   "id": "767eec10-a0aa-41ca-8344-f712dab8002e",
   "metadata": {},
   "source": [
    "## Objects Are  Garbage-Collected\n",
    "In Python, whenever a name is assigned to a new object, the space held by the prior object is reclaimed if it is not referenced by any other name of object."
   ]
  },
  {
   "cell_type": "markdown",
   "id": "7af020a2-669c-40a9-86e9-3e7581c0c159",
   "metadata": {},
   "source": [
    "## Shared Reference"
   ]
  },
  {
   "cell_type": "code",
   "execution_count": 3,
   "id": "248c6c0f-a6f3-4d4b-bf57-5b9abe11928f",
   "metadata": {},
   "outputs": [],
   "source": [
    "a = 3\n",
    "b = a"
   ]
  },
  {
   "cell_type": "code",
   "execution_count": 4,
   "id": "c6b12915-b90e-431f-a15b-38a5dc1f2dd8",
   "metadata": {},
   "outputs": [
    {
     "data": {
      "text/plain": [
       "('spam', 3)"
      ]
     },
     "execution_count": 4,
     "metadata": {},
     "output_type": "execute_result"
    }
   ],
   "source": [
    "a = 3\n",
    "b = a\n",
    "a = 'spam'\n",
    "a, b"
   ]
  },
  {
   "cell_type": "code",
   "execution_count": 5,
   "id": "69a6da12-9d6e-4216-a401-cd5b77764e6a",
   "metadata": {},
   "outputs": [
    {
     "data": {
      "text/plain": [
       "(5, 3)"
      ]
     },
     "execution_count": 5,
     "metadata": {},
     "output_type": "execute_result"
    }
   ],
   "source": [
    "a = 3\n",
    "b = a\n",
    "a = a +2\n",
    "a, b"
   ]
  },
  {
   "cell_type": "markdown",
   "id": "5b28b810-92b4-482f-a44b-989d8091315d",
   "metadata": {},
   "source": [
    "## Shgared References and In-Place Changes"
   ]
  },
  {
   "cell_type": "code",
   "execution_count": 6,
   "id": "fc6074c7-e676-4e61-b76b-764e0de03a45",
   "metadata": {},
   "outputs": [
    {
     "data": {
      "text/plain": [
       "([2, 3, 4], [2, 3, 4])"
      ]
     },
     "execution_count": 6,
     "metadata": {},
     "output_type": "execute_result"
    }
   ],
   "source": [
    "L1 = [2, 3, 4]\n",
    "L2 = L1\n",
    "L1, L2"
   ]
  },
  {
   "cell_type": "code",
   "execution_count": 7,
   "id": "4a3fc1dd-deac-496f-b106-07b84f7bae27",
   "metadata": {},
   "outputs": [
    {
     "data": {
      "text/plain": [
       "(24, [2, 3, 4])"
      ]
     },
     "execution_count": 7,
     "metadata": {},
     "output_type": "execute_result"
    }
   ],
   "source": [
    "L1 = 24\n",
    "L1, L2"
   ]
  },
  {
   "cell_type": "code",
   "execution_count": 8,
   "id": "560bf9a7-660d-4732-89d4-40a805ccd798",
   "metadata": {},
   "outputs": [
    {
     "data": {
      "text/plain": [
       "([24, 3, 4], [24, 3, 4])"
      ]
     },
     "execution_count": 8,
     "metadata": {},
     "output_type": "execute_result"
    }
   ],
   "source": [
    "L1 = [2, 3, 4]\n",
    "L2 = L1\n",
    "L1[0] = 24\n",
    "L1, L2"
   ]
  },
  {
   "cell_type": "markdown",
   "id": "3028ecbc-1b3f-4aca-ac8a-050dd86e7993",
   "metadata": {},
   "source": [
    "This behavior only occurs for mutable objects that support in-place changes, and is usually what you wang, but you shold be aware of how it works, so that it's expected.\n",
    "If you don't want such behavior, yo ucan request that Python *copy* objects instead of makeing references."
   ]
  },
  {
   "cell_type": "code",
   "execution_count": 9,
   "id": "cf4a6c5e-9de1-41cf-9f51-e9195f87116b",
   "metadata": {},
   "outputs": [
    {
     "data": {
      "text/plain": [
       "([24, 3, 4], [2, 3, 4])"
      ]
     },
     "execution_count": 9,
     "metadata": {},
     "output_type": "execute_result"
    }
   ],
   "source": [
    "L1 =[2, 3, 4]\n",
    "L2 = L1[:]\n",
    "L1[0] = 24\n",
    "L1, L2"
   ]
  },
  {
   "cell_type": "markdown",
   "id": "2eb8c67e-5eff-4ca7-8d5e-7f84d7f4e55f",
   "metadata": {},
   "source": [
    "copy 和 deepcopy"
   ]
  },
  {
   "cell_type": "markdown",
   "id": "0549731b-2d75-4200-a949-60ddd431c069",
   "metadata": {},
   "source": [
    "## Shared Refernces and Equality"
   ]
  },
  {
   "cell_type": "code",
   "execution_count": 10,
   "id": "79ed33b7-1996-45c9-8929-55fa7321a5d5",
   "metadata": {},
   "outputs": [
    {
     "data": {
      "text/plain": [
       "(True, True)"
      ]
     },
     "execution_count": 10,
     "metadata": {},
     "output_type": "execute_result"
    }
   ],
   "source": [
    "L = [1,2,3]\n",
    "M = L\n",
    "L == M, L is M"
   ]
  },
  {
   "cell_type": "code",
   "execution_count": 11,
   "id": "5815edd1-3873-43b9-948e-817e1cade6a0",
   "metadata": {},
   "outputs": [
    {
     "data": {
      "text/plain": [
       "(True, False)"
      ]
     },
     "execution_count": 11,
     "metadata": {},
     "output_type": "execute_result"
    }
   ],
   "source": [
    "L =[1, 2, 3]\n",
    "M =[1, 2, 3]\n",
    "L == M, L is M"
   ]
  },
  {
   "cell_type": "code",
   "execution_count": 12,
   "id": "a2a0623e-f8af-4ec8-a1df-f1476ee727b4",
   "metadata": {},
   "outputs": [
    {
     "data": {
      "text/plain": [
       "(True, False)"
      ]
     },
     "execution_count": 12,
     "metadata": {},
     "output_type": "execute_result"
    }
   ],
   "source": [
    "a = (1,2)\n",
    "b = (1,2)\n",
    "a == b, a is b"
   ]
  },
  {
   "cell_type": "code",
   "execution_count": 13,
   "id": "00dc694c-6404-41c6-b3ef-8a7588d76e27",
   "metadata": {},
   "outputs": [
    {
     "data": {
      "text/plain": [
       "3584"
      ]
     },
     "execution_count": 13,
     "metadata": {},
     "output_type": "execute_result"
    }
   ],
   "source": [
    "import sys\n",
    "sys.getrefcount(1)"
   ]
  },
  {
   "cell_type": "markdown",
   "id": "9d62ad46-1d5d-48ba-b520-b032681d8f6c",
   "metadata": {},
   "source": [
    "## Dynamic Typing Is Everywhere\n"
   ]
  }
 ],
 "metadata": {
  "kernelspec": {
   "display_name": "Python 3 (ipykernel)",
   "language": "python",
   "name": "python3"
  },
  "language_info": {
   "codemirror_mode": {
    "name": "ipython",
    "version": 3
   },
   "file_extension": ".py",
   "mimetype": "text/x-python",
   "name": "python",
   "nbconvert_exporter": "python",
   "pygments_lexer": "ipython3",
   "version": "3.9.12"
  }
 },
 "nbformat": 4,
 "nbformat_minor": 5
}
