{
 "cells": [
  {
   "cell_type": "markdown",
   "id": "dfcbb9f9-df49-4eba-8c91-c5426f29084e",
   "metadata": {},
   "source": [
    "# Chapter 14 Iteration and Comprehensions\n",
    "## Iteration: A first look"
   ]
  },
  {
   "cell_type": "code",
   "execution_count": 1,
   "id": "2153f143-e8c6-4644-be1a-0202641c60a9",
   "metadata": {},
   "outputs": [],
   "source": [
    "for x in [1, 2, 3, 4]: print(x **2 , end = ' ')"
   ]
  },
  {
   "cell_type": "code",
   "execution_count": 2,
   "id": "3c094da9-e245-463c-a6ad-62a0109ba6c5",
   "metadata": {},
   "outputs": [],
   "source": [
    "for x in (1, 2, 3, 4): print (x**3, end = ' ')"
   ]
  },
  {
   "cell_type": "code",
   "execution_count": 3,
   "id": "d58dc97a-8bc6-4820-906a-6762d8044417",
   "metadata": {},
   "outputs": [
    {
     "name": "stdout",
     "output_type": "stream",
     "text": [
      "ss pp aa mm "
     ]
    }
   ],
   "source": [
    "for x in 'spam': print (x*2, end = ' ' )"
   ]
  },
  {
   "cell_type": "markdown",
   "id": "1004fe80-721a-4798-8977-8fbdb6d6990b",
   "metadata": {},
   "source": [
    "## The iteration protocol: File Iterators"
   ]
  },
  {
   "cell_type": "code",
   "execution_count": 8,
   "id": "1d48949f-16e0-48e1-8a49-923a27e7eb62",
   "metadata": {},
   "outputs": [],
   "source": [
    "f = open('script2.py', 'w')\n",
    "f.write(\"import.sys\\n\");\n",
    "f.write(\"print(sys.path)\\n\")\n",
    "f.write(\"x =2\\n\")\n",
    "f.write(\"print(x ** 32)\\n\")\n",
    "f.close()"
   ]
  },
  {
   "cell_type": "code",
   "execution_count": 10,
   "id": "d3a110b7-2fa2-4e69-a5c8-f07d871c2d32",
   "metadata": {},
   "outputs": [
    {
     "data": {
      "text/plain": [
       "'import.sys\\nprint(sys.path)\\nx =2\\nprint(x ** 32)\\n'"
      ]
     },
     "execution_count": 10,
     "metadata": {},
     "output_type": "execute_result"
    }
   ],
   "source": [
    "open('script2.py').read()"
   ]
  },
  {
   "cell_type": "code",
   "execution_count": 11,
   "id": "98ee279d-2c9f-41ab-9c61-6aa85a7f10a6",
   "metadata": {},
   "outputs": [
    {
     "data": {
      "text/plain": [
       "''"
      ]
     },
     "execution_count": 11,
     "metadata": {},
     "output_type": "execute_result"
    }
   ],
   "source": [
    "f= open('script2.py')\n",
    "f.readline()\n",
    "f.readline()\n",
    "f.readline()\n",
    "f.readline()\n",
    "f.readline()"
   ]
  },
  {
   "cell_type": "code",
   "execution_count": 13,
   "id": "b411db7c-5f75-444a-b7e9-eaa902899702",
   "metadata": {},
   "outputs": [
    {
     "data": {
      "text/plain": [
       "'import.sys\\n'"
      ]
     },
     "execution_count": 13,
     "metadata": {},
     "output_type": "execute_result"
    }
   ],
   "source": [
    "f= open('script2.py')\n",
    "f.__next__()"
   ]
  },
  {
   "cell_type": "code",
   "execution_count": 14,
   "id": "9e93f476-78c0-44a0-a08e-a296097fbcb1",
   "metadata": {},
   "outputs": [
    {
     "data": {
      "text/plain": [
       "'print(sys.path)\\n'"
      ]
     },
     "execution_count": 14,
     "metadata": {},
     "output_type": "execute_result"
    }
   ],
   "source": [
    "f.__next__()"
   ]
  },
  {
   "cell_type": "code",
   "execution_count": 15,
   "id": "ff0ab0bd-7928-4b06-a97f-a0f380403988",
   "metadata": {},
   "outputs": [
    {
     "data": {
      "text/plain": [
       "'x =2\\n'"
      ]
     },
     "execution_count": 15,
     "metadata": {},
     "output_type": "execute_result"
    }
   ],
   "source": [
    "f.__next__()"
   ]
  },
  {
   "cell_type": "code",
   "execution_count": 16,
   "id": "1f0eee28-dc29-40ff-8d06-9b535606650a",
   "metadata": {},
   "outputs": [
    {
     "data": {
      "text/plain": [
       "'print(x ** 32)\\n'"
      ]
     },
     "execution_count": 16,
     "metadata": {},
     "output_type": "execute_result"
    }
   ],
   "source": [
    "f.__next__()"
   ]
  },
  {
   "cell_type": "code",
   "execution_count": 17,
   "id": "e16d756d-eb7e-4ef9-a078-6b0697b8ad02",
   "metadata": {},
   "outputs": [
    {
     "ename": "StopIteration",
     "evalue": "",
     "output_type": "error",
     "traceback": [
      "\u001b[1;31m---------------------------------------------------------------------------\u001b[0m",
      "\u001b[1;31mStopIteration\u001b[0m                             Traceback (most recent call last)",
      "Input \u001b[1;32mIn [17]\u001b[0m, in \u001b[0;36m<cell line: 1>\u001b[1;34m()\u001b[0m\n\u001b[1;32m----> 1\u001b[0m \u001b[43mf\u001b[49m\u001b[38;5;241;43m.\u001b[39;49m\u001b[38;5;21;43m__next__\u001b[39;49m\u001b[43m(\u001b[49m\u001b[43m)\u001b[49m\n",
      "\u001b[1;31mStopIteration\u001b[0m: "
     ]
    }
   ],
   "source": [
    "f.__next__()"
   ]
  },
  {
   "cell_type": "markdown",
   "id": "353829b2-b669-476b-85de-d78da441ff14",
   "metadata": {},
   "source": [
    "Any object with a `__next__` method to advance to a next result, which raise StopInteration ath the end of the sereis of resulrts, is condidered an iterator in Python. or some object the rfull protocol includes an additional first step to call iter, but this isn't required for  files.\n",
    "\n",
    "The best  way to read a text file line by line today is to *not read it at all*"
   ]
  },
  {
   "cell_type": "code",
   "execution_count": 19,
   "id": "edbf348e-2a71-4d33-a0f1-a0762b5f23bb",
   "metadata": {},
   "outputs": [
    {
     "name": "stdout",
     "output_type": "stream",
     "text": [
      "IMPORT.SYS\n",
      "PRINT(SYS.PATH)\n",
      "X =2\n",
      "PRINT(X ** 32)\n"
     ]
    }
   ],
   "source": [
    "for line in open('script2.py'):\n",
    "    print(line.upper(), end = '')"
   ]
  },
  {
   "cell_type": "markdown",
   "id": "dd0a1b8a-4ae2-4ef8-9fb9-5375c444e61e",
   "metadata": {},
   "source": [
    "### Manuakl Iteration: Iter and next"
   ]
  },
  {
   "cell_type": "code",
   "execution_count": 20,
   "id": "a3f1bffa-41c5-4359-aaa5-9cac5433f77e",
   "metadata": {},
   "outputs": [
    {
     "data": {
      "text/plain": [
       "'import.sys\\n'"
      ]
     },
     "execution_count": 20,
     "metadata": {},
     "output_type": "execute_result"
    }
   ],
   "source": [
    "f = open('script2.py')\n",
    "f.__next__()"
   ]
  },
  {
   "cell_type": "code",
   "execution_count": 22,
   "id": "e279873d-369b-44d6-afca-e28e1e2620f1",
   "metadata": {},
   "outputs": [
    {
     "data": {
      "text/plain": [
       "'print(sys.path)\\n'"
      ]
     },
     "execution_count": 22,
     "metadata": {},
     "output_type": "execute_result"
    }
   ],
   "source": [
    "f.__next__()"
   ]
  },
  {
   "cell_type": "code",
   "execution_count": 23,
   "id": "d5405a5e-d3d5-46ae-9540-27431e9bf7af",
   "metadata": {},
   "outputs": [
    {
     "data": {
      "text/plain": [
       "'import.sys\\n'"
      ]
     },
     "execution_count": 23,
     "metadata": {},
     "output_type": "execute_result"
    }
   ],
   "source": [
    "f= open('script2.py')\n",
    "next(f)"
   ]
  },
  {
   "cell_type": "code",
   "execution_count": 24,
   "id": "e76c4db0-056d-4c56-9192-95082cb9206b",
   "metadata": {},
   "outputs": [
    {
     "data": {
      "text/plain": [
       "'print(sys.path)\\n'"
      ]
     },
     "execution_count": 24,
     "metadata": {},
     "output_type": "execute_result"
    }
   ],
   "source": [
    "next(f)"
   ]
  },
  {
   "cell_type": "markdown",
   "id": "03bd8c77-a971-409e-8d21-e9f4f41eb620",
   "metadata": {},
   "source": [
    "When the forr loop begins, it first obatins an iterator fomr the iterable object by passing it to the iter built-in function; the object returned by iter in turn has the required next method. he iter function internally runs the `__iter__` method, much like next and `__next__`."
   ]
  },
  {
   "cell_type": "markdown",
   "id": "27f343a2-41c0-4364-a995-42c60dc64aed",
   "metadata": {},
   "source": [
    "#### The full iteration protocol\n",
    "The iteration protocol is really based on *tow objects*, used i ntwo distinct steps by iteration tools:\n",
    "- The *iterable* object you request iteration for, whose `__iter__` is run by `iter`\n",
    "- The *iterator* object treturned by the iterable that actually produces values during the iteration ,whose `__next__` is run by next and raise StopIteratio nwhen finished producing results"
   ]
  },
  {
   "cell_type": "code",
   "execution_count": 25,
   "id": "80a79bf1-e152-43bd-af08-f8b1e7829477",
   "metadata": {},
   "outputs": [
    {
     "data": {
      "text/plain": [
       "1"
      ]
     },
     "execution_count": 25,
     "metadata": {},
     "output_type": "execute_result"
    }
   ],
   "source": [
    "L = [1, 2, 3]\n",
    "I = iter(L)\n",
    "I.__next__()"
   ]
  },
  {
   "cell_type": "code",
   "execution_count": 26,
   "id": "de45c17d-c797-4b04-bc88-7188e31d1f76",
   "metadata": {},
   "outputs": [
    {
     "data": {
      "text/plain": [
       "2"
      ]
     },
     "execution_count": 26,
     "metadata": {},
     "output_type": "execute_result"
    }
   ],
   "source": [
    "I.__next__()"
   ]
  },
  {
   "cell_type": "code",
   "execution_count": 27,
   "id": "11212ab4-18ae-485d-a7d9-bb8cbbfd9e13",
   "metadata": {},
   "outputs": [
    {
     "data": {
      "text/plain": [
       "3"
      ]
     },
     "execution_count": 27,
     "metadata": {},
     "output_type": "execute_result"
    }
   ],
   "source": [
    "I.__next__()"
   ]
  },
  {
   "cell_type": "code",
   "execution_count": 28,
   "id": "645f8b96-c78b-477a-8500-a71dbf6a96fd",
   "metadata": {},
   "outputs": [
    {
     "ename": "StopIteration",
     "evalue": "",
     "output_type": "error",
     "traceback": [
      "\u001b[1;31m---------------------------------------------------------------------------\u001b[0m",
      "\u001b[1;31mStopIteration\u001b[0m                             Traceback (most recent call last)",
      "Input \u001b[1;32mIn [28]\u001b[0m, in \u001b[0;36m<cell line: 1>\u001b[1;34m()\u001b[0m\n\u001b[1;32m----> 1\u001b[0m \u001b[43mI\u001b[49m\u001b[38;5;241;43m.\u001b[39;49m\u001b[38;5;21;43m__next__\u001b[39;49m\u001b[43m(\u001b[49m\u001b[43m)\u001b[49m\n",
      "\u001b[1;31mStopIteration\u001b[0m: "
     ]
    }
   ],
   "source": [
    "I.__next__()"
   ]
  },
  {
   "cell_type": "code",
   "execution_count": 29,
   "id": "898615e8-c39e-4adb-9725-1ac0e0ceda7e",
   "metadata": {},
   "outputs": [
    {
     "data": {
      "text/plain": [
       "True"
      ]
     },
     "execution_count": 29,
     "metadata": {},
     "output_type": "execute_result"
    }
   ],
   "source": [
    "f = open('script2.py')\n",
    "iter(f) is f"
   ]
  },
  {
   "cell_type": "code",
   "execution_count": 30,
   "id": "688b2892-b5c2-4141-8ebd-7cae75231c43",
   "metadata": {},
   "outputs": [
    {
     "data": {
      "text/plain": [
       "'import.sys\\n'"
      ]
     },
     "execution_count": 30,
     "metadata": {},
     "output_type": "execute_result"
    }
   ],
   "source": [
    "f.__next__()"
   ]
  },
  {
   "cell_type": "code",
   "execution_count": 31,
   "id": "7c5ee545-ce67-4de8-bc3d-cfcdce1c580b",
   "metadata": {},
   "outputs": [
    {
     "data": {
      "text/plain": [
       "False"
      ]
     },
     "execution_count": 31,
     "metadata": {},
     "output_type": "execute_result"
    }
   ],
   "source": [
    "L = [1, 2, 3]\n",
    "iter(L) is L"
   ]
  },
  {
   "cell_type": "code",
   "execution_count": 32,
   "id": "40e5bd8b-fd9b-4334-b67c-e16dbf9ad656",
   "metadata": {},
   "outputs": [
    {
     "ename": "SyntaxError",
     "evalue": "invalid syntax (3665749292.py, line 1)",
     "output_type": "error",
     "traceback": [
      "\u001b[1;36m  Input \u001b[1;32mIn [32]\u001b[1;36m\u001b[0m\n\u001b[1;33m    L.__next()__\u001b[0m\n\u001b[1;37m              ^\u001b[0m\n\u001b[1;31mSyntaxError\u001b[0m\u001b[1;31m:\u001b[0m invalid syntax\n"
     ]
    }
   ],
   "source": [
    "L.__next()__"
   ]
  },
  {
   "cell_type": "code",
   "execution_count": 34,
   "id": "e03912f9-c9bc-49b1-b592-abaf9d79d1bb",
   "metadata": {},
   "outputs": [
    {
     "data": {
      "text/plain": [
       "1"
      ]
     },
     "execution_count": 34,
     "metadata": {},
     "output_type": "execute_result"
    }
   ],
   "source": [
    "I = iter(L)\n",
    "I.__next__()"
   ]
  },
  {
   "cell_type": "markdown",
   "id": "06968d8c-fc70-4c19-8c35-c6ef60eb5b97",
   "metadata": {},
   "source": [
    "#### Manual iteration"
   ]
  },
  {
   "cell_type": "markdown",
   "id": "023fba42-4b89-4226-b307-254f55f6740b",
   "metadata": {},
   "source": [
    "### Other Built-in Type Iterables\n"
   ]
  },
  {
   "cell_type": "markdown",
   "id": "1adb381a-bc0a-40c5-a5f9-096d30e13579",
   "metadata": {},
   "source": [
    "## List comprehensions： A‘First Detailed Look"
   ]
  },
  {
   "cell_type": "code",
   "execution_count": 35,
   "id": "e1d31bdf-ee79-4540-b7b5-81614f949687",
   "metadata": {},
   "outputs": [],
   "source": [
    "L = [1, 2, 3, 4, 5]"
   ]
  },
  {
   "cell_type": "code",
   "execution_count": 36,
   "id": "afd8833b-bbf7-4a97-b7c5-e336932a6f7d",
   "metadata": {},
   "outputs": [
    {
     "data": {
      "text/plain": [
       "[11, 12, 13, 14, 15]"
      ]
     },
     "execution_count": 36,
     "metadata": {},
     "output_type": "execute_result"
    }
   ],
   "source": [
    "for i in range(len(L)):\n",
    "    L[i] += 10\n",
    "L"
   ]
  },
  {
   "cell_type": "code",
   "execution_count": 38,
   "id": "bfff05b8-0752-4bee-a2df-24ec98a3593c",
   "metadata": {},
   "outputs": [],
   "source": [
    "L = [x + 10 for x in L]"
   ]
  },
  {
   "cell_type": "code",
   "execution_count": 39,
   "id": "b4ac7987-f348-4b23-93ad-9e431f91948a",
   "metadata": {},
   "outputs": [
    {
     "data": {
      "text/plain": [
       "[21, 22, 23, 24, 25]"
      ]
     },
     "execution_count": 39,
     "metadata": {},
     "output_type": "execute_result"
    }
   ],
   "source": [
    "L"
   ]
  },
  {
   "cell_type": "markdown",
   "id": "058cb046-1847-4fc1-b34f-92083e57cfc7",
   "metadata": {},
   "source": [
    "The net result is similar, but it requires less coding on our part and is likely to ru nsubstantially faster.\n",
    "The list comprehension isn't exactly the same as the for loop statement versio nbecause it makes a new list object.\n",
    "### List Comprehension Basics\n",
    "### Using List comprehensions on Files"
   ]
  },
  {
   "cell_type": "code",
   "execution_count": 40,
   "id": "a69b9485-cb4b-4adf-957a-74b863b8d33f",
   "metadata": {},
   "outputs": [],
   "source": [
    "lines = [line.rstrip() for line in open('script2.py')]"
   ]
  },
  {
   "cell_type": "code",
   "execution_count": 41,
   "id": "e0b3bad5-c043-4336-91a3-815bcbeab513",
   "metadata": {},
   "outputs": [
    {
     "data": {
      "text/plain": [
       "['import.sys', 'print(sys.path)', 'x =2', 'print(x ** 32)']"
      ]
     },
     "execution_count": 41,
     "metadata": {},
     "output_type": "execute_result"
    }
   ],
   "source": [
    "lines"
   ]
  },
  {
   "cell_type": "code",
   "execution_count": 42,
   "id": "e7d60da3-01c8-40f4-820f-5b86468a25b4",
   "metadata": {},
   "outputs": [
    {
     "data": {
      "text/plain": [
       "['IMPORT.SYS\\n', 'PRINT(SYS.PATH)\\n', 'X =2\\n', 'PRINT(X ** 32)\\n']"
      ]
     },
     "execution_count": 42,
     "metadata": {},
     "output_type": "execute_result"
    }
   ],
   "source": [
    "[line.upper() for line in open('script2.py')]"
   ]
  },
  {
   "cell_type": "code",
   "execution_count": 43,
   "id": "62e76f25-7661-43c5-b21f-ed7797bae20f",
   "metadata": {},
   "outputs": [
    {
     "data": {
      "text/plain": [
       "['IMPORT.SYS', 'PRINT(SYS.PATH)', 'X =2', 'PRINT(X ** 32)']"
      ]
     },
     "execution_count": 43,
     "metadata": {},
     "output_type": "execute_result"
    }
   ],
   "source": [
    "[line.rstrip().upper() for line in open('script2.py')]"
   ]
  },
  {
   "cell_type": "code",
   "execution_count": 44,
   "id": "24a5f459-d14e-4dcb-aa88-d46e16d59d06",
   "metadata": {},
   "outputs": [
    {
     "data": {
      "text/plain": [
       "[['import.sys'], ['print(sys.path)'], ['x', '=2'], ['print(x', '**', '32)']]"
      ]
     },
     "execution_count": 44,
     "metadata": {},
     "output_type": "execute_result"
    }
   ],
   "source": [
    "[line.split() for line in open('script2.py')]"
   ]
  },
  {
   "cell_type": "code",
   "execution_count": 46,
   "id": "38c7b313-22c0-42b0-af5e-a2349e4e9be6",
   "metadata": {},
   "outputs": [
    {
     "data": {
      "text/plain": [
       "[(True, 'impor'), (True, 'print'), (False, 'x =2\\n'), (False, 'print')]"
      ]
     },
     "execution_count": 46,
     "metadata": {},
     "output_type": "execute_result"
    }
   ],
   "source": [
    "[('sys' in line, line[:5]) for line in open('script2.py')]"
   ]
  },
  {
   "cell_type": "markdown",
   "id": "564d5352-2ea2-4155-8df9-3dd92d7b80ed",
   "metadata": {},
   "source": [
    "### Extended List Comprehension Syntax\n",
    "#### Filter clauses: if"
   ]
  },
  {
   "cell_type": "code",
   "execution_count": 47,
   "id": "aca383dc-7502-4d5a-a9ec-335a8af25824",
   "metadata": {},
   "outputs": [
    {
     "data": {
      "text/plain": [
       "['print(sys.path)', 'print(x ** 32)']"
      ]
     },
     "execution_count": 47,
     "metadata": {},
     "output_type": "execute_result"
    }
   ],
   "source": [
    "[line.rstrip() for line in open('script2.py') if line[0] == 'p']"
   ]
  },
  {
   "cell_type": "code",
   "execution_count": 48,
   "id": "970253a5-f85d-484e-8321-17003c1a8ed1",
   "metadata": {},
   "outputs": [
    {
     "data": {
      "text/plain": [
       "['x =2']"
      ]
     },
     "execution_count": 48,
     "metadata": {},
     "output_type": "execute_result"
    }
   ],
   "source": [
    "[line.rstrip() for line in open('script2.py') if line.rstrip()[-1].isdigit()]"
   ]
  },
  {
   "cell_type": "markdown",
   "id": "f4221372-c1b7-4b21-bbce-b40a7988831e",
   "metadata": {},
   "source": [
    "#### Nested loops: for"
   ]
  },
  {
   "cell_type": "code",
   "execution_count": 52,
   "id": "d52bf5f9-9e3d-4fec-b7f0-2821c369fa20",
   "metadata": {},
   "outputs": [
    {
     "data": {
      "text/plain": [
       "['al', 'am', 'an', 'bl', 'bm', 'bn', 'cl', 'cm', 'cn']"
      ]
     },
     "execution_count": 52,
     "metadata": {},
     "output_type": "execute_result"
    }
   ],
   "source": [
    "[x + y for x in 'abc' for y in 'lmn']"
   ]
  },
  {
   "cell_type": "markdown",
   "id": "418f856c-3589-4900-a710-7daee85b2e6a",
   "metadata": {},
   "source": [
    "## Other Iteration Contexts\n"
   ]
  }
 ],
 "metadata": {
  "kernelspec": {
   "display_name": "Python 3 (ipykernel)",
   "language": "python",
   "name": "python3"
  },
  "language_info": {
   "codemirror_mode": {
    "name": "ipython",
    "version": 3
   },
   "file_extension": ".py",
   "mimetype": "text/x-python",
   "name": "python",
   "nbconvert_exporter": "python",
   "pygments_lexer": "ipython3",
   "version": "3.9.12"
  }
 },
 "nbformat": 4,
 "nbformat_minor": 5
}
