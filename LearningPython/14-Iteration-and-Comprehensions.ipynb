{
 "cells": [
  {
   "cell_type": "markdown",
   "id": "9fb8047d-ca22-4a20-b8f8-1f821e3bfa22",
   "metadata": {},
   "source": [
    "# Chapter 14 Iteration and Comprehensions\n",
    "## Iteration: A first look\n",
    "## The iteration protocol: File Iterators"
   ]
  }
 ],
 "metadata": {
  "kernelspec": {
   "display_name": "Python 3 (ipykernel)",
   "language": "python",
   "name": "python3"
  },
  "language_info": {
   "codemirror_mode": {
    "name": "ipython",
    "version": 3
   },
   "file_extension": ".py",
   "mimetype": "text/x-python",
   "name": "python",
   "nbconvert_exporter": "python",
   "pygments_lexer": "ipython3",
   "version": "3.9.12"
  }
 },
 "nbformat": 4,
 "nbformat_minor": 5
}
