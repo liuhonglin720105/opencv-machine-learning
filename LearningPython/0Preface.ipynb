{
 "cells": [
  {
   "cell_type": "markdown",
   "id": "52409494-2510-4caf-99f2-8b1231d5c34f",
   "metadata": {},
   "source": [
    "# Preface\n",
    "Shot story on this book:\n",
    "- Python is a powerful multiparadigm computer programming language, optimized for programmer productivity, code readability, and software quality.\n",
    "- *This book* provides a comprehensive and in-depth introduction to Python language itself. Its goal is to help you master Python fundamentals before movign on to apply them in your work.\n",
    "- *This edition* had been brought up to date with Python releases 3.3 and 2.7, and has been expanded substantially to reflect current practice in Python world."
   ]
  },
  {
   "cell_type": "markdown",
   "id": "7534ca13-6c0d-4ac3-b271-4d5413d5040e",
   "metadata": {},
   "source": [
    "## This Book's \"Ecosystem\"\n",
    "\n",
    "This book is a tutorial that emphasizes the *core Python language* itself, rather then specific applications of it.\n",
    "As such, this book is inteneded to serve as the first in a two-volume set:\n",
    "- *Learning Python*,  this book, teaches Python itself, focusing on language fundamentals tahgt span domains.\n",
    "- *Programming Python*, among others, move on to show what you can do with Python after you've learned it.\n",
    "\n",
    "The book *Python Pocket Reference* provides refernce materials not included here, and it is designed to supplement this book."
   ]
  },
  {
   "cell_type": "markdown",
   "id": "1df57930-07fe-44d2-8893-6225e9659551",
   "metadata": {},
   "source": [
    "## About this Fifth Edition\n",
    "书里有很多2.x的内容，可以不看\n",
    "\n",
    "## The Python 2.x and 3.X Lines\n",
    "### The 2.x/3.x Story today\n",
    "### Coverage for Both 3.x and 2.x\n",
    "现在看来似乎已经没有必要，只要3.x就可以了\n",
    "### Which Python Shoud I Use?\n",
    "现在已经不是问题，当然是3.x\n"
   ]
  },
  {
   "cell_type": "markdown",
   "id": "7453c71c-4d46-425b-8c8e-121decf7e156",
   "metadata": {},
   "source": [
    "# The Book's Prerequisites and Effort\n",
    "# The Book's Structure\n"
   ]
  }
 ],
 "metadata": {
  "kernelspec": {
   "display_name": "Python 3 (ipykernel)",
   "language": "python",
   "name": "python3"
  },
  "language_info": {
   "codemirror_mode": {
    "name": "ipython",
    "version": 3
   },
   "file_extension": ".py",
   "mimetype": "text/x-python",
   "name": "python",
   "nbconvert_exporter": "python",
   "pygments_lexer": "ipython3",
   "version": "3.9.12"
  }
 },
 "nbformat": 4,
 "nbformat_minor": 5
}
