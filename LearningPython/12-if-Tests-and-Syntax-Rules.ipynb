{
 "cells": [
  {
   "cell_type": "markdown",
   "id": "51c95163-fe18-450b-a498-55e669322c92",
   "metadata": {},
   "source": [
    "# Chapter 12 if Tests and Syntax Rules\n",
    "## if Statement\n",
    "### General Format\n",
    "It takes the form of an `if` tests, fololowed one or more optioanl `elif` tests and a final optional `else` block.\n",
    "The tests and `else` part each have an associated block of nested statements, indented under line.\n",
    "\n",
    "if test1:\n",
    "    statements1\n",
    "elfi test2:\n",
    "    statements2\n",
    "else:\n",
    "    statements 3\n",
    "\n",
    "### Basic examples\n",
    "Simplest form"
   ]
  },
  {
   "cell_type": "code",
   "execution_count": 1,
   "id": "edeb8279-e3cd-482d-8a19-3416b4b15a63",
   "metadata": {},
   "outputs": [
    {
     "name": "stdout",
     "output_type": "stream",
     "text": [
      "true\n"
     ]
    }
   ],
   "source": [
    "if 1:\n",
    "    print('true')"
   ]
  },
  {
   "cell_type": "code",
   "execution_count": 2,
   "id": "56e04efa-35e1-4856-945a-5ddc137b87df",
   "metadata": {},
   "outputs": [
    {
     "name": "stdout",
     "output_type": "stream",
     "text": [
      "false\n"
     ]
    }
   ],
   "source": [
    "if not 1:\n",
    "    print('true')\n",
    "else:\n",
    "    print('false')"
   ]
  },
  {
   "cell_type": "markdown",
   "id": "702623c6-0450-4008-89ce-0cdf0a07467e",
   "metadata": {},
   "source": [
    "### Multiway Branching"
   ]
  },
  {
   "cell_type": "code",
   "execution_count": 6,
   "id": "1e8578c2-c3df-47a6-933a-94bffb56bfc6",
   "metadata": {},
   "outputs": [
    {
     "name": "stdout",
     "output_type": "stream",
     "text": [
      "Run away! Run away!\n"
     ]
    }
   ],
   "source": [
    "x = 'killer rabbit'\n",
    "if x == 'roger':\n",
    "    print(\"shave and haircut\")\n",
    "elif x == 'bugs':\n",
    "    print(\"what's up doc?\")\n",
    "else:\n",
    "    print('Run away! Run away!')"
   ]
  },
  {
   "cell_type": "markdown",
   "id": "8bc529b2-3e43-4b1d-8515-2503329d6a9f",
   "metadata": {},
   "source": [
    "There is no `switch` or `case` statement i nPython that selects an a variable's value."
   ]
  },
  {
   "cell_type": "code",
   "execution_count": 7,
   "id": "bef32019-71fb-4376-aacf-767ec8ac2d46",
   "metadata": {},
   "outputs": [
    {
     "name": "stdout",
     "output_type": "stream",
     "text": [
      "1.99\n"
     ]
    }
   ],
   "source": [
    "choice = 'ham'\n",
    "print({'spam': 1.25,\n",
    "      'ham': 1.99,\n",
    "      'egge': 0.99,\n",
    "      'bacon': 1.10}[choice])"
   ]
  },
  {
   "cell_type": "markdown",
   "id": "86a24f5f-de9c-4109-878f-d7d0deadf702",
   "metadata": {},
   "source": [
    "#### Handling switch defaults"
   ]
  },
  {
   "cell_type": "code",
   "execution_count": 19,
   "id": "9932a150-e68a-412d-b9e3-42d9c2b2e151",
   "metadata": {},
   "outputs": [],
   "source": [
    "branch = {'spam': 1.25,\n",
    "      'ham': 1.99,\n",
    "      'egg': 0.99}"
   ]
  },
  {
   "cell_type": "code",
   "execution_count": 20,
   "id": "d606f44f-590c-4691-9d9b-bd6552adfc32",
   "metadata": {},
   "outputs": [
    {
     "name": "stdout",
     "output_type": "stream",
     "text": [
      "1.25\n"
     ]
    }
   ],
   "source": [
    "print(branch.get('spam', 'Bad choice'))"
   ]
  },
  {
   "cell_type": "code",
   "execution_count": 21,
   "id": "e0f39024-481b-4f59-ba88-0f349b57a47d",
   "metadata": {},
   "outputs": [
    {
     "name": "stdout",
     "output_type": "stream",
     "text": [
      "Bad choice\n"
     ]
    }
   ],
   "source": [
    "print(branch.get('bacon', 'Bad choice'))"
   ]
  },
  {
   "cell_type": "code",
   "execution_count": 24,
   "id": "eca80305-9618-410c-94bc-fe42a034c483",
   "metadata": {},
   "outputs": [
    {
     "name": "stdout",
     "output_type": "stream",
     "text": [
      "Bad choice\n"
     ]
    }
   ],
   "source": [
    "try:\n",
    "    print(branch['bacon'])\n",
    "except KeyError:\n",
    "    print('Bad choice')"
   ]
  },
  {
   "cell_type": "code",
   "execution_count": 23,
   "id": "2772e596-8999-4cd7-a941-64a20cbcec79",
   "metadata": {},
   "outputs": [
    {
     "data": {
      "text/plain": [
       "{'spam': 1.25, 'ham': 1.99, 'egg': 0.99}"
      ]
     },
     "execution_count": 23,
     "metadata": {},
     "output_type": "execute_result"
    }
   ],
   "source": [
    "branch"
   ]
  },
  {
   "cell_type": "markdown",
   "id": "9c6b324a-5b6d-4dc8-bc63-5dfd9c6c586d",
   "metadata": {},
   "source": [
    "#### Handling larger actions\n",
    "Dictionaries can also contain *function* to represent more complex branch actions and implement general jump tables.\n",
    "Such functions appear as dictionary values, they may be coded as function names of inlien `lambdas`, and they are called by adding parentheses to trigger their actions."
   ]
  },
  {
   "cell_type": "markdown",
   "id": "4466d1d0-550f-45f6-9f08-e1b9be84a3d1",
   "metadata": {},
   "source": [
    "## Python Syntax Revisited\n",
    "- Statements execute one after another,  until you say otherwise\n",
    "- Blolc and statement boundaries are detgected automat9ically\n",
    "- Compound statements = header +\":\" + indented statements\n",
    "- Blanjk lines, spaces, and comments are usually ignored.\n",
    "- Docstrings are ignored but are saved and displayed by tools"
   ]
  },
  {
   "cell_type": "markdown",
   "id": "1b977976-a90c-4827-a08d-b881d7301231",
   "metadata": {},
   "source": [
    "### Block Delimiters: Indentation Rules\n",
    "#### Avoid mixing tabs and spaces: New error checking in 3.X\n",
    "### Statement Delimiters: Lines and Continuations\n",
    "- Statement may spa nmultiple liens if your are continuing an open syntactic pair\n",
    "- Statements may span multiple lines if they end in a backslash \n",
    "- Special rules for string literals\n",
    "    - you can terminate a statement with a semicolon\n",
    "    - comments and blank line can appear anywhere in a file; comments (which begin with a # character) terminate at the endl of the line on which they appear.\n",
    "    \n",
    "### A few specia lcases"
   ]
  },
  {
   "cell_type": "markdown",
   "id": "65ef5f88-8e7b-4ad2-bf54-d31c55e44432",
   "metadata": {},
   "source": [
    "## TrueValues and Boolean Tests\n",
    "- All objects have an inherent Boolean true of false value\n",
    "- Any nonzero number of nonempty object is true\n",
    "- Zero numbers, empty objects, and the special object None are considered false.\n",
    "- Comparisions and equality tests are applied recursively to data structures.\n",
    "- Comparisons and equality test return True of False\n",
    "- Boolean and and or operator returns a true or false operand objects\n",
    "- Boolean operators stop evaluating (\"short circuit\") as soon as a result is known\""
   ]
  },
  {
   "cell_type": "markdown",
   "id": "117c3328-8f95-4200-a0a9-132eb87ac20c",
   "metadata": {},
   "source": [
    "## The if/else Ternary Expression\n",
    "\n",
    "A = Y if X else Z\n",
    "\n",
    "A = [Z,Y][bool(X)]"
   ]
  },
  {
   "cell_type": "code",
   "execution_count": 26,
   "id": "eeb788cd-77e2-45e8-999f-b49f275d2a76",
   "metadata": {},
   "outputs": [
    {
     "data": {
      "text/plain": [
       "'f'"
      ]
     },
     "execution_count": 26,
     "metadata": {},
     "output_type": "execute_result"
    }
   ],
   "source": [
    "['f' ,'t'] [bool('')]"
   ]
  },
  {
   "cell_type": "code",
   "execution_count": 27,
   "id": "be6ff809-3755-4914-b110-54396e8f0b95",
   "metadata": {},
   "outputs": [
    {
     "data": {
      "text/plain": [
       "'t'"
      ]
     },
     "execution_count": 27,
     "metadata": {},
     "output_type": "execute_result"
    }
   ],
   "source": [
    "['f' ,'t'] [bool('spam')]"
   ]
  },
  {
   "cell_type": "code",
   "execution_count": 28,
   "id": "a240c382-2119-4c7d-9b4a-8422e57ebf9b",
   "metadata": {},
   "outputs": [],
   "source": [
    "L = [1,0,2,0,'spam', '', 'ham', []]"
   ]
  },
  {
   "cell_type": "code",
   "execution_count": 29,
   "id": "ecd4d8ab-d32f-4cc7-9008-75522b1be588",
   "metadata": {},
   "outputs": [
    {
     "data": {
      "text/plain": [
       "[1, 2, 'spam', 'ham']"
      ]
     },
     "execution_count": 29,
     "metadata": {},
     "output_type": "execute_result"
    }
   ],
   "source": [
    "list(filter(bool, L))"
   ]
  },
  {
   "cell_type": "code",
   "execution_count": 30,
   "id": "12a82b68-d252-481a-97bc-70daacfb9146",
   "metadata": {},
   "outputs": [
    {
     "data": {
      "text/plain": [
       "[1, 2, 'spam', 'ham']"
      ]
     },
     "execution_count": 30,
     "metadata": {},
     "output_type": "execute_result"
    }
   ],
   "source": [
    "[x for x in L if x]"
   ]
  },
  {
   "cell_type": "code",
   "execution_count": 31,
   "id": "7f96d100-42b7-413b-ac3f-94fdb02cb114",
   "metadata": {},
   "outputs": [
    {
     "data": {
      "text/plain": [
       "(True, False)"
      ]
     },
     "execution_count": 31,
     "metadata": {},
     "output_type": "execute_result"
    }
   ],
   "source": [
    "any(L), all(L)"
   ]
  },
  {
   "cell_type": "code",
   "execution_count": null,
   "id": "e21e6654-a7e1-4c47-bb27-e27ae596696a",
   "metadata": {},
   "outputs": [],
   "source": []
  }
 ],
 "metadata": {
  "kernelspec": {
   "display_name": "Python 3 (ipykernel)",
   "language": "python",
   "name": "python3"
  },
  "language_info": {
   "codemirror_mode": {
    "name": "ipython",
    "version": 3
   },
   "file_extension": ".py",
   "mimetype": "text/x-python",
   "name": "python",
   "nbconvert_exporter": "python",
   "pygments_lexer": "ipython3",
   "version": "3.9.12"
  }
 },
 "nbformat": 4,
 "nbformat_minor": 5
}
