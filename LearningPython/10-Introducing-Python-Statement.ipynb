{
 "cells": [
  {
   "cell_type": "markdown",
   "id": "e75d4276-e940-4e70-bb9a-9bed31c74016",
   "metadata": {},
   "source": [
    "# Chapter10 Indroducing Python statements\n",
    "In Simple terms, *statements* are the things you write to tell Python what your programs should do.\n",
    "## The Python Conceptual Hierarchy Revisited.\n",
    "1. Programs are composed of modules.\n",
    "2. Modules contain statements.\n",
    "3. *Statements contain expressions.*\n",
    "4. Expressions create and process objects.\n",
    "## Python's Statements\n",
    "Table 10-1. Python statement\n",
    "|Statement|Role|Example|\n",
    "|---|---|---|\n",
    "|Assignment| Creating references| a, b = 'good', 'bad'|\n",
    "|Calls and other expressions| Running functions| log.write(\"spam, ham\"|\n",
    "|print calls| Printing objects|pring('The Killer', joke)|\n",
    "|if/elif/els| Selecting actions|if \"python\" in texg: print(text)|\n",
    "|for/else|Iteration| for x in my list: print(text)|\n",
    "|while/else| general loops|while x > y: print(hello)|\n",
    "|pass| Empty placeholder| while True: pass|\n",
    "|break| loop exit| while True: if exittest():break|\n",
    "|continue|loop continue|while True: if skiptesg(): continue|\n",
    "|def| Functions and methods| def f(a, b, c =1, \\*d): print(a+d+c+d[0])|\n",
    "|return| Functions results| def f(a, b, c =1, \\*d): print(a+d+c+d[0])|\n",
    "|yield|Generator functions| def gen(n): for i in n: yield i\\*2|\n",
    "|global|Namespaces| |\n",
    "|nonlocal|Namespaces||\n",
    "|import| Module access| import sys|\n",
    "|from| Attribute access| form sys import stdin|\n",
    "|class|Building objects||\n",
    "|try/except/finally|Catching excepotions||\n",
    "|raise|Triggering ex ceptions|raise EndSearch(location)|\n",
    "|assert|Debugging checks|assert X > Y, 'X too small'|\n",
    "|with/as|Context managers| with open('data') as myfile: process(myfile)|\n",
    "|del|Deleting references|del variable|\n"
   ]
  },
  {
   "cell_type": "markdown",
   "id": "2bfd3f3e-fcf6-48a2-ad88-d96fedf12ac5",
   "metadata": {},
   "source": [
    "- Assignment statements come in a variety of syntax flavors,: basic, sequence, augmented, and more\n",
    "- `print` is built-in function calls in 3.X\n",
    "-`yield` is also a expression"
   ]
  },
  {
   "cell_type": "markdown",
   "id": "c1dc8bfb-e46f-44fb-b7d9-48d10f0a1c2b",
   "metadata": {},
   "source": [
    "## A Tale of Two Ifs\n",
    "### What Python Adds\n",
    "`:`, All Python *compound statements* --- statements that have other statements nested inside them--- follow the same general pattern of a header line terminated in a colon, followed by a nested block of code usually indented underneath the header line, like this\n",
    "\n",
    "        Header line:\n",
    "            Nested statement block\n",
    "\n",
    "\n",
    "### What Python Removes\n",
    "#### Parentheses areoptional\n",
    "#### End-of-line is end of statment\n",
    "#### End of indentation is end of block\n",
    "\n",
    "### Why Indentation Syntax?\n",
    "### A few Special Cases\n",
    "#### Statement rule special cases\n",
    "`a = 1; b =2; print(a+b)`"
   ]
  },
  {
   "cell_type": "code",
   "execution_count": 1,
   "id": "49f9890d-157a-4317-bcc1-40d7d221d78a",
   "metadata": {},
   "outputs": [],
   "source": [
    "mylist = [1111,\n",
    "          2222,\n",
    "          3333]"
   ]
  },
  {
   "cell_type": "markdown",
   "id": "1a0d5844-08bf-4bde-a420-dc0317051a6a",
   "metadata": {},
   "source": [
    "A older rule also allows for continuation lines when the prior line ends in a backslash:"
   ]
  },
  {
   "cell_type": "markdown",
   "id": "0cfad732-f0d6-4c2f-a7fe-eeb42c637b75",
   "metadata": {},
   "source": [
    "### Block rule special case\n",
    "\n",
    "## A Quick Example: Interactive Loops\n",
    "### A simple  Interactive loop"
   ]
  },
  {
   "cell_type": "code",
   "execution_count": 2,
   "id": "3010254a-b0ef-4218-b600-ce4095f5a4a6",
   "metadata": {},
   "outputs": [
    {
     "name": "stdin",
     "output_type": "stream",
     "text": [
      "Enter text: 123\n"
     ]
    },
    {
     "name": "stdout",
     "output_type": "stream",
     "text": [
      "123\n"
     ]
    },
    {
     "name": "stdin",
     "output_type": "stream",
     "text": [
      "Enter text: 456\n"
     ]
    },
    {
     "name": "stdout",
     "output_type": "stream",
     "text": [
      "456\n"
     ]
    },
    {
     "name": "stdin",
     "output_type": "stream",
     "text": [
      "Enter text: asdf\n"
     ]
    },
    {
     "name": "stdout",
     "output_type": "stream",
     "text": [
      "ASDF\n"
     ]
    },
    {
     "name": "stdin",
     "output_type": "stream",
     "text": [
      "Enter text: stop\n"
     ]
    }
   ],
   "source": [
    "while True:\n",
    "    reply = input('Enter text:')\n",
    "    if reply == 'stop': \n",
    "        break\n",
    "    print(reply.upper())"
   ]
  },
  {
   "cell_type": "markdown",
   "id": "36e11846-c683-4296-9a18-ec45a88538a6",
   "metadata": {},
   "source": [
    "### Doing Math on User Input\n"
   ]
  },
  {
   "cell_type": "code",
   "execution_count": 4,
   "id": "61c71e54-5362-4b65-a174-f040967824e2",
   "metadata": {},
   "outputs": [
    {
     "name": "stdin",
     "output_type": "stream",
     "text": [
      "Enter Text: stop\n"
     ]
    },
    {
     "name": "stdout",
     "output_type": "stream",
     "text": [
      "Bye\n"
     ]
    }
   ],
   "source": [
    "while True:\n",
    "    reply = input('Enter Text:')\n",
    "    if reply == 'stop': break\n",
    "    print(int(reply)**2)\n",
    "print('Bye')"
   ]
  },
  {
   "cell_type": "markdown",
   "id": "d7a5b8a3-c853-4876-8fd5-7a678149fb47",
   "metadata": {},
   "source": [
    "### Handling Erros by Testing inputs"
   ]
  },
  {
   "cell_type": "code",
   "execution_count": 9,
   "id": "440d35fc-1b15-43f4-875b-e87204c4b5f6",
   "metadata": {},
   "outputs": [
    {
     "name": "stdin",
     "output_type": "stream",
     "text": [
      "Enter text: 20\n"
     ]
    },
    {
     "name": "stdout",
     "output_type": "stream",
     "text": [
      "400\n"
     ]
    },
    {
     "name": "stdin",
     "output_type": "stream",
     "text": [
      "Enter text: 123.3\n"
     ]
    },
    {
     "name": "stdout",
     "output_type": "stream",
     "text": [
      "Bad!Bad!Bad!Bad!Bad!Bad!Bad!Bad!\n"
     ]
    },
    {
     "name": "stdin",
     "output_type": "stream",
     "text": [
      "Enter text: 3\n"
     ]
    },
    {
     "name": "stdout",
     "output_type": "stream",
     "text": [
      "9\n"
     ]
    },
    {
     "name": "stdin",
     "output_type": "stream",
     "text": [
      "Enter text: stop\n"
     ]
    },
    {
     "name": "stdout",
     "output_type": "stream",
     "text": [
      "Bye\n"
     ]
    }
   ],
   "source": [
    "while True:\n",
    "    reply = input('Enter text:')\n",
    "    if reply == 'stop': \n",
    "        break\n",
    "    elif not reply.isdigit():\n",
    "        print('Bad!' * 8)\n",
    "    else:\n",
    "        print(int(reply)**2)\n",
    "print('Bye')"
   ]
  },
  {
   "cell_type": "markdown",
   "id": "41f9609d-29ef-4e0f-915a-197873003d84",
   "metadata": {},
   "source": [
    "### Handling Erros with try Statements"
   ]
  },
  {
   "cell_type": "code",
   "execution_count": 10,
   "id": "29e4fa2e-3644-4311-b831-cf98eedd5ed7",
   "metadata": {},
   "outputs": [
    {
     "name": "stdin",
     "output_type": "stream",
     "text": [
      "Enter text: 123\n"
     ]
    },
    {
     "name": "stdout",
     "output_type": "stream",
     "text": [
      "15129\n"
     ]
    },
    {
     "name": "stdin",
     "output_type": "stream",
     "text": [
      "Enter text: 3.2\n"
     ]
    },
    {
     "name": "stdout",
     "output_type": "stream",
     "text": [
      "Bad!Bad!Bad!Bad!Bad!Bad!Bad!Bad!\n"
     ]
    },
    {
     "name": "stdin",
     "output_type": "stream",
     "text": [
      "Enter text: stop\n"
     ]
    },
    {
     "name": "stdout",
     "output_type": "stream",
     "text": [
      "Bye\n"
     ]
    }
   ],
   "source": [
    "while True:\n",
    "    reply = input('Enter text:')\n",
    "    if reply == 'stop': \n",
    "        break\n",
    "    try:\n",
    "        num = int(reply)\n",
    "    except:\n",
    "        print('Bad!' * 8)\n",
    "    else:\n",
    "        print(num**2)\n",
    "print('Bye')"
   ]
  },
  {
   "cell_type": "markdown",
   "id": "8e693174-2fd0-4698-9a8f-b6f3dd11d2d2",
   "metadata": {},
   "source": [
    "#### Supporting floating-point numbers"
   ]
  },
  {
   "cell_type": "code",
   "execution_count": 11,
   "id": "c29a96b3-f597-4620-8dc6-5fe5a2b6d669",
   "metadata": {},
   "outputs": [
    {
     "name": "stdin",
     "output_type": "stream",
     "text": [
      "Enter text: 2.3\n"
     ]
    },
    {
     "name": "stdout",
     "output_type": "stream",
     "text": [
      "5.289999999999999\n"
     ]
    },
    {
     "name": "stdin",
     "output_type": "stream",
     "text": [
      "Enter text: 4.2\n"
     ]
    },
    {
     "name": "stdout",
     "output_type": "stream",
     "text": [
      "17.64\n"
     ]
    },
    {
     "name": "stdin",
     "output_type": "stream",
     "text": [
      "Enter text: as\n"
     ]
    },
    {
     "name": "stdout",
     "output_type": "stream",
     "text": [
      "Bad!Bad!Bad!Bad!Bad!Bad!Bad!Bad!\n"
     ]
    },
    {
     "name": "stdin",
     "output_type": "stream",
     "text": [
      "Enter text: stop\n"
     ]
    },
    {
     "name": "stdout",
     "output_type": "stream",
     "text": [
      "Bye\n"
     ]
    }
   ],
   "source": [
    "while True:\n",
    "    reply = input('Enter text:')\n",
    "    if reply == 'stop': \n",
    "        break\n",
    "    try:\n",
    "        print(float(reply) ** 2)\n",
    "    except:\n",
    "        print('Bad!' * 8)\n",
    "print('Bye')"
   ]
  },
  {
   "cell_type": "markdown",
   "id": "bc2b0ffd-ba05-4bc1-9d1e-80aa856fb53f",
   "metadata": {},
   "source": [
    "### Nesting Code Three Levels Deep"
   ]
  },
  {
   "cell_type": "code",
   "execution_count": 15,
   "id": "bcc799f8-157e-452f-aa18-89f782130e65",
   "metadata": {},
   "outputs": [
    {
     "name": "stdin",
     "output_type": "stream",
     "text": [
      "Enter text: 2\n"
     ]
    },
    {
     "name": "stdout",
     "output_type": "stream",
     "text": [
      "low\n"
     ]
    },
    {
     "name": "stdin",
     "output_type": "stream",
     "text": [
      "Enter text: 30\n"
     ]
    },
    {
     "name": "stdout",
     "output_type": "stream",
     "text": [
      "900\n"
     ]
    },
    {
     "name": "stdin",
     "output_type": "stream",
     "text": [
      "Enter text: stop\n"
     ]
    },
    {
     "name": "stdout",
     "output_type": "stream",
     "text": [
      "Bye\n"
     ]
    }
   ],
   "source": [
    "while True:\n",
    "    reply = input('Enter text:')\n",
    "    if reply == 'stop':\n",
    "        break\n",
    "    elif not reply.isdigit():\n",
    "        print ('Bad!' * 8)\n",
    "    else:\n",
    "        num = int(reply)\n",
    "        if num < 20:\n",
    "            print('low')\n",
    "        else:\n",
    "            print(num ** 2)\n",
    "print('Bye')\n",
    "            \n",
    "               "
   ]
  },
  {
   "cell_type": "code",
   "execution_count": null,
   "id": "d88a0c64-f21d-4699-8b62-0ec95ef3b9ad",
   "metadata": {},
   "outputs": [],
   "source": []
  }
 ],
 "metadata": {
  "kernelspec": {
   "display_name": "Python 3 (ipykernel)",
   "language": "python",
   "name": "python3"
  },
  "language_info": {
   "codemirror_mode": {
    "name": "ipython",
    "version": 3
   },
   "file_extension": ".py",
   "mimetype": "text/x-python",
   "name": "python",
   "nbconvert_exporter": "python",
   "pygments_lexer": "ipython3",
   "version": "3.9.12"
  }
 },
 "nbformat": 4,
 "nbformat_minor": 5
}
