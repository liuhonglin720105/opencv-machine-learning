{
 "cells": [
  {
   "cell_type": "markdown",
   "id": "61a40df1-4f3e-4c1a-b419-b200dabaa928",
   "metadata": {},
   "source": [
    "# Chapter 9 Tuples, Files, and Everything Else"
   ]
  },
  {
   "cell_type": "markdown",
   "id": "ae717623-8042-4089-8844-2a929fb78564",
   "metadata": {},
   "source": [
    "## Tuples\n",
    "Tuples are:\n",
    "\n",
    "- Ordered collections of arbitrary objects\n",
    "- Accessed by offset\n",
    "- Of the category \"immutable sequence\"\n",
    "- Fixed-length, heterogeneous, and arbitrarily nestable\n",
    "- Arrays of object references\n",
    "\n",
    "A tuple is written as a series of objects, separated by commas and normally enclosed in parentheses.\n",
    "\n",
    "Table 9-1 Common tuple literals and operations\n",
    "\n",
    "|Operation|Interpretaion|\n",
    "|----|----|\n",
    "|()|An empty tuple|\n",
    "|T = (0,)| A one-item tuple (not an expression)|\n",
    "|T = (0, 'NI', 1.2, 3)| A four-item tuple|\n",
    "|T = 0, 'NI', 1.2, 3| Another four-item tuple (same as prior line|\n",
    "|T = ('Bob', ('dev, 'mgr'))|Nested tuples|\n",
    "|T = tuple('spam')|Tuple of items in an iterable|\n",
    "|T[i]|Index, index of index, slice, length|\n",
    "|T[i][j]||\n",
    "|T[i:j]||\n",
    "|len(T)||\n",
    "|T1 + T2|Concatenate, repeat|\n",
    "|T * 3||\n",
    "|for x in T: print(x)| Iteration, membership|\n",
    "|'spam' in T||\n",
    "|[x ** 2 for x in T]||\n",
    "|T.index('NI')||\n",
    "|T.count('NI')||\n",
    "|Namedtuple('Emp', ['name', 'jobs'])|Named tuple extension Tupe|"
   ]
  },
  {
   "cell_type": "markdown",
   "id": "8d371a71-e9f1-4f50-b1d0-ce374f9bdd47",
   "metadata": {},
   "source": [
    "### Tuple in action\n"
   ]
  },
  {
   "cell_type": "code",
   "execution_count": 1,
   "id": "a9ec881b-adfb-46b8-866b-cbd3a127620f",
   "metadata": {},
   "outputs": [
    {
     "data": {
      "text/plain": [
       "(1, 2, 3, 4)"
      ]
     },
     "execution_count": 1,
     "metadata": {},
     "output_type": "execute_result"
    }
   ],
   "source": [
    "(1, 2) +(3, 4)  #Concatenation"
   ]
  },
  {
   "cell_type": "code",
   "execution_count": 2,
   "id": "09cad97b-c3c7-4c2f-b6d3-5904bbff3132",
   "metadata": {},
   "outputs": [
    {
     "data": {
      "text/plain": [
       "(1, 2, 1, 2, 1, 2, 1, 2)"
      ]
     },
     "execution_count": 2,
     "metadata": {},
     "output_type": "execute_result"
    }
   ],
   "source": [
    "(1, 2) * 4   #Repetition"
   ]
  },
  {
   "cell_type": "code",
   "execution_count": 4,
   "id": "319c29e4-de72-4095-8c67-6c4c14a43205",
   "metadata": {},
   "outputs": [
    {
     "data": {
      "text/plain": [
       "(1, (2, 3))"
      ]
     },
     "execution_count": 4,
     "metadata": {},
     "output_type": "execute_result"
    }
   ],
   "source": [
    "T = (1, 2, 3 ,4)\n",
    "T[0], T[1:3]"
   ]
  },
  {
   "cell_type": "markdown",
   "id": "3de0ce54-bdd9-41ae-aad5-28f369c69a1b",
   "metadata": {},
   "source": [
    "#### Tuple syntax peculiarities: commas and parentheses\n",
    "If you really wang a signle-item tuple, simply add a trailing comma after the single item, before the closing parenthesis:"
   ]
  },
  {
   "cell_type": "code",
   "execution_count": 6,
   "id": "f2c55183-6020-4186-bcac-ca92def86c76",
   "metadata": {},
   "outputs": [
    {
     "data": {
      "text/plain": [
       "40"
      ]
     },
     "execution_count": 6,
     "metadata": {},
     "output_type": "execute_result"
    }
   ],
   "source": [
    "x = (40) # An integer\n",
    "x"
   ]
  },
  {
   "cell_type": "code",
   "execution_count": 7,
   "id": "8d85adb5-3f18-4f28-804f-3aabf1472045",
   "metadata": {},
   "outputs": [
    {
     "data": {
      "text/plain": [
       "(40,)"
      ]
     },
     "execution_count": 7,
     "metadata": {},
     "output_type": "execute_result"
    }
   ],
   "source": [
    "y = (40,) # A tuple containing an integer\n",
    "y"
   ]
  },
  {
   "cell_type": "markdown",
   "id": "02edd1ec-048b-4f77-991a-5c3d86b8b6a8",
   "metadata": {},
   "source": [
    "Python aksi akkiws you to omit the opening and closing parentheses for a tuple in contexts where it isen't syntactically ambiguous to do so."
   ]
  },
  {
   "cell_type": "markdown",
   "id": "86420c22-dbe5-4ebe-8eeb-f27f78c5fe4c",
   "metadata": {},
   "source": [
    "#### Conversions, methods, and immutability"
   ]
  },
  {
   "cell_type": "code",
   "execution_count": 8,
   "id": "3abf47c4-c571-427f-b76c-653d6a01edda",
   "metadata": {},
   "outputs": [
    {
     "data": {
      "text/plain": [
       "['aa', 'bb', 'cc', 'dd']"
      ]
     },
     "execution_count": 8,
     "metadata": {},
     "output_type": "execute_result"
    }
   ],
   "source": [
    "T = ('cc', 'aa', 'dd', 'bb')\n",
    "tmp = list(T)\n",
    "tmp.sort()\n",
    "tmp"
   ]
  },
  {
   "cell_type": "code",
   "execution_count": 10,
   "id": "a258c379-4238-488f-96c7-4a8d13f05104",
   "metadata": {},
   "outputs": [
    {
     "data": {
      "text/plain": [
       "('aa', 'bb', 'cc', 'dd')"
      ]
     },
     "execution_count": 10,
     "metadata": {},
     "output_type": "execute_result"
    }
   ],
   "source": [
    "T = tuple(tmp)\n",
    "T"
   ]
  },
  {
   "cell_type": "code",
   "execution_count": 11,
   "id": "e5958c28-dd0c-46ba-9d0d-254f21a2c12c",
   "metadata": {},
   "outputs": [
    {
     "data": {
      "text/plain": [
       "['aa', 'bb', 'cc', 'dd']"
      ]
     },
     "execution_count": 11,
     "metadata": {},
     "output_type": "execute_result"
    }
   ],
   "source": [
    "sorted(T)"
   ]
  },
  {
   "cell_type": "code",
   "execution_count": 15,
   "id": "af2e3fd1-9ba1-49d1-9b7c-1065bb586507",
   "metadata": {},
   "outputs": [
    {
     "data": {
      "text/plain": [
       "[21, 22, 23, 24, 25]"
      ]
     },
     "execution_count": 15,
     "metadata": {},
     "output_type": "execute_result"
    }
   ],
   "source": [
    "T = (1, 2, 3, 4, 5)\n",
    "L = [x + 20 for x in T]\n",
    "L"
   ]
  },
  {
   "cell_type": "code",
   "execution_count": 16,
   "id": "6f3733c0-fced-43ed-840d-1deffdec8550",
   "metadata": {},
   "outputs": [
    {
     "data": {
      "text/plain": [
       "1"
      ]
     },
     "execution_count": 16,
     "metadata": {},
     "output_type": "execute_result"
    }
   ],
   "source": [
    "T = (1, 2, 3, 2, 4, 2)\n",
    "T.index(2)"
   ]
  },
  {
   "cell_type": "code",
   "execution_count": 17,
   "id": "68b9c04e-a346-41f9-af72-9054cfda11f7",
   "metadata": {},
   "outputs": [
    {
     "data": {
      "text/plain": [
       "(3, 3)"
      ]
     },
     "execution_count": 17,
     "metadata": {},
     "output_type": "execute_result"
    }
   ],
   "source": [
    "T.index(2,2), T.index(2,3)"
   ]
  },
  {
   "cell_type": "code",
   "execution_count": 18,
   "id": "27647435-48b6-4cef-ade2-3d55e3b1b2f8",
   "metadata": {},
   "outputs": [
    {
     "data": {
      "text/plain": [
       "3"
      ]
     },
     "execution_count": 18,
     "metadata": {},
     "output_type": "execute_result"
    }
   ],
   "source": [
    "T.count(2)"
   ]
  },
  {
   "cell_type": "markdown",
   "id": "b32240ba-ad51-4e73-8364-a67161acd090",
   "metadata": {},
   "source": [
    "*immutability* applies only to the top level of the tuple itself, not to its contents"
   ]
  },
  {
   "cell_type": "code",
   "execution_count": 20,
   "id": "7acfe434-f47a-4e15-86ea-7c2a82b088b5",
   "metadata": {},
   "outputs": [
    {
     "ename": "TypeError",
     "evalue": "'tuple' object does not support item assignment",
     "output_type": "error",
     "traceback": [
      "\u001b[1;31m---------------------------------------------------------------------------\u001b[0m",
      "\u001b[1;31mTypeError\u001b[0m                                 Traceback (most recent call last)",
      "Input \u001b[1;32mIn [20]\u001b[0m, in \u001b[0;36m<cell line: 2>\u001b[1;34m()\u001b[0m\n\u001b[0;32m      1\u001b[0m T \u001b[38;5;241m=\u001b[39m (\u001b[38;5;241m1\u001b[39m,[\u001b[38;5;241m2\u001b[39m,\u001b[38;5;241m3\u001b[39m],\u001b[38;5;241m4\u001b[39m)\n\u001b[1;32m----> 2\u001b[0m T[\u001b[38;5;241m1\u001b[39m] \u001b[38;5;241m=\u001b[39m \u001b[38;5;124m'\u001b[39m\u001b[38;5;124mspam\u001b[39m\u001b[38;5;124m'\u001b[39m\n",
      "\u001b[1;31mTypeError\u001b[0m: 'tuple' object does not support item assignment"
     ]
    }
   ],
   "source": [
    "T = (1,[2,3],4)\n",
    "T[1] = 'spam'"
   ]
  },
  {
   "cell_type": "code",
   "execution_count": 21,
   "id": "91cdc271-5300-4693-b3cd-9cbad047046e",
   "metadata": {},
   "outputs": [],
   "source": [
    "T[1][0] = 'spam'"
   ]
  },
  {
   "cell_type": "code",
   "execution_count": 22,
   "id": "972bb472-be4e-4182-8c3c-ed57587b226d",
   "metadata": {},
   "outputs": [
    {
     "data": {
      "text/plain": [
       "(1, ['spam', 3], 4)"
      ]
     },
     "execution_count": 22,
     "metadata": {},
     "output_type": "execute_result"
    }
   ],
   "source": [
    "T"
   ]
  },
  {
   "cell_type": "markdown",
   "id": "2b638837-c36e-435b-ba11-bbeb905dd01d",
   "metadata": {},
   "source": [
    "### Why List and Tuples\n",
    "List are the tool of choice for ordered collections that might need to change; tuples can handle the other case of fixed association."
   ]
  },
  {
   "cell_type": "markdown",
   "id": "424fd1bf-9b11-4ec5-a287-5476da7c5576",
   "metadata": {},
   "source": [
    "### Record Revisited: Named Tuples\n"
   ]
  },
  {
   "cell_type": "code",
   "execution_count": 23,
   "id": "d5ad78a4-ec98-4386-9b6f-bedf6bb2f7a1",
   "metadata": {},
   "outputs": [
    {
     "data": {
      "text/plain": [
       "('bob', 40.5, ['dev', 'mgr'])"
      ]
     },
     "execution_count": 23,
     "metadata": {},
     "output_type": "execute_result"
    }
   ],
   "source": [
    "bob = ('bob', 40.5, ['dev', 'mgr']) # list 方案\n",
    "bob"
   ]
  },
  {
   "cell_type": "code",
   "execution_count": 24,
   "id": "b81a3f9d-02cc-47d3-9bc0-aa917e8155fa",
   "metadata": {},
   "outputs": [
    {
     "data": {
      "text/plain": [
       "('bob', ['dev', 'mgr'])"
      ]
     },
     "execution_count": 24,
     "metadata": {},
     "output_type": "execute_result"
    }
   ],
   "source": [
    "bob[0], bob[2]"
   ]
  },
  {
   "cell_type": "code",
   "execution_count": 25,
   "id": "827402ec-b328-4da4-9e4b-69aaf89cddd8",
   "metadata": {},
   "outputs": [
    {
     "data": {
      "text/plain": [
       "{'name': 'Bob', 'Age': 40.5, 'jobs': ['dev', 'mgr']}"
      ]
     },
     "execution_count": 25,
     "metadata": {},
     "output_type": "execute_result"
    }
   ],
   "source": [
    "bob = dict(name ='Bob', Age = 40.5, jobs = ['dev', 'mgr']) #Dictionary 方案\n",
    "bob"
   ]
  },
  {
   "cell_type": "code",
   "execution_count": 26,
   "id": "f89f5332-a147-4031-8152-38006308cd04",
   "metadata": {},
   "outputs": [
    {
     "data": {
      "text/plain": [
       "('Bob', ['dev', 'mgr'])"
      ]
     },
     "execution_count": 26,
     "metadata": {},
     "output_type": "execute_result"
    }
   ],
   "source": [
    "bob['name'], bob['jobs']"
   ]
  },
  {
   "cell_type": "code",
   "execution_count": 27,
   "id": "afdc49c5-9da0-4e0e-a944-de96ad5b77c1",
   "metadata": {},
   "outputs": [
    {
     "data": {
      "text/plain": [
       "('Bob', 40.5, ['dev', 'mgr'])"
      ]
     },
     "execution_count": 27,
     "metadata": {},
     "output_type": "execute_result"
    }
   ],
   "source": [
    "tuple(bob.values())"
   ]
  },
  {
   "cell_type": "code",
   "execution_count": 28,
   "id": "09e4facd-c78c-4a42-b375-cbfb6cab07e9",
   "metadata": {},
   "outputs": [
    {
     "data": {
      "text/plain": [
       "[('name', 'Bob'), ('Age', 40.5), ('jobs', ['dev', 'mgr'])]"
      ]
     },
     "execution_count": 28,
     "metadata": {},
     "output_type": "execute_result"
    }
   ],
   "source": [
    "list(bob.items())"
   ]
  },
  {
   "cell_type": "markdown",
   "id": "f457b4f5-01a5-4390-a341-5e2b27e0d2fe",
   "metadata": {},
   "source": [
    "With a bit of extra work, we can implement objects that offer *both* positional and named access to record fields.\n",
    "For example, the `namedtuple` utility, available in the standard library's `collections` module."
   ]
  },
  {
   "cell_type": "code",
   "execution_count": 31,
   "id": "cd65d94f-a8a7-44a5-8d87-5924c3a5a4b7",
   "metadata": {},
   "outputs": [
    {
     "data": {
      "text/plain": [
       "Rec(name='Bob', age=40.5, jobs=['dev', 'mgr'])"
      ]
     },
     "execution_count": 31,
     "metadata": {},
     "output_type": "execute_result"
    }
   ],
   "source": [
    "from collections import namedtuple\n",
    "Rec = namedtuple('Rec', ['name', 'age','jobs'])\n",
    "bob = Rec('Bob', age = 40.5, jobs = ['dev', 'mgr'])\n",
    "bob"
   ]
  },
  {
   "cell_type": "code",
   "execution_count": 33,
   "id": "9688072c-1e7f-4133-99af-9c672a092fae",
   "metadata": {},
   "outputs": [
    {
     "data": {
      "text/plain": [
       "('Bob', ['dev', 'mgr'])"
      ]
     },
     "execution_count": 33,
     "metadata": {},
     "output_type": "execute_result"
    }
   ],
   "source": [
    "bob[0], bob[2]"
   ]
  },
  {
   "cell_type": "code",
   "execution_count": 34,
   "id": "15424882-daab-4c58-82e1-ddeed0b64400",
   "metadata": {},
   "outputs": [
    {
     "data": {
      "text/plain": [
       "('Bob', ['dev', 'mgr'])"
      ]
     },
     "execution_count": 34,
     "metadata": {},
     "output_type": "execute_result"
    }
   ],
   "source": [
    "bob.name, bob.jobs"
   ]
  },
  {
   "cell_type": "code",
   "execution_count": 35,
   "id": "215155bf-6213-4308-bba6-e102c0669be8",
   "metadata": {},
   "outputs": [
    {
     "data": {
      "text/plain": [
       "('Bob', ['dev', 'mgr'])"
      ]
     },
     "execution_count": 35,
     "metadata": {},
     "output_type": "execute_result"
    }
   ],
   "source": [
    "O  = bob._asdict()\n",
    "O['name'], O['jobs']"
   ]
  },
  {
   "cell_type": "code",
   "execution_count": 36,
   "id": "5fb4c46f-29c8-400f-9772-3873561cd3c0",
   "metadata": {},
   "outputs": [
    {
     "data": {
      "text/plain": [
       "{'name': 'Bob', 'age': 40.5, 'jobs': ['dev', 'mgr']}"
      ]
     },
     "execution_count": 36,
     "metadata": {},
     "output_type": "execute_result"
    }
   ],
   "source": [
    "O"
   ]
  },
  {
   "cell_type": "code",
   "execution_count": 37,
   "id": "d6ee61c8-1441-4104-b5f4-5230c16dd651",
   "metadata": {},
   "outputs": [
    {
     "data": {
      "text/plain": [
       "dict"
      ]
     },
     "execution_count": 37,
     "metadata": {},
     "output_type": "execute_result"
    }
   ],
   "source": [
    "type(O)"
   ]
  },
  {
   "cell_type": "markdown",
   "id": "adba0859-bf2c-4b1a-94cb-4718fd92ab8e",
   "metadata": {},
   "source": [
    "Both tuples and named tuples support unpacking *tuple assignmeng*, as well as the *iteration contexts*"
   ]
  },
  {
   "cell_type": "code",
   "execution_count": 38,
   "id": "f987e53a-207f-4d3f-af0b-ac97cee04e07",
   "metadata": {},
   "outputs": [],
   "source": [
    "bob = Rec('Bob', 40.5, ['dev', 'mgr'])"
   ]
  },
  {
   "cell_type": "code",
   "execution_count": 39,
   "id": "9f5db097-fcc7-4db8-9dbd-e39e3a26f531",
   "metadata": {},
   "outputs": [
    {
     "data": {
      "text/plain": [
       "('Bob', ['dev', 'mgr'])"
      ]
     },
     "execution_count": 39,
     "metadata": {},
     "output_type": "execute_result"
    }
   ],
   "source": [
    "name, age, jobs = bob # Tuple Assignment\n",
    "name, jobs"
   ]
  },
  {
   "cell_type": "code",
   "execution_count": 40,
   "id": "4e919213-c838-4939-8704-5790783d0956",
   "metadata": {},
   "outputs": [
    {
     "name": "stdout",
     "output_type": "stream",
     "text": [
      "Bob\n",
      "40.5\n",
      "['dev', 'mgr']\n"
     ]
    }
   ],
   "source": [
    "for x in bob: print(x) # Iteration context"
   ]
  },
  {
   "cell_type": "code",
   "execution_count": 42,
   "id": "d9c7c165-1ad7-46d6-8416-7f711b9c4cec",
   "metadata": {},
   "outputs": [],
   "source": [
    "bob = {'name': 'Bob', 'age': 40.5, 'jobs':['dev', 'mgr']}"
   ]
  },
  {
   "cell_type": "code",
   "execution_count": 44,
   "id": "ce9dfa1b-0f0d-4638-b8f2-94f7495f1957",
   "metadata": {},
   "outputs": [
    {
     "data": {
      "text/plain": [
       "(40.5, 'Bob')"
      ]
     },
     "execution_count": 44,
     "metadata": {},
     "output_type": "execute_result"
    }
   ],
   "source": [
    "job, name, age = bob.values()\n",
    "name,job"
   ]
  },
  {
   "cell_type": "code",
   "execution_count": 45,
   "id": "3ae03868-d2d1-424c-b0b4-a91b2db71e7c",
   "metadata": {},
   "outputs": [
    {
     "name": "stdout",
     "output_type": "stream",
     "text": [
      "Bob\n",
      "40.5\n",
      "['dev', 'mgr']\n"
     ]
    }
   ],
   "source": [
    "for x in bob: print(bob[x])"
   ]
  },
  {
   "cell_type": "code",
   "execution_count": 46,
   "id": "3087193a-2949-4e70-8c27-4208095301f5",
   "metadata": {},
   "outputs": [
    {
     "name": "stdout",
     "output_type": "stream",
     "text": [
      "Bob\n",
      "40.5\n",
      "['dev', 'mgr']\n"
     ]
    }
   ],
   "source": [
    "for x in bob.values():print(x)"
   ]
  },
  {
   "cell_type": "markdown",
   "id": "0291e115-054b-4b27-92e5-aaee7149c963",
   "metadata": {},
   "source": [
    "## Files\n",
    "Table 9-2. Common file operations\n",
    "\n",
    "|Operation|Interpretation|\n",
    "|----|----|\n",
    "|output = open(r'C:\\spam' 'w')| Create output file ('w' means write)|\n",
    "|input = open('data', 'r')|Create inputfile('r' means read)|\n",
    "|input = open('data')| Same as prior line ('r' is the default)|\n",
    "|aString = input.read()|Read entire file into a single string|\n",
    "|aString = input.read(N)|Read up to next N characters into a String|\n",
    "|aString = input.readline()|Read next line (including \\n newline) into a string|\n",
    "|aList = input.readlines()|Read entire file into list of line strings (with \\n)|\n",
    "|output.write(aString)|Write a string of characters (or bytes) into file|\n",
    "|output.writelines(AList)|Write all line strings in a list into file|\n",
    "|output.close()|Manual close (done for you when file is collected)}\n",
    "|output.flush()|Flash output buffer to disk without closing|\n",
    "|anyFile.seek(N)| Change file position to offset N for next operation|\n",
    "|for line in open('data'): use line| File iterators read line by line|\n",
    "|open('f.txt', encoding = 'latin-1')|Python 3.x Unicode text files(str Strings)|\n",
    "open('f.bin', 'rb')|Python 3.x bytes files *bytes strings)|"
   ]
  },
  {
   "cell_type": "markdown",
   "id": "4817d0d9-d952-4428-a40f-8bd9b1fbc162",
   "metadata": {},
   "source": [
    "### Opening Files\n",
    "\n",
    "`afile = open(filename, mode)`\n",
    "\n",
    "`afile.method()`"
   ]
  },
  {
   "cell_type": "markdown",
   "id": "6d0ac441-d1fd-4adb-8762-61d392746eaa",
   "metadata": {},
   "source": [
    "`mode: 'r', 'w', 'a'`\n",
    "\n",
    "The processing mode argument can specify additional options:\n",
    "- Adding a **b** to the mode string allows for *binary* data (end-of-line* translations and 3.X unicode encodings are turned off).\n",
    "- Adding a + opens the file for *both* input and output"
   ]
  },
  {
   "cell_type": "markdown",
   "id": "22c55b81-024e-45c3-92aa-c3d317f19333",
   "metadata": {},
   "source": [
    "### Using Files\n",
    "A few fundamental usage notes:\n",
    "\n",
    "- File iterators are best for eading lines\n",
    "- Content is strings, not objects\n",
    "- Files are buffered and seekable\n",
    "- close if often optional: auto-close on collection"
   ]
  },
  {
   "cell_type": "markdown",
   "id": "ae85ef11-29bf-4292-aea9-0ad3224f1f99",
   "metadata": {},
   "source": [
    "### File in Action\n"
   ]
  },
  {
   "cell_type": "code",
   "execution_count": 2,
   "id": "7c9d1273-664e-4488-ab27-a030c9ed91d0",
   "metadata": {},
   "outputs": [],
   "source": [
    "myfile = open('myfile.txt', 'w')\n",
    "myfile.write('hello text file\\n')\n",
    "myfile.write('googdbye text file\\n')\n",
    "myfile.close()"
   ]
  },
  {
   "cell_type": "code",
   "execution_count": 3,
   "id": "2d26037b-b43d-4768-8dc6-de5b8204f64d",
   "metadata": {},
   "outputs": [
    {
     "data": {
      "text/plain": [
       "'hello text file\\n'"
      ]
     },
     "execution_count": 3,
     "metadata": {},
     "output_type": "execute_result"
    }
   ],
   "source": [
    "myfile = open('myfile.txt')\n",
    "myfile.readline()"
   ]
  },
  {
   "cell_type": "code",
   "execution_count": 4,
   "id": "4fa127e2-1225-4e5d-8eaf-9c9173dce551",
   "metadata": {},
   "outputs": [
    {
     "data": {
      "text/plain": [
       "'googdbye text file\\n'"
      ]
     },
     "execution_count": 4,
     "metadata": {},
     "output_type": "execute_result"
    }
   ],
   "source": [
    "myfile.readline()"
   ]
  },
  {
   "cell_type": "code",
   "execution_count": 6,
   "id": "dd76717b-e700-45f2-bae5-191fa5ccf96e",
   "metadata": {},
   "outputs": [
    {
     "data": {
      "text/plain": [
       "''"
      ]
     },
     "execution_count": 6,
     "metadata": {},
     "output_type": "execute_result"
    }
   ],
   "source": [
    "myfile.readline()"
   ]
  },
  {
   "cell_type": "code",
   "execution_count": 7,
   "id": "6584a43f-a244-4ab1-87a5-cf8937d1d007",
   "metadata": {},
   "outputs": [
    {
     "data": {
      "text/plain": [
       "'hello text file\\ngoogdbye text file\\n'"
      ]
     },
     "execution_count": 7,
     "metadata": {},
     "output_type": "execute_result"
    }
   ],
   "source": [
    "open('myfile.txt').read()"
   ]
  },
  {
   "cell_type": "code",
   "execution_count": 8,
   "id": "2f795001-fb44-4bbf-ba1a-3a1c402072e8",
   "metadata": {},
   "outputs": [
    {
     "name": "stdout",
     "output_type": "stream",
     "text": [
      "hello text file\n",
      "googdbye text file\n",
      "\n"
     ]
    }
   ],
   "source": [
    "print(open('myfile.txt').read())"
   ]
  },
  {
   "cell_type": "code",
   "execution_count": 10,
   "id": "66d1412a-4bb4-407c-a71d-948c7753bc63",
   "metadata": {},
   "outputs": [
    {
     "name": "stdout",
     "output_type": "stream",
     "text": [
      "hello text file\n",
      "googdbye text file\n"
     ]
    }
   ],
   "source": [
    "for line in open('myfile.txt'):\n",
    "    print(line, end = '')"
   ]
  },
  {
   "cell_type": "markdown",
   "id": "2897f8b9-c1aa-4ce7-a2f5-430c4a55ca04",
   "metadata": {},
   "source": [
    "### Text and Binary files： The Short Story\n",
    "- Text files represent content as normal str strings, perform Unicode encoding and decodign automatically, and perform end-of-line translation by default.\n",
    "- Binary files represent content as a special bytes string type and allow programs ot access file content unaltered."
   ]
  },
  {
   "cell_type": "code",
   "execution_count": 11,
   "id": "04863ffd-64f8-4b37-be1b-9bb58a6c00dd",
   "metadata": {},
   "outputs": [],
   "source": [
    "data = open('myfile.txt', 'rb').read()"
   ]
  },
  {
   "cell_type": "code",
   "execution_count": 12,
   "id": "d5785d2f-dd00-4142-88f0-d82c270c6252",
   "metadata": {},
   "outputs": [
    {
     "data": {
      "text/plain": [
       "b'hello text file\\r\\ngoogdbye text file\\r\\n'"
      ]
     },
     "execution_count": 12,
     "metadata": {},
     "output_type": "execute_result"
    }
   ],
   "source": [
    "data"
   ]
  },
  {
   "cell_type": "code",
   "execution_count": 13,
   "id": "ebe96328-0290-4ce4-a9b1-8925a68b612e",
   "metadata": {},
   "outputs": [
    {
     "data": {
      "text/plain": [
       "b'o te'"
      ]
     },
     "execution_count": 13,
     "metadata": {},
     "output_type": "execute_result"
    }
   ],
   "source": [
    "data[4:8]"
   ]
  },
  {
   "cell_type": "code",
   "execution_count": 14,
   "id": "8eedfce0-9371-4e8f-a740-1324754117c2",
   "metadata": {},
   "outputs": [
    {
     "data": {
      "text/plain": [
       "111"
      ]
     },
     "execution_count": 14,
     "metadata": {},
     "output_type": "execute_result"
    }
   ],
   "source": [
    "data[4:8][0]"
   ]
  },
  {
   "cell_type": "code",
   "execution_count": 15,
   "id": "78d5273e-7f03-4ba7-837a-c9a52c3af6e1",
   "metadata": {},
   "outputs": [
    {
     "data": {
      "text/plain": [
       "'0b1101111'"
      ]
     },
     "execution_count": 15,
     "metadata": {},
     "output_type": "execute_result"
    }
   ],
   "source": [
    "bin(data[4:8][0])"
   ]
  },
  {
   "cell_type": "markdown",
   "id": "e9ad477a-501f-4bc1-b43e-a73029e7eb9a",
   "metadata": {},
   "source": [
    "### Storing Python Objects in Files: Conversions"
   ]
  },
  {
   "cell_type": "code",
   "execution_count": 16,
   "id": "38af4197-b1f2-490d-a32e-c4770192e938",
   "metadata": {},
   "outputs": [],
   "source": [
    "X, Y, Z = 43, 44, 45\n",
    "S = 'Spam'\n",
    "D = {'a': 1, 'b': 2}\n",
    "L = [1, 2, 3]"
   ]
  },
  {
   "cell_type": "code",
   "execution_count": 18,
   "id": "8113c53b-ca14-4cee-84d6-16e9e72c8a8d",
   "metadata": {},
   "outputs": [],
   "source": [
    "F = open('datafile.txt', 'w')\n",
    "F.write(S + '\\n')\n",
    "F.write('%s,%s,%s\\n' %(X, Y, Z))\n",
    "F.write(str(L) + '$' + str(D) + '\\n')\n",
    "F.close()"
   ]
  },
  {
   "cell_type": "code",
   "execution_count": 19,
   "id": "8f88ae31-40a3-4333-937d-5d3e9fa47b00",
   "metadata": {},
   "outputs": [
    {
     "data": {
      "text/plain": [
       "\"Spam\\n43,44,45\\n[1, 2, 3]${'a': 1, 'b': 2}\\n\""
      ]
     },
     "execution_count": 19,
     "metadata": {},
     "output_type": "execute_result"
    }
   ],
   "source": [
    "chars = open('datafile.txt').read()\n",
    "chars"
   ]
  },
  {
   "cell_type": "code",
   "execution_count": 20,
   "id": "3afb89e3-56ae-46a9-a61c-9ad99e04da44",
   "metadata": {},
   "outputs": [
    {
     "name": "stdout",
     "output_type": "stream",
     "text": [
      "Spam\n",
      "43,44,45\n",
      "[1, 2, 3]${'a': 1, 'b': 2}\n",
      "\n"
     ]
    }
   ],
   "source": [
    "print(chars)"
   ]
  },
  {
   "cell_type": "code",
   "execution_count": 22,
   "id": "619ada30-8892-457c-8047-76797c7e9156",
   "metadata": {},
   "outputs": [
    {
     "data": {
      "text/plain": [
       "'Spam\\n'"
      ]
     },
     "execution_count": 22,
     "metadata": {},
     "output_type": "execute_result"
    }
   ],
   "source": [
    "F = open('datafile.txt')\n",
    "line = F.readline()\n",
    "line"
   ]
  },
  {
   "cell_type": "code",
   "execution_count": 23,
   "id": "5691b8e0-850a-4983-8480-f9e75ea86ea6",
   "metadata": {},
   "outputs": [
    {
     "data": {
      "text/plain": [
       "'Spam'"
      ]
     },
     "execution_count": 23,
     "metadata": {},
     "output_type": "execute_result"
    }
   ],
   "source": [
    "line.rstrip()"
   ]
  },
  {
   "cell_type": "code",
   "execution_count": 24,
   "id": "3da029f0-55c4-41f5-8546-d56920bfd3c7",
   "metadata": {},
   "outputs": [
    {
     "data": {
      "text/plain": [
       "'43,44,45\\n'"
      ]
     },
     "execution_count": 24,
     "metadata": {},
     "output_type": "execute_result"
    }
   ],
   "source": [
    "line = F.readline()\n",
    "line"
   ]
  },
  {
   "cell_type": "code",
   "execution_count": 25,
   "id": "11c3d25f-f9f7-47a8-a4b7-2af7d8123b2a",
   "metadata": {},
   "outputs": [],
   "source": [
    "parts = line.split(',')"
   ]
  },
  {
   "cell_type": "code",
   "execution_count": 26,
   "id": "34ad35a0-8ea5-404c-a54e-794162a0fa77",
   "metadata": {},
   "outputs": [
    {
     "data": {
      "text/plain": [
       "['43', '44', '45\\n']"
      ]
     },
     "execution_count": 26,
     "metadata": {},
     "output_type": "execute_result"
    }
   ],
   "source": [
    "parts"
   ]
  },
  {
   "cell_type": "code",
   "execution_count": 27,
   "id": "2b349d4e-c647-42b4-819a-521ca0ada876",
   "metadata": {},
   "outputs": [
    {
     "data": {
      "text/plain": [
       "44"
      ]
     },
     "execution_count": 27,
     "metadata": {},
     "output_type": "execute_result"
    }
   ],
   "source": [
    "int(parts[1])"
   ]
  },
  {
   "cell_type": "code",
   "execution_count": 28,
   "id": "dc87ee1f-f232-49e0-8c9a-faf2c848f747",
   "metadata": {},
   "outputs": [
    {
     "data": {
      "text/plain": [
       "[43, 44, 45]"
      ]
     },
     "execution_count": 28,
     "metadata": {},
     "output_type": "execute_result"
    }
   ],
   "source": [
    "number = [int(P) for P in parts]\n",
    "number"
   ]
  },
  {
   "cell_type": "code",
   "execution_count": 29,
   "id": "2fcab536-ff93-40da-acff-7302c9276533",
   "metadata": {},
   "outputs": [
    {
     "data": {
      "text/plain": [
       "\"[1, 2, 3]${'a': 1, 'b': 2}\\n\""
      ]
     },
     "execution_count": 29,
     "metadata": {},
     "output_type": "execute_result"
    }
   ],
   "source": [
    "line = F.readline()\n",
    "line"
   ]
  },
  {
   "cell_type": "code",
   "execution_count": 30,
   "id": "2bc18ff9-ab4b-4f44-a94f-234ca8e0e0b9",
   "metadata": {},
   "outputs": [
    {
     "data": {
      "text/plain": [
       "['[1, 2, 3]', \"{'a': 1, 'b': 2}\\n\"]"
      ]
     },
     "execution_count": 30,
     "metadata": {},
     "output_type": "execute_result"
    }
   ],
   "source": [
    "parts = line.split('$')\n",
    "parts"
   ]
  },
  {
   "cell_type": "code",
   "execution_count": 31,
   "id": "8f40375d-6435-4653-9c0d-d3afdd810b67",
   "metadata": {},
   "outputs": [
    {
     "data": {
      "text/plain": [
       "[1, 2, 3]"
      ]
     },
     "execution_count": 31,
     "metadata": {},
     "output_type": "execute_result"
    }
   ],
   "source": [
    "eval(parts[0])"
   ]
  },
  {
   "cell_type": "code",
   "execution_count": 33,
   "id": "5e7fb127-e0eb-442f-bdcd-c8e10b2a9aa8",
   "metadata": {},
   "outputs": [
    {
     "data": {
      "text/plain": [
       "[[1, 2, 3], {'a': 1, 'b': 2}]"
      ]
     },
     "execution_count": 33,
     "metadata": {},
     "output_type": "execute_result"
    }
   ],
   "source": [
    "objects = [eval(P) for P in parts]\n",
    "objects"
   ]
  },
  {
   "cell_type": "markdown",
   "id": "484bb83a-67eb-4ab6-8b5a-a5246199b311",
   "metadata": {},
   "source": [
    "### Storing Native Python Objects: pickle\n"
   ]
  },
  {
   "cell_type": "code",
   "execution_count": 37,
   "id": "04e4143b-522b-48f6-b7e7-f26c52a89d67",
   "metadata": {},
   "outputs": [],
   "source": [
    "D = {'a':1, 'b':2}\n",
    "F = open('datafile.pkl', 'wb')\n",
    "import pickle\n",
    "pickle.dump(D,F)\n",
    "F.close()"
   ]
  },
  {
   "cell_type": "code",
   "execution_count": 38,
   "id": "ca0ed48d-ab04-4e5a-9da3-f9fc41fe24fd",
   "metadata": {},
   "outputs": [
    {
     "data": {
      "text/plain": [
       "{'a': 1, 'b': 2}"
      ]
     },
     "execution_count": 38,
     "metadata": {},
     "output_type": "execute_result"
    }
   ],
   "source": [
    "F = open('datafile.pkl','rb')\n",
    "E = pickle.load(F)\n",
    "E"
   ]
  },
  {
   "cell_type": "markdown",
   "id": "77f96f1e-1422-49c8-a216-a0f06ec47fbd",
   "metadata": {},
   "source": [
    "The `pickle` module performs what is known as *object serialization* --- converting objects to and from strings of bytes --- but require very little work on our part."
   ]
  },
  {
   "cell_type": "markdown",
   "id": "34162dac-4eee-4cf7-a28b-e09cb69eaabd",
   "metadata": {},
   "source": [
    "`shelve` is a tool that uses `pickle` to store Python objects i nan access-by-key fielsystem."
   ]
  },
  {
   "cell_type": "markdown",
   "id": "dcd5c708-3f37-4aa8-b275-5a123bf4ebbc",
   "metadata": {},
   "source": [
    "The pickle creates and uses a `byte` string object, and these objets imply binarymode files."
   ]
  },
  {
   "cell_type": "markdown",
   "id": "9a3d32f6-aa2d-4b73-b8de-1757b3f58bfe",
   "metadata": {},
   "source": [
    "### Store Python Objects in JSON Format\n",
    "`pickle` modu;e translates nearly arbitrary Python objects to a proprietary format developed specifically for Python, and honed for performance over many Years.\n",
    "JSON is a newer and emerging data interchange format, which is  both programming-language-neutral and supported by a variety of system.\n",
    "\n",
    "JSON does not support as broad a range of Python object types as `pickle`, but its protability is an advantage in some contexts, and it represents another way to serialize a specific vategory of Python objects for storage and transmission.\n"
   ]
  },
  {
   "cell_type": "code",
   "execution_count": 46,
   "id": "c6b3c8fd-c361-4bd9-ad64-9ec545eb247b",
   "metadata": {},
   "outputs": [],
   "source": [
    "name = dict(first ='Bob', last ='Smith')"
   ]
  },
  {
   "cell_type": "code",
   "execution_count": 47,
   "id": "d39b9288-058e-4b48-b32d-36739d3647b1",
   "metadata": {},
   "outputs": [],
   "source": [
    "rec = dict(name = name, job =['dev', 'mgr'], age = 40.5)"
   ]
  },
  {
   "cell_type": "code",
   "execution_count": 48,
   "id": "18c36282-33e0-48dd-a625-c1138ba2e4d7",
   "metadata": {},
   "outputs": [
    {
     "data": {
      "text/plain": [
       "{'name': {'first': 'Bob', 'last': 'Smith'}, 'job': ['dev', 'mgr'], 'age': 40.5}"
      ]
     },
     "execution_count": 48,
     "metadata": {},
     "output_type": "execute_result"
    }
   ],
   "source": [
    "rec"
   ]
  },
  {
   "cell_type": "code",
   "execution_count": 49,
   "id": "b20c447a-3c43-4b14-b847-d4059dafc997",
   "metadata": {},
   "outputs": [
    {
     "data": {
      "text/plain": [
       "'{\"name\": {\"first\": \"Bob\", \"last\": \"Smith\"}, \"job\": [\"dev\", \"mgr\"], \"age\": 40.5}'"
      ]
     },
     "execution_count": 49,
     "metadata": {},
     "output_type": "execute_result"
    }
   ],
   "source": [
    "import json\n",
    "json.dumps(rec)"
   ]
  },
  {
   "cell_type": "code",
   "execution_count": 50,
   "id": "c7a1c481-17f3-4d52-8195-9be92cb5232a",
   "metadata": {},
   "outputs": [
    {
     "data": {
      "text/plain": [
       "'{\"name\": {\"first\": \"Bob\", \"last\": \"Smith\"}, \"job\": [\"dev\", \"mgr\"], \"age\": 40.5}'"
      ]
     },
     "execution_count": 50,
     "metadata": {},
     "output_type": "execute_result"
    }
   ],
   "source": [
    "S = json.dumps(rec)\n",
    "S"
   ]
  },
  {
   "cell_type": "code",
   "execution_count": 51,
   "id": "58cbb009-448b-4773-921a-2d1cae078f32",
   "metadata": {},
   "outputs": [
    {
     "data": {
      "text/plain": [
       "{'name': {'first': 'Bob', 'last': 'Smith'}, 'job': ['dev', 'mgr'], 'age': 40.5}"
      ]
     },
     "execution_count": 51,
     "metadata": {},
     "output_type": "execute_result"
    }
   ],
   "source": [
    "O = json.loads(S)\n",
    "O"
   ]
  },
  {
   "cell_type": "code",
   "execution_count": 52,
   "id": "4db1bcad-1e4d-4550-84f1-81fe50a497c9",
   "metadata": {},
   "outputs": [
    {
     "data": {
      "text/plain": [
       "True"
      ]
     },
     "execution_count": 52,
     "metadata": {},
     "output_type": "execute_result"
    }
   ],
   "source": [
    "O == rec"
   ]
  },
  {
   "cell_type": "code",
   "execution_count": 54,
   "id": "677fbe88-545b-40d2-b4c6-e52f0ea6399a",
   "metadata": {},
   "outputs": [
    {
     "name": "stdout",
     "output_type": "stream",
     "text": [
      "{\n",
      "    \"name\": {\n",
      "        \"first\": \"Bob\",\n",
      "        \"last\": \"Smith\"\n",
      "    },\n",
      "    \"job\": [\n",
      "        \"dev\",\n",
      "        \"mgr\"\n",
      "    ],\n",
      "    \"age\": 40.5\n",
      "}\n"
     ]
    }
   ],
   "source": [
    "json.dump(rec, fp = open('testjson.txt', 'w'), indent = 4)\n",
    "print(open('testjson.txt').read())"
   ]
  },
  {
   "cell_type": "code",
   "execution_count": 56,
   "id": "5d8208a6-d2da-4855-9a11-2bedd9b9776b",
   "metadata": {},
   "outputs": [
    {
     "data": {
      "text/plain": [
       "{'name': {'first': 'Bob', 'last': 'Smith'}, 'job': ['dev', 'mgr'], 'age': 40.5}"
      ]
     },
     "execution_count": 56,
     "metadata": {},
     "output_type": "execute_result"
    }
   ],
   "source": [
    "P = json.load(open('testjson.txt'))\n",
    "P"
   ]
  },
  {
   "cell_type": "markdown",
   "id": "d79c415e-8ed2-4495-81b6-a9d725e731a4",
   "metadata": {},
   "source": [
    "### Storing Packed Binary Data: struct\n",
    "The `struct` module knwos how to both compose and parse packed banry data."
   ]
  },
  {
   "cell_type": "code",
   "execution_count": 57,
   "id": "efff7725-ea9e-4bf6-b3f8-176265bad219",
   "metadata": {},
   "outputs": [],
   "source": [
    "F = open('data.bin', 'wb')"
   ]
  },
  {
   "cell_type": "code",
   "execution_count": 59,
   "id": "048bdd91-73f6-42f9-8a76-88cc8c9e611e",
   "metadata": {},
   "outputs": [
    {
     "data": {
      "text/plain": [
       "b'\\x00\\x00\\x00\\x07spam\\x00\\x08'"
      ]
     },
     "execution_count": 59,
     "metadata": {},
     "output_type": "execute_result"
    }
   ],
   "source": [
    "import struct\n",
    "data = struct.pack('>i4sh', 7, b'spam',8)\n",
    "data"
   ]
  },
  {
   "cell_type": "code",
   "execution_count": 60,
   "id": "f970fe91-6de8-4afd-bea2-df0bf0cfa964",
   "metadata": {},
   "outputs": [],
   "source": [
    "F.write(data)\n",
    "F.close()"
   ]
  },
  {
   "cell_type": "code",
   "execution_count": 62,
   "id": "d00df5fc-4c48-40c4-b882-edb644a22e69",
   "metadata": {},
   "outputs": [
    {
     "data": {
      "text/plain": [
       "b'\\x00\\x00\\x00\\x07spam\\x00\\x08'"
      ]
     },
     "execution_count": 62,
     "metadata": {},
     "output_type": "execute_result"
    }
   ],
   "source": [
    "F = open('data.bin', 'rb')\n",
    "data = F.read()\n",
    "data"
   ]
  },
  {
   "cell_type": "code",
   "execution_count": 63,
   "id": "a21979a2-7288-4de6-92cc-5292c51d3318",
   "metadata": {},
   "outputs": [
    {
     "data": {
      "text/plain": [
       "(7, b'spam', 8)"
      ]
     },
     "execution_count": 63,
     "metadata": {},
     "output_type": "execute_result"
    }
   ],
   "source": [
    "values = struct.unpack('>i4sh',data)\n",
    "values"
   ]
  },
  {
   "cell_type": "markdown",
   "id": "ee28dbf1-8e92-40af-95f7-e8d4049abb65",
   "metadata": {},
   "source": []
  },
  {
   "cell_type": "markdown",
   "id": "8a635a28-8a60-4624-9ba1-b6fe1ff59ef0",
   "metadata": {},
   "source": [
    "### File Contex Managers\n",
    "### Other File Tools\n",
    "\n",
    "- Standard stream, `sys` module\n",
    "- Descriptor files in the `OS` module\n",
    "- Socket, pipes, and FIFOs\n",
    "- Access-by-key files known as \"shelves\"\n",
    "- Shell command streams"
   ]
  },
  {
   "cell_type": "markdown",
   "id": "8aeba6da-4c6b-4054-945a-5b8bdd394ef7",
   "metadata": {},
   "source": [
    "## Core Types Review and Summary\n",
    "\n",
    "|Object type|Category| Mutable?|\n",
    "|---|----|----|\n",
    "|Numbers (all)| Numeric | No|\n",
    "|Strings (all)| Sequence| No|\n",
    "|Lists| Sequence| Yes|\n",
    "|Dictionaries| Mapping| Yes|\n",
    "|Tuples|Sequence| No|\n",
    "|Sets| Set| Yes|\n",
    "|Frozenset|Set|No|\n",
    "|bytearray|Sequence|Yes|"
   ]
  },
  {
   "cell_type": "markdown",
   "id": "720f9795-519c-480d-bcf6-5e4d604bf47b",
   "metadata": {},
   "source": [
    "### Object Flexibility\n",
    "- Lists, dictionaries, and tuples can hold any kind of object.\n",
    "- Sets can contain any type of immutable object\n",
    "- Lists, dictionaries, and tuples can be arbitrarily nested.\n",
    "- Lists, dictionaries, and sets can dynamically gorw and shrink"
   ]
  }
 ],
 "metadata": {
  "kernelspec": {
   "display_name": "Python 3 (ipykernel)",
   "language": "python",
   "name": "python3"
  },
  "language_info": {
   "codemirror_mode": {
    "name": "ipython",
    "version": 3
   },
   "file_extension": ".py",
   "mimetype": "text/x-python",
   "name": "python",
   "nbconvert_exporter": "python",
   "pygments_lexer": "ipython3",
   "version": "3.9.12"
  }
 },
 "nbformat": 4,
 "nbformat_minor": 5
}
