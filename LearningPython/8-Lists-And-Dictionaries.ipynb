{
 "cells": [
  {
   "cell_type": "markdown",
   "id": "a0033bd2-7338-4f3d-89e5-1c7a59936647",
   "metadata": {},
   "source": [
    "# Chapter 8 List and Dictionarie\n",
    "## Lists\n",
    "Python's most flexible ordered collection object types.\n",
    "List can contain any sort of object, may be changed in place by assignment to offsets and slices, list method calls, deletion statements, and more --- they are *mutable* objects.\n",
    "\n",
    "Python lists are:\n",
    "\n",
    "*Ordered collections of arbitrary objects*\n",
    "\n",
    "*Accessd by offset*\n",
    "\n",
    "*Variable-length, heterogeneous, and arbitrarily nestable*\n",
    "\n",
    "*Of the category \"mutable sequence\"*\n",
    "\n",
    "*Array of object refernce*\n",
    "\n",
    "## List in Action\n",
    "### Basic List Operations"
   ]
  },
  {
   "cell_type": "code",
   "execution_count": 1,
   "id": "2f56bde3-12ad-4591-8531-9eab930e3796",
   "metadata": {},
   "outputs": [
    {
     "data": {
      "text/plain": [
       "4"
      ]
     },
     "execution_count": 1,
     "metadata": {},
     "output_type": "execute_result"
    }
   ],
   "source": [
    "len ([1, 2, 3, 4])"
   ]
  },
  {
   "cell_type": "code",
   "execution_count": 2,
   "id": "be353d9e-82cf-4c3f-b5fe-ff362fc8947b",
   "metadata": {},
   "outputs": [
    {
     "data": {
      "text/plain": [
       "[1, 2, 3, 4, 5, 6]"
      ]
     },
     "execution_count": 2,
     "metadata": {},
     "output_type": "execute_result"
    }
   ],
   "source": [
    "[1, 2, 3] + [4, 5, 6]"
   ]
  },
  {
   "cell_type": "code",
   "execution_count": 3,
   "id": "05de5dfc-2a50-462d-844e-a587aabf233f",
   "metadata": {},
   "outputs": [
    {
     "data": {
      "text/plain": [
       "['Ni!', 'Ni!', 'Ni!', 'Ni!']"
      ]
     },
     "execution_count": 3,
     "metadata": {},
     "output_type": "execute_result"
    }
   ],
   "source": [
    "['Ni!'] * 4"
   ]
  },
  {
   "cell_type": "code",
   "execution_count": 4,
   "id": "37a0540e-581b-47c6-bf2d-177f28cd9758",
   "metadata": {},
   "outputs": [
    {
     "data": {
      "text/plain": [
       "'[1, 2]34'"
      ]
     },
     "execution_count": 4,
     "metadata": {},
     "output_type": "execute_result"
    }
   ],
   "source": [
    "str([1, 2]) + \"34\""
   ]
  },
  {
   "cell_type": "code",
   "execution_count": 5,
   "id": "554373d9-185c-4a75-9b45-b450bee5634e",
   "metadata": {},
   "outputs": [
    {
     "data": {
      "text/plain": [
       "[1, 2, '3', '4']"
      ]
     },
     "execution_count": 5,
     "metadata": {},
     "output_type": "execute_result"
    }
   ],
   "source": [
    "[1, 2] + list(\"34\")"
   ]
  },
  {
   "cell_type": "code",
   "execution_count": 7,
   "id": "a25ea82a-a71d-4126-976f-f7072394a468",
   "metadata": {},
   "outputs": [
    {
     "data": {
      "text/plain": [
       "[1, 2, '34']"
      ]
     },
     "execution_count": 7,
     "metadata": {},
     "output_type": "execute_result"
    }
   ],
   "source": [
    "[1,2] + [\"34\"]"
   ]
  },
  {
   "cell_type": "markdown",
   "id": "4cdc3734-c667-47f8-9fd8-1ed7fefeac91",
   "metadata": {},
   "source": [
    "### List Iteration and Comprehensions"
   ]
  },
  {
   "cell_type": "code",
   "execution_count": 8,
   "id": "b903a3a1-4744-489b-8d2a-da78543e1ead",
   "metadata": {},
   "outputs": [
    {
     "data": {
      "text/plain": [
       "True"
      ]
     },
     "execution_count": 8,
     "metadata": {},
     "output_type": "execute_result"
    }
   ],
   "source": [
    "3 in [1, 2, 3, 4]"
   ]
  },
  {
   "cell_type": "code",
   "execution_count": 9,
   "id": "612eb595-526f-4bd4-bf84-1d48572d7620",
   "metadata": {},
   "outputs": [
    {
     "name": "stdout",
     "output_type": "stream",
     "text": [
      "1 2 3 "
     ]
    }
   ],
   "source": [
    "for x in [1, 2, 3]:\n",
    "    print(x, end = ' ')"
   ]
  },
  {
   "cell_type": "code",
   "execution_count": 10,
   "id": "46a77e15-89cb-494e-94ec-57b1ce82896b",
   "metadata": {},
   "outputs": [],
   "source": [
    "res = [c *4 for c in 'SPAM'] "
   ]
  },
  {
   "cell_type": "code",
   "execution_count": 11,
   "id": "1da00cf8-5878-4564-b1d9-6a04bd6013af",
   "metadata": {},
   "outputs": [
    {
     "data": {
      "text/plain": [
       "['SSSS', 'PPPP', 'AAAA', 'MMMM']"
      ]
     },
     "execution_count": 11,
     "metadata": {},
     "output_type": "execute_result"
    }
   ],
   "source": [
    "res"
   ]
  },
  {
   "cell_type": "code",
   "execution_count": 13,
   "id": "c280fcb2-4076-413e-8cb0-ae6166f88e93",
   "metadata": {},
   "outputs": [
    {
     "data": {
      "text/plain": [
       "['SSSS', 'PPPP', 'AAAA', 'MMMM']"
      ]
     },
     "execution_count": 13,
     "metadata": {},
     "output_type": "execute_result"
    }
   ],
   "source": [
    "res = []\n",
    "for c in 'SPAM':\n",
    "    res.append( c* 4)\n",
    "    \n",
    "res"
   ]
  },
  {
   "cell_type": "code",
   "execution_count": 14,
   "id": "8d594ae6-163a-4f91-be47-175aced8fb33",
   "metadata": {},
   "outputs": [
    {
     "data": {
      "text/plain": [
       "[1, 2, 0, 1, 2]"
      ]
     },
     "execution_count": 14,
     "metadata": {},
     "output_type": "execute_result"
    }
   ],
   "source": [
    "list(map(abs, [-1, -2, 0, 1, 2]))"
   ]
  },
  {
   "cell_type": "markdown",
   "id": "a5c13aa2-78d6-42f8-bf91-8d163ab9ffe6",
   "metadata": {},
   "source": []
  },
  {
   "cell_type": "markdown",
   "id": "537eb29b-a709-40f1-8199-12c1877714f8",
   "metadata": {},
   "source": [
    "### Indexing, Slicing, and Matrix\n",
    "The result of indexing a list is whatever type of object lives at the offset you specify, while slicing a list always returns a new list:"
   ]
  },
  {
   "cell_type": "code",
   "execution_count": 16,
   "id": "97e9ab54-9149-40ad-8151-12340ec9a06d",
   "metadata": {},
   "outputs": [
    {
     "data": {
      "text/plain": [
       "'SPAM!'"
      ]
     },
     "execution_count": 16,
     "metadata": {},
     "output_type": "execute_result"
    }
   ],
   "source": [
    "L = ['spam', 'Spam', 'SPAM!']\n",
    "L[2]"
   ]
  },
  {
   "cell_type": "code",
   "execution_count": 17,
   "id": "55b80cb0-f1fc-4d6f-8ce1-dc2e810760b5",
   "metadata": {},
   "outputs": [],
   "source": [
    "L:[-2]"
   ]
  },
  {
   "cell_type": "code",
   "execution_count": 18,
   "id": "0d2cc280-2547-4126-8364-b5992c313c65",
   "metadata": {},
   "outputs": [
    {
     "data": {
      "text/plain": [
       "['Spam', 'SPAM!']"
      ]
     },
     "execution_count": 18,
     "metadata": {},
     "output_type": "execute_result"
    }
   ],
   "source": [
    "L[1:]"
   ]
  },
  {
   "cell_type": "markdown",
   "id": "16d9a98a-3072-4500-a3db-57c15c6d454a",
   "metadata": {},
   "source": [
    "BEcause you can nest lists and other object types within list, you will sometiems need to string together index operation to go deeper into a data structure."
   ]
  },
  {
   "cell_type": "code",
   "execution_count": 21,
   "id": "c58656db-d25c-4322-8d1b-dbb195952c2d",
   "metadata": {},
   "outputs": [
    {
     "data": {
      "text/plain": [
       "[4, 5, 6]"
      ]
     },
     "execution_count": 21,
     "metadata": {},
     "output_type": "execute_result"
    }
   ],
   "source": [
    "matrix = [[1, 2, 3], [4, 5, 6], [7, 8, 9]]\n",
    "matrix[1]"
   ]
  },
  {
   "cell_type": "code",
   "execution_count": 22,
   "id": "89f38e26-1525-4532-8e1a-0a3fd68f9b22",
   "metadata": {},
   "outputs": [
    {
     "data": {
      "text/plain": [
       "5"
      ]
     },
     "execution_count": 22,
     "metadata": {},
     "output_type": "execute_result"
    }
   ],
   "source": [
    "matrix[1][1]"
   ]
  },
  {
   "cell_type": "code",
   "execution_count": 23,
   "id": "66a54cd5-df36-48fb-ae90-b978b4321f39",
   "metadata": {},
   "outputs": [
    {
     "data": {
      "text/plain": [
       "7"
      ]
     },
     "execution_count": 23,
     "metadata": {},
     "output_type": "execute_result"
    }
   ],
   "source": [
    "matrix[2][0]"
   ]
  },
  {
   "cell_type": "code",
   "execution_count": 25,
   "id": "1c1d6cfa-5e02-407f-acee-435885dee304",
   "metadata": {},
   "outputs": [
    {
     "data": {
      "text/plain": [
       "5"
      ]
     },
     "execution_count": 25,
     "metadata": {},
     "output_type": "execute_result"
    }
   ],
   "source": [
    "matrix = [[1, 2, 3],\n",
    "          [4, 5, 6],\n",
    "          [7, 8, 9]]\n",
    "matrix[1][1]"
   ]
  },
  {
   "cell_type": "markdown",
   "id": "5138dec3-3946-4c81-aac0-9340d4b1eb9d",
   "metadata": {},
   "source": [
    "### Changing Lists in Place\n",
    "#### Index and slice assignments"
   ]
  },
  {
   "cell_type": "code",
   "execution_count": 26,
   "id": "6a19dfea-7a9e-4246-8761-c01521b7f057",
   "metadata": {},
   "outputs": [],
   "source": [
    "L = ['spam', 'Spam', 'SPAM!']"
   ]
  },
  {
   "cell_type": "code",
   "execution_count": 28,
   "id": "b5ca5372-58f1-4ab0-b027-8c76f2ce381b",
   "metadata": {},
   "outputs": [
    {
     "data": {
      "text/plain": [
       "['spam', 'eggs', 'SPAM!']"
      ]
     },
     "execution_count": 28,
     "metadata": {},
     "output_type": "execute_result"
    }
   ],
   "source": [
    "L[1] = 'eggs'\n",
    "L"
   ]
  },
  {
   "cell_type": "code",
   "execution_count": 29,
   "id": "d9867cb4-d59e-48d6-937a-5ed235c8c870",
   "metadata": {},
   "outputs": [
    {
     "data": {
      "text/plain": [
       "['eat', 'more', 'SPAM!']"
      ]
     },
     "execution_count": 29,
     "metadata": {},
     "output_type": "execute_result"
    }
   ],
   "source": [
    "L[0:2] = ['eat', 'more']\n",
    "L"
   ]
  },
  {
   "cell_type": "code",
   "execution_count": 30,
   "id": "555de624-bdc2-4f88-8a44-28b5d26757d2",
   "metadata": {},
   "outputs": [
    {
     "data": {
      "text/plain": [
       "[1, 4, 5, 3]"
      ]
     },
     "execution_count": 30,
     "metadata": {},
     "output_type": "execute_result"
    }
   ],
   "source": [
    "L = [1, 2, 3]\n",
    "L[1:2] = [4, 5]\n",
    "L"
   ]
  },
  {
   "cell_type": "code",
   "execution_count": 31,
   "id": "8ce8289a-6a38-4306-a0ec-50e150bcfebf",
   "metadata": {},
   "outputs": [],
   "source": [
    "L[1:1] = [6, 7]"
   ]
  },
  {
   "cell_type": "code",
   "execution_count": 32,
   "id": "f42a6d63-2ab4-44c1-9f59-c8e7a6b480aa",
   "metadata": {},
   "outputs": [
    {
     "data": {
      "text/plain": [
       "[1, 6, 7, 4, 5, 3]"
      ]
     },
     "execution_count": 32,
     "metadata": {},
     "output_type": "execute_result"
    }
   ],
   "source": [
    "L"
   ]
  },
  {
   "cell_type": "code",
   "execution_count": 33,
   "id": "5e8cb4f0-f9c2-476c-a38e-876bae7252e2",
   "metadata": {},
   "outputs": [
    {
     "data": {
      "text/plain": [
       "[1, 7, 4, 5, 3]"
      ]
     },
     "execution_count": 33,
     "metadata": {},
     "output_type": "execute_result"
    }
   ],
   "source": [
    "L[1:2] = []\n",
    "L"
   ]
  },
  {
   "cell_type": "code",
   "execution_count": 34,
   "id": "339b689b-19e1-4383-a186-3c585a904711",
   "metadata": {},
   "outputs": [
    {
     "data": {
      "text/plain": [
       "[2, 3, 4, 1]"
      ]
     },
     "execution_count": 34,
     "metadata": {},
     "output_type": "execute_result"
    }
   ],
   "source": [
    "L = [1]\n",
    "L[:0] = [2, 3, 4]\n",
    "L"
   ]
  },
  {
   "cell_type": "code",
   "execution_count": 36,
   "id": "1f338669-340b-4768-b407-8b24eabdad70",
   "metadata": {},
   "outputs": [
    {
     "data": {
      "text/plain": [
       "[2, 3, 4, 1, 5, 6, 7, 5, 6, 7]"
      ]
     },
     "execution_count": 36,
     "metadata": {},
     "output_type": "execute_result"
    }
   ],
   "source": [
    "L[len(L):] = [5, 6, 7]\n",
    "L"
   ]
  },
  {
   "cell_type": "markdown",
   "id": "0988c49b-1fe6-4ac0-87ee-52fc430b337c",
   "metadata": {},
   "source": [
    "#### List method calls"
   ]
  },
  {
   "cell_type": "code",
   "execution_count": 37,
   "id": "1a64bb63-f465-4002-b824-58bef1651ce7",
   "metadata": {},
   "outputs": [
    {
     "data": {
      "text/plain": [
       "['eat', 'more', 'SPAM!', 'please']"
      ]
     },
     "execution_count": 37,
     "metadata": {},
     "output_type": "execute_result"
    }
   ],
   "source": [
    "L = ['eat', 'more', 'SPAM!']\n",
    "L.append('please')\n",
    "L"
   ]
  },
  {
   "cell_type": "code",
   "execution_count": 38,
   "id": "5921fd3f-4ea0-4631-8e22-19c5dea04e6d",
   "metadata": {},
   "outputs": [],
   "source": [
    "L.sort()"
   ]
  },
  {
   "cell_type": "code",
   "execution_count": 39,
   "id": "0bf2df3c-48bf-49da-84b9-7611d4a5062a",
   "metadata": {},
   "outputs": [
    {
     "data": {
      "text/plain": [
       "['SPAM!', 'eat', 'more', 'please']"
      ]
     },
     "execution_count": 39,
     "metadata": {},
     "output_type": "execute_result"
    }
   ],
   "source": [
    "L"
   ]
  },
  {
   "cell_type": "markdown",
   "id": "f4fb5b25-2aad-4007-a142-a480bf238f20",
   "metadata": {},
   "source": [
    "### More on sorting lists"
   ]
  },
  {
   "cell_type": "code",
   "execution_count": 40,
   "id": "3a2d8fe1-3324-40fe-8d5a-963545269095",
   "metadata": {},
   "outputs": [],
   "source": [
    "L = ['abc', 'ABD', 'aBe']"
   ]
  },
  {
   "cell_type": "code",
   "execution_count": 41,
   "id": "0391bde9-098c-409d-b444-0dcdc0df21c3",
   "metadata": {},
   "outputs": [
    {
     "data": {
      "text/plain": [
       "['abc', 'ABD', 'aBe']"
      ]
     },
     "execution_count": 41,
     "metadata": {},
     "output_type": "execute_result"
    }
   ],
   "source": [
    "L.sort\n",
    "L"
   ]
  },
  {
   "cell_type": "markdown",
   "id": "b1da775e-3140-497c-b5e4-3b5936708d47",
   "metadata": {},
   "source": [
    "### Other common list methods\n",
    "- `reverse`\n",
    "- `extend1"
   ]
  },
  {
   "cell_type": "code",
   "execution_count": 2,
   "id": "db3dc5f8-df8d-47d8-8af4-9be792bcae65",
   "metadata": {},
   "outputs": [
    {
     "data": {
      "text/plain": [
       "[1, 2, 3, 4, 5]"
      ]
     },
     "execution_count": 2,
     "metadata": {},
     "output_type": "execute_result"
    }
   ],
   "source": [
    "L = [1, 2]\n",
    "L.extend([3, 4, 5])\n",
    "L"
   ]
  },
  {
   "cell_type": "code",
   "execution_count": 4,
   "id": "c7900586-b7a3-45f9-a7c2-624bc2549ab7",
   "metadata": {},
   "outputs": [
    {
     "data": {
      "text/plain": [
       "5"
      ]
     },
     "execution_count": 4,
     "metadata": {},
     "output_type": "execute_result"
    }
   ],
   "source": [
    "L.pop()"
   ]
  },
  {
   "cell_type": "code",
   "execution_count": 5,
   "id": "81064c28-bb60-432b-afd4-6e3318b7fa79",
   "metadata": {},
   "outputs": [
    {
     "data": {
      "text/plain": [
       "[1, 2, 3, 4]"
      ]
     },
     "execution_count": 5,
     "metadata": {},
     "output_type": "execute_result"
    }
   ],
   "source": [
    "L"
   ]
  },
  {
   "cell_type": "code",
   "execution_count": 6,
   "id": "79bcb296-9a18-4a5c-9a06-feb64491198e",
   "metadata": {},
   "outputs": [
    {
     "data": {
      "text/plain": [
       "[4, 3, 2, 1]"
      ]
     },
     "execution_count": 6,
     "metadata": {},
     "output_type": "execute_result"
    }
   ],
   "source": [
    "L.reverse()\n",
    "L"
   ]
  },
  {
   "cell_type": "code",
   "execution_count": 7,
   "id": "5fffba46-85d7-4cb6-a3dd-12b2f325db72",
   "metadata": {},
   "outputs": [
    {
     "data": {
      "text/plain": [
       "[1, 2, 3, 4]"
      ]
     },
     "execution_count": 7,
     "metadata": {},
     "output_type": "execute_result"
    }
   ],
   "source": [
    "list(reversed(L))"
   ]
  },
  {
   "cell_type": "markdown",
   "id": "f70e3ce0-f20d-47c1-92f9-1ffc45b30fbd",
   "metadata": {},
   "source": [
    "The `extend` method alweays iterates through and adds each item in an *iterable* object, whereas `append` simply adds a single item as is withoug iterating through it. In some types of programs, the list `pop` method is often used in conjunction with `append` to implement a quick last-in-first-out stack structure. The end of the list serves as the top of the stack:"
   ]
  },
  {
   "cell_type": "code",
   "execution_count": 8,
   "id": "c398316f-9e70-4577-987e-4defdf9c79a6",
   "metadata": {},
   "outputs": [
    {
     "data": {
      "text/plain": [
       "[1, 2]"
      ]
     },
     "execution_count": 8,
     "metadata": {},
     "output_type": "execute_result"
    }
   ],
   "source": [
    "L = []\n",
    "L.append(1)\n",
    "L.append(2)\n",
    "L"
   ]
  },
  {
   "cell_type": "code",
   "execution_count": 9,
   "id": "b4054950-e89b-4b27-85b1-4bb5639e2c30",
   "metadata": {},
   "outputs": [
    {
     "data": {
      "text/plain": [
       "2"
      ]
     },
     "execution_count": 9,
     "metadata": {},
     "output_type": "execute_result"
    }
   ],
   "source": [
    "L.pop()"
   ]
  },
  {
   "cell_type": "code",
   "execution_count": 10,
   "id": "c2c52aad-76c3-494b-bed5-93ad98548551",
   "metadata": {},
   "outputs": [
    {
     "data": {
      "text/plain": [
       "[1]"
      ]
     },
     "execution_count": 10,
     "metadata": {},
     "output_type": "execute_result"
    }
   ],
   "source": [
    "L"
   ]
  },
  {
   "cell_type": "markdown",
   "id": "aa01d881-06e6-4917-9333-9501e059a0bf",
   "metadata": {},
   "source": [
    "The `pop` mehtod also accepts an optional offset of the item to be deleted and returned.\n",
    "- `remove`\n",
    "-`insert`\n",
    "- `count`\n",
    "-`index`"
   ]
  },
  {
   "cell_type": "code",
   "execution_count": 12,
   "id": "0f0a4d09-968a-4a5a-adff-9db110c796b1",
   "metadata": {},
   "outputs": [
    {
     "data": {
      "text/plain": [
       "1"
      ]
     },
     "execution_count": 12,
     "metadata": {},
     "output_type": "execute_result"
    }
   ],
   "source": [
    "L = ['spam', 'eggs', 'ham']\n",
    "L.index('eggs')"
   ]
  },
  {
   "cell_type": "code",
   "execution_count": 14,
   "id": "8830af30-0d88-4df2-8429-33f8baa13e0c",
   "metadata": {},
   "outputs": [
    {
     "data": {
      "text/plain": [
       "['spam', 'toast', 'eggs', 'ham']"
      ]
     },
     "execution_count": 14,
     "metadata": {},
     "output_type": "execute_result"
    }
   ],
   "source": [
    "L.insert(1, 'toast')\n",
    "L"
   ]
  },
  {
   "cell_type": "code",
   "execution_count": 15,
   "id": "b2030b2b-810e-41be-8fcf-72cc106c7ef9",
   "metadata": {},
   "outputs": [
    {
     "data": {
      "text/plain": [
       "['spam', 'toast', 'ham']"
      ]
     },
     "execution_count": 15,
     "metadata": {},
     "output_type": "execute_result"
    }
   ],
   "source": [
    "L.remove('eggs')\n",
    "L"
   ]
  },
  {
   "cell_type": "code",
   "execution_count": 16,
   "id": "6340600c-64db-4dde-a679-e1040f2ff3d4",
   "metadata": {},
   "outputs": [
    {
     "data": {
      "text/plain": [
       "'toast'"
      ]
     },
     "execution_count": 16,
     "metadata": {},
     "output_type": "execute_result"
    }
   ],
   "source": [
    "L.pop(1)"
   ]
  },
  {
   "cell_type": "code",
   "execution_count": 17,
   "id": "ec48dbcc-e4c8-4f71-8c6f-0dd80f1284c4",
   "metadata": {},
   "outputs": [
    {
     "data": {
      "text/plain": [
       "['spam', 'ham']"
      ]
     },
     "execution_count": 17,
     "metadata": {},
     "output_type": "execute_result"
    }
   ],
   "source": [
    "L"
   ]
  },
  {
   "cell_type": "code",
   "execution_count": 18,
   "id": "3da5caa1-ebf2-4731-b6ee-e3dc60b995fc",
   "metadata": {},
   "outputs": [
    {
     "data": {
      "text/plain": [
       "1"
      ]
     },
     "execution_count": 18,
     "metadata": {},
     "output_type": "execute_result"
    }
   ],
   "source": [
    "L.count('spam')"
   ]
  },
  {
   "cell_type": "markdown",
   "id": "524fa22a-7dbb-46dc-869a-5444e3ea1908",
   "metadata": {},
   "source": [
    "### Other common list operations\n"
   ]
  },
  {
   "cell_type": "code",
   "execution_count": 19,
   "id": "66be88e4-b837-4738-9a5d-c971180001b6",
   "metadata": {},
   "outputs": [],
   "source": [
    "L = ['spam', 'eggs', 'ham', 'toast']"
   ]
  },
  {
   "cell_type": "code",
   "execution_count": 20,
   "id": "80d3efe3-d410-43a7-adf0-47b1c5604e18",
   "metadata": {},
   "outputs": [
    {
     "data": {
      "text/plain": [
       "['eggs', 'ham', 'toast']"
      ]
     },
     "execution_count": 20,
     "metadata": {},
     "output_type": "execute_result"
    }
   ],
   "source": [
    "del L[0]\n",
    "L"
   ]
  },
  {
   "cell_type": "code",
   "execution_count": 21,
   "id": "d556fd16-071b-426f-becf-d53dcf78b140",
   "metadata": {},
   "outputs": [],
   "source": [
    "L = ['Already', 'got', 'one']\n",
    "L[1:] = []"
   ]
  },
  {
   "cell_type": "code",
   "execution_count": 22,
   "id": "49c72191-1114-4b2b-b218-20cf8140e7ba",
   "metadata": {},
   "outputs": [
    {
     "data": {
      "text/plain": [
       "['Already']"
      ]
     },
     "execution_count": 22,
     "metadata": {},
     "output_type": "execute_result"
    }
   ],
   "source": [
    "L"
   ]
  },
  {
   "cell_type": "code",
   "execution_count": 23,
   "id": "eee7cbef-de43-4f83-bb94-f76f9708d443",
   "metadata": {},
   "outputs": [],
   "source": [
    "L[0] = []"
   ]
  },
  {
   "cell_type": "code",
   "execution_count": 24,
   "id": "e247ac56-f29f-4b6c-8630-bcbf02638b25",
   "metadata": {},
   "outputs": [
    {
     "data": {
      "text/plain": [
       "[[]]"
      ]
     },
     "execution_count": 24,
     "metadata": {},
     "output_type": "execute_result"
    }
   ],
   "source": [
    "L"
   ]
  },
  {
   "cell_type": "markdown",
   "id": "98c73b15-0df0-43cb-b2d0-c51eb29c8639",
   "metadata": {},
   "source": [
    "## Dictionaries\n",
    "Here's arun down of dictionaries properties. Python dictionaries are:\n",
    "\n",
    "*Accessed by key, not offset position*\n",
    "\n",
    "*Unordered collections of arbitrary objects*\n",
    "\n",
    "*Variable-length, heterogeneous, and arbitrarily nestable*\n",
    "\n",
    "    Each *key* can have just one associated *value*, but that value can be a *collection* of multiple objects if needed, and a given value can be stored under any number of keys.\n",
    "    \n",
    "*Of the category \"mutable mapping\"\n",
    "\n",
    "*Tables of object refernces (hash tables)*"
   ]
  },
  {
   "cell_type": "markdown",
   "id": "e72c15cb-53fb-4cfc-82c6-02aea413d6ed",
   "metadata": {},
   "source": [
    "### Dictionaries in Action\n",
    "#### BAsic Dictionary Operations"
   ]
  },
  {
   "cell_type": "code",
   "execution_count": 26,
   "id": "f56c913f-10d3-4af7-8cda-dfd8e661e609",
   "metadata": {},
   "outputs": [
    {
     "data": {
      "text/plain": [
       "2"
      ]
     },
     "execution_count": 26,
     "metadata": {},
     "output_type": "execute_result"
    }
   ],
   "source": [
    "D = {'spam': 2, 'ham': 1, 'eggs': 3}\n",
    "D['spam']"
   ]
  },
  {
   "cell_type": "code",
   "execution_count": 27,
   "id": "1abec068-3c4f-4538-b5e1-032bee1973e0",
   "metadata": {},
   "outputs": [
    {
     "data": {
      "text/plain": [
       "{'spam': 2, 'ham': 1, 'eggs': 3}"
      ]
     },
     "execution_count": 27,
     "metadata": {},
     "output_type": "execute_result"
    }
   ],
   "source": [
    "D"
   ]
  },
  {
   "cell_type": "code",
   "execution_count": 28,
   "id": "d2e4ecd8-c356-498e-b807-8bf3cde2fc9d",
   "metadata": {},
   "outputs": [
    {
     "data": {
      "text/plain": [
       "3"
      ]
     },
     "execution_count": 28,
     "metadata": {},
     "output_type": "execute_result"
    }
   ],
   "source": [
    "len(D)"
   ]
  },
  {
   "cell_type": "code",
   "execution_count": 29,
   "id": "effeb6d0-2223-4b5e-96ab-dcad23aea365",
   "metadata": {},
   "outputs": [
    {
     "data": {
      "text/plain": [
       "True"
      ]
     },
     "execution_count": 29,
     "metadata": {},
     "output_type": "execute_result"
    }
   ],
   "source": [
    "'ham' in D"
   ]
  },
  {
   "cell_type": "code",
   "execution_count": 30,
   "id": "ea82f7be-1858-4665-aafc-4b19280cf592",
   "metadata": {},
   "outputs": [
    {
     "data": {
      "text/plain": [
       "['spam', 'ham', 'eggs']"
      ]
     },
     "execution_count": 30,
     "metadata": {},
     "output_type": "execute_result"
    }
   ],
   "source": [
    "list(D.keys())"
   ]
  },
  {
   "cell_type": "code",
   "execution_count": 31,
   "id": "e71ed86f-009b-4da2-84e2-543ef574af41",
   "metadata": {},
   "outputs": [
    {
     "data": {
      "text/plain": [
       "dict_keys"
      ]
     },
     "execution_count": 31,
     "metadata": {},
     "output_type": "execute_result"
    }
   ],
   "source": [
    "type(D.keys())"
   ]
  },
  {
   "cell_type": "code",
   "execution_count": 32,
   "id": "da11fca5-ba16-47c6-9a7f-7ef87d504fe0",
   "metadata": {},
   "outputs": [
    {
     "data": {
      "text/plain": [
       "dict_keys(['spam', 'ham', 'eggs'])"
      ]
     },
     "execution_count": 32,
     "metadata": {},
     "output_type": "execute_result"
    }
   ],
   "source": [
    "D.keys()"
   ]
  },
  {
   "cell_type": "markdown",
   "id": "17198ca0-b21b-43ef-bacf-2f4f5a674fee",
   "metadata": {},
   "source": [
    "#### Changing Dictionaries in Place"
   ]
  },
  {
   "cell_type": "code",
   "execution_count": 33,
   "id": "7d733eb1-6f51-494e-a5d5-6c1bc1c68b8f",
   "metadata": {},
   "outputs": [
    {
     "data": {
      "text/plain": [
       "{'spam': 2, 'ham': 1, 'eggs': 3}"
      ]
     },
     "execution_count": 33,
     "metadata": {},
     "output_type": "execute_result"
    }
   ],
   "source": [
    "D"
   ]
  },
  {
   "cell_type": "code",
   "execution_count": 34,
   "id": "9d20c3a4-54a5-465d-a26e-146b6cc69ec6",
   "metadata": {},
   "outputs": [
    {
     "data": {
      "text/plain": [
       "{'spam': 2, 'ham': ['grill', 'bake', 'fry'], 'eggs': 3}"
      ]
     },
     "execution_count": 34,
     "metadata": {},
     "output_type": "execute_result"
    }
   ],
   "source": [
    "D['ham'] = ['grill', 'bake', 'fry']\n",
    "D"
   ]
  },
  {
   "cell_type": "code",
   "execution_count": 35,
   "id": "ecb1ea9e-917d-418a-8869-e2925ab62921",
   "metadata": {},
   "outputs": [
    {
     "data": {
      "text/plain": [
       "{'spam': 2, 'ham': ['grill', 'bake', 'fry']}"
      ]
     },
     "execution_count": 35,
     "metadata": {},
     "output_type": "execute_result"
    }
   ],
   "source": [
    "del D['eggs']\n",
    "D"
   ]
  },
  {
   "cell_type": "code",
   "execution_count": 36,
   "id": "833c9a2e-9ebd-4055-8528-253e2c0852be",
   "metadata": {},
   "outputs": [
    {
     "data": {
      "text/plain": [
       "{'spam': 2, 'ham': ['grill', 'bake', 'fry'], 'brunch': 'Bacon'}"
      ]
     },
     "execution_count": 36,
     "metadata": {},
     "output_type": "execute_result"
    }
   ],
   "source": [
    "D['brunch'] = 'Bacon'\n",
    "D"
   ]
  },
  {
   "cell_type": "markdown",
   "id": "c1457113-6215-463c-9cbf-3a3072f9d092",
   "metadata": {},
   "source": [
    "### More Dictionary Methods\n"
   ]
  },
  {
   "cell_type": "code",
   "execution_count": 37,
   "id": "6bcdbb69-f8cf-45c7-b2cc-460fa1386dee",
   "metadata": {},
   "outputs": [
    {
     "data": {
      "text/plain": [
       "[2, 1, 3]"
      ]
     },
     "execution_count": 37,
     "metadata": {},
     "output_type": "execute_result"
    }
   ],
   "source": [
    "D = {'spam': 2, 'han':1, 'eggs': 3}\n",
    "list(D.values())"
   ]
  },
  {
   "cell_type": "code",
   "execution_count": 38,
   "id": "c3d2ec8a-3344-4d36-b330-710b5a56dcd8",
   "metadata": {},
   "outputs": [
    {
     "data": {
      "text/plain": [
       "[('spam', 2), ('han', 1), ('eggs', 3)]"
      ]
     },
     "execution_count": 38,
     "metadata": {},
     "output_type": "execute_result"
    }
   ],
   "source": [
    "list(D.items())"
   ]
  },
  {
   "cell_type": "code",
   "execution_count": 39,
   "id": "863a23fd-8646-4366-b2fe-cfd073f1b156",
   "metadata": {},
   "outputs": [
    {
     "data": {
      "text/plain": [
       "2"
      ]
     },
     "execution_count": 39,
     "metadata": {},
     "output_type": "execute_result"
    }
   ],
   "source": [
    "D.get('spam')"
   ]
  },
  {
   "cell_type": "code",
   "execution_count": 40,
   "id": "f84859b0-4d08-474b-b4ae-23c64532bb80",
   "metadata": {},
   "outputs": [
    {
     "name": "stdout",
     "output_type": "stream",
     "text": [
      "None\n"
     ]
    }
   ],
   "source": [
    "print(D.get('toast'))"
   ]
  },
  {
   "cell_type": "code",
   "execution_count": 41,
   "id": "1d554ea0-eb33-43b3-81fc-62314c13d8da",
   "metadata": {},
   "outputs": [
    {
     "data": {
      "text/plain": [
       "88"
      ]
     },
     "execution_count": 41,
     "metadata": {},
     "output_type": "execute_result"
    }
   ],
   "source": [
    "D.get('toast', 88)"
   ]
  },
  {
   "cell_type": "code",
   "execution_count": 42,
   "id": "c3d25e58-d325-4162-951f-153f48f3b93a",
   "metadata": {},
   "outputs": [
    {
     "data": {
      "text/plain": [
       "{'spam': 2, 'han': 1, 'eggs': 3}"
      ]
     },
     "execution_count": 42,
     "metadata": {},
     "output_type": "execute_result"
    }
   ],
   "source": [
    "D"
   ]
  },
  {
   "cell_type": "code",
   "execution_count": 43,
   "id": "f461a7d2-3982-483c-bd60-f82c555c18ec",
   "metadata": {},
   "outputs": [
    {
     "data": {
      "text/plain": [
       "{'spam': 2, 'han': 1, 'eggs': 3, 'toast': 4, 'muffin': 5}"
      ]
     },
     "execution_count": 43,
     "metadata": {},
     "output_type": "execute_result"
    }
   ],
   "source": [
    "D2 = {'toast':4, 'muffin':5}\n",
    "D.update(D2)\n",
    "D"
   ]
  },
  {
   "cell_type": "code",
   "execution_count": 44,
   "id": "23063f5f-dafc-42d8-9e94-f2b17c91fda4",
   "metadata": {},
   "outputs": [
    {
     "data": {
      "text/plain": [
       "{'spam': 2, 'han': 1, 'eggs': 3, 'toast': 4, 'muffin': 5}"
      ]
     },
     "execution_count": 44,
     "metadata": {},
     "output_type": "execute_result"
    }
   ],
   "source": [
    "D"
   ]
  },
  {
   "cell_type": "code",
   "execution_count": 45,
   "id": "e41c6fd6-4c04-405a-8ac3-f4868f957499",
   "metadata": {},
   "outputs": [
    {
     "data": {
      "text/plain": [
       "5"
      ]
     },
     "execution_count": 45,
     "metadata": {},
     "output_type": "execute_result"
    }
   ],
   "source": [
    "D.pop('muffin')"
   ]
  },
  {
   "cell_type": "code",
   "execution_count": 47,
   "id": "c23c5e81-1eca-4010-8698-e07c51f0d844",
   "metadata": {},
   "outputs": [
    {
     "data": {
      "text/plain": [
       "4"
      ]
     },
     "execution_count": 47,
     "metadata": {},
     "output_type": "execute_result"
    }
   ],
   "source": [
    "D.pop('toast')"
   ]
  },
  {
   "cell_type": "markdown",
   "id": "d725fc82-8657-45b2-9bbf-e3c0bebe2d3d",
   "metadata": {},
   "source": [
    "### Example: Movie Database"
   ]
  },
  {
   "cell_type": "code",
   "execution_count": 51,
   "id": "7c0b2c90-743e-461a-b03a-08dff7f2d127",
   "metadata": {},
   "outputs": [],
   "source": [
    "table = {'1975': 'Holy Grail',\n",
    "        '1979': 'Life of Brian',\n",
    "        '1983': 'The Meaning of Life'}"
   ]
  },
  {
   "cell_type": "code",
   "execution_count": 52,
   "id": "3c20f057-e760-4eb8-aa05-cc066505ecf6",
   "metadata": {},
   "outputs": [
    {
     "data": {
      "text/plain": [
       "'The Meaning of Life'"
      ]
     },
     "execution_count": 52,
     "metadata": {},
     "output_type": "execute_result"
    }
   ],
   "source": [
    "year = '1983'\n",
    "movie = table[year]\n",
    "movie"
   ]
  },
  {
   "cell_type": "code",
   "execution_count": 54,
   "id": "5d791614-a236-4aa7-8af0-4cfd25641e08",
   "metadata": {},
   "outputs": [
    {
     "name": "stdout",
     "output_type": "stream",
     "text": [
      "1975\tHoly Grail\n",
      "1979\tLife of Brian\n",
      "1983\tThe Meaning of Life\n"
     ]
    }
   ],
   "source": [
    "for year in table:\n",
    "    print(year + '\\t' + table[year])"
   ]
  },
  {
   "cell_type": "markdown",
   "id": "a1cecd8b-4148-4eaf-8a1d-eee5b669733c",
   "metadata": {},
   "source": [
    "#### Preview: Mapping values to keys\n"
   ]
  },
  {
   "cell_type": "code",
   "execution_count": 56,
   "id": "c75e6e95-672b-4ffd-bbdb-463380fb95b0",
   "metadata": {},
   "outputs": [
    {
     "data": {
      "text/plain": [
       "[('1975', 'Holy Grail'),\n",
       " ('1979', 'Life of Brian'),\n",
       " ('1983', 'The Meaning of Life')]"
      ]
     },
     "execution_count": 56,
     "metadata": {},
     "output_type": "execute_result"
    }
   ],
   "source": [
    "list(table.items())"
   ]
  },
  {
   "cell_type": "code",
   "execution_count": 63,
   "id": "9db904b4-fcda-4bf5-b7c3-33fd56e220ac",
   "metadata": {},
   "outputs": [
    {
     "data": {
      "text/plain": [
       "['Holy Grail']"
      ]
     },
     "execution_count": 63,
     "metadata": {},
     "output_type": "execute_result"
    }
   ],
   "source": [
    "[title for (year,title) in table.items() if year == '1975']"
   ]
  },
  {
   "cell_type": "markdown",
   "id": "f69b102d-7993-4ac0-87c2-a75aea2223af",
   "metadata": {},
   "source": [
    "### Dictionary Usage Notes\n",
    "- Sequence operations don't work\n",
    "- Assigning to new indexes adds entries\n",
    "- Keys need not always be strings. Anty other immutable objects work just well."
   ]
  },
  {
   "cell_type": "markdown",
   "id": "3943fb45-b130-4507-9323-3b13fb8d8d59",
   "metadata": {},
   "source": [
    "#### Using dictionaries to simulate flexible lists: Integer keys"
   ]
  },
  {
   "cell_type": "code",
   "execution_count": 64,
   "id": "0e367e51-efee-41ea-85e0-2d992ecd3ce3",
   "metadata": {},
   "outputs": [
    {
     "ename": "IndexError",
     "evalue": "list assignment index out of range",
     "output_type": "error",
     "traceback": [
      "\u001b[1;31m---------------------------------------------------------------------------\u001b[0m",
      "\u001b[1;31mIndexError\u001b[0m                                Traceback (most recent call last)",
      "Input \u001b[1;32mIn [64]\u001b[0m, in \u001b[0;36m<cell line: 2>\u001b[1;34m()\u001b[0m\n\u001b[0;32m      1\u001b[0m L \u001b[38;5;241m=\u001b[39m []\n\u001b[1;32m----> 2\u001b[0m L[\u001b[38;5;241m99\u001b[39m] \u001b[38;5;241m=\u001b[39m \u001b[38;5;124m'\u001b[39m\u001b[38;5;124mspam\u001b[39m\u001b[38;5;124m'\u001b[39m\n",
      "\u001b[1;31mIndexError\u001b[0m: list assignment index out of range"
     ]
    }
   ],
   "source": [
    "L = []\n",
    "L[99] = 'spam'"
   ]
  },
  {
   "cell_type": "code",
   "execution_count": 65,
   "id": "4477f0a4-f5c6-49ed-ba83-e00764b29242",
   "metadata": {},
   "outputs": [
    {
     "data": {
      "text/plain": [
       "'spam'"
      ]
     },
     "execution_count": 65,
     "metadata": {},
     "output_type": "execute_result"
    }
   ],
   "source": [
    "D = {}\n",
    "D[99] = 'spam'\n",
    "D[99]"
   ]
  },
  {
   "cell_type": "code",
   "execution_count": 66,
   "id": "cf8596cf-7227-4d6b-afb0-88629b4681b4",
   "metadata": {},
   "outputs": [
    {
     "data": {
      "text/plain": [
       "{99: 'spam'}"
      ]
     },
     "execution_count": 66,
     "metadata": {},
     "output_type": "execute_result"
    }
   ],
   "source": [
    "D"
   ]
  },
  {
   "cell_type": "markdown",
   "id": "4266bb9a-3428-42ac-a555-3944208bcdd0",
   "metadata": {},
   "source": [
    "#### Using dictionaries for sparse data structure: Tuple keys"
   ]
  },
  {
   "cell_type": "code",
   "execution_count": 1,
   "id": "79a67a93-2878-41d6-87a1-8416caec8846",
   "metadata": {},
   "outputs": [],
   "source": [
    "Matrix = {}\n",
    "Matrix[(2, 3, 4)] = 88\n",
    "Matrix[(7, 8, 9)] = 99"
   ]
  },
  {
   "cell_type": "code",
   "execution_count": 2,
   "id": "6d6b7e81-bed8-4a41-b427-84367853d004",
   "metadata": {},
   "outputs": [
    {
     "data": {
      "text/plain": [
       "88"
      ]
     },
     "execution_count": 2,
     "metadata": {},
     "output_type": "execute_result"
    }
   ],
   "source": [
    "X= 2; Y=3; Z=4\n",
    "Matrix[(X, Y, Z)]"
   ]
  },
  {
   "cell_type": "code",
   "execution_count": 3,
   "id": "025c6eda-072d-4534-b9a6-07cceb8230e8",
   "metadata": {},
   "outputs": [
    {
     "data": {
      "text/plain": [
       "{(2, 3, 4): 88, (7, 8, 9): 99}"
      ]
     },
     "execution_count": 3,
     "metadata": {},
     "output_type": "execute_result"
    }
   ],
   "source": [
    "Matrix"
   ]
  },
  {
   "cell_type": "markdown",
   "id": "328ca28a-9fdf-45c6-8527-7be61af630db",
   "metadata": {},
   "source": [
    "#### Avoidmissing-keyerrors"
   ]
  },
  {
   "cell_type": "code",
   "execution_count": 6,
   "id": "3748b12b-b058-488a-9303-67144577efb8",
   "metadata": {},
   "outputs": [
    {
     "name": "stdout",
     "output_type": "stream",
     "text": [
      "0\n"
     ]
    }
   ],
   "source": [
    "if (2,3,6) in Matrix:\n",
    "    print(Matrix[(2, 3, 6)])\n",
    "else:\n",
    "    print(0)"
   ]
  },
  {
   "cell_type": "code",
   "execution_count": 9,
   "id": "3a5717e8-9204-44b3-aa71-aa40a864adb5",
   "metadata": {},
   "outputs": [
    {
     "name": "stdout",
     "output_type": "stream",
     "text": [
      "0\n"
     ]
    }
   ],
   "source": [
    "try:\n",
    "    print(Matrix[(2, 3, 6)])\n",
    "except KeyError:\n",
    "    print(0)"
   ]
  },
  {
   "cell_type": "code",
   "execution_count": 10,
   "id": "2a38c836-dacc-438e-9087-ca35afb4580c",
   "metadata": {},
   "outputs": [
    {
     "data": {
      "text/plain": [
       "88"
      ]
     },
     "execution_count": 10,
     "metadata": {},
     "output_type": "execute_result"
    }
   ],
   "source": [
    "Matrix.get((2, 3, 4), 0)"
   ]
  },
  {
   "cell_type": "code",
   "execution_count": 12,
   "id": "738ed93e-1235-4788-9297-c4eda2a8805d",
   "metadata": {},
   "outputs": [
    {
     "data": {
      "text/plain": [
       "0"
      ]
     },
     "execution_count": 12,
     "metadata": {},
     "output_type": "execute_result"
    }
   ],
   "source": [
    "Matrix.get((2, 3, 6),0)"
   ]
  },
  {
   "cell_type": "markdown",
   "id": "ba512063-e452-451c-85c7-1867b5d4ea4b",
   "metadata": {},
   "source": [
    "Of this, the `get` method is the most concise in terms of  oding requirements, but the `if` and`try` statements are much more general in scope."
   ]
  },
  {
   "cell_type": "markdown",
   "id": "90c4addf-5227-4c00-9704-410fc73db317",
   "metadata": {},
   "source": [
    "#### Nesting in dictionaries\n"
   ]
  },
  {
   "cell_type": "code",
   "execution_count": 14,
   "id": "c7cd9a3c-d61d-4e37-b0ed-12ae237f60e6",
   "metadata": {},
   "outputs": [
    {
     "name": "stdout",
     "output_type": "stream",
     "text": [
      "Bob\n"
     ]
    }
   ],
   "source": [
    "rec = {}\n",
    "rec['name'] = 'Bob'\n",
    "rec['age'] = 40.5\n",
    "rec['job'] = 'developer/manager'\n",
    "\n",
    "print(rec['name'])"
   ]
  },
  {
   "cell_type": "code",
   "execution_count": 16,
   "id": "be3e6514-4dd1-4666-a231-27fcc1e3db01",
   "metadata": {},
   "outputs": [],
   "source": [
    "rec = {'name': 'Bob',\n",
    "      'jobs':['developer', 'manager'],\n",
    "      'web': 'www.bobs.org/~Bob',\n",
    "      'home':{'state': 'Overworked', 'zip': 12345}}"
   ]
  },
  {
   "cell_type": "code",
   "execution_count": 17,
   "id": "1dfa13ae-2f42-4c2a-a846-3f235e8c572e",
   "metadata": {},
   "outputs": [
    {
     "data": {
      "text/plain": [
       "'Bob'"
      ]
     },
     "execution_count": 17,
     "metadata": {},
     "output_type": "execute_result"
    }
   ],
   "source": [
    "rec['name']"
   ]
  },
  {
   "cell_type": "code",
   "execution_count": 18,
   "id": "2aa5deee-2e03-42cb-850e-7ce0618de168",
   "metadata": {},
   "outputs": [
    {
     "data": {
      "text/plain": [
       "['developer', 'manager']"
      ]
     },
     "execution_count": 18,
     "metadata": {},
     "output_type": "execute_result"
    }
   ],
   "source": [
    "rec['jobs']"
   ]
  },
  {
   "cell_type": "code",
   "execution_count": 19,
   "id": "05f3fe93-29d2-4665-b9a2-e0e68afc9c2e",
   "metadata": {},
   "outputs": [
    {
     "data": {
      "text/plain": [
       "12345"
      ]
     },
     "execution_count": 19,
     "metadata": {},
     "output_type": "execute_result"
    }
   ],
   "source": [
    "rec['home']['zip']"
   ]
  },
  {
   "cell_type": "markdown",
   "id": "c31fcfe9-1b0b-4255-9fb4-bff28cb1678f",
   "metadata": {},
   "source": [
    "### Other Ways to Make Dictionaries\n",
    "\n",
    "`{'name': 'Bob', 'age':40}` *#Traditional literal expression*\n",
    "\n",
    "`D = {}` *# Assign by keys dinamically\n",
    "\n",
    "`D['name'] = 'Bob'`\n",
    "\n",
    "`D['age'] =  40`\n",
    "\n",
    "`dict(name = 'Bob', age =40)` *# dict key word argument form\n",
    "\n",
    "`dict([('name', 'Bob'), ('age', 40)])` *# dict key/value tuples form\n",
    "\n",
    "All four of these forms create the same two-key dictionary, but tyey are useful in differing circumsgtances:\n",
    "- The first is handy if you can spell out the entire dictionary ahead  of time.\n",
    "- The second is of used if you need to create the dictionay one field at a time on the fly.\n",
    "- The thrid involves less typing then the first, ite requires all keys to be strings.\n",
    "- The last is useful if you need to build up keys and values as sequences at runtim."
   ]
  },
  {
   "cell_type": "code",
   "execution_count": 20,
   "id": "5b29cef0-5076-416c-919a-f7c0ae6267f5",
   "metadata": {},
   "outputs": [
    {
     "data": {
      "text/plain": [
       "{'a': 0, 'b': 0}"
      ]
     },
     "execution_count": 20,
     "metadata": {},
     "output_type": "execute_result"
    }
   ],
   "source": [
    "dict.fromkeys(['a', 'b'], 0)"
   ]
  },
  {
   "cell_type": "markdown",
   "id": "0186d11e-d971-4c2c-bc8d-01b42efedf46",
   "metadata": {},
   "source": [
    "In practice, dictionaies tend to be best for data with labeled componets, as well as structures that can benefit from quick, direct lookups by name, instead of slower linear searches.\n",
    "As we've seen, they also may be better for sparse collections and collections that grow at arbitrary positions"
   ]
  },
  {
   "cell_type": "markdown",
   "id": "2802a993-6099-4357-a187-52dbdc53ef46",
   "metadata": {},
   "source": [
    "### Dictionary Changes in Python 3.x and 2.7\n",
    "#### Dictionary comprehensions in 3.x and 2.7"
   ]
  },
  {
   "cell_type": "code",
   "execution_count": 22,
   "id": "d62809cd-c3fd-4d5a-9a34-7e6523c6121d",
   "metadata": {},
   "outputs": [
    {
     "data": {
      "text/plain": [
       "[('a', 1), ('b', 2), ('c', 3)]"
      ]
     },
     "execution_count": 22,
     "metadata": {},
     "output_type": "execute_result"
    }
   ],
   "source": [
    "list(zip(['a', 'b', 'c'], [1, 2, 3]))"
   ]
  },
  {
   "cell_type": "code",
   "execution_count": 23,
   "id": "647fd638-21e3-4e91-b573-ef5d288c5299",
   "metadata": {},
   "outputs": [
    {
     "data": {
      "text/plain": [
       "{'a': 1, 'b': 2, 'c': 3}"
      ]
     },
     "execution_count": 23,
     "metadata": {},
     "output_type": "execute_result"
    }
   ],
   "source": [
    "dict(zip(['a', 'b', 'c'], [1, 2, 3]))"
   ]
  },
  {
   "cell_type": "code",
   "execution_count": 25,
   "id": "bdbe3767-3767-402e-ab12-bd3766defc44",
   "metadata": {},
   "outputs": [
    {
     "data": {
      "text/plain": [
       "{'a': 1, 'b': 2, 'c': 3}"
      ]
     },
     "execution_count": 25,
     "metadata": {},
     "output_type": "execute_result"
    }
   ],
   "source": [
    "D = {k :v for (k,v) in zip (['a', 'b', 'c'], [1, 2, 3])}\n",
    "D"
   ]
  },
  {
   "cell_type": "code",
   "execution_count": 27,
   "id": "9c87b8b6-5f8c-4d59-9aee-100b6593c172",
   "metadata": {},
   "outputs": [
    {
     "data": {
      "text/plain": [
       "{1: 1, 2: 4, 3: 9, 4: 16}"
      ]
     },
     "execution_count": 27,
     "metadata": {},
     "output_type": "execute_result"
    }
   ],
   "source": [
    "D = {x: x **2 for x in [1, 2, 3, 4]}\n",
    "D"
   ]
  },
  {
   "cell_type": "code",
   "execution_count": 29,
   "id": "476613f4-416d-4d67-a168-b2b7df67467e",
   "metadata": {},
   "outputs": [
    {
     "data": {
      "text/plain": [
       "{'S': 'SSSS', 'P': 'PPPP', 'A': 'AAAA', 'M': 'MMMM'}"
      ]
     },
     "execution_count": 29,
     "metadata": {},
     "output_type": "execute_result"
    }
   ],
   "source": [
    "D = {c: c*4 for c in 'SPAM'}\n",
    "D"
   ]
  },
  {
   "cell_type": "markdown",
   "id": "a162ffae-2ad6-4a0a-9cac-b95d7ff053cf",
   "metadata": {},
   "source": [
    "#### Dictionary views in 3.X"
   ]
  },
  {
   "cell_type": "code",
   "execution_count": 30,
   "id": "56eb92b8-54ca-4970-ba34-99cebfd26b00",
   "metadata": {},
   "outputs": [
    {
     "data": {
      "text/plain": [
       "{'a': 1, 'b': 2, 'c': 3}"
      ]
     },
     "execution_count": 30,
     "metadata": {},
     "output_type": "execute_result"
    }
   ],
   "source": [
    "D = dict(a = 1, b = 2, c =3)\n",
    "D"
   ]
  },
  {
   "cell_type": "code",
   "execution_count": 31,
   "id": "d5e5f75f-2229-4949-97a4-0127856a3c6a",
   "metadata": {},
   "outputs": [
    {
     "data": {
      "text/plain": [
       "dict_keys(['a', 'b', 'c'])"
      ]
     },
     "execution_count": 31,
     "metadata": {},
     "output_type": "execute_result"
    }
   ],
   "source": [
    "k = D.keys()\n",
    "k"
   ]
  },
  {
   "cell_type": "code",
   "execution_count": 32,
   "id": "1897330d-e097-40a6-bb58-d664d8341517",
   "metadata": {},
   "outputs": [
    {
     "data": {
      "text/plain": [
       "dict_values([1, 2, 3])"
      ]
     },
     "execution_count": 32,
     "metadata": {},
     "output_type": "execute_result"
    }
   ],
   "source": [
    "v = D.values()\n",
    "v"
   ]
  },
  {
   "cell_type": "code",
   "execution_count": 34,
   "id": "ced44ced-63c7-49a2-a8c0-5ac3a7bac3bf",
   "metadata": {},
   "outputs": [
    {
     "data": {
      "text/plain": [
       "(['a', 'b', 'c'], [1, 2, 3])"
      ]
     },
     "execution_count": 34,
     "metadata": {},
     "output_type": "execute_result"
    }
   ],
   "source": [
    "list(k), list(v)"
   ]
  },
  {
   "cell_type": "code",
   "execution_count": 35,
   "id": "528b4ea2-3007-42f7-8231-c37245814aac",
   "metadata": {},
   "outputs": [
    {
     "data": {
      "text/plain": [
       "dict_items([('a', 1), ('b', 2), ('c', 3)])"
      ]
     },
     "execution_count": 35,
     "metadata": {},
     "output_type": "execute_result"
    }
   ],
   "source": [
    "D.items()"
   ]
  },
  {
   "cell_type": "code",
   "execution_count": 36,
   "id": "6de805cd-8382-4639-a6df-29bce4cc727f",
   "metadata": {},
   "outputs": [
    {
     "data": {
      "text/plain": [
       "[('a', 1), ('b', 2), ('c', 3)]"
      ]
     },
     "execution_count": 36,
     "metadata": {},
     "output_type": "execute_result"
    }
   ],
   "source": [
    "list(D.items())"
   ]
  },
  {
   "cell_type": "code",
   "execution_count": 37,
   "id": "1ceb75f1-5e89-4ca0-8dc2-4c17306f2e5a",
   "metadata": {},
   "outputs": [
    {
     "ename": "TypeError",
     "evalue": "'dict_keys' object is not subscriptable",
     "output_type": "error",
     "traceback": [
      "\u001b[1;31m---------------------------------------------------------------------------\u001b[0m",
      "\u001b[1;31mTypeError\u001b[0m                                 Traceback (most recent call last)",
      "Input \u001b[1;32mIn [37]\u001b[0m, in \u001b[0;36m<cell line: 1>\u001b[1;34m()\u001b[0m\n\u001b[1;32m----> 1\u001b[0m \u001b[43mk\u001b[49m\u001b[43m[\u001b[49m\u001b[38;5;241;43m0\u001b[39;49m\u001b[43m]\u001b[49m\n",
      "\u001b[1;31mTypeError\u001b[0m: 'dict_keys' object is not subscriptable"
     ]
    }
   ],
   "source": [
    "k[0]"
   ]
  },
  {
   "cell_type": "code",
   "execution_count": 38,
   "id": "45c0c9ea-ac3e-407d-a478-a31c68672328",
   "metadata": {},
   "outputs": [
    {
     "data": {
      "text/plain": [
       "'a'"
      ]
     },
     "execution_count": 38,
     "metadata": {},
     "output_type": "execute_result"
    }
   ],
   "source": [
    "list(k)[0]"
   ]
  },
  {
   "cell_type": "code",
   "execution_count": 41,
   "id": "3f884f67-92aa-4cc2-bd99-0e84499d1096",
   "metadata": {},
   "outputs": [
    {
     "name": "stdout",
     "output_type": "stream",
     "text": [
      "a\n",
      "b\n",
      "c\n"
     ]
    }
   ],
   "source": [
    "for k in D.keys(): print(k) # not needed because below"
   ]
  },
  {
   "cell_type": "code",
   "execution_count": 42,
   "id": "c0596c8b-42cb-432c-ab2b-d3d4903a09e5",
   "metadata": {},
   "outputs": [
    {
     "name": "stdout",
     "output_type": "stream",
     "text": [
      "a\n",
      "b\n",
      "c\n"
     ]
    }
   ],
   "source": [
    "for key in D: print(key)"
   ]
  },
  {
   "cell_type": "code",
   "execution_count": 43,
   "id": "3dd5e855-c6a6-4a77-a5e1-406a92287948",
   "metadata": {},
   "outputs": [
    {
     "name": "stdout",
     "output_type": "stream",
     "text": [
      "1\n",
      "2\n",
      "3\n"
     ]
    }
   ],
   "source": [
    "for key in D: print(D[key])"
   ]
  },
  {
   "cell_type": "markdown",
   "id": "140a139b-6c53-4ce2-a7b2-9c803c01f180",
   "metadata": {},
   "source": [
    "#### Dictionary views and sets\n",
    "3.X's view objects returned by the `keys` method are *set-like` and support common set operations such as intersectio nand union; `values` views are not set-like, but`items` results are if their *(key, value) pairs are unique and hashable (immutable)."
   ]
  },
  {
   "cell_type": "code",
   "execution_count": 44,
   "id": "a17c5236-c2b8-49d9-86c0-fe98eacdccbb",
   "metadata": {},
   "outputs": [
    {
     "data": {
      "text/plain": [
       "('c', dict_values([1, 2, 3]))"
      ]
     },
     "execution_count": 44,
     "metadata": {},
     "output_type": "execute_result"
    }
   ],
   "source": [
    "k, v"
   ]
  },
  {
   "cell_type": "markdown",
   "id": "fadc6ec2-eae6-4763-981d-8c5e801002d0",
   "metadata": {},
   "source": [
    "#### Sorting dictionary keys in 3.X"
   ]
  },
  {
   "cell_type": "code",
   "execution_count": 45,
   "id": "46a86948-8c30-4126-b38b-e13549308cca",
   "metadata": {},
   "outputs": [
    {
     "data": {
      "text/plain": [
       "{'a': 1, 'b': 2, 'c': 3}"
      ]
     },
     "execution_count": 45,
     "metadata": {},
     "output_type": "execute_result"
    }
   ],
   "source": [
    "D = {'a': 1, 'b': 2, 'c':3}\n",
    "D"
   ]
  },
  {
   "cell_type": "code",
   "execution_count": 46,
   "id": "5a62a06b-7a9a-4323-8794-9ef3c87535f3",
   "metadata": {},
   "outputs": [],
   "source": [
    "Ks = D.keys()"
   ]
  },
  {
   "cell_type": "code",
   "execution_count": 47,
   "id": "92cd274c-ee6c-4aff-8d13-6ae437839e4e",
   "metadata": {},
   "outputs": [
    {
     "ename": "AttributeError",
     "evalue": "'dict_keys' object has no attribute 'sort'",
     "output_type": "error",
     "traceback": [
      "\u001b[1;31m---------------------------------------------------------------------------\u001b[0m",
      "\u001b[1;31mAttributeError\u001b[0m                            Traceback (most recent call last)",
      "Input \u001b[1;32mIn [47]\u001b[0m, in \u001b[0;36m<cell line: 1>\u001b[1;34m()\u001b[0m\n\u001b[1;32m----> 1\u001b[0m \u001b[43mKs\u001b[49m\u001b[38;5;241;43m.\u001b[39;49m\u001b[43msort\u001b[49m()\n",
      "\u001b[1;31mAttributeError\u001b[0m: 'dict_keys' object has no attribute 'sort'"
     ]
    }
   ],
   "source": [
    "Ks.sort()"
   ]
  },
  {
   "cell_type": "code",
   "execution_count": 48,
   "id": "0fccd0b5-95d3-4cbb-b95c-65253fbcaa39",
   "metadata": {},
   "outputs": [
    {
     "name": "stdout",
     "output_type": "stream",
     "text": [
      "a 1\n",
      "b 2\n",
      "c 3\n"
     ]
    }
   ],
   "source": [
    "Ks = list(Ks)\n",
    "Ks.sort()\n",
    "for k in Ks: print(k, D[k])"
   ]
  },
  {
   "cell_type": "code",
   "execution_count": 49,
   "id": "6bc32acd-f296-4911-ba16-c6e1a2cf3b26",
   "metadata": {},
   "outputs": [
    {
     "data": {
      "text/plain": [
       "{'a': 1, 'b': 2, 'c': 3}"
      ]
     },
     "execution_count": 49,
     "metadata": {},
     "output_type": "execute_result"
    }
   ],
   "source": [
    "D"
   ]
  },
  {
   "cell_type": "code",
   "execution_count": 51,
   "id": "41d4e0a5-6ca5-4842-9bbc-9bd57ea22682",
   "metadata": {},
   "outputs": [
    {
     "name": "stdout",
     "output_type": "stream",
     "text": [
      "a 1\n",
      "b 2\n",
      "c 3\n"
     ]
    }
   ],
   "source": [
    "Ks = D.keys()\n",
    "for k in sorted(Ks): print(k, D[k])"
   ]
  },
  {
   "cell_type": "markdown",
   "id": "bb65c63c-d3b1-4afa-8337-142f5b446d2e",
   "metadata": {},
   "source": [
    "#### ictionary magnitude comparisons no loger work in 3.X\n",
    "\n",
    "#### The has-key method is dead in 3.X: Long live in!"
   ]
  }
 ],
 "metadata": {
  "kernelspec": {
   "display_name": "Python 3 (ipykernel)",
   "language": "python",
   "name": "python3"
  },
  "language_info": {
   "codemirror_mode": {
    "name": "ipython",
    "version": 3
   },
   "file_extension": ".py",
   "mimetype": "text/x-python",
   "name": "python",
   "nbconvert_exporter": "python",
   "pygments_lexer": "ipython3",
   "version": "3.9.12"
  }
 },
 "nbformat": 4,
 "nbformat_minor": 5
}
