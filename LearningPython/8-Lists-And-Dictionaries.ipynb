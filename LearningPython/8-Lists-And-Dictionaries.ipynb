{
 "cells": [
  {
   "cell_type": "markdown",
   "id": "a0033bd2-7338-4f3d-89e5-1c7a59936647",
   "metadata": {},
   "source": [
    "# Chapter 8 List and Dictionarie\n",
    "## Lists\n",
    "Python's most flexible ordered collection object types.\n",
    "List can contain any sort of object, may be changed in place by assignment to offsets and slices, list method calls, deletion statements, and more --- they are *mutable* objects.\n",
    "\n",
    "Python lists are:\n",
    "\n",
    "*Ordered collections of arbitrary objects*\n",
    "\n",
    "*Accessd by offset*\n",
    "\n",
    "*Variable-length, heterogeneous, and arbitrarily nestable*\n",
    "\n",
    "*Of the category \"mutable sequence\"*\n",
    "\n",
    "*Array of object refernce*\n",
    "\n",
    "## List in Action\n",
    "### Basic List Operations"
   ]
  },
  {
   "cell_type": "code",
   "execution_count": 1,
   "id": "2f56bde3-12ad-4591-8531-9eab930e3796",
   "metadata": {},
   "outputs": [
    {
     "data": {
      "text/plain": [
       "4"
      ]
     },
     "execution_count": 1,
     "metadata": {},
     "output_type": "execute_result"
    }
   ],
   "source": [
    "len ([1, 2, 3, 4])"
   ]
  },
  {
   "cell_type": "code",
   "execution_count": 2,
   "id": "be353d9e-82cf-4c3f-b5fe-ff362fc8947b",
   "metadata": {},
   "outputs": [
    {
     "data": {
      "text/plain": [
       "[1, 2, 3, 4, 5, 6]"
      ]
     },
     "execution_count": 2,
     "metadata": {},
     "output_type": "execute_result"
    }
   ],
   "source": [
    "[1, 2, 3] + [4, 5, 6]"
   ]
  },
  {
   "cell_type": "code",
   "execution_count": 3,
   "id": "05de5dfc-2a50-462d-844e-a587aabf233f",
   "metadata": {},
   "outputs": [
    {
     "data": {
      "text/plain": [
       "['Ni!', 'Ni!', 'Ni!', 'Ni!']"
      ]
     },
     "execution_count": 3,
     "metadata": {},
     "output_type": "execute_result"
    }
   ],
   "source": [
    "['Ni!'] * 4"
   ]
  },
  {
   "cell_type": "code",
   "execution_count": 4,
   "id": "37a0540e-581b-47c6-bf2d-177f28cd9758",
   "metadata": {},
   "outputs": [
    {
     "data": {
      "text/plain": [
       "'[1, 2]34'"
      ]
     },
     "execution_count": 4,
     "metadata": {},
     "output_type": "execute_result"
    }
   ],
   "source": [
    "str([1, 2]) + \"34\""
   ]
  },
  {
   "cell_type": "code",
   "execution_count": 5,
   "id": "554373d9-185c-4a75-9b45-b450bee5634e",
   "metadata": {},
   "outputs": [
    {
     "data": {
      "text/plain": [
       "[1, 2, '3', '4']"
      ]
     },
     "execution_count": 5,
     "metadata": {},
     "output_type": "execute_result"
    }
   ],
   "source": [
    "[1, 2] + list(\"34\")"
   ]
  },
  {
   "cell_type": "code",
   "execution_count": 7,
   "id": "a25ea82a-a71d-4126-976f-f7072394a468",
   "metadata": {},
   "outputs": [
    {
     "data": {
      "text/plain": [
       "[1, 2, '34']"
      ]
     },
     "execution_count": 7,
     "metadata": {},
     "output_type": "execute_result"
    }
   ],
   "source": [
    "[1,2] + [\"34\"]"
   ]
  },
  {
   "cell_type": "markdown",
   "id": "4cdc3734-c667-47f8-9fd8-1ed7fefeac91",
   "metadata": {},
   "source": [
    "### List Iteration and Comprehensions"
   ]
  },
  {
   "cell_type": "code",
   "execution_count": 8,
   "id": "b903a3a1-4744-489b-8d2a-da78543e1ead",
   "metadata": {},
   "outputs": [
    {
     "data": {
      "text/plain": [
       "True"
      ]
     },
     "execution_count": 8,
     "metadata": {},
     "output_type": "execute_result"
    }
   ],
   "source": [
    "3 in [1, 2, 3, 4]"
   ]
  },
  {
   "cell_type": "code",
   "execution_count": 9,
   "id": "612eb595-526f-4bd4-bf84-1d48572d7620",
   "metadata": {},
   "outputs": [
    {
     "name": "stdout",
     "output_type": "stream",
     "text": [
      "1 2 3 "
     ]
    }
   ],
   "source": [
    "for x in [1, 2, 3]:\n",
    "    print(x, end = ' ')"
   ]
  },
  {
   "cell_type": "code",
   "execution_count": 10,
   "id": "46a77e15-89cb-494e-94ec-57b1ce82896b",
   "metadata": {},
   "outputs": [],
   "source": [
    "res = [c *4 for c in 'SPAM'] "
   ]
  },
  {
   "cell_type": "code",
   "execution_count": 11,
   "id": "1da00cf8-5878-4564-b1d9-6a04bd6013af",
   "metadata": {},
   "outputs": [
    {
     "data": {
      "text/plain": [
       "['SSSS', 'PPPP', 'AAAA', 'MMMM']"
      ]
     },
     "execution_count": 11,
     "metadata": {},
     "output_type": "execute_result"
    }
   ],
   "source": [
    "res"
   ]
  },
  {
   "cell_type": "code",
   "execution_count": 13,
   "id": "c280fcb2-4076-413e-8cb0-ae6166f88e93",
   "metadata": {},
   "outputs": [
    {
     "data": {
      "text/plain": [
       "['SSSS', 'PPPP', 'AAAA', 'MMMM']"
      ]
     },
     "execution_count": 13,
     "metadata": {},
     "output_type": "execute_result"
    }
   ],
   "source": [
    "res = []\n",
    "for c in 'SPAM':\n",
    "    res.append( c* 4)\n",
    "    \n",
    "res"
   ]
  },
  {
   "cell_type": "code",
   "execution_count": 14,
   "id": "8d594ae6-163a-4f91-be47-175aced8fb33",
   "metadata": {},
   "outputs": [
    {
     "data": {
      "text/plain": [
       "[1, 2, 0, 1, 2]"
      ]
     },
     "execution_count": 14,
     "metadata": {},
     "output_type": "execute_result"
    }
   ],
   "source": [
    "list(map(abs, [-1, -2, 0, 1, 2]))"
   ]
  },
  {
   "cell_type": "markdown",
   "id": "a5c13aa2-78d6-42f8-bf91-8d163ab9ffe6",
   "metadata": {},
   "source": []
  },
  {
   "cell_type": "markdown",
   "id": "537eb29b-a709-40f1-8199-12c1877714f8",
   "metadata": {},
   "source": [
    "### Indexing, Slicing, and Matrix\n",
    "The result of indexing a list is whatever type of object lives at the offset you specify, while slicing a list always returns a new list:"
   ]
  },
  {
   "cell_type": "code",
   "execution_count": 16,
   "id": "97e9ab54-9149-40ad-8151-12340ec9a06d",
   "metadata": {},
   "outputs": [
    {
     "data": {
      "text/plain": [
       "'SPAM!'"
      ]
     },
     "execution_count": 16,
     "metadata": {},
     "output_type": "execute_result"
    }
   ],
   "source": [
    "L = ['spam', 'Spam', 'SPAM!']\n",
    "L[2]"
   ]
  },
  {
   "cell_type": "code",
   "execution_count": 17,
   "id": "55b80cb0-f1fc-4d6f-8ce1-dc2e810760b5",
   "metadata": {},
   "outputs": [],
   "source": [
    "L:[-2]"
   ]
  },
  {
   "cell_type": "code",
   "execution_count": 18,
   "id": "0d2cc280-2547-4126-8364-b5992c313c65",
   "metadata": {},
   "outputs": [
    {
     "data": {
      "text/plain": [
       "['Spam', 'SPAM!']"
      ]
     },
     "execution_count": 18,
     "metadata": {},
     "output_type": "execute_result"
    }
   ],
   "source": [
    "L[1:]"
   ]
  },
  {
   "cell_type": "markdown",
   "id": "16d9a98a-3072-4500-a3db-57c15c6d454a",
   "metadata": {},
   "source": [
    "BEcause you can nest lists and other object types within list, you will sometiems need to string together index operation to go deeper into a data structure."
   ]
  },
  {
   "cell_type": "code",
   "execution_count": 21,
   "id": "c58656db-d25c-4322-8d1b-dbb195952c2d",
   "metadata": {},
   "outputs": [
    {
     "data": {
      "text/plain": [
       "[4, 5, 6]"
      ]
     },
     "execution_count": 21,
     "metadata": {},
     "output_type": "execute_result"
    }
   ],
   "source": [
    "matrix = [[1, 2, 3], [4, 5, 6], [7, 8, 9]]\n",
    "matrix[1]"
   ]
  },
  {
   "cell_type": "code",
   "execution_count": 22,
   "id": "89f38e26-1525-4532-8e1a-0a3fd68f9b22",
   "metadata": {},
   "outputs": [
    {
     "data": {
      "text/plain": [
       "5"
      ]
     },
     "execution_count": 22,
     "metadata": {},
     "output_type": "execute_result"
    }
   ],
   "source": [
    "matrix[1][1]"
   ]
  },
  {
   "cell_type": "code",
   "execution_count": 23,
   "id": "66a54cd5-df36-48fb-ae90-b978b4321f39",
   "metadata": {},
   "outputs": [
    {
     "data": {
      "text/plain": [
       "7"
      ]
     },
     "execution_count": 23,
     "metadata": {},
     "output_type": "execute_result"
    }
   ],
   "source": [
    "matrix[2][0]"
   ]
  },
  {
   "cell_type": "code",
   "execution_count": 25,
   "id": "1c1d6cfa-5e02-407f-acee-435885dee304",
   "metadata": {},
   "outputs": [
    {
     "data": {
      "text/plain": [
       "5"
      ]
     },
     "execution_count": 25,
     "metadata": {},
     "output_type": "execute_result"
    }
   ],
   "source": [
    "matrix = [[1, 2, 3],\n",
    "          [4, 5, 6],\n",
    "          [7, 8, 9]]\n",
    "matrix[1][1]"
   ]
  },
  {
   "cell_type": "markdown",
   "id": "5138dec3-3946-4c81-aac0-9340d4b1eb9d",
   "metadata": {},
   "source": [
    "### Changing Lists in Place\n",
    "#### Index and slice assignments"
   ]
  },
  {
   "cell_type": "code",
   "execution_count": 26,
   "id": "6a19dfea-7a9e-4246-8761-c01521b7f057",
   "metadata": {},
   "outputs": [],
   "source": [
    "L = ['spam', 'Spam', 'SPAM!']"
   ]
  },
  {
   "cell_type": "code",
   "execution_count": 28,
   "id": "b5ca5372-58f1-4ab0-b027-8c76f2ce381b",
   "metadata": {},
   "outputs": [
    {
     "data": {
      "text/plain": [
       "['spam', 'eggs', 'SPAM!']"
      ]
     },
     "execution_count": 28,
     "metadata": {},
     "output_type": "execute_result"
    }
   ],
   "source": [
    "L[1] = 'eggs'\n",
    "L"
   ]
  },
  {
   "cell_type": "code",
   "execution_count": 29,
   "id": "d9867cb4-d59e-48d6-937a-5ed235c8c870",
   "metadata": {},
   "outputs": [
    {
     "data": {
      "text/plain": [
       "['eat', 'more', 'SPAM!']"
      ]
     },
     "execution_count": 29,
     "metadata": {},
     "output_type": "execute_result"
    }
   ],
   "source": [
    "L[0:2] = ['eat', 'more']\n",
    "L"
   ]
  },
  {
   "cell_type": "code",
   "execution_count": 30,
   "id": "555de624-bdc2-4f88-8a44-28b5d26757d2",
   "metadata": {},
   "outputs": [
    {
     "data": {
      "text/plain": [
       "[1, 4, 5, 3]"
      ]
     },
     "execution_count": 30,
     "metadata": {},
     "output_type": "execute_result"
    }
   ],
   "source": [
    "L = [1, 2, 3]\n",
    "L[1:2] = [4, 5]\n",
    "L"
   ]
  },
  {
   "cell_type": "code",
   "execution_count": 31,
   "id": "8ce8289a-6a38-4306-a0ec-50e150bcfebf",
   "metadata": {},
   "outputs": [],
   "source": [
    "L[1:1] = [6, 7]"
   ]
  },
  {
   "cell_type": "code",
   "execution_count": 32,
   "id": "f42a6d63-2ab4-44c1-9f59-c8e7a6b480aa",
   "metadata": {},
   "outputs": [
    {
     "data": {
      "text/plain": [
       "[1, 6, 7, 4, 5, 3]"
      ]
     },
     "execution_count": 32,
     "metadata": {},
     "output_type": "execute_result"
    }
   ],
   "source": [
    "L"
   ]
  },
  {
   "cell_type": "code",
   "execution_count": 33,
   "id": "5e8cb4f0-f9c2-476c-a38e-876bae7252e2",
   "metadata": {},
   "outputs": [
    {
     "data": {
      "text/plain": [
       "[1, 7, 4, 5, 3]"
      ]
     },
     "execution_count": 33,
     "metadata": {},
     "output_type": "execute_result"
    }
   ],
   "source": [
    "L[1:2] = []\n",
    "L"
   ]
  },
  {
   "cell_type": "code",
   "execution_count": 34,
   "id": "339b689b-19e1-4383-a186-3c585a904711",
   "metadata": {},
   "outputs": [
    {
     "data": {
      "text/plain": [
       "[2, 3, 4, 1]"
      ]
     },
     "execution_count": 34,
     "metadata": {},
     "output_type": "execute_result"
    }
   ],
   "source": [
    "L = [1]\n",
    "L[:0] = [2, 3, 4]\n",
    "L"
   ]
  },
  {
   "cell_type": "code",
   "execution_count": 36,
   "id": "1f338669-340b-4768-b407-8b24eabdad70",
   "metadata": {},
   "outputs": [
    {
     "data": {
      "text/plain": [
       "[2, 3, 4, 1, 5, 6, 7, 5, 6, 7]"
      ]
     },
     "execution_count": 36,
     "metadata": {},
     "output_type": "execute_result"
    }
   ],
   "source": [
    "L[len(L):] = [5, 6, 7]\n",
    "L"
   ]
  },
  {
   "cell_type": "markdown",
   "id": "0988c49b-1fe6-4ac0-87ee-52fc430b337c",
   "metadata": {},
   "source": [
    "#### List method calls"
   ]
  },
  {
   "cell_type": "code",
   "execution_count": 37,
   "id": "1a64bb63-f465-4002-b824-58bef1651ce7",
   "metadata": {},
   "outputs": [
    {
     "data": {
      "text/plain": [
       "['eat', 'more', 'SPAM!', 'please']"
      ]
     },
     "execution_count": 37,
     "metadata": {},
     "output_type": "execute_result"
    }
   ],
   "source": [
    "L = ['eat', 'more', 'SPAM!']\n",
    "L.append('please')\n",
    "L"
   ]
  },
  {
   "cell_type": "code",
   "execution_count": 38,
   "id": "5921fd3f-4ea0-4631-8e22-19c5dea04e6d",
   "metadata": {},
   "outputs": [],
   "source": [
    "L.sort()"
   ]
  },
  {
   "cell_type": "code",
   "execution_count": 39,
   "id": "0bf2df3c-48bf-49da-84b9-7611d4a5062a",
   "metadata": {},
   "outputs": [
    {
     "data": {
      "text/plain": [
       "['SPAM!', 'eat', 'more', 'please']"
      ]
     },
     "execution_count": 39,
     "metadata": {},
     "output_type": "execute_result"
    }
   ],
   "source": [
    "L"
   ]
  },
  {
   "cell_type": "markdown",
   "id": "f4fb5b25-2aad-4007-a142-a480bf238f20",
   "metadata": {},
   "source": [
    "### More on sorting lists"
   ]
  },
  {
   "cell_type": "code",
   "execution_count": 40,
   "id": "3a2d8fe1-3324-40fe-8d5a-963545269095",
   "metadata": {},
   "outputs": [],
   "source": [
    "L = ['abc', 'ABD', 'aBe']"
   ]
  },
  {
   "cell_type": "code",
   "execution_count": 41,
   "id": "0391bde9-098c-409d-b444-0dcdc0df21c3",
   "metadata": {},
   "outputs": [
    {
     "data": {
      "text/plain": [
       "['abc', 'ABD', 'aBe']"
      ]
     },
     "execution_count": 41,
     "metadata": {},
     "output_type": "execute_result"
    }
   ],
   "source": [
    "L.sort\n",
    "L"
   ]
  },
  {
   "cell_type": "code",
   "execution_count": null,
   "id": "33679698-1860-4a75-b72c-ac306e3ad123",
   "metadata": {},
   "outputs": [],
   "source": []
  }
 ],
 "metadata": {
  "kernelspec": {
   "display_name": "Python 3 (ipykernel)",
   "language": "python",
   "name": "python3"
  },
  "language_info": {
   "codemirror_mode": {
    "name": "ipython",
    "version": 3
   },
   "file_extension": ".py",
   "mimetype": "text/x-python",
   "name": "python",
   "nbconvert_exporter": "python",
   "pygments_lexer": "ipython3",
   "version": "3.9.12"
  }
 },
 "nbformat": 4,
 "nbformat_minor": 5
}
