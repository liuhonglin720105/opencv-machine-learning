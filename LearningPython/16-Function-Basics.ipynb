{
 "cells": [
  {
   "cell_type": "markdown",
   "id": "e04f156e-f6a9-4150-ba3d-acf1a4c07e87",
   "metadata": {},
   "source": [
    "# Chapter 16  Function Basics\n",
    "In simple terms, a *function* is a device that groups a set of statements so they can be run more than once i na program---a packaged procedure invoked by name.\n",
    "Functions also can compute a result value and let us specify parameters that serve as function inputs and may differ each tiem the code is run.\n",
    "\n",
    "a set that includes call expressions, two ways to make functions (`def` and `lambda`), two ways to manage scope visibility (`global` and `nonlocal`), and two ways to send results back to callers (`return` and `yield`)."
   ]
  },
  {
   "cell_type": "markdown",
   "id": "6534a520-73ab-4046-8fd2-58ade6123351",
   "metadata": {},
   "source": [
    "Table 16-1. Function-related statements and expressions\n",
    "\n",
    "|Statement of erxpression|Example|\n",
    "|---|---|\n",
    "|Call expression|`myfunc('spam', 'egge', meat=ham, *rest)`|\n",
    "|def| `def print(messate):`|\n",
    "||    `    print('Hello' + message)`|\n",
    "|return| `def adder (a. b =1, *c):`|\n",
    "||    `    return a + b +c[0]`|\n",
    "|global| `x = 'old'`|\n",
    "||`def changer():`|\\\n",
    "||`    global x; x = 'new'`|\n",
    "|nonlocal|`def outer():`|\n",
    "||`    x = 'old'` |\n",
    "||`    def changer():`|\n",
    "||`        nonlocal x; x = 'new'`|\n",
    "|yiels| `def square(x):`|\n",
    "||`    for i in range(x): yield i**2`|\n",
    "|lamda|`funcs = [lambda x: x**2, lambdax: x**3`|"
   ]
  },
  {
   "cell_type": "markdown",
   "id": "465e56f7-9c99-4c2e-991e-4e4a5f4ae9fc",
   "metadata": {},
   "source": [
    "## Why use functions\n",
    "- Maximizing code reuse and minimizing redundancy\n",
    "- Procedural decomposition\n",
    "## Coding functions\n",
    "- `def` is executable code.\n",
    "- `def` create an object and assigns it to a name.\n",
    "- `lambda` creates an object but returns it as a result\n",
    "- `return` sens a rsult object back to the callser\n",
    "- `yield` sends a result object back to the caller, but remember where it left off\n",
    "- `global` declares module-level variables tahatg are to be assigned\n",
    "- `nonlocal` declares enclosing functio nvariables taht are to be asigned\n",
    "- Argument are passed by assignment (object reference)\n",
    "- Argument are pased by position, unless you say otherwise\n",
    "- Arguments, return values, and variables are not declared.\n",
    "\n",
    "## `def` statements\n",
    "The `def1 statement creates a function object and assigns it to a name. General form:\n"
   ]
  },
  {
   "cell_type": "markdown",
   "id": "ae57eb8c-0bed-464e-be57-0481dffa49e6",
   "metadata": {},
   "source": [
    "def name(arg1, argw, ...argN):\n",
    "    statements\n"
   ]
  },
  {
   "cell_type": "markdown",
   "id": "845bbf0c-1fce-4735-8410-c602d144b62f",
   "metadata": {},
   "source": [
    "Function bodies often contai a `return` statement,\n",
    "\n",
    "### `def` Executes at Run time\n",
    "When it runs, it creates a new function object and asigns it to a name."
   ]
  },
  {
   "cell_type": "markdown",
   "id": "a8d02d16-1389-42ae-9a1a-f47ed79c3850",
   "metadata": {},
   "source": [
    "if test:\n",
    "    def func():\n",
    "        ...\n",
    "    else:\n",
    "        def func():\n",
    "            ...\n",
    "    ...\n",
    "    func"
   ]
  },
  {
   "cell_type": "markdown",
   "id": "60470f90-24c7-4bac-b998-d768c2edf617",
   "metadata": {},
   "source": [
    "## A first Example: Definitions and Calls\n",
    "### Definition"
   ]
  },
  {
   "cell_type": "code",
   "execution_count": 3,
   "id": "2b7013d7-dd16-4108-a1e6-5fbe5c9b7286",
   "metadata": {},
   "outputs": [],
   "source": [
    "def times(x, y):\n",
    "    return x * y"
   ]
  },
  {
   "cell_type": "markdown",
   "id": "955d3404-e038-4825-a9c9-12fe513ed966",
   "metadata": {},
   "source": [
    "### Calls"
   ]
  },
  {
   "cell_type": "code",
   "execution_count": 5,
   "id": "d01de8ea-e343-47be-b4d7-85ddbd0e45b2",
   "metadata": {},
   "outputs": [
    {
     "data": {
      "text/plain": [
       "8"
      ]
     },
     "execution_count": 5,
     "metadata": {},
     "output_type": "execute_result"
    }
   ],
   "source": [
    "times(2, 4)"
   ]
  },
  {
   "cell_type": "code",
   "execution_count": 6,
   "id": "dc12d903-39b9-483a-8bba-b79cc16c3f37",
   "metadata": {},
   "outputs": [
    {
     "data": {
      "text/plain": [
       "12.56"
      ]
     },
     "execution_count": 6,
     "metadata": {},
     "output_type": "execute_result"
    }
   ],
   "source": [
    "x = times(3.14, 4)\n",
    "x"
   ]
  },
  {
   "cell_type": "code",
   "execution_count": 8,
   "id": "10fddc36-7788-4517-bb93-5cf322f14a3e",
   "metadata": {},
   "outputs": [
    {
     "data": {
      "text/plain": [
       "'NiNiNiNi'"
      ]
     },
     "execution_count": 8,
     "metadata": {},
     "output_type": "execute_result"
    }
   ],
   "source": [
    "times('Ni', 4)"
   ]
  },
  {
   "cell_type": "markdown",
   "id": "96ae98c8-cc60-4a42-aa12-8cd6e7695d80",
   "metadata": {},
   "source": [
    "### Polymorphism in Python\n",
    "\n",
    "## A Second Example: Intersecting Sequences\n",
    "### DEfinition\n",
    "Package the `for` loop inside a function offers a number of advantages:\n",
    "- Puting the code i na function makes it a too lthat you can run as may times a you like\n",
    "- Because callers can pass i narbitrary arguments, functions are general enough to work on any two sequences (or other iterables) you wishi to intersect\n",
    "- Whe nthe logic is packaged in a function you have to cchange code in only one place if you ever need to change the way the intersectio nworks\n",
    "- Coding the function i na module files means it can be imported and reused by any program run on your machine"
   ]
  },
  {
   "cell_type": "code",
   "execution_count": 10,
   "id": "9dfe03ae-a83d-416a-912d-364346e9ddab",
   "metadata": {},
   "outputs": [
    {
     "data": {
      "text/plain": [
       "['S', 'A', 'M']"
      ]
     },
     "execution_count": 10,
     "metadata": {},
     "output_type": "execute_result"
    }
   ],
   "source": [
    "def intersect(seq1, seq2):\n",
    "    res = []\n",
    "    for x in seq1:\n",
    "        if x in seq2:\n",
    "            res.append(x)\n",
    "    return res\n",
    "\n",
    "s1 = \"SPAM\"\n",
    "s2 = \"SCAM\"\n",
    "intersect(s1, s2)"
   ]
  },
  {
   "cell_type": "code",
   "execution_count": 12,
   "id": "d20ad355-c3a0-4d36-bd96-9eed150a2ef2",
   "metadata": {},
   "outputs": [
    {
     "data": {
      "text/plain": [
       "['S', 'A', 'M']"
      ]
     },
     "execution_count": 12,
     "metadata": {},
     "output_type": "execute_result"
    }
   ],
   "source": [
    "[x for x in s1 if x in s2]"
   ]
  },
  {
   "cell_type": "markdown",
   "id": "43239074-5050-47eb-8f43-33ae2c9bd48c",
   "metadata": {},
   "source": [
    "### Polynmorphism Revisited"
   ]
  },
  {
   "cell_type": "code",
   "execution_count": 14,
   "id": "5304d4bf-923a-490f-af04-619c5b33d9c3",
   "metadata": {},
   "outputs": [
    {
     "data": {
      "text/plain": [
       "[1, 4]"
      ]
     },
     "execution_count": 14,
     "metadata": {},
     "output_type": "execute_result"
    }
   ],
   "source": [
    "x = intersect([1, 2, 3, 4], (1,4))\n",
    "x"
   ]
  },
  {
   "cell_type": "markdown",
   "id": "5cfc44c0-754f-4a97-9cba-d31f1cef5d35",
   "metadata": {},
   "source": [
    "### Local Variables"
   ]
  }
 ],
 "metadata": {
  "kernelspec": {
   "display_name": "Python 3 (ipykernel)",
   "language": "python",
   "name": "python3"
  },
  "language_info": {
   "codemirror_mode": {
    "name": "ipython",
    "version": 3
   },
   "file_extension": ".py",
   "mimetype": "text/x-python",
   "name": "python",
   "nbconvert_exporter": "python",
   "pygments_lexer": "ipython3",
   "version": "3.9.12"
  }
 },
 "nbformat": 4,
 "nbformat_minor": 5
}
