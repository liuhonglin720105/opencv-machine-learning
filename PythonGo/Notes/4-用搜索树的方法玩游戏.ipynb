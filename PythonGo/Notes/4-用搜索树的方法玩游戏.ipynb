{
 "cells": [
  {
   "cell_type": "markdown",
   "id": "943ec63a-0cec-4ad8-9718-73e508e1430e",
   "metadata": {},
   "source": [
    "# 第四章 用搜索树的方法玩游戏\n",
    "本章内容\n",
    "- 用最小最大算法寻找最佳走法\n",
    "- 对最小最大树搜索减支进行加速\n",
    "- 将蒙特卡罗树搜索用于游戏"
   ]
  },
  {
   "cell_type": "markdown",
   "id": "9ec76e8a-7b87-4265-a0c3-5421b0eac4fb",
   "metadata": {},
   "source": [
    "## 4.1 游戏分类\n",
    "- 确定的和非确定的\n",
    "- 完全信息和隐藏信息\n",
    "\n",
    "||确定的|非确定的|\n",
    "|---|---|---|\n",
    "|完全信息|围棋，象棋|Backgammon|\n",
    "|隐藏信息|Battleship，Stratego|扑克，Scrabble|"
   ]
  },
  {
   "cell_type": "markdown",
   "id": "6a79f4c9-d755-48a5-9f10-8d0727df63e0",
   "metadata": {},
   "source": [
    "## 4.2 用最小最大搜索预测对手走法\n"
   ]
  }
 ],
 "metadata": {
  "kernelspec": {
   "display_name": "Python 3 (ipykernel)",
   "language": "python",
   "name": "python3"
  },
  "language_info": {
   "codemirror_mode": {
    "name": "ipython",
    "version": 3
   },
   "file_extension": ".py",
   "mimetype": "text/x-python",
   "name": "python",
   "nbconvert_exporter": "python",
   "pygments_lexer": "ipython3",
   "version": "3.9.12"
  }
 },
 "nbformat": 4,
 "nbformat_minor": 5
}
