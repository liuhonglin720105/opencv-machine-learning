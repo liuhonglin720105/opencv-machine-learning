{
 "cells": [
  {
   "cell_type": "markdown",
   "id": "943ec63a-0cec-4ad8-9718-73e508e1430e",
   "metadata": {},
   "source": [
    "# 第四章 用搜索树的方法玩游戏\n",
    "本章内容\n",
    "- 用最小最大算法寻找最佳走法\n",
    "- 对最小最大树搜索减支进行加速\n",
    "- 将蒙特卡罗树搜索用于游戏"
   ]
  },
  {
   "cell_type": "markdown",
   "id": "9ec76e8a-7b87-4265-a0c3-5421b0eac4fb",
   "metadata": {},
   "source": [
    "## 4.1 游戏分类\n",
    "- 确定的和非确定的\n",
    "- 完全信息和隐藏信息\n",
    "\n",
    "||确定的|非确定的|\n",
    "|---|---|---|\n",
    "|完全信息|围棋，象棋|Backgammon|\n",
    "|隐藏信息|Battleship，Stratego|扑克，Scrabble|"
   ]
  },
  {
   "cell_type": "markdown",
   "id": "6a79f4c9-d755-48a5-9f10-8d0727df63e0",
   "metadata": {},
   "source": [
    "## 4.2 用最小最大搜索预测对手走法\n",
    "## 4.3 解决tic-tac-toe：最小最大的例子\n",
    "首先，定义表示游戏三种结果的枚举：win, loss, 或者 draw。"
   ]
  },
  {
   "cell_type": "code",
   "execution_count": 2,
   "id": "5245d38c-fb27-4439-9347-76ae4676e1e5",
   "metadata": {},
   "outputs": [],
   "source": [
    "import enum\n",
    "class GameResult(enum.Enum):\n",
    "    loss = 1\n",
    "    draw = 2\n",
    "    win = 3"
   ]
  },
  {
   "cell_type": "markdown",
   "id": "f4a3a47d-78e0-4c40-b4ad-34528d76e090",
   "metadata": {},
   "source": [
    "假定已经有函数`best_result`，给定棋局就可以告诉你玩家可以在该棋局下获得的最好结果。\n",
    "如果玩家可以保证赢棋——不管次序如何，也不管有多复杂，`best_result`函数会返回`GameResult.win`。\n",
    "如果玩家可以保证和棋，函数返回`GameResult.draw`。否则函数就会返回`GameResult.loss`。\n",
    "如果假定该函数已经存在，选择招数的函数就很容易写了：遍历所有可能招数，调用`best_result`，选择自己能够获得最佳结果的步数。多个招数可能会导致相同的结果，这种情况下可以随机从中选择。\n",
    "下列程序清单给出了如何实现该函数。"
   ]
  },
  {
   "cell_type": "code",
   "execution_count": 3,
   "id": "e7284221-de77-4b96-b810-ebcdca535709",
   "metadata": {},
   "outputs": [
    {
     "ename": "NameError",
     "evalue": "name 'Agent' is not defined",
     "output_type": "error",
     "traceback": [
      "\u001b[0;31m---------------------------------------------------------------------------\u001b[0m",
      "\u001b[0;31mNameError\u001b[0m                                 Traceback (most recent call last)",
      "\u001b[0;32m/var/folders/dr/h4hntg_d6l143yrfyzfbjv3w0000gn/T/ipykernel_2415/2422877185.py\u001b[0m in \u001b[0;36m<module>\u001b[0;34m\u001b[0m\n\u001b[0;32m----> 1\u001b[0;31m \u001b[0;32mclass\u001b[0m \u001b[0mMinimaxAgent\u001b[0m\u001b[0;34m(\u001b[0m\u001b[0mAgent\u001b[0m\u001b[0;34m)\u001b[0m\u001b[0;34m:\u001b[0m\u001b[0;34m\u001b[0m\u001b[0;34m\u001b[0m\u001b[0m\n\u001b[0m\u001b[1;32m      2\u001b[0m     \u001b[0;32mdef\u001b[0m \u001b[0mselect_move\u001b[0m\u001b[0;34m(\u001b[0m\u001b[0mself\u001b[0m\u001b[0;34m,\u001b[0m \u001b[0mgamestate\u001b[0m\u001b[0;34m)\u001b[0m\u001b[0;34m:\u001b[0m\u001b[0;34m\u001b[0m\u001b[0;34m\u001b[0m\u001b[0m\n\u001b[1;32m      3\u001b[0m         \u001b[0mwinning_moves\u001b[0m \u001b[0;34m=\u001b[0m \u001b[0;34m[\u001b[0m\u001b[0;34m]\u001b[0m\u001b[0;34m\u001b[0m\u001b[0;34m\u001b[0m\u001b[0m\n\u001b[1;32m      4\u001b[0m         \u001b[0mdraw_moves\u001b[0m \u001b[0;34m=\u001b[0m \u001b[0;34m[\u001b[0m\u001b[0;34m]\u001b[0m\u001b[0;34m\u001b[0m\u001b[0;34m\u001b[0m\u001b[0m\n\u001b[1;32m      5\u001b[0m         \u001b[0mlosing_moves\u001b[0m \u001b[0;34m=\u001b[0m \u001b[0;34m[\u001b[0m\u001b[0;34m]\u001b[0m\u001b[0;34m\u001b[0m\u001b[0;34m\u001b[0m\u001b[0m\n",
      "\u001b[0;31mNameError\u001b[0m: name 'Agent' is not defined"
     ]
    }
   ],
   "source": [
    "class MinimaxAgent(Agent):\n",
    "    def select_move(self, gamestate):\n",
    "        winning_moves = []\n",
    "        draw_moves = []\n",
    "        losing_moves = []\n",
    "        for possible_move in game_state.legal_moves():\n",
    "            next_state = game_state.apply_move(possible_move)\n",
    "            opponent_best_outcome = best_result(next_state)\n",
    "            our_best_outcome = reverse_game_reslt(opponent_best_result)\n",
    "            if our_best_outcome == GameResult.win:\n",
    "                winning_moves.append(possible_move)\n",
    "            elif our_best_outcome == GameResult.draw:\n",
    "                draw_moves.append(possible_move)\n",
    "            else:\n",
    "                losing_moves.append(possible_move)\n",
    "        if winning_moves:\n",
    "            return random.choice(winning_moves)\n",
    "        if draw_moves:\n",
    "            return random.choice(draw_moves)\n",
    "        return random.choice(losing_moves)"
   ]
  },
  {
   "cell_type": "markdown",
   "id": "87c6344e-5857-4656-9cd3-281047cc107b",
   "metadata": {},
   "source": [
    "下面的问题是如何实现`best-result`。\n",
    "和前一节说的一样，可以从游戏结束开始然后向后推导。\n",
    "下面的程序给出了最简单的情况：如果游戏已经结束，则只可能有一个结果，只需返回"
   ]
  },
  {
   "cell_type": "code",
   "execution_count": 4,
   "id": "b95b3072-a139-4d20-a4c1-56ee502c1070",
   "metadata": {},
   "outputs": [],
   "source": [
    "def best_result(game_state):\n",
    "    if game_state.is_over():\n",
    "        if game_state.winner() == game_state.next_player:\n",
    "            return GameResult.win\n",
    "        elif game_state.winner() is None:\n",
    "            return GameResult.draw\n",
    "        else:\n",
    "            return GameResult.loss"
   ]
  },
  {
   "cell_type": "markdown",
   "id": "dbca95d5-3810-4f7d-9538-905c46fe7838",
   "metadata": {},
   "source": [
    "如果在游戏中间，就要继续向前搜索。从遍历所有可能招数开始，计算下一个游戏状态。\n",
    "然后你必须假定对手会尽力对抗你假定的招数。\n",
    "这样，你可以在新的局面下调用`best_result`。\n",
    "调用后会告诉你对手在这个新位置可以得到的结果；然后倒过来就可以得到自己的结果。\n",
    "在考虑的所有招数中，选择可以为你带来结果的最好招数。"
   ]
  },
  {
   "cell_type": "code",
   "execution_count": 5,
   "id": "0621c718-317a-4609-b37a-ea0cbb44f692",
   "metadata": {},
   "outputs": [
    {
     "ename": "NameError",
     "evalue": "name 'game_state' is not defined",
     "output_type": "error",
     "traceback": [
      "\u001b[0;31m---------------------------------------------------------------------------\u001b[0m",
      "\u001b[0;31mNameError\u001b[0m                                 Traceback (most recent call last)",
      "\u001b[0;32m/var/folders/dr/h4hntg_d6l143yrfyzfbjv3w0000gn/T/ipykernel_2415/3769387320.py\u001b[0m in \u001b[0;36m<module>\u001b[0;34m\u001b[0m\n\u001b[1;32m      1\u001b[0m \u001b[0mbest_result_so_far\u001b[0m \u001b[0;34m=\u001b[0m \u001b[0mGameResult\u001b[0m\u001b[0;34m.\u001b[0m\u001b[0mloss\u001b[0m\u001b[0;34m\u001b[0m\u001b[0;34m\u001b[0m\u001b[0m\n\u001b[0;32m----> 2\u001b[0;31m \u001b[0;32mfor\u001b[0m \u001b[0mcandidate_move\u001b[0m \u001b[0;32min\u001b[0m \u001b[0mgame_state\u001b[0m\u001b[0;34m.\u001b[0m\u001b[0mlegal_moves\u001b[0m\u001b[0;34m(\u001b[0m\u001b[0;34m)\u001b[0m\u001b[0;34m:\u001b[0m\u001b[0;34m\u001b[0m\u001b[0;34m\u001b[0m\u001b[0m\n\u001b[0m\u001b[1;32m      3\u001b[0m     \u001b[0mnext_state\u001b[0m \u001b[0;34m=\u001b[0m \u001b[0mgame_state\u001b[0m\u001b[0;34m.\u001b[0m\u001b[0mapply_move\u001b[0m\u001b[0;34m(\u001b[0m\u001b[0mcandidate_move\u001b[0m\u001b[0;34m)\u001b[0m\u001b[0;34m\u001b[0m\u001b[0;34m\u001b[0m\u001b[0m\n\u001b[1;32m      4\u001b[0m     \u001b[0mopponent_best_result\u001b[0m \u001b[0;34m=\u001b[0m \u001b[0mbest_result\u001b[0m\u001b[0;34m(\u001b[0m\u001b[0mnext_state\u001b[0m\u001b[0;34m)\u001b[0m\u001b[0;34m\u001b[0m\u001b[0;34m\u001b[0m\u001b[0m\n\u001b[1;32m      5\u001b[0m     \u001b[0mour_result\u001b[0m \u001b[0;34m=\u001b[0m \u001b[0mreverse_game_result\u001b[0m\u001b[0;34m(\u001b[0m\u001b[0mopponent_best_result\u001b[0m\u001b[0;34m)\u001b[0m\u001b[0;34m\u001b[0m\u001b[0;34m\u001b[0m\u001b[0m\n",
      "\u001b[0;31mNameError\u001b[0m: name 'game_state' is not defined"
     ]
    }
   ],
   "source": [
    "best_result_so_far = GameResult.loss\n",
    "for candidate_move in game_state.legal_moves():\n",
    "    next_state = game_state.apply_move(candidate_move)\n",
    "    opponent_best_result = best_result(next_state)\n",
    "    our_result = reverse_game_result(opponent_best_result)\n",
    "    if our_result.value > best_result_so_far.value:\n",
    "        best_result_so_far = our_result\n",
    "return best_result_so_far"
   ]
  },
  {
   "cell_type": "markdown",
   "id": "435c9607-eaca-4223-8619-8e23039541f9",
   "metadata": {},
   "source": [
    "理论上，该算法可以用于象棋、围棋等一切确定性、完全信息的游戏。但实际上该算法太慢了，对所有这些游戏都不适用。"
   ]
  },
  {
   "cell_type": "markdown",
   "id": "b696f237-46d8-4124-8ae2-400c31849e44",
   "metadata": {},
   "source": [
    "## 4.4 用剪枝减少搜索空间。\n",
    "博弈树有两个参数，宽度和深度。\n",
    "宽度是给定棋局下可以选择的走法，深度是从开始到游戏最终状态的回合数。\n",
    "### 4.4.1 用棋局评估降低搜索深度\n",
    "模拟谁领先、领先多少这种感觉的函数就是*棋局评估函数*"
   ]
  },
  {
   "cell_type": "code",
   "execution_count": 6,
   "id": "0de7f8bb-a89d-4d9b-b61c-dea39ff934d0",
   "metadata": {},
   "outputs": [],
   "source": [
    "def capture_diff(game_state):\n",
    "    black_stones = 0\n",
    "    white_stones = 0\n",
    "    for r in range(1, game_state.board.num_rows +1):\n",
    "        for c in range(1, game_state.board.num_cols +1):\n",
    "            p = gotypes.Point(r,c)\n",
    "            color = game_state.board.get(p)\n",
    "            if color == gotypes.Player.black:\n",
    "                black_stones +=1\n",
    "            elif color == gotypes.Player.white:\n",
    "                white_stones +=1\n",
    "    diff = black_stones - white_stones\n",
    "    if game_state.next_player == gotypes.Player.black:\n",
    "        return diff\n",
    "    return -1 * diff"
   ]
  },
  {
   "cell_type": "code",
   "execution_count": null,
   "id": "863a8587-11a7-4934-bc30-4fa6f0bb9849",
   "metadata": {},
   "outputs": [],
   "source": []
  }
 ],
 "metadata": {
  "kernelspec": {
   "display_name": "Python 3 (ipykernel)",
   "language": "python",
   "name": "python3"
  },
  "language_info": {
   "codemirror_mode": {
    "name": "ipython",
    "version": 3
   },
   "file_extension": ".py",
   "mimetype": "text/x-python",
   "name": "python",
   "nbconvert_exporter": "python",
   "pygments_lexer": "ipython3",
   "version": "3.9.12"
  }
 },
 "nbformat": 4,
 "nbformat_minor": 5
}
